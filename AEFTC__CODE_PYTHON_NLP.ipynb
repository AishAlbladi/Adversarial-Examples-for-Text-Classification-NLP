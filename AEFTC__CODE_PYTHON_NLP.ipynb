{
  "cells": [
    {
      "cell_type": "markdown",
      "source": [
        "## **INSTALLING  LIBRARIES**"
      ],
      "metadata": {
        "id": "NedPwLfyFJUY"
      },
      "id": "NedPwLfyFJUY"
    },
    {
      "cell_type": "code",
      "execution_count": null,
      "metadata": {
        "colab": {
          "base_uri": "https://localhost:8080/"
        },
        "id": "d692a110",
        "outputId": "0639b4d4-940f-4b57-8701-cdd9b201c246"
      },
      "outputs": [
        {
          "output_type": "stream",
          "name": "stdout",
          "text": [
            "Collecting autocorrect\n",
            "  Downloading autocorrect-2.6.1.tar.gz (622 kB)\n",
            "\u001b[?25l\r\u001b[K     |▌                               | 10 kB 23.1 MB/s eta 0:00:01\r\u001b[K     |█                               | 20 kB 28.5 MB/s eta 0:00:01\r\u001b[K     |█▋                              | 30 kB 26.1 MB/s eta 0:00:01\r\u001b[K     |██                              | 40 kB 12.6 MB/s eta 0:00:01\r\u001b[K     |██▋                             | 51 kB 8.6 MB/s eta 0:00:01\r\u001b[K     |███▏                            | 61 kB 9.8 MB/s eta 0:00:01\r\u001b[K     |███▊                            | 71 kB 11.0 MB/s eta 0:00:01\r\u001b[K     |████▏                           | 81 kB 12.0 MB/s eta 0:00:01\r\u001b[K     |████▊                           | 92 kB 13.1 MB/s eta 0:00:01\r\u001b[K     |█████▎                          | 102 kB 12.4 MB/s eta 0:00:01\r\u001b[K     |█████▉                          | 112 kB 12.4 MB/s eta 0:00:01\r\u001b[K     |██████▎                         | 122 kB 12.4 MB/s eta 0:00:01\r\u001b[K     |██████▉                         | 133 kB 12.4 MB/s eta 0:00:01\r\u001b[K     |███████▍                        | 143 kB 12.4 MB/s eta 0:00:01\r\u001b[K     |████████                        | 153 kB 12.4 MB/s eta 0:00:01\r\u001b[K     |████████▍                       | 163 kB 12.4 MB/s eta 0:00:01\r\u001b[K     |█████████                       | 174 kB 12.4 MB/s eta 0:00:01\r\u001b[K     |█████████▌                      | 184 kB 12.4 MB/s eta 0:00:01\r\u001b[K     |██████████                      | 194 kB 12.4 MB/s eta 0:00:01\r\u001b[K     |██████████▌                     | 204 kB 12.4 MB/s eta 0:00:01\r\u001b[K     |███████████                     | 215 kB 12.4 MB/s eta 0:00:01\r\u001b[K     |███████████▋                    | 225 kB 12.4 MB/s eta 0:00:01\r\u001b[K     |████████████                    | 235 kB 12.4 MB/s eta 0:00:01\r\u001b[K     |████████████▋                   | 245 kB 12.4 MB/s eta 0:00:01\r\u001b[K     |█████████████▏                  | 256 kB 12.4 MB/s eta 0:00:01\r\u001b[K     |█████████████▊                  | 266 kB 12.4 MB/s eta 0:00:01\r\u001b[K     |██████████████▏                 | 276 kB 12.4 MB/s eta 0:00:01\r\u001b[K     |██████████████▊                 | 286 kB 12.4 MB/s eta 0:00:01\r\u001b[K     |███████████████▎                | 296 kB 12.4 MB/s eta 0:00:01\r\u001b[K     |███████████████▉                | 307 kB 12.4 MB/s eta 0:00:01\r\u001b[K     |████████████████▎               | 317 kB 12.4 MB/s eta 0:00:01\r\u001b[K     |████████████████▉               | 327 kB 12.4 MB/s eta 0:00:01\r\u001b[K     |█████████████████▍              | 337 kB 12.4 MB/s eta 0:00:01\r\u001b[K     |██████████████████              | 348 kB 12.4 MB/s eta 0:00:01\r\u001b[K     |██████████████████▍             | 358 kB 12.4 MB/s eta 0:00:01\r\u001b[K     |███████████████████             | 368 kB 12.4 MB/s eta 0:00:01\r\u001b[K     |███████████████████▌            | 378 kB 12.4 MB/s eta 0:00:01\r\u001b[K     |████████████████████            | 389 kB 12.4 MB/s eta 0:00:01\r\u001b[K     |████████████████████▌           | 399 kB 12.4 MB/s eta 0:00:01\r\u001b[K     |█████████████████████           | 409 kB 12.4 MB/s eta 0:00:01\r\u001b[K     |█████████████████████▋          | 419 kB 12.4 MB/s eta 0:00:01\r\u001b[K     |██████████████████████          | 430 kB 12.4 MB/s eta 0:00:01\r\u001b[K     |██████████████████████▋         | 440 kB 12.4 MB/s eta 0:00:01\r\u001b[K     |███████████████████████▏        | 450 kB 12.4 MB/s eta 0:00:01\r\u001b[K     |███████████████████████▊        | 460 kB 12.4 MB/s eta 0:00:01\r\u001b[K     |████████████████████████▏       | 471 kB 12.4 MB/s eta 0:00:01\r\u001b[K     |████████████████████████▊       | 481 kB 12.4 MB/s eta 0:00:01\r\u001b[K     |█████████████████████████▎      | 491 kB 12.4 MB/s eta 0:00:01\r\u001b[K     |█████████████████████████▉      | 501 kB 12.4 MB/s eta 0:00:01\r\u001b[K     |██████████████████████████▎     | 512 kB 12.4 MB/s eta 0:00:01\r\u001b[K     |██████████████████████████▉     | 522 kB 12.4 MB/s eta 0:00:01\r\u001b[K     |███████████████████████████▍    | 532 kB 12.4 MB/s eta 0:00:01\r\u001b[K     |███████████████████████████▉    | 542 kB 12.4 MB/s eta 0:00:01\r\u001b[K     |████████████████████████████▍   | 552 kB 12.4 MB/s eta 0:00:01\r\u001b[K     |█████████████████████████████   | 563 kB 12.4 MB/s eta 0:00:01\r\u001b[K     |█████████████████████████████▌  | 573 kB 12.4 MB/s eta 0:00:01\r\u001b[K     |██████████████████████████████  | 583 kB 12.4 MB/s eta 0:00:01\r\u001b[K     |██████████████████████████████▌ | 593 kB 12.4 MB/s eta 0:00:01\r\u001b[K     |███████████████████████████████ | 604 kB 12.4 MB/s eta 0:00:01\r\u001b[K     |███████████████████████████████▋| 614 kB 12.4 MB/s eta 0:00:01\r\u001b[K     |████████████████████████████████| 622 kB 12.4 MB/s \n",
            "\u001b[?25hBuilding wheels for collected packages: autocorrect\n",
            "  Building wheel for autocorrect (setup.py) ... \u001b[?25l\u001b[?25hdone\n",
            "  Created wheel for autocorrect: filename=autocorrect-2.6.1-py3-none-any.whl size=622382 sha256=90c4f59185a4e10ff48f2867ae640f2a0d7e60961d1d8814886a27a9de3d5690\n",
            "  Stored in directory: /root/.cache/pip/wheels/54/d4/37/8244101ad50b0f7d9bffd93ce58ed7991ee1753b290923934b\n",
            "Successfully built autocorrect\n",
            "Installing collected packages: autocorrect\n",
            "Successfully installed autocorrect-2.6.1\n"
          ]
        }
      ],
      "source": [
        "#It is used to corect the spellings while typing the text\n",
        "!pip install autocorrect"
      ],
      "id": "d692a110"
    },
    {
      "cell_type": "code",
      "execution_count": null,
      "metadata": {
        "colab": {
          "base_uri": "https://localhost:8080/"
        },
        "id": "rB8yjJt6PRDU",
        "outputId": "47920455-6144-46a6-d4fa-60e91522662e"
      },
      "outputs": [
        {
          "output_type": "stream",
          "name": "stdout",
          "text": [
            "Collecting contractions\n",
            "  Downloading contractions-0.1.68-py2.py3-none-any.whl (8.1 kB)\n",
            "Collecting textsearch>=0.0.21\n",
            "  Downloading textsearch-0.0.21-py2.py3-none-any.whl (7.5 kB)\n",
            "Collecting pyahocorasick\n",
            "  Downloading pyahocorasick-1.4.4-cp37-cp37m-manylinux_2_17_x86_64.manylinux2014_x86_64.whl (106 kB)\n",
            "\u001b[K     |████████████████████████████████| 106 kB 13.6 MB/s \n",
            "\u001b[?25hCollecting anyascii\n",
            "  Downloading anyascii-0.3.0-py3-none-any.whl (284 kB)\n",
            "\u001b[K     |████████████████████████████████| 284 kB 44.7 MB/s \n",
            "\u001b[?25hInstalling collected packages: pyahocorasick, anyascii, textsearch, contractions\n",
            "Successfully installed anyascii-0.3.0 contractions-0.1.68 pyahocorasick-1.4.4 textsearch-0.0.21\n"
          ]
        }
      ],
      "source": [
        "# It is used for the dimensionality reduction by normalizing the text before generating word or character vectors\n",
        "!pip install contractions"
      ],
      "id": "rB8yjJt6PRDU"
    },
    {
      "cell_type": "code",
      "source": [
        "!pip install textattack\n"
      ],
      "metadata": {
        "id": "o6jfjF64htkJ",
        "colab": {
          "base_uri": "https://localhost:8080/"
        },
        "outputId": "40b9816f-5331-4f24-8a49-9779d22f0213"
      },
      "id": "o6jfjF64htkJ",
      "execution_count": null,
      "outputs": [
        {
          "output_type": "stream",
          "name": "stdout",
          "text": [
            "Collecting textattack\n",
            "  Downloading textattack-0.3.4-py3-none-any.whl (373 kB)\n",
            "\u001b[K     |████████████████████████████████| 373 kB 12.1 MB/s \n",
            "\u001b[?25hCollecting datasets\n",
            "  Downloading datasets-2.0.0-py3-none-any.whl (325 kB)\n",
            "\u001b[K     |████████████████████████████████| 325 kB 46.3 MB/s \n",
            "\u001b[?25hCollecting language-tool-python\n",
            "  Downloading language_tool_python-2.7.0-py3-none-any.whl (34 kB)\n",
            "Requirement already satisfied: scipy>=1.4.1 in /usr/local/lib/python3.7/dist-packages (from textattack) (1.4.1)\n",
            "Collecting tqdm<4.50.0,>=4.27\n",
            "  Downloading tqdm-4.49.0-py2.py3-none-any.whl (69 kB)\n",
            "\u001b[K     |████████████████████████████████| 69 kB 6.9 MB/s \n",
            "\u001b[?25hCollecting word2number\n",
            "  Downloading word2number-1.1.zip (9.7 kB)\n",
            "Requirement already satisfied: torch!=1.8,>=1.7.0 in /usr/local/lib/python3.7/dist-packages (from textattack) (1.10.0+cu111)\n",
            "Collecting flair\n",
            "  Downloading flair-0.10-py3-none-any.whl (322 kB)\n",
            "\u001b[K     |████████████████████████████████| 322 kB 51.9 MB/s \n",
            "\u001b[?25hRequirement already satisfied: pandas>=1.0.1 in /usr/local/lib/python3.7/dist-packages (from textattack) (1.3.5)\n",
            "Collecting transformers>=3.3.0\n",
            "  Downloading transformers-4.17.0-py3-none-any.whl (3.8 MB)\n",
            "\u001b[K     |████████████████████████████████| 3.8 MB 27.3 MB/s \n",
            "\u001b[?25hRequirement already satisfied: more-itertools in /usr/local/lib/python3.7/dist-packages (from textattack) (8.12.0)\n",
            "Requirement already satisfied: editdistance in /usr/local/lib/python3.7/dist-packages (from textattack) (0.5.3)\n",
            "Requirement already satisfied: nltk in /usr/local/lib/python3.7/dist-packages (from textattack) (3.2.5)\n",
            "Collecting terminaltables\n",
            "  Downloading terminaltables-3.1.10-py2.py3-none-any.whl (15 kB)\n",
            "Collecting bert-score>=0.3.5\n",
            "  Downloading bert_score-0.3.11-py3-none-any.whl (60 kB)\n",
            "\u001b[K     |████████████████████████████████| 60 kB 7.7 MB/s \n",
            "\u001b[?25hCollecting lru-dict\n",
            "  Downloading lru-dict-1.1.7.tar.gz (10 kB)\n",
            "Requirement already satisfied: filelock in /usr/local/lib/python3.7/dist-packages (from textattack) (3.6.0)\n",
            "Requirement already satisfied: numpy>=1.19.2 in /usr/local/lib/python3.7/dist-packages (from textattack) (1.21.5)\n",
            "Requirement already satisfied: PySocks!=1.5.7,>=1.5.6 in /usr/local/lib/python3.7/dist-packages (from textattack) (1.7.1)\n",
            "Collecting num2words\n",
            "  Downloading num2words-0.5.10-py3-none-any.whl (101 kB)\n",
            "\u001b[K     |████████████████████████████████| 101 kB 10.7 MB/s \n",
            "\u001b[?25hCollecting lemminflect\n",
            "  Downloading lemminflect-0.2.2-py3-none-any.whl (769 kB)\n",
            "\u001b[K     |████████████████████████████████| 769 kB 42.5 MB/s \n",
            "\u001b[?25hRequirement already satisfied: packaging>=20.9 in /usr/local/lib/python3.7/dist-packages (from bert-score>=0.3.5->textattack) (21.3)\n",
            "Requirement already satisfied: matplotlib in /usr/local/lib/python3.7/dist-packages (from bert-score>=0.3.5->textattack) (3.2.2)\n",
            "Requirement already satisfied: requests in /usr/local/lib/python3.7/dist-packages (from bert-score>=0.3.5->textattack) (2.23.0)\n",
            "Requirement already satisfied: pyparsing!=3.0.5,>=2.0.2 in /usr/local/lib/python3.7/dist-packages (from packaging>=20.9->bert-score>=0.3.5->textattack) (3.0.7)\n",
            "Requirement already satisfied: python-dateutil>=2.7.3 in /usr/local/lib/python3.7/dist-packages (from pandas>=1.0.1->textattack) (2.8.2)\n",
            "Requirement already satisfied: pytz>=2017.3 in /usr/local/lib/python3.7/dist-packages (from pandas>=1.0.1->textattack) (2018.9)\n",
            "Requirement already satisfied: six>=1.5 in /usr/local/lib/python3.7/dist-packages (from python-dateutil>=2.7.3->pandas>=1.0.1->textattack) (1.15.0)\n",
            "Requirement already satisfied: typing-extensions in /usr/local/lib/python3.7/dist-packages (from torch!=1.8,>=1.7.0->textattack) (3.10.0.2)\n",
            "Requirement already satisfied: regex!=2019.12.17 in /usr/local/lib/python3.7/dist-packages (from transformers>=3.3.0->textattack) (2019.12.20)\n",
            "Collecting huggingface-hub<1.0,>=0.1.0\n",
            "  Downloading huggingface_hub-0.4.0-py3-none-any.whl (67 kB)\n",
            "\u001b[K     |████████████████████████████████| 67 kB 5.4 MB/s \n",
            "\u001b[?25hCollecting pyyaml>=5.1\n",
            "  Downloading PyYAML-6.0-cp37-cp37m-manylinux_2_5_x86_64.manylinux1_x86_64.manylinux_2_12_x86_64.manylinux2010_x86_64.whl (596 kB)\n",
            "\u001b[K     |████████████████████████████████| 596 kB 42.4 MB/s \n",
            "\u001b[?25hCollecting sacremoses\n",
            "  Downloading sacremoses-0.0.49-py3-none-any.whl (895 kB)\n",
            "\u001b[K     |████████████████████████████████| 895 kB 39.8 MB/s \n",
            "\u001b[?25hCollecting tokenizers!=0.11.3,>=0.11.1\n",
            "  Downloading tokenizers-0.11.6-cp37-cp37m-manylinux_2_12_x86_64.manylinux2010_x86_64.whl (6.5 MB)\n",
            "\u001b[K     |████████████████████████████████| 6.5 MB 33.0 MB/s \n",
            "\u001b[?25hRequirement already satisfied: importlib-metadata in /usr/local/lib/python3.7/dist-packages (from transformers>=3.3.0->textattack) (4.11.3)\n",
            "Collecting datasets\n",
            "  Downloading datasets-1.18.4-py3-none-any.whl (312 kB)\n",
            "\u001b[K     |████████████████████████████████| 312 kB 39.9 MB/s \n",
            "\u001b[?25hRequirement already satisfied: pyarrow!=4.0.0,>=3.0.0 in /usr/local/lib/python3.7/dist-packages (from datasets->textattack) (6.0.1)\n",
            "  Downloading datasets-1.18.3-py3-none-any.whl (311 kB)\n",
            "\u001b[K     |████████████████████████████████| 311 kB 41.0 MB/s \n",
            "\u001b[?25h  Downloading datasets-1.18.2-py3-none-any.whl (312 kB)\n",
            "\u001b[K     |████████████████████████████████| 312 kB 39.0 MB/s \n",
            "\u001b[?25h  Downloading datasets-1.18.1-py3-none-any.whl (311 kB)\n",
            "\u001b[K     |████████████████████████████████| 311 kB 38.3 MB/s \n",
            "\u001b[?25h  Downloading datasets-1.18.0-py3-none-any.whl (311 kB)\n",
            "\u001b[K     |████████████████████████████████| 311 kB 44.2 MB/s \n",
            "\u001b[?25h  Downloading datasets-1.17.0-py3-none-any.whl (306 kB)\n",
            "\u001b[K     |████████████████████████████████| 306 kB 32.1 MB/s \n",
            "\u001b[?25h  Downloading datasets-1.16.1-py3-none-any.whl (298 kB)\n",
            "\u001b[K     |████████████████████████████████| 298 kB 11.3 MB/s \n",
            "\u001b[?25h  Downloading datasets-1.16.0-py3-none-any.whl (298 kB)\n",
            "\u001b[K     |████████████████████████████████| 298 kB 36.2 MB/s \n",
            "\u001b[?25h  Downloading datasets-1.15.1-py3-none-any.whl (290 kB)\n",
            "\u001b[K     |████████████████████████████████| 290 kB 36.7 MB/s \n",
            "\u001b[?25h  Downloading datasets-1.15.0-py3-none-any.whl (290 kB)\n",
            "\u001b[K     |████████████████████████████████| 290 kB 41.9 MB/s \n",
            "\u001b[?25h  Downloading datasets-1.14.0-py3-none-any.whl (290 kB)\n",
            "\u001b[K     |████████████████████████████████| 290 kB 38.3 MB/s \n",
            "\u001b[?25h  Downloading datasets-1.13.3-py3-none-any.whl (287 kB)\n",
            "\u001b[K     |████████████████████████████████| 287 kB 38.9 MB/s \n",
            "\u001b[?25h  Downloading datasets-1.13.2-py3-none-any.whl (287 kB)\n",
            "\u001b[K     |████████████████████████████████| 287 kB 33.0 MB/s \n",
            "\u001b[?25h  Downloading datasets-1.13.1-py3-none-any.whl (287 kB)\n",
            "\u001b[K     |████████████████████████████████| 287 kB 39.2 MB/s \n",
            "\u001b[?25h  Downloading datasets-1.13.0-py3-none-any.whl (285 kB)\n",
            "\u001b[K     |████████████████████████████████| 285 kB 42.4 MB/s \n",
            "\u001b[?25h  Downloading datasets-1.12.1-py3-none-any.whl (270 kB)\n",
            "\u001b[K     |████████████████████████████████| 270 kB 20.2 MB/s \n",
            "\u001b[?25h  Downloading datasets-1.12.0-py3-none-any.whl (269 kB)\n",
            "\u001b[K     |████████████████████████████████| 269 kB 47.0 MB/s \n",
            "\u001b[?25h  Downloading datasets-1.11.0-py3-none-any.whl (264 kB)\n",
            "\u001b[K     |████████████████████████████████| 264 kB 39.1 MB/s \n",
            "\u001b[?25hCollecting xxhash\n",
            "  Downloading xxhash-3.0.0-cp37-cp37m-manylinux_2_17_x86_64.manylinux2014_x86_64.whl (212 kB)\n",
            "\u001b[K     |████████████████████████████████| 212 kB 41.1 MB/s \n",
            "\u001b[?25hCollecting datasets\n",
            "  Downloading datasets-1.10.2-py3-none-any.whl (542 kB)\n",
            "\u001b[K     |████████████████████████████████| 542 kB 41.3 MB/s \n",
            "\u001b[?25h  Downloading datasets-1.10.1-py3-none-any.whl (542 kB)\n",
            "\u001b[K     |████████████████████████████████| 542 kB 43.0 MB/s \n",
            "\u001b[?25h  Downloading datasets-1.10.0-py3-none-any.whl (542 kB)\n",
            "\u001b[K     |████████████████████████████████| 542 kB 41.1 MB/s \n",
            "\u001b[?25h  Downloading datasets-1.9.0-py3-none-any.whl (262 kB)\n",
            "\u001b[K     |████████████████████████████████| 262 kB 10.5 MB/s \n",
            "\u001b[?25h  Downloading datasets-1.8.0-py3-none-any.whl (237 kB)\n",
            "\u001b[K     |████████████████████████████████| 237 kB 25.5 MB/s \n",
            "\u001b[?25hCollecting pyarrow<4.0.0,>=1.0.0\n",
            "  Downloading pyarrow-3.0.0-cp37-cp37m-manylinux2014_x86_64.whl (20.7 MB)\n",
            "\u001b[K     |████████████████████████████████| 20.7 MB 4.8 MB/s \n",
            "\u001b[?25hCollecting datasets\n",
            "  Downloading datasets-1.7.0-py3-none-any.whl (234 kB)\n",
            "\u001b[K     |████████████████████████████████| 234 kB 20.6 MB/s \n",
            "\u001b[?25h  Downloading datasets-1.6.2-py3-none-any.whl (221 kB)\n",
            "\u001b[K     |████████████████████████████████| 221 kB 33.1 MB/s \n",
            "\u001b[?25h  Downloading datasets-1.6.1-py3-none-any.whl (220 kB)\n",
            "\u001b[K     |████████████████████████████████| 220 kB 36.4 MB/s \n",
            "\u001b[?25h  Downloading datasets-1.6.0-py3-none-any.whl (202 kB)\n",
            "\u001b[K     |████████████████████████████████| 202 kB 37.8 MB/s \n",
            "\u001b[?25h  Downloading datasets-1.5.0-py3-none-any.whl (192 kB)\n",
            "\u001b[K     |████████████████████████████████| 192 kB 20.1 MB/s \n",
            "\u001b[?25h  Downloading datasets-1.4.1-py3-none-any.whl (186 kB)\n",
            "\u001b[K     |████████████████████████████████| 186 kB 34.7 MB/s \n",
            "\u001b[?25hRequirement already satisfied: multiprocess in /usr/local/lib/python3.7/dist-packages (from datasets->textattack) (0.70.12.2)\n",
            "Collecting fsspec\n",
            "  Downloading fsspec-2022.3.0-py3-none-any.whl (136 kB)\n",
            "\u001b[K     |████████████████████████████████| 136 kB 13.3 MB/s \n",
            "\u001b[?25hRequirement already satisfied: dill in /usr/local/lib/python3.7/dist-packages (from datasets->textattack) (0.3.4)\n",
            "Collecting datasets\n",
            "  Downloading datasets-1.4.0-py3-none-any.whl (186 kB)\n",
            "\u001b[K     |████████████████████████████████| 186 kB 39.9 MB/s \n",
            "\u001b[?25h  Downloading datasets-1.3.0-py3-none-any.whl (181 kB)\n",
            "\u001b[K     |████████████████████████████████| 181 kB 37.9 MB/s \n",
            "\u001b[?25h  Downloading datasets-1.2.1-py3-none-any.whl (159 kB)\n",
            "\u001b[K     |████████████████████████████████| 159 kB 7.9 MB/s \n",
            "\u001b[?25hRequirement already satisfied: certifi>=2017.4.17 in /usr/local/lib/python3.7/dist-packages (from requests->bert-score>=0.3.5->textattack) (2021.10.8)\n",
            "Requirement already satisfied: urllib3!=1.25.0,!=1.25.1,<1.26,>=1.21.1 in /usr/local/lib/python3.7/dist-packages (from requests->bert-score>=0.3.5->textattack) (1.24.3)\n",
            "Requirement already satisfied: idna<3,>=2.5 in /usr/local/lib/python3.7/dist-packages (from requests->bert-score>=0.3.5->textattack) (2.10)\n",
            "Requirement already satisfied: chardet<4,>=3.0.2 in /usr/local/lib/python3.7/dist-packages (from requests->bert-score>=0.3.5->textattack) (3.0.4)\n",
            "Collecting sentencepiece==0.1.95\n",
            "  Downloading sentencepiece-0.1.95-cp37-cp37m-manylinux2014_x86_64.whl (1.2 MB)\n",
            "\u001b[K     |████████████████████████████████| 1.2 MB 22.5 MB/s \n",
            "\u001b[?25hCollecting more-itertools\n",
            "  Downloading more_itertools-8.8.0-py3-none-any.whl (48 kB)\n",
            "\u001b[K     |████████████████████████████████| 48 kB 4.9 MB/s \n",
            "\u001b[?25hCollecting bpemb>=0.3.2\n",
            "  Downloading bpemb-0.3.3-py3-none-any.whl (19 kB)\n",
            "Collecting konoha<5.0.0,>=4.0.0\n",
            "  Downloading konoha-4.6.5-py3-none-any.whl (20 kB)\n",
            "Requirement already satisfied: tabulate in /usr/local/lib/python3.7/dist-packages (from flair->textattack) (0.8.9)\n",
            "Requirement already satisfied: lxml in /usr/local/lib/python3.7/dist-packages (from flair->textattack) (4.2.6)\n",
            "Collecting janome\n",
            "  Downloading Janome-0.4.2-py2.py3-none-any.whl (19.7 MB)\n",
            "\u001b[K     |████████████████████████████████| 19.7 MB 43.2 MB/s \n",
            "\u001b[?25hCollecting gdown==3.12.2\n",
            "  Downloading gdown-3.12.2.tar.gz (8.2 kB)\n",
            "  Installing build dependencies ... \u001b[?25l\u001b[?25hdone\n",
            "  Getting requirements to build wheel ... \u001b[?25l\u001b[?25hdone\n",
            "    Preparing wheel metadata ... \u001b[?25l\u001b[?25hdone\n",
            "Collecting wikipedia-api\n",
            "  Downloading Wikipedia-API-0.5.4.tar.gz (18 kB)\n",
            "Collecting sqlitedict>=1.6.0\n",
            "  Downloading sqlitedict-2.0.0.tar.gz (46 kB)\n",
            "\u001b[K     |████████████████████████████████| 46 kB 4.1 MB/s \n",
            "\u001b[?25hRequirement already satisfied: scikit-learn>=0.21.3 in /usr/local/lib/python3.7/dist-packages (from flair->textattack) (1.0.2)\n",
            "Collecting langdetect\n",
            "  Downloading langdetect-1.0.9.tar.gz (981 kB)\n",
            "\u001b[K     |████████████████████████████████| 981 kB 41.4 MB/s \n",
            "\u001b[?25hCollecting conllu>=4.0\n",
            "  Downloading conllu-4.4.1-py2.py3-none-any.whl (15 kB)\n",
            "Collecting deprecated>=1.2.4\n",
            "  Downloading Deprecated-1.2.13-py2.py3-none-any.whl (9.6 kB)\n",
            "Collecting ftfy\n",
            "  Downloading ftfy-6.1.1-py3-none-any.whl (53 kB)\n",
            "\u001b[K     |████████████████████████████████| 53 kB 1.8 MB/s \n",
            "\u001b[?25hCollecting mpld3==0.3\n",
            "  Downloading mpld3-0.3.tar.gz (788 kB)\n",
            "\u001b[K     |████████████████████████████████| 788 kB 44.6 MB/s \n",
            "\u001b[?25hCollecting segtok>=1.5.7\n",
            "  Downloading segtok-1.5.11-py3-none-any.whl (24 kB)\n",
            "Requirement already satisfied: gensim>=3.4.0 in /usr/local/lib/python3.7/dist-packages (from flair->textattack) (3.6.0)\n",
            "Requirement already satisfied: wrapt<2,>=1.10 in /usr/local/lib/python3.7/dist-packages (from deprecated>=1.2.4->flair->textattack) (1.14.0)\n",
            "Requirement already satisfied: smart-open>=1.2.1 in /usr/local/lib/python3.7/dist-packages (from gensim>=3.4.0->flair->textattack) (5.2.1)\n",
            "Collecting importlib-metadata\n",
            "  Downloading importlib_metadata-3.10.1-py3-none-any.whl (14 kB)\n",
            "Collecting requests\n",
            "  Downloading requests-2.27.1-py2.py3-none-any.whl (63 kB)\n",
            "\u001b[K     |████████████████████████████████| 63 kB 1.8 MB/s \n",
            "\u001b[?25hCollecting overrides<4.0.0,>=3.0.0\n",
            "  Downloading overrides-3.1.0.tar.gz (11 kB)\n",
            "Requirement already satisfied: zipp>=0.5 in /usr/local/lib/python3.7/dist-packages (from importlib-metadata->transformers>=3.3.0->textattack) (3.7.0)\n",
            "Requirement already satisfied: cycler>=0.10 in /usr/local/lib/python3.7/dist-packages (from matplotlib->bert-score>=0.3.5->textattack) (0.11.0)\n",
            "Requirement already satisfied: kiwisolver>=1.0.1 in /usr/local/lib/python3.7/dist-packages (from matplotlib->bert-score>=0.3.5->textattack) (1.4.0)\n",
            "Requirement already satisfied: charset-normalizer~=2.0.0 in /usr/local/lib/python3.7/dist-packages (from requests->bert-score>=0.3.5->textattack) (2.0.12)\n",
            "Requirement already satisfied: joblib>=0.11 in /usr/local/lib/python3.7/dist-packages (from scikit-learn>=0.21.3->flair->textattack) (1.1.0)\n",
            "Requirement already satisfied: threadpoolctl>=2.0.0 in /usr/local/lib/python3.7/dist-packages (from scikit-learn>=0.21.3->flair->textattack) (3.1.0)\n",
            "Requirement already satisfied: wcwidth>=0.2.5 in /usr/local/lib/python3.7/dist-packages (from ftfy->flair->textattack) (0.2.5)\n",
            "Requirement already satisfied: docopt>=0.6.2 in /usr/local/lib/python3.7/dist-packages (from num2words->textattack) (0.6.2)\n",
            "Requirement already satisfied: click in /usr/local/lib/python3.7/dist-packages (from sacremoses->transformers>=3.3.0->textattack) (7.1.2)\n",
            "Building wheels for collected packages: gdown, mpld3, overrides, sqlitedict, langdetect, lru-dict, wikipedia-api, word2number\n",
            "  Building wheel for gdown (PEP 517) ... \u001b[?25l\u001b[?25hdone\n",
            "  Created wheel for gdown: filename=gdown-3.12.2-py3-none-any.whl size=9692 sha256=75957aee447ccd3a197c7951c8847715e0c447cbef52d469dd0b963f15e4ea73\n",
            "  Stored in directory: /root/.cache/pip/wheels/ba/e0/7e/726e872a53f7358b4b96a9975b04e98113b005cd8609a63abc\n",
            "  Building wheel for mpld3 (setup.py) ... \u001b[?25l\u001b[?25hdone\n",
            "  Created wheel for mpld3: filename=mpld3-0.3-py3-none-any.whl size=116702 sha256=191da5d017269b7700bd60fedbfbc3a70b7b91d7baf17cfc708969be2c3d3b93\n",
            "  Stored in directory: /root/.cache/pip/wheels/26/70/6a/1c79e59951a41b4045497da187b2724f5659ca64033cf4548e\n",
            "  Building wheel for overrides (setup.py) ... \u001b[?25l\u001b[?25hdone\n",
            "  Created wheel for overrides: filename=overrides-3.1.0-py3-none-any.whl size=10187 sha256=71957dd8d99179a01ce6ccea2b0cfdbdb9b941fd846be7d09cac202535ab1645\n",
            "  Stored in directory: /root/.cache/pip/wheels/3a/0d/38/01a9bc6e20dcfaf0a6a7b552d03137558ba1c38aea47644682\n",
            "  Building wheel for sqlitedict (setup.py) ... \u001b[?25l\u001b[?25hdone\n",
            "  Created wheel for sqlitedict: filename=sqlitedict-2.0.0-py3-none-any.whl size=15736 sha256=e38bf28351c06aafe0ac0e51bc752e6ec119cedeac3afda934beee2828d93416\n",
            "  Stored in directory: /root/.cache/pip/wheels/96/dd/2e/0ed4a25cb73fc30c7ea8d10b50acb7226175736067e40a7ea3\n",
            "  Building wheel for langdetect (setup.py) ... \u001b[?25l\u001b[?25hdone\n",
            "  Created wheel for langdetect: filename=langdetect-1.0.9-py3-none-any.whl size=993242 sha256=6cb331ff80276a0ffbd0c94ceb5d3db22ab2b40a245966fed4f7dc2c33fe7a29\n",
            "  Stored in directory: /root/.cache/pip/wheels/c5/96/8a/f90c59ed25d75e50a8c10a1b1c2d4c402e4dacfa87f3aff36a\n",
            "  Building wheel for lru-dict (setup.py) ... \u001b[?25l\u001b[?25hdone\n",
            "  Created wheel for lru-dict: filename=lru_dict-1.1.7-cp37-cp37m-linux_x86_64.whl size=28407 sha256=ce3c453e9c81d3e1cb7caf9fb443c920b66c905baf44fed427d6300f1396fd87\n",
            "  Stored in directory: /root/.cache/pip/wheels/9d/0b/4e/aa8fec9833090cd52bcd76f92f9d95e1ee7b915c12093663b4\n",
            "  Building wheel for wikipedia-api (setup.py) ... \u001b[?25l\u001b[?25hdone\n",
            "  Created wheel for wikipedia-api: filename=Wikipedia_API-0.5.4-py3-none-any.whl size=13477 sha256=662e54c68d00c0d44a26b94bc290b23d60910c8c0a730ec15a4c3aee355e0ce8\n",
            "  Stored in directory: /root/.cache/pip/wheels/d3/24/56/58ba93cf78be162451144e7a9889603f437976ef1ae7013d04\n",
            "  Building wheel for word2number (setup.py) ... \u001b[?25l\u001b[?25hdone\n",
            "  Created wheel for word2number: filename=word2number-1.1-py3-none-any.whl size=5582 sha256=fa12297cc162717c7ed65c7a3c8bae52eb1d379c8ed86beb12020ee7a58d6fa5\n",
            "  Stored in directory: /root/.cache/pip/wheels/4b/c3/77/a5f48aeb0d3efb7cd5ad61cbd3da30bbf9ffc9662b07c9f879\n",
            "Successfully built gdown mpld3 overrides sqlitedict langdetect lru-dict wikipedia-api word2number\n",
            "Installing collected packages: tqdm, requests, pyyaml, importlib-metadata, tokenizers, sentencepiece, sacremoses, overrides, huggingface-hub, xxhash, wikipedia-api, transformers, sqlitedict, segtok, mpld3, more-itertools, langdetect, konoha, janome, gdown, ftfy, deprecated, conllu, bpemb, word2number, terminaltables, num2words, lru-dict, lemminflect, language-tool-python, flair, datasets, bert-score, textattack\n",
            "  Attempting uninstall: tqdm\n",
            "    Found existing installation: tqdm 4.63.0\n",
            "    Uninstalling tqdm-4.63.0:\n",
            "      Successfully uninstalled tqdm-4.63.0\n",
            "  Attempting uninstall: requests\n",
            "    Found existing installation: requests 2.23.0\n",
            "    Uninstalling requests-2.23.0:\n",
            "      Successfully uninstalled requests-2.23.0\n",
            "  Attempting uninstall: pyyaml\n",
            "    Found existing installation: PyYAML 3.13\n",
            "    Uninstalling PyYAML-3.13:\n",
            "      Successfully uninstalled PyYAML-3.13\n",
            "  Attempting uninstall: importlib-metadata\n",
            "    Found existing installation: importlib-metadata 4.11.3\n",
            "    Uninstalling importlib-metadata-4.11.3:\n",
            "      Successfully uninstalled importlib-metadata-4.11.3\n",
            "  Attempting uninstall: more-itertools\n",
            "    Found existing installation: more-itertools 8.12.0\n",
            "    Uninstalling more-itertools-8.12.0:\n",
            "      Successfully uninstalled more-itertools-8.12.0\n",
            "  Attempting uninstall: gdown\n",
            "    Found existing installation: gdown 4.2.2\n",
            "    Uninstalling gdown-4.2.2:\n",
            "      Successfully uninstalled gdown-4.2.2\n",
            "\u001b[31mERROR: pip's dependency resolver does not currently take into account all the packages that are installed. This behaviour is the source of the following dependency conflicts.\n",
            "markdown 3.3.6 requires importlib-metadata>=4.4; python_version < \"3.10\", but you have importlib-metadata 3.10.1 which is incompatible.\n",
            "google-colab 1.0.0 requires requests~=2.23.0, but you have requests 2.27.1 which is incompatible.\n",
            "datascience 0.10.6 requires folium==0.2.1, but you have folium 0.8.3 which is incompatible.\u001b[0m\n",
            "Successfully installed bert-score-0.3.11 bpemb-0.3.3 conllu-4.4.1 datasets-1.2.1 deprecated-1.2.13 flair-0.10 ftfy-6.1.1 gdown-3.12.2 huggingface-hub-0.4.0 importlib-metadata-3.10.1 janome-0.4.2 konoha-4.6.5 langdetect-1.0.9 language-tool-python-2.7.0 lemminflect-0.2.2 lru-dict-1.1.7 more-itertools-8.8.0 mpld3-0.3 num2words-0.5.10 overrides-3.1.0 pyyaml-6.0 requests-2.27.1 sacremoses-0.0.49 segtok-1.5.11 sentencepiece-0.1.95 sqlitedict-2.0.0 terminaltables-3.1.10 textattack-0.3.4 tokenizers-0.11.6 tqdm-4.49.0 transformers-4.17.0 wikipedia-api-0.5.4 word2number-1.1 xxhash-3.0.0\n"
          ]
        }
      ]
    },
    {
      "cell_type": "code",
      "source": [
        "!pip install tensorflow_text\n"
      ],
      "metadata": {
        "id": "N6R_a5NphzO1",
        "colab": {
          "base_uri": "https://localhost:8080/"
        },
        "outputId": "28b90ad3-5b8c-477e-d814-1ffc6f708cb2"
      },
      "id": "N6R_a5NphzO1",
      "execution_count": null,
      "outputs": [
        {
          "output_type": "stream",
          "name": "stdout",
          "text": [
            "Collecting tensorflow_text\n",
            "  Downloading tensorflow_text-2.8.1-cp37-cp37m-manylinux_2_12_x86_64.manylinux2010_x86_64.whl (4.9 MB)\n",
            "\u001b[K     |████████████████████████████████| 4.9 MB 10.9 MB/s \n",
            "\u001b[?25hRequirement already satisfied: tensorflow-hub>=0.8.0 in /usr/local/lib/python3.7/dist-packages (from tensorflow_text) (0.12.0)\n",
            "Requirement already satisfied: tensorflow<2.9,>=2.8.0 in /usr/local/lib/python3.7/dist-packages (from tensorflow_text) (2.8.0)\n",
            "Requirement already satisfied: numpy>=1.20 in /usr/local/lib/python3.7/dist-packages (from tensorflow<2.9,>=2.8.0->tensorflow_text) (1.21.5)\n",
            "Requirement already satisfied: tensorboard<2.9,>=2.8 in /usr/local/lib/python3.7/dist-packages (from tensorflow<2.9,>=2.8.0->tensorflow_text) (2.8.0)\n",
            "Requirement already satisfied: keras<2.9,>=2.8.0rc0 in /usr/local/lib/python3.7/dist-packages (from tensorflow<2.9,>=2.8.0->tensorflow_text) (2.8.0)\n",
            "Requirement already satisfied: tensorflow-io-gcs-filesystem>=0.23.1 in /usr/local/lib/python3.7/dist-packages (from tensorflow<2.9,>=2.8.0->tensorflow_text) (0.24.0)\n",
            "Requirement already satisfied: termcolor>=1.1.0 in /usr/local/lib/python3.7/dist-packages (from tensorflow<2.9,>=2.8.0->tensorflow_text) (1.1.0)\n",
            "Requirement already satisfied: protobuf>=3.9.2 in /usr/local/lib/python3.7/dist-packages (from tensorflow<2.9,>=2.8.0->tensorflow_text) (3.17.3)\n",
            "Requirement already satisfied: absl-py>=0.4.0 in /usr/local/lib/python3.7/dist-packages (from tensorflow<2.9,>=2.8.0->tensorflow_text) (1.0.0)\n",
            "Requirement already satisfied: gast>=0.2.1 in /usr/local/lib/python3.7/dist-packages (from tensorflow<2.9,>=2.8.0->tensorflow_text) (0.5.3)\n",
            "Requirement already satisfied: setuptools in /usr/local/lib/python3.7/dist-packages (from tensorflow<2.9,>=2.8.0->tensorflow_text) (57.4.0)\n",
            "Requirement already satisfied: libclang>=9.0.1 in /usr/local/lib/python3.7/dist-packages (from tensorflow<2.9,>=2.8.0->tensorflow_text) (13.0.0)\n",
            "Collecting tf-estimator-nightly==2.8.0.dev2021122109\n",
            "  Downloading tf_estimator_nightly-2.8.0.dev2021122109-py2.py3-none-any.whl (462 kB)\n",
            "\u001b[K     |████████████████████████████████| 462 kB 34.6 MB/s \n",
            "\u001b[?25hRequirement already satisfied: keras-preprocessing>=1.1.1 in /usr/local/lib/python3.7/dist-packages (from tensorflow<2.9,>=2.8.0->tensorflow_text) (1.1.2)\n",
            "Requirement already satisfied: six>=1.12.0 in /usr/local/lib/python3.7/dist-packages (from tensorflow<2.9,>=2.8.0->tensorflow_text) (1.15.0)\n",
            "Requirement already satisfied: flatbuffers>=1.12 in /usr/local/lib/python3.7/dist-packages (from tensorflow<2.9,>=2.8.0->tensorflow_text) (2.0)\n",
            "Requirement already satisfied: h5py>=2.9.0 in /usr/local/lib/python3.7/dist-packages (from tensorflow<2.9,>=2.8.0->tensorflow_text) (3.1.0)\n",
            "Requirement already satisfied: grpcio<2.0,>=1.24.3 in /usr/local/lib/python3.7/dist-packages (from tensorflow<2.9,>=2.8.0->tensorflow_text) (1.44.0)\n",
            "Requirement already satisfied: opt-einsum>=2.3.2 in /usr/local/lib/python3.7/dist-packages (from tensorflow<2.9,>=2.8.0->tensorflow_text) (3.3.0)\n",
            "Requirement already satisfied: astunparse>=1.6.0 in /usr/local/lib/python3.7/dist-packages (from tensorflow<2.9,>=2.8.0->tensorflow_text) (1.6.3)\n",
            "Requirement already satisfied: typing-extensions>=3.6.6 in /usr/local/lib/python3.7/dist-packages (from tensorflow<2.9,>=2.8.0->tensorflow_text) (3.10.0.2)\n",
            "Requirement already satisfied: wrapt>=1.11.0 in /usr/local/lib/python3.7/dist-packages (from tensorflow<2.9,>=2.8.0->tensorflow_text) (1.14.0)\n",
            "Requirement already satisfied: google-pasta>=0.1.1 in /usr/local/lib/python3.7/dist-packages (from tensorflow<2.9,>=2.8.0->tensorflow_text) (0.2.0)\n",
            "Requirement already satisfied: wheel<1.0,>=0.23.0 in /usr/local/lib/python3.7/dist-packages (from astunparse>=1.6.0->tensorflow<2.9,>=2.8.0->tensorflow_text) (0.37.1)\n",
            "Requirement already satisfied: cached-property in /usr/local/lib/python3.7/dist-packages (from h5py>=2.9.0->tensorflow<2.9,>=2.8.0->tensorflow_text) (1.5.2)\n",
            "Requirement already satisfied: google-auth-oauthlib<0.5,>=0.4.1 in /usr/local/lib/python3.7/dist-packages (from tensorboard<2.9,>=2.8->tensorflow<2.9,>=2.8.0->tensorflow_text) (0.4.6)\n",
            "Requirement already satisfied: google-auth<3,>=1.6.3 in /usr/local/lib/python3.7/dist-packages (from tensorboard<2.9,>=2.8->tensorflow<2.9,>=2.8.0->tensorflow_text) (1.35.0)\n",
            "Requirement already satisfied: markdown>=2.6.8 in /usr/local/lib/python3.7/dist-packages (from tensorboard<2.9,>=2.8->tensorflow<2.9,>=2.8.0->tensorflow_text) (3.3.6)\n",
            "Requirement already satisfied: tensorboard-data-server<0.7.0,>=0.6.0 in /usr/local/lib/python3.7/dist-packages (from tensorboard<2.9,>=2.8->tensorflow<2.9,>=2.8.0->tensorflow_text) (0.6.1)\n",
            "Requirement already satisfied: tensorboard-plugin-wit>=1.6.0 in /usr/local/lib/python3.7/dist-packages (from tensorboard<2.9,>=2.8->tensorflow<2.9,>=2.8.0->tensorflow_text) (1.8.1)\n",
            "Requirement already satisfied: werkzeug>=0.11.15 in /usr/local/lib/python3.7/dist-packages (from tensorboard<2.9,>=2.8->tensorflow<2.9,>=2.8.0->tensorflow_text) (1.0.1)\n",
            "Requirement already satisfied: requests<3,>=2.21.0 in /usr/local/lib/python3.7/dist-packages (from tensorboard<2.9,>=2.8->tensorflow<2.9,>=2.8.0->tensorflow_text) (2.27.1)\n",
            "Requirement already satisfied: pyasn1-modules>=0.2.1 in /usr/local/lib/python3.7/dist-packages (from google-auth<3,>=1.6.3->tensorboard<2.9,>=2.8->tensorflow<2.9,>=2.8.0->tensorflow_text) (0.2.8)\n",
            "Requirement already satisfied: rsa<5,>=3.1.4 in /usr/local/lib/python3.7/dist-packages (from google-auth<3,>=1.6.3->tensorboard<2.9,>=2.8->tensorflow<2.9,>=2.8.0->tensorflow_text) (4.8)\n",
            "Requirement already satisfied: cachetools<5.0,>=2.0.0 in /usr/local/lib/python3.7/dist-packages (from google-auth<3,>=1.6.3->tensorboard<2.9,>=2.8->tensorflow<2.9,>=2.8.0->tensorflow_text) (4.2.4)\n",
            "Requirement already satisfied: requests-oauthlib>=0.7.0 in /usr/local/lib/python3.7/dist-packages (from google-auth-oauthlib<0.5,>=0.4.1->tensorboard<2.9,>=2.8->tensorflow<2.9,>=2.8.0->tensorflow_text) (1.3.1)\n",
            "Collecting importlib-metadata>=4.4\n",
            "  Downloading importlib_metadata-4.11.3-py3-none-any.whl (18 kB)\n",
            "Requirement already satisfied: zipp>=0.5 in /usr/local/lib/python3.7/dist-packages (from importlib-metadata>=4.4->markdown>=2.6.8->tensorboard<2.9,>=2.8->tensorflow<2.9,>=2.8.0->tensorflow_text) (3.7.0)\n",
            "Requirement already satisfied: pyasn1<0.5.0,>=0.4.6 in /usr/local/lib/python3.7/dist-packages (from pyasn1-modules>=0.2.1->google-auth<3,>=1.6.3->tensorboard<2.9,>=2.8->tensorflow<2.9,>=2.8.0->tensorflow_text) (0.4.8)\n",
            "Requirement already satisfied: charset-normalizer~=2.0.0 in /usr/local/lib/python3.7/dist-packages (from requests<3,>=2.21.0->tensorboard<2.9,>=2.8->tensorflow<2.9,>=2.8.0->tensorflow_text) (2.0.12)\n",
            "Requirement already satisfied: certifi>=2017.4.17 in /usr/local/lib/python3.7/dist-packages (from requests<3,>=2.21.0->tensorboard<2.9,>=2.8->tensorflow<2.9,>=2.8.0->tensorflow_text) (2021.10.8)\n",
            "Requirement already satisfied: urllib3<1.27,>=1.21.1 in /usr/local/lib/python3.7/dist-packages (from requests<3,>=2.21.0->tensorboard<2.9,>=2.8->tensorflow<2.9,>=2.8.0->tensorflow_text) (1.24.3)\n",
            "Requirement already satisfied: idna<4,>=2.5 in /usr/local/lib/python3.7/dist-packages (from requests<3,>=2.21.0->tensorboard<2.9,>=2.8->tensorflow<2.9,>=2.8.0->tensorflow_text) (2.10)\n",
            "Requirement already satisfied: oauthlib>=3.0.0 in /usr/local/lib/python3.7/dist-packages (from requests-oauthlib>=0.7.0->google-auth-oauthlib<0.5,>=0.4.1->tensorboard<2.9,>=2.8->tensorflow<2.9,>=2.8.0->tensorflow_text) (3.2.0)\n",
            "Installing collected packages: importlib-metadata, tf-estimator-nightly, tensorflow-text\n",
            "  Attempting uninstall: importlib-metadata\n",
            "    Found existing installation: importlib-metadata 3.10.1\n",
            "    Uninstalling importlib-metadata-3.10.1:\n",
            "      Successfully uninstalled importlib-metadata-3.10.1\n",
            "\u001b[31mERROR: pip's dependency resolver does not currently take into account all the packages that are installed. This behaviour is the source of the following dependency conflicts.\n",
            "konoha 4.6.5 requires importlib-metadata<4.0.0,>=3.7.0, but you have importlib-metadata 4.11.3 which is incompatible.\u001b[0m\n",
            "Successfully installed importlib-metadata-4.11.3 tensorflow-text-2.8.1 tf-estimator-nightly-2.8.0.dev2021122109\n"
          ]
        }
      ]
    },
    {
      "cell_type": "code",
      "source": [
        "!pip install textattack"
      ],
      "metadata": {
        "colab": {
          "base_uri": "https://localhost:8080/"
        },
        "id": "4XnlfZU6PQbr",
        "outputId": "eb2f4029-7187-441b-f72a-b5dd94fa811d"
      },
      "id": "4XnlfZU6PQbr",
      "execution_count": null,
      "outputs": [
        {
          "output_type": "stream",
          "name": "stdout",
          "text": [
            "Requirement already satisfied: textattack in /usr/local/lib/python3.7/dist-packages (0.3.4)\n",
            "Requirement already satisfied: num2words in /usr/local/lib/python3.7/dist-packages (from textattack) (0.5.10)\n",
            "Requirement already satisfied: flair in /usr/local/lib/python3.7/dist-packages (from textattack) (0.10)\n",
            "Requirement already satisfied: lemminflect in /usr/local/lib/python3.7/dist-packages (from textattack) (0.2.2)\n",
            "Requirement already satisfied: torch!=1.8,>=1.7.0 in /usr/local/lib/python3.7/dist-packages (from textattack) (1.10.0+cu111)\n",
            "Requirement already satisfied: word2number in /usr/local/lib/python3.7/dist-packages (from textattack) (1.1)\n",
            "Requirement already satisfied: lru-dict in /usr/local/lib/python3.7/dist-packages (from textattack) (1.1.7)\n",
            "Requirement already satisfied: nltk in /usr/local/lib/python3.7/dist-packages (from textattack) (3.2.5)\n",
            "Requirement already satisfied: more-itertools in /usr/local/lib/python3.7/dist-packages (from textattack) (8.8.0)\n",
            "Requirement already satisfied: numpy>=1.19.2 in /usr/local/lib/python3.7/dist-packages (from textattack) (1.21.5)\n",
            "Requirement already satisfied: language-tool-python in /usr/local/lib/python3.7/dist-packages (from textattack) (2.7.0)\n",
            "Requirement already satisfied: scipy>=1.4.1 in /usr/local/lib/python3.7/dist-packages (from textattack) (1.4.1)\n",
            "Requirement already satisfied: terminaltables in /usr/local/lib/python3.7/dist-packages (from textattack) (3.1.10)\n",
            "Requirement already satisfied: filelock in /usr/local/lib/python3.7/dist-packages (from textattack) (3.6.0)\n",
            "Requirement already satisfied: editdistance in /usr/local/lib/python3.7/dist-packages (from textattack) (0.5.3)\n",
            "Requirement already satisfied: datasets in /usr/local/lib/python3.7/dist-packages (from textattack) (1.2.1)\n",
            "Requirement already satisfied: transformers>=3.3.0 in /usr/local/lib/python3.7/dist-packages (from textattack) (4.17.0)\n",
            "Requirement already satisfied: tqdm<4.50.0,>=4.27 in /usr/local/lib/python3.7/dist-packages (from textattack) (4.49.0)\n",
            "Requirement already satisfied: pandas>=1.0.1 in /usr/local/lib/python3.7/dist-packages (from textattack) (1.3.5)\n",
            "Requirement already satisfied: bert-score>=0.3.5 in /usr/local/lib/python3.7/dist-packages (from textattack) (0.3.11)\n",
            "Requirement already satisfied: PySocks!=1.5.7,>=1.5.6 in /usr/local/lib/python3.7/dist-packages (from textattack) (1.7.1)\n",
            "Requirement already satisfied: packaging>=20.9 in /usr/local/lib/python3.7/dist-packages (from bert-score>=0.3.5->textattack) (21.3)\n",
            "Requirement already satisfied: matplotlib in /usr/local/lib/python3.7/dist-packages (from bert-score>=0.3.5->textattack) (3.2.2)\n",
            "Requirement already satisfied: requests in /usr/local/lib/python3.7/dist-packages (from bert-score>=0.3.5->textattack) (2.27.1)\n",
            "Requirement already satisfied: pyparsing!=3.0.5,>=2.0.2 in /usr/local/lib/python3.7/dist-packages (from packaging>=20.9->bert-score>=0.3.5->textattack) (3.0.7)\n",
            "Requirement already satisfied: pytz>=2017.3 in /usr/local/lib/python3.7/dist-packages (from pandas>=1.0.1->textattack) (2018.9)\n",
            "Requirement already satisfied: python-dateutil>=2.7.3 in /usr/local/lib/python3.7/dist-packages (from pandas>=1.0.1->textattack) (2.8.2)\n",
            "Requirement already satisfied: six>=1.5 in /usr/local/lib/python3.7/dist-packages (from python-dateutil>=2.7.3->pandas>=1.0.1->textattack) (1.15.0)\n",
            "Requirement already satisfied: typing-extensions in /usr/local/lib/python3.7/dist-packages (from torch!=1.8,>=1.7.0->textattack) (3.10.0.2)\n",
            "Requirement already satisfied: sacremoses in /usr/local/lib/python3.7/dist-packages (from transformers>=3.3.0->textattack) (0.0.49)\n",
            "Requirement already satisfied: huggingface-hub<1.0,>=0.1.0 in /usr/local/lib/python3.7/dist-packages (from transformers>=3.3.0->textattack) (0.4.0)\n",
            "Requirement already satisfied: regex!=2019.12.17 in /usr/local/lib/python3.7/dist-packages (from transformers>=3.3.0->textattack) (2019.12.20)\n",
            "Requirement already satisfied: importlib-metadata in /usr/local/lib/python3.7/dist-packages (from transformers>=3.3.0->textattack) (4.11.3)\n",
            "Requirement already satisfied: tokenizers!=0.11.3,>=0.11.1 in /usr/local/lib/python3.7/dist-packages (from transformers>=3.3.0->textattack) (0.11.6)\n",
            "Requirement already satisfied: pyyaml>=5.1 in /usr/local/lib/python3.7/dist-packages (from transformers>=3.3.0->textattack) (6.0)\n",
            "Requirement already satisfied: xxhash in /usr/local/lib/python3.7/dist-packages (from datasets->textattack) (3.0.0)\n",
            "Requirement already satisfied: multiprocess in /usr/local/lib/python3.7/dist-packages (from datasets->textattack) (0.70.12.2)\n",
            "Requirement already satisfied: pyarrow>=0.17.1 in /usr/local/lib/python3.7/dist-packages (from datasets->textattack) (6.0.1)\n",
            "Requirement already satisfied: dill in /usr/local/lib/python3.7/dist-packages (from datasets->textattack) (0.3.4)\n",
            "Requirement already satisfied: certifi>=2017.4.17 in /usr/local/lib/python3.7/dist-packages (from requests->bert-score>=0.3.5->textattack) (2021.10.8)\n",
            "Requirement already satisfied: idna<4,>=2.5 in /usr/local/lib/python3.7/dist-packages (from requests->bert-score>=0.3.5->textattack) (2.10)\n",
            "Requirement already satisfied: urllib3<1.27,>=1.21.1 in /usr/local/lib/python3.7/dist-packages (from requests->bert-score>=0.3.5->textattack) (1.24.3)\n",
            "Requirement already satisfied: charset-normalizer~=2.0.0 in /usr/local/lib/python3.7/dist-packages (from requests->bert-score>=0.3.5->textattack) (2.0.12)\n",
            "Requirement already satisfied: conllu>=4.0 in /usr/local/lib/python3.7/dist-packages (from flair->textattack) (4.4.1)\n",
            "Requirement already satisfied: konoha<5.0.0,>=4.0.0 in /usr/local/lib/python3.7/dist-packages (from flair->textattack) (4.6.5)\n",
            "Requirement already satisfied: mpld3==0.3 in /usr/local/lib/python3.7/dist-packages (from flair->textattack) (0.3)\n",
            "Requirement already satisfied: ftfy in /usr/local/lib/python3.7/dist-packages (from flair->textattack) (6.1.1)\n",
            "Requirement already satisfied: deprecated>=1.2.4 in /usr/local/lib/python3.7/dist-packages (from flair->textattack) (1.2.13)\n",
            "Requirement already satisfied: gensim>=3.4.0 in /usr/local/lib/python3.7/dist-packages (from flair->textattack) (3.6.0)\n",
            "Requirement already satisfied: langdetect in /usr/local/lib/python3.7/dist-packages (from flair->textattack) (1.0.9)\n",
            "Requirement already satisfied: gdown==3.12.2 in /usr/local/lib/python3.7/dist-packages (from flair->textattack) (3.12.2)\n",
            "Requirement already satisfied: janome in /usr/local/lib/python3.7/dist-packages (from flair->textattack) (0.4.2)\n",
            "Requirement already satisfied: tabulate in /usr/local/lib/python3.7/dist-packages (from flair->textattack) (0.8.9)\n",
            "Requirement already satisfied: sentencepiece==0.1.95 in /usr/local/lib/python3.7/dist-packages (from flair->textattack) (0.1.95)\n",
            "Requirement already satisfied: sqlitedict>=1.6.0 in /usr/local/lib/python3.7/dist-packages (from flair->textattack) (2.0.0)\n",
            "Requirement already satisfied: scikit-learn>=0.21.3 in /usr/local/lib/python3.7/dist-packages (from flair->textattack) (1.0.2)\n",
            "Requirement already satisfied: bpemb>=0.3.2 in /usr/local/lib/python3.7/dist-packages (from flair->textattack) (0.3.3)\n",
            "Requirement already satisfied: wikipedia-api in /usr/local/lib/python3.7/dist-packages (from flair->textattack) (0.5.4)\n",
            "Requirement already satisfied: lxml in /usr/local/lib/python3.7/dist-packages (from flair->textattack) (4.2.6)\n",
            "Requirement already satisfied: segtok>=1.5.7 in /usr/local/lib/python3.7/dist-packages (from flair->textattack) (1.5.11)\n",
            "Requirement already satisfied: wrapt<2,>=1.10 in /usr/local/lib/python3.7/dist-packages (from deprecated>=1.2.4->flair->textattack) (1.14.0)\n",
            "Requirement already satisfied: smart-open>=1.2.1 in /usr/local/lib/python3.7/dist-packages (from gensim>=3.4.0->flair->textattack) (5.2.1)\n",
            "Requirement already satisfied: overrides<4.0.0,>=3.0.0 in /usr/local/lib/python3.7/dist-packages (from konoha<5.0.0,>=4.0.0->flair->textattack) (3.1.0)\n",
            "Collecting importlib-metadata\n",
            "  Using cached importlib_metadata-3.10.1-py3-none-any.whl (14 kB)\n",
            "Requirement already satisfied: zipp>=0.5 in /usr/local/lib/python3.7/dist-packages (from importlib-metadata->transformers>=3.3.0->textattack) (3.7.0)\n",
            "Requirement already satisfied: kiwisolver>=1.0.1 in /usr/local/lib/python3.7/dist-packages (from matplotlib->bert-score>=0.3.5->textattack) (1.4.0)\n",
            "Requirement already satisfied: cycler>=0.10 in /usr/local/lib/python3.7/dist-packages (from matplotlib->bert-score>=0.3.5->textattack) (0.11.0)\n",
            "Requirement already satisfied: joblib>=0.11 in /usr/local/lib/python3.7/dist-packages (from scikit-learn>=0.21.3->flair->textattack) (1.1.0)\n",
            "Requirement already satisfied: threadpoolctl>=2.0.0 in /usr/local/lib/python3.7/dist-packages (from scikit-learn>=0.21.3->flair->textattack) (3.1.0)\n",
            "Requirement already satisfied: wcwidth>=0.2.5 in /usr/local/lib/python3.7/dist-packages (from ftfy->flair->textattack) (0.2.5)\n",
            "Requirement already satisfied: docopt>=0.6.2 in /usr/local/lib/python3.7/dist-packages (from num2words->textattack) (0.6.2)\n",
            "Requirement already satisfied: click in /usr/local/lib/python3.7/dist-packages (from sacremoses->transformers>=3.3.0->textattack) (7.1.2)\n",
            "Installing collected packages: importlib-metadata\n",
            "  Attempting uninstall: importlib-metadata\n",
            "    Found existing installation: importlib-metadata 4.11.3\n",
            "    Uninstalling importlib-metadata-4.11.3:\n",
            "      Successfully uninstalled importlib-metadata-4.11.3\n",
            "\u001b[31mERROR: pip's dependency resolver does not currently take into account all the packages that are installed. This behaviour is the source of the following dependency conflicts.\n",
            "markdown 3.3.6 requires importlib-metadata>=4.4; python_version < \"3.10\", but you have importlib-metadata 3.10.1 which is incompatible.\u001b[0m\n",
            "Successfully installed importlib-metadata-3.10.1\n"
          ]
        }
      ]
    },
    {
      "cell_type": "code",
      "source": [
        "!pip install tensorflow_text"
      ],
      "metadata": {
        "colab": {
          "base_uri": "https://localhost:8080/"
        },
        "id": "VVog-dy6PVc3",
        "outputId": "dd0840b8-4de8-4d68-c047-47c406fe0a1d"
      },
      "id": "VVog-dy6PVc3",
      "execution_count": null,
      "outputs": [
        {
          "output_type": "stream",
          "name": "stdout",
          "text": [
            "Requirement already satisfied: tensorflow_text in /usr/local/lib/python3.7/dist-packages (2.8.1)\n",
            "Requirement already satisfied: tensorflow-hub>=0.8.0 in /usr/local/lib/python3.7/dist-packages (from tensorflow_text) (0.12.0)\n",
            "Requirement already satisfied: tensorflow<2.9,>=2.8.0 in /usr/local/lib/python3.7/dist-packages (from tensorflow_text) (2.8.0)\n",
            "Requirement already satisfied: keras-preprocessing>=1.1.1 in /usr/local/lib/python3.7/dist-packages (from tensorflow<2.9,>=2.8.0->tensorflow_text) (1.1.2)\n",
            "Requirement already satisfied: typing-extensions>=3.6.6 in /usr/local/lib/python3.7/dist-packages (from tensorflow<2.9,>=2.8.0->tensorflow_text) (3.10.0.2)\n",
            "Requirement already satisfied: tensorboard<2.9,>=2.8 in /usr/local/lib/python3.7/dist-packages (from tensorflow<2.9,>=2.8.0->tensorflow_text) (2.8.0)\n",
            "Requirement already satisfied: wrapt>=1.11.0 in /usr/local/lib/python3.7/dist-packages (from tensorflow<2.9,>=2.8.0->tensorflow_text) (1.14.0)\n",
            "Requirement already satisfied: tensorflow-io-gcs-filesystem>=0.23.1 in /usr/local/lib/python3.7/dist-packages (from tensorflow<2.9,>=2.8.0->tensorflow_text) (0.24.0)\n",
            "Requirement already satisfied: gast>=0.2.1 in /usr/local/lib/python3.7/dist-packages (from tensorflow<2.9,>=2.8.0->tensorflow_text) (0.5.3)\n",
            "Requirement already satisfied: flatbuffers>=1.12 in /usr/local/lib/python3.7/dist-packages (from tensorflow<2.9,>=2.8.0->tensorflow_text) (2.0)\n",
            "Requirement already satisfied: absl-py>=0.4.0 in /usr/local/lib/python3.7/dist-packages (from tensorflow<2.9,>=2.8.0->tensorflow_text) (1.0.0)\n",
            "Requirement already satisfied: grpcio<2.0,>=1.24.3 in /usr/local/lib/python3.7/dist-packages (from tensorflow<2.9,>=2.8.0->tensorflow_text) (1.44.0)\n",
            "Requirement already satisfied: keras<2.9,>=2.8.0rc0 in /usr/local/lib/python3.7/dist-packages (from tensorflow<2.9,>=2.8.0->tensorflow_text) (2.8.0)\n",
            "Requirement already satisfied: termcolor>=1.1.0 in /usr/local/lib/python3.7/dist-packages (from tensorflow<2.9,>=2.8.0->tensorflow_text) (1.1.0)\n",
            "Requirement already satisfied: google-pasta>=0.1.1 in /usr/local/lib/python3.7/dist-packages (from tensorflow<2.9,>=2.8.0->tensorflow_text) (0.2.0)\n",
            "Requirement already satisfied: protobuf>=3.9.2 in /usr/local/lib/python3.7/dist-packages (from tensorflow<2.9,>=2.8.0->tensorflow_text) (3.17.3)\n",
            "Requirement already satisfied: setuptools in /usr/local/lib/python3.7/dist-packages (from tensorflow<2.9,>=2.8.0->tensorflow_text) (57.4.0)\n",
            "Requirement already satisfied: h5py>=2.9.0 in /usr/local/lib/python3.7/dist-packages (from tensorflow<2.9,>=2.8.0->tensorflow_text) (3.1.0)\n",
            "Requirement already satisfied: six>=1.12.0 in /usr/local/lib/python3.7/dist-packages (from tensorflow<2.9,>=2.8.0->tensorflow_text) (1.15.0)\n",
            "Requirement already satisfied: tf-estimator-nightly==2.8.0.dev2021122109 in /usr/local/lib/python3.7/dist-packages (from tensorflow<2.9,>=2.8.0->tensorflow_text) (2.8.0.dev2021122109)\n",
            "Requirement already satisfied: libclang>=9.0.1 in /usr/local/lib/python3.7/dist-packages (from tensorflow<2.9,>=2.8.0->tensorflow_text) (13.0.0)\n",
            "Requirement already satisfied: opt-einsum>=2.3.2 in /usr/local/lib/python3.7/dist-packages (from tensorflow<2.9,>=2.8.0->tensorflow_text) (3.3.0)\n",
            "Requirement already satisfied: astunparse>=1.6.0 in /usr/local/lib/python3.7/dist-packages (from tensorflow<2.9,>=2.8.0->tensorflow_text) (1.6.3)\n",
            "Requirement already satisfied: numpy>=1.20 in /usr/local/lib/python3.7/dist-packages (from tensorflow<2.9,>=2.8.0->tensorflow_text) (1.21.5)\n",
            "Requirement already satisfied: wheel<1.0,>=0.23.0 in /usr/local/lib/python3.7/dist-packages (from astunparse>=1.6.0->tensorflow<2.9,>=2.8.0->tensorflow_text) (0.37.1)\n",
            "Requirement already satisfied: cached-property in /usr/local/lib/python3.7/dist-packages (from h5py>=2.9.0->tensorflow<2.9,>=2.8.0->tensorflow_text) (1.5.2)\n",
            "Requirement already satisfied: tensorboard-data-server<0.7.0,>=0.6.0 in /usr/local/lib/python3.7/dist-packages (from tensorboard<2.9,>=2.8->tensorflow<2.9,>=2.8.0->tensorflow_text) (0.6.1)\n",
            "Requirement already satisfied: google-auth<3,>=1.6.3 in /usr/local/lib/python3.7/dist-packages (from tensorboard<2.9,>=2.8->tensorflow<2.9,>=2.8.0->tensorflow_text) (1.35.0)\n",
            "Requirement already satisfied: markdown>=2.6.8 in /usr/local/lib/python3.7/dist-packages (from tensorboard<2.9,>=2.8->tensorflow<2.9,>=2.8.0->tensorflow_text) (3.3.6)\n",
            "Requirement already satisfied: werkzeug>=0.11.15 in /usr/local/lib/python3.7/dist-packages (from tensorboard<2.9,>=2.8->tensorflow<2.9,>=2.8.0->tensorflow_text) (1.0.1)\n",
            "Requirement already satisfied: requests<3,>=2.21.0 in /usr/local/lib/python3.7/dist-packages (from tensorboard<2.9,>=2.8->tensorflow<2.9,>=2.8.0->tensorflow_text) (2.27.1)\n",
            "Requirement already satisfied: google-auth-oauthlib<0.5,>=0.4.1 in /usr/local/lib/python3.7/dist-packages (from tensorboard<2.9,>=2.8->tensorflow<2.9,>=2.8.0->tensorflow_text) (0.4.6)\n",
            "Requirement already satisfied: tensorboard-plugin-wit>=1.6.0 in /usr/local/lib/python3.7/dist-packages (from tensorboard<2.9,>=2.8->tensorflow<2.9,>=2.8.0->tensorflow_text) (1.8.1)\n",
            "Requirement already satisfied: rsa<5,>=3.1.4 in /usr/local/lib/python3.7/dist-packages (from google-auth<3,>=1.6.3->tensorboard<2.9,>=2.8->tensorflow<2.9,>=2.8.0->tensorflow_text) (4.8)\n",
            "Requirement already satisfied: cachetools<5.0,>=2.0.0 in /usr/local/lib/python3.7/dist-packages (from google-auth<3,>=1.6.3->tensorboard<2.9,>=2.8->tensorflow<2.9,>=2.8.0->tensorflow_text) (4.2.4)\n",
            "Requirement already satisfied: pyasn1-modules>=0.2.1 in /usr/local/lib/python3.7/dist-packages (from google-auth<3,>=1.6.3->tensorboard<2.9,>=2.8->tensorflow<2.9,>=2.8.0->tensorflow_text) (0.2.8)\n",
            "Requirement already satisfied: requests-oauthlib>=0.7.0 in /usr/local/lib/python3.7/dist-packages (from google-auth-oauthlib<0.5,>=0.4.1->tensorboard<2.9,>=2.8->tensorflow<2.9,>=2.8.0->tensorflow_text) (1.3.1)\n",
            "Collecting importlib-metadata>=4.4\n",
            "  Using cached importlib_metadata-4.11.3-py3-none-any.whl (18 kB)\n",
            "Requirement already satisfied: zipp>=0.5 in /usr/local/lib/python3.7/dist-packages (from importlib-metadata>=4.4->markdown>=2.6.8->tensorboard<2.9,>=2.8->tensorflow<2.9,>=2.8.0->tensorflow_text) (3.7.0)\n",
            "Requirement already satisfied: pyasn1<0.5.0,>=0.4.6 in /usr/local/lib/python3.7/dist-packages (from pyasn1-modules>=0.2.1->google-auth<3,>=1.6.3->tensorboard<2.9,>=2.8->tensorflow<2.9,>=2.8.0->tensorflow_text) (0.4.8)\n",
            "Requirement already satisfied: urllib3<1.27,>=1.21.1 in /usr/local/lib/python3.7/dist-packages (from requests<3,>=2.21.0->tensorboard<2.9,>=2.8->tensorflow<2.9,>=2.8.0->tensorflow_text) (1.24.3)\n",
            "Requirement already satisfied: idna<4,>=2.5 in /usr/local/lib/python3.7/dist-packages (from requests<3,>=2.21.0->tensorboard<2.9,>=2.8->tensorflow<2.9,>=2.8.0->tensorflow_text) (2.10)\n",
            "Requirement already satisfied: certifi>=2017.4.17 in /usr/local/lib/python3.7/dist-packages (from requests<3,>=2.21.0->tensorboard<2.9,>=2.8->tensorflow<2.9,>=2.8.0->tensorflow_text) (2021.10.8)\n",
            "Requirement already satisfied: charset-normalizer~=2.0.0 in /usr/local/lib/python3.7/dist-packages (from requests<3,>=2.21.0->tensorboard<2.9,>=2.8->tensorflow<2.9,>=2.8.0->tensorflow_text) (2.0.12)\n",
            "Requirement already satisfied: oauthlib>=3.0.0 in /usr/local/lib/python3.7/dist-packages (from requests-oauthlib>=0.7.0->google-auth-oauthlib<0.5,>=0.4.1->tensorboard<2.9,>=2.8->tensorflow<2.9,>=2.8.0->tensorflow_text) (3.2.0)\n",
            "Installing collected packages: importlib-metadata\n",
            "  Attempting uninstall: importlib-metadata\n",
            "    Found existing installation: importlib-metadata 3.10.1\n",
            "    Uninstalling importlib-metadata-3.10.1:\n",
            "      Successfully uninstalled importlib-metadata-3.10.1\n",
            "\u001b[31mERROR: pip's dependency resolver does not currently take into account all the packages that are installed. This behaviour is the source of the following dependency conflicts.\n",
            "konoha 4.6.5 requires importlib-metadata<4.0.0,>=3.7.0, but you have importlib-metadata 4.11.3 which is incompatible.\u001b[0m\n",
            "Successfully installed importlib-metadata-4.11.3\n"
          ]
        }
      ]
    },
    {
      "cell_type": "markdown",
      "source": [
        "## **IMPORTING LIBRARIES**"
      ],
      "metadata": {
        "id": "G7gkDDAVF8ka"
      },
      "id": "G7gkDDAVF8ka"
    },
    {
      "cell_type": "code",
      "execution_count": null,
      "metadata": {
        "id": "284c316a"
      },
      "outputs": [],
      "source": [
        "#Pandas library is used for the Data Manipulation and Analysis\n",
        "import pandas as pd\n",
        "# Tqdm is a library in python which is used for creating the progress meter or the progress bars\n",
        "from tqdm.notebook import tqdm_notebook\n",
        "\n",
        "# Matplotlib library is used for the visualization purpose\n",
        "import matplotlib.pyplot as plt\n",
        "\n",
        "# A word cloud is a visual representation of text data. Words are usually single words and the importance of each is shown by the font size and color\n",
        "from wordcloud import WordCloud\n",
        "\n",
        "#Using the python counter tool, you can count the key value pairs in an object, also called hashtable object. The counter holds the data in an unordered collection just \n",
        "# like hashtable objects, The elements here represent the key and the count as the values\n",
        "from collections import Counter\n",
        "\n",
        "# initiate tqdm for pandas.apply() functions\n",
        "tqdm_notebook.pandas()"
      ],
      "id": "284c316a"
    },
    {
      "cell_type": "code",
      "execution_count": null,
      "metadata": {
        "id": "eaad2b31"
      },
      "outputs": [],
      "source": [
        "#Contractions are shortened version of words or syllables. They often exist in either written or spoken forms in the English language. \n",
        "#These shortened versions or contractions of words are created by removing specific letters and sounds.\n",
        "import contractions\n",
        "\n",
        "# Autocorrect is purely based on Natural Language Processing (NLP). \n",
        "#As the name suggests that it is programmed in order to correct spellings and errors while typing text.\n",
        "from autocorrect import Speller\n",
        "\n",
        "# Matplotlib library is used for the viusliazation purpose\n",
        "import matplotlib.pyplot as plt\n",
        "\n",
        "# Seaborn library is also used to create visualization\n",
        "import seaborn as sns\n",
        "\n",
        "#NLTK is a toolkit build for working with NLP in Python. \n",
        "#It provides us various text processing libraries with a lot of test datasets.\n",
        "# A variety of tasks can be performed using NLTK such as tokenizing, parse tree visualization\n",
        "import nltk\n",
        "\n",
        "# RegEx is used to check if a string contains the specified search pattern.\n",
        "import re"
      ],
      "id": "eaad2b31"
    },
    {
      "cell_type": "code",
      "source": [
        "import tensorflow as tf\n",
        "\n",
        "from tensorflow.keras.preprocessing.text import Tokenizer\n",
        "\n",
        "from tensorflow.keras.preprocessing.sequence import pad_sequences\n",
        "\n",
        "from tensorflow.keras.models import Sequential\n",
        "\n",
        "from tensorflow.keras.layers import Embedding, Dense, LSTM\n",
        "\n",
        "from sklearn.metrics import classification_report"
      ],
      "metadata": {
        "id": "w9jAdeSTMINS"
      },
      "id": "w9jAdeSTMINS",
      "execution_count": null,
      "outputs": []
    },
    {
      "cell_type": "code",
      "source": [
        "from textattack.goal_functions.classification import UntargetedClassification\n",
        "\n",
        "from textattack.constraints.pre_transformation import RepeatModification, StopwordModification\n",
        "\n",
        "from textattack.constraints.semantics import WordEmbeddingDistance\n",
        "\n",
        "from textattack.transformations import WordSwapEmbedding\n",
        "\n",
        "from textattack.search_methods import GreedyWordSwapWIR\n",
        "\n",
        "from textattack import Attack\n"
      ],
      "metadata": {
        "colab": {
          "base_uri": "https://localhost:8080/"
        },
        "id": "zZH0UpeLZ6EY",
        "outputId": "52b5e0fa-6bcf-4024-c641-175dbcaea4a1"
      },
      "id": "zZH0UpeLZ6EY",
      "execution_count": null,
      "outputs": [
        {
          "output_type": "stream",
          "name": "stderr",
          "text": [
            "textattack: Updating TextAttack package dependencies.\n",
            "textattack: Downloading NLTK required packages.\n"
          ]
        },
        {
          "output_type": "stream",
          "name": "stdout",
          "text": [
            "[nltk_data] Downloading package averaged_perceptron_tagger to\n",
            "[nltk_data]     /root/nltk_data...\n",
            "[nltk_data]   Unzipping taggers/averaged_perceptron_tagger.zip.\n",
            "[nltk_data] Downloading package stopwords to /root/nltk_data...\n",
            "[nltk_data]   Unzipping corpora/stopwords.zip.\n",
            "[nltk_data] Downloading package omw to /root/nltk_data...\n",
            "[nltk_data]   Unzipping corpora/omw.zip.\n",
            "[nltk_data] Downloading package universal_tagset to /root/nltk_data...\n",
            "[nltk_data]   Unzipping taggers/universal_tagset.zip.\n",
            "[nltk_data] Downloading package wordnet to /root/nltk_data...\n",
            "[nltk_data]   Unzipping corpora/wordnet.zip.\n",
            "[nltk_data] Downloading package punkt to /root/nltk_data...\n",
            "[nltk_data]   Unzipping tokenizers/punkt.zip.\n"
          ]
        },
        {
          "output_type": "stream",
          "name": "stderr",
          "text": [
            "textattack: Downloading https://textattack.s3.amazonaws.com/word_embeddings/paragramcf.\n",
            "100%|██████████| 481M/481M [00:17<00:00, 27.3MB/s]\n",
            "textattack: Unzipping file /root/.cache/textattack/tmph5pglfo3.zip to /root/.cache/textattack/word_embeddings/paragramcf.\n",
            "textattack: Successfully saved word_embeddings/paragramcf to cache.\n"
          ]
        }
      ]
    },
    {
      "cell_type": "code",
      "source": [
        "from textattack.loggers import CSVLogger \n",
        "\n",
        "from textattack.attack_results import SuccessfulAttackResult\n",
        "\n",
        "from textattack import Attacker\n",
        "\n",
        "from textattack import AttackArgs\n",
        "\n",
        "from textattack.datasets import Dataset"
      ],
      "metadata": {
        "id": "PwBqB1R9aC8S"
      },
      "id": "PwBqB1R9aC8S",
      "execution_count": null,
      "outputs": []
    },
    {
      "cell_type": "code",
      "source": [
        "from textattack.models.wrappers import ModelWrapper\n",
        "\n",
        "from textattack import AttackArgs\n",
        "\n",
        "from textattack.datasets import Dataset\n",
        "\n",
        "from textattack import Attacker\n",
        "\n",
        "import numpy as np\n",
        "\n",
        "import torch\n",
        "\n",
        "import nltk\n",
        "\n",
        "nltk.download('omw-1.4')"
      ],
      "metadata": {
        "colab": {
          "base_uri": "https://localhost:8080/"
        },
        "id": "Z2KjmwusaaaN",
        "outputId": "ac72e441-3610-4703-e5bc-91644512dc20"
      },
      "id": "Z2KjmwusaaaN",
      "execution_count": null,
      "outputs": [
        {
          "output_type": "stream",
          "name": "stdout",
          "text": [
            "[nltk_data] Downloading package omw-1.4 to /root/nltk_data...\n",
            "[nltk_data]   Unzipping corpora/omw-1.4.zip.\n"
          ]
        },
        {
          "output_type": "execute_result",
          "data": {
            "text/plain": [
              "True"
            ]
          },
          "metadata": {},
          "execution_count": 12
        }
      ]
    },
    {
      "cell_type": "code",
      "source": [
        "# Implementing TFIDF Vectorizer\n",
        "from sklearn.feature_extraction.text import TfidfVectorizer\n"
      ],
      "metadata": {
        "id": "Wi2gLXBIXXjS"
      },
      "id": "Wi2gLXBIXXjS",
      "execution_count": null,
      "outputs": []
    },
    {
      "cell_type": "code",
      "source": [
        "# Implementing the Random Forest Classifier\n",
        "from sklearn.ensemble import RandomForestClassifier\n"
      ],
      "metadata": {
        "id": "NAUfWxZ4X8cq"
      },
      "id": "NAUfWxZ4X8cq",
      "execution_count": null,
      "outputs": []
    },
    {
      "cell_type": "code",
      "source": [
        "# Calculating the Accuracy Score, Recall Score, Percision Score, F1 Score\n",
        "from sklearn.metrics import accuracy_score, recall_score, precision_score, f1_score\n"
      ],
      "metadata": {
        "id": "cZQ-XCy4YHVC"
      },
      "id": "cZQ-XCy4YHVC",
      "execution_count": null,
      "outputs": []
    },
    {
      "cell_type": "code",
      "source": [
        "import string\n",
        "string.punctuation"
      ],
      "metadata": {
        "colab": {
          "base_uri": "https://localhost:8080/",
          "height": 35
        },
        "id": "87uLbST5D7ON",
        "outputId": "3a5d3d99-f96b-45af-c3a1-a5be14ce5ba5"
      },
      "id": "87uLbST5D7ON",
      "execution_count": null,
      "outputs": [
        {
          "output_type": "execute_result",
          "data": {
            "text/plain": [
              "'!\"#$%&\\'()*+,-./:;<=>?@[\\\\]^_`{|}~'"
            ],
            "application/vnd.google.colaboratory.intrinsic+json": {
              "type": "string"
            }
          },
          "metadata": {},
          "execution_count": 16
        }
      ]
    },
    {
      "cell_type": "code",
      "execution_count": null,
      "metadata": {
        "id": "a8bc5d07"
      },
      "outputs": [],
      "source": [
        "# expand notebook display options for dataframes\n",
        "pd.set_option('display.max_colwidth', 200)\n",
        "pd.options.display.max_columns = 999\n",
        "pd.options.display.max_rows = 300"
      ],
      "id": "a8bc5d07"
    },
    {
      "cell_type": "code",
      "execution_count": null,
      "metadata": {
        "id": "f1a6ca8d"
      },
      "outputs": [],
      "source": [
        "# Loading the Dataset\n",
        "\n",
        "dataset = pd.read_csv(\"/content/Womens Clothing E-Commerce Reviews.csv\")"
      ],
      "id": "f1a6ca8d"
    },
    {
      "cell_type": "code",
      "execution_count": null,
      "metadata": {
        "id": "ade0ffdc",
        "colab": {
          "base_uri": "https://localhost:8080/",
          "height": 806
        },
        "outputId": "20be77ad-e621-4423-ed3f-b092cb72906d"
      },
      "outputs": [
        {
          "output_type": "execute_result",
          "data": {
            "text/plain": [
              "   Unnamed: 0  Clothing ID  Age                    Title  \\\n",
              "0           0          767   33                      NaN   \n",
              "1           1         1080   34                      NaN   \n",
              "2           2         1077   60  Some major design flaws   \n",
              "3           3         1049   50         My favorite buy!   \n",
              "4           4          847   47         Flattering shirt   \n",
              "\n",
              "                                                                                                                                                                                               Review Text  \\\n",
              "0                                                                                                                                                    Absolutely wonderful - silky and sexy and comfortable   \n",
              "1  Love this dress!  it's sooo pretty.  i happened to find it in a store, and i'm glad i did bc i never would have ordered it online bc it's petite.  i bought a petite and am 5'8\".  i love the length...   \n",
              "2  I had such high hopes for this dress and really wanted it to work for me. i initially ordered the petite small (my usual size) but i found this to be outrageously small. so small in fact that i co...   \n",
              "3                                                                             I love, love, love this jumpsuit. it's fun, flirty, and fabulous! every time i wear it, i get nothing but great compliments!   \n",
              "4         This shirt is very flattering to all due to the adjustable front tie. it is the perfect length to wear with leggings and it is sleeveless so it pairs well with any cardigan. love this shirt!!!   \n",
              "\n",
              "   Rating  Recommended IND  Positive Feedback Count   Division Name  \\\n",
              "0       4                1                        0       Initmates   \n",
              "1       5                1                        4         General   \n",
              "2       3                0                        0         General   \n",
              "3       5                1                        0  General Petite   \n",
              "4       5                1                        6         General   \n",
              "\n",
              "  Department Name Class Name  \n",
              "0        Intimate  Intimates  \n",
              "1         Dresses    Dresses  \n",
              "2         Dresses    Dresses  \n",
              "3         Bottoms      Pants  \n",
              "4            Tops    Blouses  "
            ],
            "text/html": [
              "\n",
              "  <div id=\"df-60015c23-0b6f-4288-ab88-ca7a79c30476\">\n",
              "    <div class=\"colab-df-container\">\n",
              "      <div>\n",
              "<style scoped>\n",
              "    .dataframe tbody tr th:only-of-type {\n",
              "        vertical-align: middle;\n",
              "    }\n",
              "\n",
              "    .dataframe tbody tr th {\n",
              "        vertical-align: top;\n",
              "    }\n",
              "\n",
              "    .dataframe thead th {\n",
              "        text-align: right;\n",
              "    }\n",
              "</style>\n",
              "<table border=\"1\" class=\"dataframe\">\n",
              "  <thead>\n",
              "    <tr style=\"text-align: right;\">\n",
              "      <th></th>\n",
              "      <th>Unnamed: 0</th>\n",
              "      <th>Clothing ID</th>\n",
              "      <th>Age</th>\n",
              "      <th>Title</th>\n",
              "      <th>Review Text</th>\n",
              "      <th>Rating</th>\n",
              "      <th>Recommended IND</th>\n",
              "      <th>Positive Feedback Count</th>\n",
              "      <th>Division Name</th>\n",
              "      <th>Department Name</th>\n",
              "      <th>Class Name</th>\n",
              "    </tr>\n",
              "  </thead>\n",
              "  <tbody>\n",
              "    <tr>\n",
              "      <th>0</th>\n",
              "      <td>0</td>\n",
              "      <td>767</td>\n",
              "      <td>33</td>\n",
              "      <td>NaN</td>\n",
              "      <td>Absolutely wonderful - silky and sexy and comfortable</td>\n",
              "      <td>4</td>\n",
              "      <td>1</td>\n",
              "      <td>0</td>\n",
              "      <td>Initmates</td>\n",
              "      <td>Intimate</td>\n",
              "      <td>Intimates</td>\n",
              "    </tr>\n",
              "    <tr>\n",
              "      <th>1</th>\n",
              "      <td>1</td>\n",
              "      <td>1080</td>\n",
              "      <td>34</td>\n",
              "      <td>NaN</td>\n",
              "      <td>Love this dress!  it's sooo pretty.  i happened to find it in a store, and i'm glad i did bc i never would have ordered it online bc it's petite.  i bought a petite and am 5'8\".  i love the length...</td>\n",
              "      <td>5</td>\n",
              "      <td>1</td>\n",
              "      <td>4</td>\n",
              "      <td>General</td>\n",
              "      <td>Dresses</td>\n",
              "      <td>Dresses</td>\n",
              "    </tr>\n",
              "    <tr>\n",
              "      <th>2</th>\n",
              "      <td>2</td>\n",
              "      <td>1077</td>\n",
              "      <td>60</td>\n",
              "      <td>Some major design flaws</td>\n",
              "      <td>I had such high hopes for this dress and really wanted it to work for me. i initially ordered the petite small (my usual size) but i found this to be outrageously small. so small in fact that i co...</td>\n",
              "      <td>3</td>\n",
              "      <td>0</td>\n",
              "      <td>0</td>\n",
              "      <td>General</td>\n",
              "      <td>Dresses</td>\n",
              "      <td>Dresses</td>\n",
              "    </tr>\n",
              "    <tr>\n",
              "      <th>3</th>\n",
              "      <td>3</td>\n",
              "      <td>1049</td>\n",
              "      <td>50</td>\n",
              "      <td>My favorite buy!</td>\n",
              "      <td>I love, love, love this jumpsuit. it's fun, flirty, and fabulous! every time i wear it, i get nothing but great compliments!</td>\n",
              "      <td>5</td>\n",
              "      <td>1</td>\n",
              "      <td>0</td>\n",
              "      <td>General Petite</td>\n",
              "      <td>Bottoms</td>\n",
              "      <td>Pants</td>\n",
              "    </tr>\n",
              "    <tr>\n",
              "      <th>4</th>\n",
              "      <td>4</td>\n",
              "      <td>847</td>\n",
              "      <td>47</td>\n",
              "      <td>Flattering shirt</td>\n",
              "      <td>This shirt is very flattering to all due to the adjustable front tie. it is the perfect length to wear with leggings and it is sleeveless so it pairs well with any cardigan. love this shirt!!!</td>\n",
              "      <td>5</td>\n",
              "      <td>1</td>\n",
              "      <td>6</td>\n",
              "      <td>General</td>\n",
              "      <td>Tops</td>\n",
              "      <td>Blouses</td>\n",
              "    </tr>\n",
              "  </tbody>\n",
              "</table>\n",
              "</div>\n",
              "      <button class=\"colab-df-convert\" onclick=\"convertToInteractive('df-60015c23-0b6f-4288-ab88-ca7a79c30476')\"\n",
              "              title=\"Convert this dataframe to an interactive table.\"\n",
              "              style=\"display:none;\">\n",
              "        \n",
              "  <svg xmlns=\"http://www.w3.org/2000/svg\" height=\"24px\"viewBox=\"0 0 24 24\"\n",
              "       width=\"24px\">\n",
              "    <path d=\"M0 0h24v24H0V0z\" fill=\"none\"/>\n",
              "    <path d=\"M18.56 5.44l.94 2.06.94-2.06 2.06-.94-2.06-.94-.94-2.06-.94 2.06-2.06.94zm-11 1L8.5 8.5l.94-2.06 2.06-.94-2.06-.94L8.5 2.5l-.94 2.06-2.06.94zm10 10l.94 2.06.94-2.06 2.06-.94-2.06-.94-.94-2.06-.94 2.06-2.06.94z\"/><path d=\"M17.41 7.96l-1.37-1.37c-.4-.4-.92-.59-1.43-.59-.52 0-1.04.2-1.43.59L10.3 9.45l-7.72 7.72c-.78.78-.78 2.05 0 2.83L4 21.41c.39.39.9.59 1.41.59.51 0 1.02-.2 1.41-.59l7.78-7.78 2.81-2.81c.8-.78.8-2.07 0-2.86zM5.41 20L4 18.59l7.72-7.72 1.47 1.35L5.41 20z\"/>\n",
              "  </svg>\n",
              "      </button>\n",
              "      \n",
              "  <style>\n",
              "    .colab-df-container {\n",
              "      display:flex;\n",
              "      flex-wrap:wrap;\n",
              "      gap: 12px;\n",
              "    }\n",
              "\n",
              "    .colab-df-convert {\n",
              "      background-color: #E8F0FE;\n",
              "      border: none;\n",
              "      border-radius: 50%;\n",
              "      cursor: pointer;\n",
              "      display: none;\n",
              "      fill: #1967D2;\n",
              "      height: 32px;\n",
              "      padding: 0 0 0 0;\n",
              "      width: 32px;\n",
              "    }\n",
              "\n",
              "    .colab-df-convert:hover {\n",
              "      background-color: #E2EBFA;\n",
              "      box-shadow: 0px 1px 2px rgba(60, 64, 67, 0.3), 0px 1px 3px 1px rgba(60, 64, 67, 0.15);\n",
              "      fill: #174EA6;\n",
              "    }\n",
              "\n",
              "    [theme=dark] .colab-df-convert {\n",
              "      background-color: #3B4455;\n",
              "      fill: #D2E3FC;\n",
              "    }\n",
              "\n",
              "    [theme=dark] .colab-df-convert:hover {\n",
              "      background-color: #434B5C;\n",
              "      box-shadow: 0px 1px 3px 1px rgba(0, 0, 0, 0.15);\n",
              "      filter: drop-shadow(0px 1px 2px rgba(0, 0, 0, 0.3));\n",
              "      fill: #FFFFFF;\n",
              "    }\n",
              "  </style>\n",
              "\n",
              "      <script>\n",
              "        const buttonEl =\n",
              "          document.querySelector('#df-60015c23-0b6f-4288-ab88-ca7a79c30476 button.colab-df-convert');\n",
              "        buttonEl.style.display =\n",
              "          google.colab.kernel.accessAllowed ? 'block' : 'none';\n",
              "\n",
              "        async function convertToInteractive(key) {\n",
              "          const element = document.querySelector('#df-60015c23-0b6f-4288-ab88-ca7a79c30476');\n",
              "          const dataTable =\n",
              "            await google.colab.kernel.invokeFunction('convertToInteractive',\n",
              "                                                     [key], {});\n",
              "          if (!dataTable) return;\n",
              "\n",
              "          const docLinkHtml = 'Like what you see? Visit the ' +\n",
              "            '<a target=\"_blank\" href=https://colab.research.google.com/notebooks/data_table.ipynb>data table notebook</a>'\n",
              "            + ' to learn more about interactive tables.';\n",
              "          element.innerHTML = '';\n",
              "          dataTable['output_type'] = 'display_data';\n",
              "          await google.colab.output.renderOutput(dataTable, element);\n",
              "          const docLink = document.createElement('div');\n",
              "          docLink.innerHTML = docLinkHtml;\n",
              "          element.appendChild(docLink);\n",
              "        }\n",
              "      </script>\n",
              "    </div>\n",
              "  </div>\n",
              "  "
            ]
          },
          "metadata": {},
          "execution_count": 19
        }
      ],
      "source": [
        "# Printing the First Five Rows of the Dataset\n",
        "\n",
        "dataset.head()"
      ],
      "id": "ade0ffdc"
    },
    {
      "cell_type": "code",
      "source": [
        "# Printing all the Missing Values in the Dataset\n",
        "dataset.isnull().sum()"
      ],
      "metadata": {
        "id": "siJlgfnwR8sy",
        "colab": {
          "base_uri": "https://localhost:8080/"
        },
        "outputId": "b01766c9-b869-4913-a66e-b15fc5f47239"
      },
      "id": "siJlgfnwR8sy",
      "execution_count": null,
      "outputs": [
        {
          "output_type": "execute_result",
          "data": {
            "text/plain": [
              "Unnamed: 0                    0\n",
              "Clothing ID                   0\n",
              "Age                           0\n",
              "Title                      3810\n",
              "Review Text                 845\n",
              "Rating                        0\n",
              "Recommended IND               0\n",
              "Positive Feedback Count       0\n",
              "Division Name                14\n",
              "Department Name              14\n",
              "Class Name                   14\n",
              "dtype: int64"
            ]
          },
          "metadata": {},
          "execution_count": 20
        }
      ]
    },
    {
      "cell_type": "code",
      "source": [
        "# Visualizing the Missing Values using the Seaborn HeatMap\n",
        "plt.figure(figsize=(10,6))\n",
        "sns.heatmap(dataset.isna().transpose(),\n",
        "            cmap=\"YlGnBu\",\n",
        "            cbar_kws={'label': 'Missing Data'})\n",
        "plt.savefig(\"visualizing_missing_data_with_heatmap_Seaborn_Python.png\", dpi=100)"
      ],
      "metadata": {
        "id": "y_SoFMXCSEU6",
        "colab": {
          "base_uri": "https://localhost:8080/",
          "height": 400
        },
        "outputId": "8315bba7-3e08-4ae3-a902-cad38c2c9bc6"
      },
      "id": "y_SoFMXCSEU6",
      "execution_count": null,
      "outputs": [
        {
          "output_type": "display_data",
          "data": {
            "text/plain": [
              "<Figure size 720x432 with 2 Axes>"
            ],
            "image/png": "[encoded data removed]"
          },
          "metadata": {
            "needs_background": "light"
          }
        }
      ]
    },
    {
      "cell_type": "code",
      "source": [
        "# Statistical Analysis of the Data\n",
        "dataset.describe()"
      ],
      "metadata": {
        "id": "Lh2McL-ASUE5",
        "colab": {
          "base_uri": "https://localhost:8080/",
          "height": 300
        },
        "outputId": "1ade8b47-c447-4da8-bb5f-bf1c479e5899"
      },
      "id": "Lh2McL-ASUE5",
      "execution_count": null,
      "outputs": [
        {
          "output_type": "execute_result",
          "data": {
            "text/plain": [
              "         Unnamed: 0   Clothing ID           Age        Rating  \\\n",
              "count  23486.000000  23486.000000  23486.000000  23486.000000   \n",
              "mean   11742.500000    918.118709     43.198544      4.196032   \n",
              "std     6779.968547    203.298980     12.279544      1.110031   \n",
              "min        0.000000      0.000000     18.000000      1.000000   \n",
              "25%     5871.250000    861.000000     34.000000      4.000000   \n",
              "50%    11742.500000    936.000000     41.000000      5.000000   \n",
              "75%    17613.750000   1078.000000     52.000000      5.000000   \n",
              "max    23485.000000   1205.000000     99.000000      5.000000   \n",
              "\n",
              "       Recommended IND  Positive Feedback Count  \n",
              "count     23486.000000             23486.000000  \n",
              "mean          0.822362                 2.535936  \n",
              "std           0.382216                 5.702202  \n",
              "min           0.000000                 0.000000  \n",
              "25%           1.000000                 0.000000  \n",
              "50%           1.000000                 1.000000  \n",
              "75%           1.000000                 3.000000  \n",
              "max           1.000000               122.000000  "
            ],
            "text/html": [
              "\n",
              "  <div id=\"df-0c20293e-53b4-4bf0-88c2-f80e23d77701\">\n",
              "    <div class=\"colab-df-container\">\n",
              "      <div>\n",
              "<style scoped>\n",
              "    .dataframe tbody tr th:only-of-type {\n",
              "        vertical-align: middle;\n",
              "    }\n",
              "\n",
              "    .dataframe tbody tr th {\n",
              "        vertical-align: top;\n",
              "    }\n",
              "\n",
              "    .dataframe thead th {\n",
              "        text-align: right;\n",
              "    }\n",
              "</style>\n",
              "<table border=\"1\" class=\"dataframe\">\n",
              "  <thead>\n",
              "    <tr style=\"text-align: right;\">\n",
              "      <th></th>\n",
              "      <th>Unnamed: 0</th>\n",
              "      <th>Clothing ID</th>\n",
              "      <th>Age</th>\n",
              "      <th>Rating</th>\n",
              "      <th>Recommended IND</th>\n",
              "      <th>Positive Feedback Count</th>\n",
              "    </tr>\n",
              "  </thead>\n",
              "  <tbody>\n",
              "    <tr>\n",
              "      <th>count</th>\n",
              "      <td>23486.000000</td>\n",
              "      <td>23486.000000</td>\n",
              "      <td>23486.000000</td>\n",
              "      <td>23486.000000</td>\n",
              "      <td>23486.000000</td>\n",
              "      <td>23486.000000</td>\n",
              "    </tr>\n",
              "    <tr>\n",
              "      <th>mean</th>\n",
              "      <td>11742.500000</td>\n",
              "      <td>918.118709</td>\n",
              "      <td>43.198544</td>\n",
              "      <td>4.196032</td>\n",
              "      <td>0.822362</td>\n",
              "      <td>2.535936</td>\n",
              "    </tr>\n",
              "    <tr>\n",
              "      <th>std</th>\n",
              "      <td>6779.968547</td>\n",
              "      <td>203.298980</td>\n",
              "      <td>12.279544</td>\n",
              "      <td>1.110031</td>\n",
              "      <td>0.382216</td>\n",
              "      <td>5.702202</td>\n",
              "    </tr>\n",
              "    <tr>\n",
              "      <th>min</th>\n",
              "      <td>0.000000</td>\n",
              "      <td>0.000000</td>\n",
              "      <td>18.000000</td>\n",
              "      <td>1.000000</td>\n",
              "      <td>0.000000</td>\n",
              "      <td>0.000000</td>\n",
              "    </tr>\n",
              "    <tr>\n",
              "      <th>25%</th>\n",
              "      <td>5871.250000</td>\n",
              "      <td>861.000000</td>\n",
              "      <td>34.000000</td>\n",
              "      <td>4.000000</td>\n",
              "      <td>1.000000</td>\n",
              "      <td>0.000000</td>\n",
              "    </tr>\n",
              "    <tr>\n",
              "      <th>50%</th>\n",
              "      <td>11742.500000</td>\n",
              "      <td>936.000000</td>\n",
              "      <td>41.000000</td>\n",
              "      <td>5.000000</td>\n",
              "      <td>1.000000</td>\n",
              "      <td>1.000000</td>\n",
              "    </tr>\n",
              "    <tr>\n",
              "      <th>75%</th>\n",
              "      <td>17613.750000</td>\n",
              "      <td>1078.000000</td>\n",
              "      <td>52.000000</td>\n",
              "      <td>5.000000</td>\n",
              "      <td>1.000000</td>\n",
              "      <td>3.000000</td>\n",
              "    </tr>\n",
              "    <tr>\n",
              "      <th>max</th>\n",
              "      <td>23485.000000</td>\n",
              "      <td>1205.000000</td>\n",
              "      <td>99.000000</td>\n",
              "      <td>5.000000</td>\n",
              "      <td>1.000000</td>\n",
              "      <td>122.000000</td>\n",
              "    </tr>\n",
              "  </tbody>\n",
              "</table>\n",
              "</div>\n",
              "      <button class=\"colab-df-convert\" onclick=\"convertToInteractive('df-0c20293e-53b4-4bf0-88c2-f80e23d77701')\"\n",
              "              title=\"Convert this dataframe to an interactive table.\"\n",
              "              style=\"display:none;\">\n",
              "        \n",
              "  <svg xmlns=\"http://www.w3.org/2000/svg\" height=\"24px\"viewBox=\"0 0 24 24\"\n",
              "       width=\"24px\">\n",
              "    <path d=\"M0 0h24v24H0V0z\" fill=\"none\"/>\n",
              "    <path d=\"M18.56 5.44l.94 2.06.94-2.06 2.06-.94-2.06-.94-.94-2.06-.94 2.06-2.06.94zm-11 1L8.5 8.5l.94-2.06 2.06-.94-2.06-.94L8.5 2.5l-.94 2.06-2.06.94zm10 10l.94 2.06.94-2.06 2.06-.94-2.06-.94-.94-2.06-.94 2.06-2.06.94z\"/><path d=\"M17.41 7.96l-1.37-1.37c-.4-.4-.92-.59-1.43-.59-.52 0-1.04.2-1.43.59L10.3 9.45l-7.72 7.72c-.78.78-.78 2.05 0 2.83L4 21.41c.39.39.9.59 1.41.59.51 0 1.02-.2 1.41-.59l7.78-7.78 2.81-2.81c.8-.78.8-2.07 0-2.86zM5.41 20L4 18.59l7.72-7.72 1.47 1.35L5.41 20z\"/>\n",
              "  </svg>\n",
              "      </button>\n",
              "      \n",
              "  <style>\n",
              "    .colab-df-container {\n",
              "      display:flex;\n",
              "      flex-wrap:wrap;\n",
              "      gap: 12px;\n",
              "    }\n",
              "\n",
              "    .colab-df-convert {\n",
              "      background-color: #E8F0FE;\n",
              "      border: none;\n",
              "      border-radius: 50%;\n",
              "      cursor: pointer;\n",
              "      display: none;\n",
              "      fill: #1967D2;\n",
              "      height: 32px;\n",
              "      padding: 0 0 0 0;\n",
              "      width: 32px;\n",
              "    }\n",
              "\n",
              "    .colab-df-convert:hover {\n",
              "      background-color: #E2EBFA;\n",
              "      box-shadow: 0px 1px 2px rgba(60, 64, 67, 0.3), 0px 1px 3px 1px rgba(60, 64, 67, 0.15);\n",
              "      fill: #174EA6;\n",
              "    }\n",
              "\n",
              "    [theme=dark] .colab-df-convert {\n",
              "      background-color: #3B4455;\n",
              "      fill: #D2E3FC;\n",
              "    }\n",
              "\n",
              "    [theme=dark] .colab-df-convert:hover {\n",
              "      background-color: #434B5C;\n",
              "      box-shadow: 0px 1px 3px 1px rgba(0, 0, 0, 0.15);\n",
              "      filter: drop-shadow(0px 1px 2px rgba(0, 0, 0, 0.3));\n",
              "      fill: #FFFFFF;\n",
              "    }\n",
              "  </style>\n",
              "\n",
              "      <script>\n",
              "        const buttonEl =\n",
              "          document.querySelector('#df-0c20293e-53b4-4bf0-88c2-f80e23d77701 button.colab-df-convert');\n",
              "        buttonEl.style.display =\n",
              "          google.colab.kernel.accessAllowed ? 'block' : 'none';\n",
              "\n",
              "        async function convertToInteractive(key) {\n",
              "          const element = document.querySelector('#df-0c20293e-53b4-4bf0-88c2-f80e23d77701');\n",
              "          const dataTable =\n",
              "            await google.colab.kernel.invokeFunction('convertToInteractive',\n",
              "                                                     [key], {});\n",
              "          if (!dataTable) return;\n",
              "\n",
              "          const docLinkHtml = 'Like what you see? Visit the ' +\n",
              "            '<a target=\"_blank\" href=https://colab.research.google.com/notebooks/data_table.ipynb>data table notebook</a>'\n",
              "            + ' to learn more about interactive tables.';\n",
              "          element.innerHTML = '';\n",
              "          dataTable['output_type'] = 'display_data';\n",
              "          await google.colab.output.renderOutput(dataTable, element);\n",
              "          const docLink = document.createElement('div');\n",
              "          docLink.innerHTML = docLinkHtml;\n",
              "          element.appendChild(docLink);\n",
              "        }\n",
              "      </script>\n",
              "    </div>\n",
              "  </div>\n",
              "  "
            ]
          },
          "metadata": {},
          "execution_count": 22
        }
      ]
    },
    {
      "cell_type": "code",
      "execution_count": null,
      "metadata": {
        "id": "9dd82b5a",
        "colab": {
          "base_uri": "https://localhost:8080/"
        },
        "outputId": "23741c0e-85d9-4e1b-f73a-9189c703017a"
      },
      "outputs": [
        {
          "output_type": "execute_result",
          "data": {
            "text/plain": [
              "Index(['Unnamed: 0', 'Clothing ID', 'Age', 'Title', 'Review Text', 'Rating',\n",
              "       'Recommended IND', 'Positive Feedback Count', 'Division Name',\n",
              "       'Department Name', 'Class Name'],\n",
              "      dtype='object')"
            ]
          },
          "metadata": {},
          "execution_count": 23
        }
      ],
      "source": [
        "# Checking the column names that we have in the Dataset\n",
        "\n",
        "dataset.columns"
      ],
      "id": "9dd82b5a"
    },
    {
      "cell_type": "code",
      "execution_count": null,
      "metadata": {
        "id": "50cbdc64"
      },
      "outputs": [],
      "source": [
        "# It basically consider all the non null  rows  in the Review Text Column where the Rating is 5\n",
        "df_best_reviews = dataset.loc[(~dataset['Review Text'].isna()) & (dataset['Rating']==5)]\n"
      ],
      "id": "50cbdc64"
    },
    {
      "cell_type": "code",
      "source": [
        "# It basically consider all the non null  rows  in the Review Text Column where the Rating is 4\n",
        "df_reviews_four = dataset.loc[(~dataset['Review Text'].isna()) & (dataset['Rating']==4)]\n"
      ],
      "metadata": {
        "id": "wA-FU_8rR1I7"
      },
      "id": "wA-FU_8rR1I7",
      "execution_count": null,
      "outputs": []
    },
    {
      "cell_type": "code",
      "source": [
        "# It basically consider all the non null  rows  in the Review Text Column where the Rating is 1\n",
        "\n",
        "df_worst_reviews = dataset.loc[(~dataset['Review Text'].isna()) & (dataset['Rating']==1)]"
      ],
      "metadata": {
        "id": "OoPAJf86NHM8"
      },
      "id": "OoPAJf86NHM8",
      "execution_count": null,
      "outputs": []
    },
    {
      "cell_type": "code",
      "execution_count": null,
      "metadata": {
        "id": "1d521508",
        "colab": {
          "base_uri": "https://localhost:8080/",
          "height": 1000
        },
        "outputId": "8e770a86-5cc5-4992-ca81-cc73e89b41b1"
      },
      "outputs": [
        {
          "output_type": "execute_result",
          "data": {
            "text/plain": [
              "       Unnamed: 0  Clothing ID  Age                            Title  \\\n",
              "1               1         1080   34                              NaN   \n",
              "3               3         1049   50                 My favorite buy!   \n",
              "4               4          847   47                 Flattering shirt   \n",
              "6               6          858   39             Cagrcoal shimmer fun   \n",
              "8               8         1077   24                       Flattering   \n",
              "...           ...          ...  ...                              ...   \n",
              "23473       23473         1104   29                    Perfect dress   \n",
              "23474       23474         1104   32           Much better in person!   \n",
              "23479       23479         1005   42                What a fun piece!   \n",
              "23481       23481         1104   34   Great dress for many occasions   \n",
              "23485       23485         1104   52  Please make more like this one!   \n",
              "\n",
              "                                                                                                                                                                                                   Review Text  \\\n",
              "1      Love this dress!  it's sooo pretty.  i happened to find it in a store, and i'm glad i did bc i never would have ordered it online bc it's petite.  i bought a petite and am 5'8\".  i love the length...   \n",
              "3                                                                                 I love, love, love this jumpsuit. it's fun, flirty, and fabulous! every time i wear it, i get nothing but great compliments!   \n",
              "4             This shirt is very flattering to all due to the adjustable front tie. it is the perfect length to wear with leggings and it is sleeveless so it pairs well with any cardigan. love this shirt!!!   \n",
              "6      I aded this in my basket at hte last mintue to see what it would look like in person. (store pick up). i went with teh darkler color only because i am so pale :-) hte color is really gorgeous, and...   \n",
              "8                                       I love this dress. i usually get an xs but it runs a little snug in bust so i ordered up a size. very flattering and feminine with the usual retailer flair for style.   \n",
              "...                                                                                                                                                                                                        ...   \n",
              "23473  Great quality and extremely flattering. bonus that it is on sale. i felt like this dress was a godsend. i am five months pregnant and needed a dress that made me feel comfortable but not frumpy. i...   \n",
              "23474  Yes, this is a great dress! i wasn't sure about it online because of the color combination. i think i would have preferred the gray color but it was sold out. it received very good reviews online ...   \n",
              "23479  So i wasn't sure about ordering this skirt because i couldn't see it in person first but i'm so glad i did. the skirt and design is well made and doesn't look or feel cheap. the color isn't blarin...   \n",
              "23481                                                                      I was very happy to snag this dress at such a great price! it's very easy to slip on and has a very flattering cut and color combo.   \n",
              "23485                                                                                           This dress in a lovely platinum is feminine and fits perfectly, easy to wear and comfy, too! highly recommend!   \n",
              "\n",
              "       Rating  Recommended IND  Positive Feedback Count   Division Name  \\\n",
              "1           5                1                        4         General   \n",
              "3           5                1                        0  General Petite   \n",
              "4           5                1                        6         General   \n",
              "6           5                1                        1  General Petite   \n",
              "8           5                1                        0         General   \n",
              "...       ...              ...                      ...             ...   \n",
              "23473       5                1                        1  General Petite   \n",
              "23474       5                1                        0  General Petite   \n",
              "23479       5                1                        0  General Petite   \n",
              "23481       5                1                        0  General Petite   \n",
              "23485       5                1                       22  General Petite   \n",
              "\n",
              "      Department Name Class Name  \n",
              "1             Dresses    Dresses  \n",
              "3             Bottoms      Pants  \n",
              "4                Tops    Blouses  \n",
              "6                Tops      Knits  \n",
              "8             Dresses    Dresses  \n",
              "...               ...        ...  \n",
              "23473         Dresses    Dresses  \n",
              "23474         Dresses    Dresses  \n",
              "23479         Bottoms     Skirts  \n",
              "23481         Dresses    Dresses  \n",
              "23485         Dresses    Dresses  \n",
              "\n",
              "[12540 rows x 11 columns]"
            ],
            "text/html": [
              "\n",
              "  <div id=\"df-8958329c-e428-4e97-81ef-34c931ed7d14\">\n",
              "    <div class=\"colab-df-container\">\n",
              "      <div>\n",
              "<style scoped>\n",
              "    .dataframe tbody tr th:only-of-type {\n",
              "        vertical-align: middle;\n",
              "    }\n",
              "\n",
              "    .dataframe tbody tr th {\n",
              "        vertical-align: top;\n",
              "    }\n",
              "\n",
              "    .dataframe thead th {\n",
              "        text-align: right;\n",
              "    }\n",
              "</style>\n",
              "<table border=\"1\" class=\"dataframe\">\n",
              "  <thead>\n",
              "    <tr style=\"text-align: right;\">\n",
              "      <th></th>\n",
              "      <th>Unnamed: 0</th>\n",
              "      <th>Clothing ID</th>\n",
              "      <th>Age</th>\n",
              "      <th>Title</th>\n",
              "      <th>Review Text</th>\n",
              "      <th>Rating</th>\n",
              "      <th>Recommended IND</th>\n",
              "      <th>Positive Feedback Count</th>\n",
              "      <th>Division Name</th>\n",
              "      <th>Department Name</th>\n",
              "      <th>Class Name</th>\n",
              "    </tr>\n",
              "  </thead>\n",
              "  <tbody>\n",
              "    <tr>\n",
              "      <th>1</th>\n",
              "      <td>1</td>\n",
              "      <td>1080</td>\n",
              "      <td>34</td>\n",
              "      <td>NaN</td>\n",
              "      <td>Love this dress!  it's sooo pretty.  i happened to find it in a store, and i'm glad i did bc i never would have ordered it online bc it's petite.  i bought a petite and am 5'8\".  i love the length...</td>\n",
              "      <td>5</td>\n",
              "      <td>1</td>\n",
              "      <td>4</td>\n",
              "      <td>General</td>\n",
              "      <td>Dresses</td>\n",
              "      <td>Dresses</td>\n",
              "    </tr>\n",
              "    <tr>\n",
              "      <th>3</th>\n",
              "      <td>3</td>\n",
              "      <td>1049</td>\n",
              "      <td>50</td>\n",
              "      <td>My favorite buy!</td>\n",
              "      <td>I love, love, love this jumpsuit. it's fun, flirty, and fabulous! every time i wear it, i get nothing but great compliments!</td>\n",
              "      <td>5</td>\n",
              "      <td>1</td>\n",
              "      <td>0</td>\n",
              "      <td>General Petite</td>\n",
              "      <td>Bottoms</td>\n",
              "      <td>Pants</td>\n",
              "    </tr>\n",
              "    <tr>\n",
              "      <th>4</th>\n",
              "      <td>4</td>\n",
              "      <td>847</td>\n",
              "      <td>47</td>\n",
              "      <td>Flattering shirt</td>\n",
              "      <td>This shirt is very flattering to all due to the adjustable front tie. it is the perfect length to wear with leggings and it is sleeveless so it pairs well with any cardigan. love this shirt!!!</td>\n",
              "      <td>5</td>\n",
              "      <td>1</td>\n",
              "      <td>6</td>\n",
              "      <td>General</td>\n",
              "      <td>Tops</td>\n",
              "      <td>Blouses</td>\n",
              "    </tr>\n",
              "    <tr>\n",
              "      <th>6</th>\n",
              "      <td>6</td>\n",
              "      <td>858</td>\n",
              "      <td>39</td>\n",
              "      <td>Cagrcoal shimmer fun</td>\n",
              "      <td>I aded this in my basket at hte last mintue to see what it would look like in person. (store pick up). i went with teh darkler color only because i am so pale :-) hte color is really gorgeous, and...</td>\n",
              "      <td>5</td>\n",
              "      <td>1</td>\n",
              "      <td>1</td>\n",
              "      <td>General Petite</td>\n",
              "      <td>Tops</td>\n",
              "      <td>Knits</td>\n",
              "    </tr>\n",
              "    <tr>\n",
              "      <th>8</th>\n",
              "      <td>8</td>\n",
              "      <td>1077</td>\n",
              "      <td>24</td>\n",
              "      <td>Flattering</td>\n",
              "      <td>I love this dress. i usually get an xs but it runs a little snug in bust so i ordered up a size. very flattering and feminine with the usual retailer flair for style.</td>\n",
              "      <td>5</td>\n",
              "      <td>1</td>\n",
              "      <td>0</td>\n",
              "      <td>General</td>\n",
              "      <td>Dresses</td>\n",
              "      <td>Dresses</td>\n",
              "    </tr>\n",
              "    <tr>\n",
              "      <th>...</th>\n",
              "      <td>...</td>\n",
              "      <td>...</td>\n",
              "      <td>...</td>\n",
              "      <td>...</td>\n",
              "      <td>...</td>\n",
              "      <td>...</td>\n",
              "      <td>...</td>\n",
              "      <td>...</td>\n",
              "      <td>...</td>\n",
              "      <td>...</td>\n",
              "      <td>...</td>\n",
              "    </tr>\n",
              "    <tr>\n",
              "      <th>23473</th>\n",
              "      <td>23473</td>\n",
              "      <td>1104</td>\n",
              "      <td>29</td>\n",
              "      <td>Perfect dress</td>\n",
              "      <td>Great quality and extremely flattering. bonus that it is on sale. i felt like this dress was a godsend. i am five months pregnant and needed a dress that made me feel comfortable but not frumpy. i...</td>\n",
              "      <td>5</td>\n",
              "      <td>1</td>\n",
              "      <td>1</td>\n",
              "      <td>General Petite</td>\n",
              "      <td>Dresses</td>\n",
              "      <td>Dresses</td>\n",
              "    </tr>\n",
              "    <tr>\n",
              "      <th>23474</th>\n",
              "      <td>23474</td>\n",
              "      <td>1104</td>\n",
              "      <td>32</td>\n",
              "      <td>Much better in person!</td>\n",
              "      <td>Yes, this is a great dress! i wasn't sure about it online because of the color combination. i think i would have preferred the gray color but it was sold out. it received very good reviews online ...</td>\n",
              "      <td>5</td>\n",
              "      <td>1</td>\n",
              "      <td>0</td>\n",
              "      <td>General Petite</td>\n",
              "      <td>Dresses</td>\n",
              "      <td>Dresses</td>\n",
              "    </tr>\n",
              "    <tr>\n",
              "      <th>23479</th>\n",
              "      <td>23479</td>\n",
              "      <td>1005</td>\n",
              "      <td>42</td>\n",
              "      <td>What a fun piece!</td>\n",
              "      <td>So i wasn't sure about ordering this skirt because i couldn't see it in person first but i'm so glad i did. the skirt and design is well made and doesn't look or feel cheap. the color isn't blarin...</td>\n",
              "      <td>5</td>\n",
              "      <td>1</td>\n",
              "      <td>0</td>\n",
              "      <td>General Petite</td>\n",
              "      <td>Bottoms</td>\n",
              "      <td>Skirts</td>\n",
              "    </tr>\n",
              "    <tr>\n",
              "      <th>23481</th>\n",
              "      <td>23481</td>\n",
              "      <td>1104</td>\n",
              "      <td>34</td>\n",
              "      <td>Great dress for many occasions</td>\n",
              "      <td>I was very happy to snag this dress at such a great price! it's very easy to slip on and has a very flattering cut and color combo.</td>\n",
              "      <td>5</td>\n",
              "      <td>1</td>\n",
              "      <td>0</td>\n",
              "      <td>General Petite</td>\n",
              "      <td>Dresses</td>\n",
              "      <td>Dresses</td>\n",
              "    </tr>\n",
              "    <tr>\n",
              "      <th>23485</th>\n",
              "      <td>23485</td>\n",
              "      <td>1104</td>\n",
              "      <td>52</td>\n",
              "      <td>Please make more like this one!</td>\n",
              "      <td>This dress in a lovely platinum is feminine and fits perfectly, easy to wear and comfy, too! highly recommend!</td>\n",
              "      <td>5</td>\n",
              "      <td>1</td>\n",
              "      <td>22</td>\n",
              "      <td>General Petite</td>\n",
              "      <td>Dresses</td>\n",
              "      <td>Dresses</td>\n",
              "    </tr>\n",
              "  </tbody>\n",
              "</table>\n",
              "<p>12540 rows × 11 columns</p>\n",
              "</div>\n",
              "      <button class=\"colab-df-convert\" onclick=\"convertToInteractive('df-8958329c-e428-4e97-81ef-34c931ed7d14')\"\n",
              "              title=\"Convert this dataframe to an interactive table.\"\n",
              "              style=\"display:none;\">\n",
              "        \n",
              "  <svg xmlns=\"http://www.w3.org/2000/svg\" height=\"24px\"viewBox=\"0 0 24 24\"\n",
              "       width=\"24px\">\n",
              "    <path d=\"M0 0h24v24H0V0z\" fill=\"none\"/>\n",
              "    <path d=\"M18.56 5.44l.94 2.06.94-2.06 2.06-.94-2.06-.94-.94-2.06-.94 2.06-2.06.94zm-11 1L8.5 8.5l.94-2.06 2.06-.94-2.06-.94L8.5 2.5l-.94 2.06-2.06.94zm10 10l.94 2.06.94-2.06 2.06-.94-2.06-.94-.94-2.06-.94 2.06-2.06.94z\"/><path d=\"M17.41 7.96l-1.37-1.37c-.4-.4-.92-.59-1.43-.59-.52 0-1.04.2-1.43.59L10.3 9.45l-7.72 7.72c-.78.78-.78 2.05 0 2.83L4 21.41c.39.39.9.59 1.41.59.51 0 1.02-.2 1.41-.59l7.78-7.78 2.81-2.81c.8-.78.8-2.07 0-2.86zM5.41 20L4 18.59l7.72-7.72 1.47 1.35L5.41 20z\"/>\n",
              "  </svg>\n",
              "      </button>\n",
              "      \n",
              "  <style>\n",
              "    .colab-df-container {\n",
              "      display:flex;\n",
              "      flex-wrap:wrap;\n",
              "      gap: 12px;\n",
              "    }\n",
              "\n",
              "    .colab-df-convert {\n",
              "      background-color: #E8F0FE;\n",
              "      border: none;\n",
              "      border-radius: 50%;\n",
              "      cursor: pointer;\n",
              "      display: none;\n",
              "      fill: #1967D2;\n",
              "      height: 32px;\n",
              "      padding: 0 0 0 0;\n",
              "      width: 32px;\n",
              "    }\n",
              "\n",
              "    .colab-df-convert:hover {\n",
              "      background-color: #E2EBFA;\n",
              "      box-shadow: 0px 1px 2px rgba(60, 64, 67, 0.3), 0px 1px 3px 1px rgba(60, 64, 67, 0.15);\n",
              "      fill: #174EA6;\n",
              "    }\n",
              "\n",
              "    [theme=dark] .colab-df-convert {\n",
              "      background-color: #3B4455;\n",
              "      fill: #D2E3FC;\n",
              "    }\n",
              "\n",
              "    [theme=dark] .colab-df-convert:hover {\n",
              "      background-color: #434B5C;\n",
              "      box-shadow: 0px 1px 3px 1px rgba(0, 0, 0, 0.15);\n",
              "      filter: drop-shadow(0px 1px 2px rgba(0, 0, 0, 0.3));\n",
              "      fill: #FFFFFF;\n",
              "    }\n",
              "  </style>\n",
              "\n",
              "      <script>\n",
              "        const buttonEl =\n",
              "          document.querySelector('#df-8958329c-e428-4e97-81ef-34c931ed7d14 button.colab-df-convert');\n",
              "        buttonEl.style.display =\n",
              "          google.colab.kernel.accessAllowed ? 'block' : 'none';\n",
              "\n",
              "        async function convertToInteractive(key) {\n",
              "          const element = document.querySelector('#df-8958329c-e428-4e97-81ef-34c931ed7d14');\n",
              "          const dataTable =\n",
              "            await google.colab.kernel.invokeFunction('convertToInteractive',\n",
              "                                                     [key], {});\n",
              "          if (!dataTable) return;\n",
              "\n",
              "          const docLinkHtml = 'Like what you see? Visit the ' +\n",
              "            '<a target=\"_blank\" href=https://colab.research.google.com/notebooks/data_table.ipynb>data table notebook</a>'\n",
              "            + ' to learn more about interactive tables.';\n",
              "          element.innerHTML = '';\n",
              "          dataTable['output_type'] = 'display_data';\n",
              "          await google.colab.output.renderOutput(dataTable, element);\n",
              "          const docLink = document.createElement('div');\n",
              "          docLink.innerHTML = docLinkHtml;\n",
              "          element.appendChild(docLink);\n",
              "        }\n",
              "      </script>\n",
              "    </div>\n",
              "  </div>\n",
              "  "
            ]
          },
          "metadata": {},
          "execution_count": 27
        }
      ],
      "source": [
        "# Printing the Best Reviews and are saved in the df_best_reviews\n",
        "\n",
        "df_best_reviews"
      ],
      "id": "1d521508"
    },
    {
      "cell_type": "code",
      "source": [
        "# Printing the Worst Reviews in the dataset\n",
        "\n",
        "df_worst_reviews"
      ],
      "metadata": {
        "id": "RxZHpimbNZaB",
        "colab": {
          "base_uri": "https://localhost:8080/",
          "height": 1000
        },
        "outputId": "7c0b804e-270e-484b-f08c-dc1f7880f68a"
      },
      "id": "RxZHpimbNZaB",
      "execution_count": null,
      "outputs": [
        {
          "output_type": "execute_result",
          "data": {
            "text/plain": [
              "       Unnamed: 0  Clothing ID  Age                      Title  \\\n",
              "61             61          368   36                 Itchy tags   \n",
              "85             85          866   58                        NaN   \n",
              "96             96          845   44                        NaN   \n",
              "97             97          861   44                       Huge   \n",
              "110           110          861   44               Poor quality   \n",
              "...           ...          ...  ...                        ...   \n",
              "23255       23255         1059   46  Looks great, poor quality   \n",
              "23274       23274          862   29      Cute but poor quality   \n",
              "23352       23352         1110   57        Big disappointment!   \n",
              "23406       23406         1082   68               Disappointed   \n",
              "23478       23478         1104   32               Unflattering   \n",
              "\n",
              "                                                                                                                                                                                                   Review Text  \\\n",
              "61     3 tags sewn in, 2 small (about 1'' long) and 1 huge (about 2'' x 3''). very itchy so i cut them out. then the thread left behind was plasticy and even more itchy! how can you make an intimates ite...   \n",
              "85     I was really hoping to like this, but it did not look the way it does on the model, at least not on me. the sharkbite hem is much more pronounced and looser. the one in the photo looks like it was...   \n",
              "96     I usually wear a medium and bought a small. it fit ok, but had no shape and was not flattering. i love baby doll dresses and tops, but this was a tent. my daughter saw me try it on and said \"that'...   \n",
              "97                                               I was very excited to order this top in red xs. so cute, but it was huge, shapeless and support thin! it had to go back. i should've looked at other reviews.   \n",
              "110                       This is so thin and poor quality. especially for the price. it felt like a thin pajama top. the buttons are terrible little shell buttons. this could not have been returned faster.   \n",
              "...                                                                                                                                                                                                        ...   \n",
              "23255  Pants are overpriced and very uncomfortable. to my utter dismay i wore them during a business trip for the first time and ended up with bruises caused by the side zipper. i have been a long time r...   \n",
              "23274  I'm 5'7\" 155lbs and ordered a large. it fit, but the arms were awkwardly short. the finish details on the end of each sleeve almost would have to be pushed back to the elbow for it to look right, ...   \n",
              "23352  I loved the print and fabric of this dress when i first saw it, but trying it on was a very different story! the photo seems to show a wider, more well-defined waist, with just a small amount of \"...   \n",
              "23406  I was very excited to find a fun and lightweight white dress for spring/summer. for the past two years i have found two of my favorite white dresses. the material that this dress is made out of di...   \n",
              "23478  I was surprised at the positive reviews for this product. its terrible! it cuts you in a weird place to make you look wide. the skirt is also not like the picture. its darker and heavier. the mate...   \n",
              "\n",
              "       Rating  Recommended IND  Positive Feedback Count   Division Name  \\\n",
              "61          1                0                        0       Initmates   \n",
              "85          1                0                        2  General Petite   \n",
              "96          1                0                        0  General Petite   \n",
              "97          1                0                        0  General Petite   \n",
              "110         1                0                       11  General Petite   \n",
              "...       ...              ...                      ...             ...   \n",
              "23255       1                0                        1         General   \n",
              "23274       1                0                        0         General   \n",
              "23352       1                0                       31  General Petite   \n",
              "23406       1                0                        0         General   \n",
              "23478       1                0                        0  General Petite   \n",
              "\n",
              "      Department Name Class Name  \n",
              "61           Intimate  Intimates  \n",
              "85               Tops      Knits  \n",
              "96               Tops    Blouses  \n",
              "97               Tops      Knits  \n",
              "110              Tops      Knits  \n",
              "...               ...        ...  \n",
              "23255         Bottoms      Pants  \n",
              "23274            Tops      Knits  \n",
              "23352         Dresses    Dresses  \n",
              "23406         Dresses    Dresses  \n",
              "23478         Dresses    Dresses  \n",
              "\n",
              "[821 rows x 11 columns]"
            ],
            "text/html": [
              "\n",
              "  <div id=\"df-a5b0a6de-341c-4b06-adfd-f3fd0a11b4dd\">\n",
              "    <div class=\"colab-df-container\">\n",
              "      <div>\n",
              "<style scoped>\n",
              "    .dataframe tbody tr th:only-of-type {\n",
              "        vertical-align: middle;\n",
              "    }\n",
              "\n",
              "    .dataframe tbody tr th {\n",
              "        vertical-align: top;\n",
              "    }\n",
              "\n",
              "    .dataframe thead th {\n",
              "        text-align: right;\n",
              "    }\n",
              "</style>\n",
              "<table border=\"1\" class=\"dataframe\">\n",
              "  <thead>\n",
              "    <tr style=\"text-align: right;\">\n",
              "      <th></th>\n",
              "      <th>Unnamed: 0</th>\n",
              "      <th>Clothing ID</th>\n",
              "      <th>Age</th>\n",
              "      <th>Title</th>\n",
              "      <th>Review Text</th>\n",
              "      <th>Rating</th>\n",
              "      <th>Recommended IND</th>\n",
              "      <th>Positive Feedback Count</th>\n",
              "      <th>Division Name</th>\n",
              "      <th>Department Name</th>\n",
              "      <th>Class Name</th>\n",
              "    </tr>\n",
              "  </thead>\n",
              "  <tbody>\n",
              "    <tr>\n",
              "      <th>61</th>\n",
              "      <td>61</td>\n",
              "      <td>368</td>\n",
              "      <td>36</td>\n",
              "      <td>Itchy tags</td>\n",
              "      <td>3 tags sewn in, 2 small (about 1'' long) and 1 huge (about 2'' x 3''). very itchy so i cut them out. then the thread left behind was plasticy and even more itchy! how can you make an intimates ite...</td>\n",
              "      <td>1</td>\n",
              "      <td>0</td>\n",
              "      <td>0</td>\n",
              "      <td>Initmates</td>\n",
              "      <td>Intimate</td>\n",
              "      <td>Intimates</td>\n",
              "    </tr>\n",
              "    <tr>\n",
              "      <th>85</th>\n",
              "      <td>85</td>\n",
              "      <td>866</td>\n",
              "      <td>58</td>\n",
              "      <td>NaN</td>\n",
              "      <td>I was really hoping to like this, but it did not look the way it does on the model, at least not on me. the sharkbite hem is much more pronounced and looser. the one in the photo looks like it was...</td>\n",
              "      <td>1</td>\n",
              "      <td>0</td>\n",
              "      <td>2</td>\n",
              "      <td>General Petite</td>\n",
              "      <td>Tops</td>\n",
              "      <td>Knits</td>\n",
              "    </tr>\n",
              "    <tr>\n",
              "      <th>96</th>\n",
              "      <td>96</td>\n",
              "      <td>845</td>\n",
              "      <td>44</td>\n",
              "      <td>NaN</td>\n",
              "      <td>I usually wear a medium and bought a small. it fit ok, but had no shape and was not flattering. i love baby doll dresses and tops, but this was a tent. my daughter saw me try it on and said \"that'...</td>\n",
              "      <td>1</td>\n",
              "      <td>0</td>\n",
              "      <td>0</td>\n",
              "      <td>General Petite</td>\n",
              "      <td>Tops</td>\n",
              "      <td>Blouses</td>\n",
              "    </tr>\n",
              "    <tr>\n",
              "      <th>97</th>\n",
              "      <td>97</td>\n",
              "      <td>861</td>\n",
              "      <td>44</td>\n",
              "      <td>Huge</td>\n",
              "      <td>I was very excited to order this top in red xs. so cute, but it was huge, shapeless and support thin! it had to go back. i should've looked at other reviews.</td>\n",
              "      <td>1</td>\n",
              "      <td>0</td>\n",
              "      <td>0</td>\n",
              "      <td>General Petite</td>\n",
              "      <td>Tops</td>\n",
              "      <td>Knits</td>\n",
              "    </tr>\n",
              "    <tr>\n",
              "      <th>110</th>\n",
              "      <td>110</td>\n",
              "      <td>861</td>\n",
              "      <td>44</td>\n",
              "      <td>Poor quality</td>\n",
              "      <td>This is so thin and poor quality. especially for the price. it felt like a thin pajama top. the buttons are terrible little shell buttons. this could not have been returned faster.</td>\n",
              "      <td>1</td>\n",
              "      <td>0</td>\n",
              "      <td>11</td>\n",
              "      <td>General Petite</td>\n",
              "      <td>Tops</td>\n",
              "      <td>Knits</td>\n",
              "    </tr>\n",
              "    <tr>\n",
              "      <th>...</th>\n",
              "      <td>...</td>\n",
              "      <td>...</td>\n",
              "      <td>...</td>\n",
              "      <td>...</td>\n",
              "      <td>...</td>\n",
              "      <td>...</td>\n",
              "      <td>...</td>\n",
              "      <td>...</td>\n",
              "      <td>...</td>\n",
              "      <td>...</td>\n",
              "      <td>...</td>\n",
              "    </tr>\n",
              "    <tr>\n",
              "      <th>23255</th>\n",
              "      <td>23255</td>\n",
              "      <td>1059</td>\n",
              "      <td>46</td>\n",
              "      <td>Looks great, poor quality</td>\n",
              "      <td>Pants are overpriced and very uncomfortable. to my utter dismay i wore them during a business trip for the first time and ended up with bruises caused by the side zipper. i have been a long time r...</td>\n",
              "      <td>1</td>\n",
              "      <td>0</td>\n",
              "      <td>1</td>\n",
              "      <td>General</td>\n",
              "      <td>Bottoms</td>\n",
              "      <td>Pants</td>\n",
              "    </tr>\n",
              "    <tr>\n",
              "      <th>23274</th>\n",
              "      <td>23274</td>\n",
              "      <td>862</td>\n",
              "      <td>29</td>\n",
              "      <td>Cute but poor quality</td>\n",
              "      <td>I'm 5'7\" 155lbs and ordered a large. it fit, but the arms were awkwardly short. the finish details on the end of each sleeve almost would have to be pushed back to the elbow for it to look right, ...</td>\n",
              "      <td>1</td>\n",
              "      <td>0</td>\n",
              "      <td>0</td>\n",
              "      <td>General</td>\n",
              "      <td>Tops</td>\n",
              "      <td>Knits</td>\n",
              "    </tr>\n",
              "    <tr>\n",
              "      <th>23352</th>\n",
              "      <td>23352</td>\n",
              "      <td>1110</td>\n",
              "      <td>57</td>\n",
              "      <td>Big disappointment!</td>\n",
              "      <td>I loved the print and fabric of this dress when i first saw it, but trying it on was a very different story! the photo seems to show a wider, more well-defined waist, with just a small amount of \"...</td>\n",
              "      <td>1</td>\n",
              "      <td>0</td>\n",
              "      <td>31</td>\n",
              "      <td>General Petite</td>\n",
              "      <td>Dresses</td>\n",
              "      <td>Dresses</td>\n",
              "    </tr>\n",
              "    <tr>\n",
              "      <th>23406</th>\n",
              "      <td>23406</td>\n",
              "      <td>1082</td>\n",
              "      <td>68</td>\n",
              "      <td>Disappointed</td>\n",
              "      <td>I was very excited to find a fun and lightweight white dress for spring/summer. for the past two years i have found two of my favorite white dresses. the material that this dress is made out of di...</td>\n",
              "      <td>1</td>\n",
              "      <td>0</td>\n",
              "      <td>0</td>\n",
              "      <td>General</td>\n",
              "      <td>Dresses</td>\n",
              "      <td>Dresses</td>\n",
              "    </tr>\n",
              "    <tr>\n",
              "      <th>23478</th>\n",
              "      <td>23478</td>\n",
              "      <td>1104</td>\n",
              "      <td>32</td>\n",
              "      <td>Unflattering</td>\n",
              "      <td>I was surprised at the positive reviews for this product. its terrible! it cuts you in a weird place to make you look wide. the skirt is also not like the picture. its darker and heavier. the mate...</td>\n",
              "      <td>1</td>\n",
              "      <td>0</td>\n",
              "      <td>0</td>\n",
              "      <td>General Petite</td>\n",
              "      <td>Dresses</td>\n",
              "      <td>Dresses</td>\n",
              "    </tr>\n",
              "  </tbody>\n",
              "</table>\n",
              "<p>821 rows × 11 columns</p>\n",
              "</div>\n",
              "      <button class=\"colab-df-convert\" onclick=\"convertToInteractive('df-a5b0a6de-341c-4b06-adfd-f3fd0a11b4dd')\"\n",
              "              title=\"Convert this dataframe to an interactive table.\"\n",
              "              style=\"display:none;\">\n",
              "        \n",
              "  <svg xmlns=\"http://www.w3.org/2000/svg\" height=\"24px\"viewBox=\"0 0 24 24\"\n",
              "       width=\"24px\">\n",
              "    <path d=\"M0 0h24v24H0V0z\" fill=\"none\"/>\n",
              "    <path d=\"M18.56 5.44l.94 2.06.94-2.06 2.06-.94-2.06-.94-.94-2.06-.94 2.06-2.06.94zm-11 1L8.5 8.5l.94-2.06 2.06-.94-2.06-.94L8.5 2.5l-.94 2.06-2.06.94zm10 10l.94 2.06.94-2.06 2.06-.94-2.06-.94-.94-2.06-.94 2.06-2.06.94z\"/><path d=\"M17.41 7.96l-1.37-1.37c-.4-.4-.92-.59-1.43-.59-.52 0-1.04.2-1.43.59L10.3 9.45l-7.72 7.72c-.78.78-.78 2.05 0 2.83L4 21.41c.39.39.9.59 1.41.59.51 0 1.02-.2 1.41-.59l7.78-7.78 2.81-2.81c.8-.78.8-2.07 0-2.86zM5.41 20L4 18.59l7.72-7.72 1.47 1.35L5.41 20z\"/>\n",
              "  </svg>\n",
              "      </button>\n",
              "      \n",
              "  <style>\n",
              "    .colab-df-container {\n",
              "      display:flex;\n",
              "      flex-wrap:wrap;\n",
              "      gap: 12px;\n",
              "    }\n",
              "\n",
              "    .colab-df-convert {\n",
              "      background-color: #E8F0FE;\n",
              "      border: none;\n",
              "      border-radius: 50%;\n",
              "      cursor: pointer;\n",
              "      display: none;\n",
              "      fill: #1967D2;\n",
              "      height: 32px;\n",
              "      padding: 0 0 0 0;\n",
              "      width: 32px;\n",
              "    }\n",
              "\n",
              "    .colab-df-convert:hover {\n",
              "      background-color: #E2EBFA;\n",
              "      box-shadow: 0px 1px 2px rgba(60, 64, 67, 0.3), 0px 1px 3px 1px rgba(60, 64, 67, 0.15);\n",
              "      fill: #174EA6;\n",
              "    }\n",
              "\n",
              "    [theme=dark] .colab-df-convert {\n",
              "      background-color: #3B4455;\n",
              "      fill: #D2E3FC;\n",
              "    }\n",
              "\n",
              "    [theme=dark] .colab-df-convert:hover {\n",
              "      background-color: #434B5C;\n",
              "      box-shadow: 0px 1px 3px 1px rgba(0, 0, 0, 0.15);\n",
              "      filter: drop-shadow(0px 1px 2px rgba(0, 0, 0, 0.3));\n",
              "      fill: #FFFFFF;\n",
              "    }\n",
              "  </style>\n",
              "\n",
              "      <script>\n",
              "        const buttonEl =\n",
              "          document.querySelector('#df-a5b0a6de-341c-4b06-adfd-f3fd0a11b4dd button.colab-df-convert');\n",
              "        buttonEl.style.display =\n",
              "          google.colab.kernel.accessAllowed ? 'block' : 'none';\n",
              "\n",
              "        async function convertToInteractive(key) {\n",
              "          const element = document.querySelector('#df-a5b0a6de-341c-4b06-adfd-f3fd0a11b4dd');\n",
              "          const dataTable =\n",
              "            await google.colab.kernel.invokeFunction('convertToInteractive',\n",
              "                                                     [key], {});\n",
              "          if (!dataTable) return;\n",
              "\n",
              "          const docLinkHtml = 'Like what you see? Visit the ' +\n",
              "            '<a target=\"_blank\" href=https://colab.research.google.com/notebooks/data_table.ipynb>data table notebook</a>'\n",
              "            + ' to learn more about interactive tables.';\n",
              "          element.innerHTML = '';\n",
              "          dataTable['output_type'] = 'display_data';\n",
              "          await google.colab.output.renderOutput(dataTable, element);\n",
              "          const docLink = document.createElement('div');\n",
              "          docLink.innerHTML = docLinkHtml;\n",
              "          element.appendChild(docLink);\n",
              "        }\n",
              "      </script>\n",
              "    </div>\n",
              "  </div>\n",
              "  "
            ]
          },
          "metadata": {},
          "execution_count": 28
        }
      ]
    },
    {
      "cell_type": "code",
      "execution_count": null,
      "metadata": {
        "id": "a23aec13"
      },
      "outputs": [],
      "source": [
        "def word_cloud(text):\n",
        "    # Now here i am creating an Word Cloud, As already explained above the word cloud is basically an visual representation of the text data, Words are usually the single words\n",
        "    # and the importance of each word is shown by the fontsize as well as the color\n",
        "    wordcloud = WordCloud(collocations=False, \n",
        "                          background_color=\"blue\",\n",
        "                          max_words=200).generate(text)\n",
        "    # Now here we are defining the figure size as (8, 10)    \n",
        "    plt.figure(figsize=[8,10])\n",
        "\n",
        "    # Creating the Word CLoud\n",
        "    plt.imshow(wordcloud, interpolation=\"bilinear\")\n",
        "\n",
        "    # Removing the Plot axes\n",
        "    plt.axis(\"off\")"
      ],
      "id": "a23aec13"
    },
    {
      "cell_type": "code",
      "execution_count": null,
      "metadata": {
        "id": "4d31298d",
        "colab": {
          "base_uri": "https://localhost:8080/",
          "height": 254
        },
        "outputId": "9c9e396d-2ce1-4573-f98f-edf47008286d"
      },
      "outputs": [
        {
          "output_type": "display_data",
          "data": {
            "text/plain": [
              "<Figure size 576x720 with 1 Axes>"
            ],
            "image/png": "[encoded data removed]"
          },
          "metadata": {
            "needs_background": "light"
          }
        }
      ],
      "source": [
        "# The join() method takes all items in an iterable and joins them into one string\n",
        "\n",
        "text_best_reviews = \" \".join(df_best_reviews['Review Text'])\n",
        "\n",
        "word_cloud(text_best_reviews)"
      ],
      "id": "4d31298d"
    },
    {
      "cell_type": "code",
      "execution_count": null,
      "metadata": {
        "id": "be4d64a1",
        "colab": {
          "base_uri": "https://localhost:8080/",
          "height": 254
        },
        "outputId": "2c94e6e8-1431-4744-bfe1-c541cfb57677"
      },
      "outputs": [
        {
          "output_type": "display_data",
          "data": {
            "text/plain": [
              "<Figure size 576x720 with 1 Axes>"
            ],
            "image/png": "[encoded data removed]"
          },
          "metadata": {
            "needs_background": "light"
          }
        }
      ],
      "source": [
        "text_worst_reviews = \" \".join(df_worst_reviews['Review Text'])\n",
        "\n",
        "word_cloud(text_worst_reviews)"
      ],
      "id": "be4d64a1"
    },
    {
      "cell_type": "markdown",
      "metadata": {
        "id": "60ee26f9"
      },
      "source": [
        "# Charts"
      ],
      "id": "60ee26f9"
    },
    {
      "cell_type": "code",
      "source": [
        "dataset[\"Positive Feedback Count\"].value_counts().sort_values().plot(kind = 'barh')"
      ],
      "metadata": {
        "id": "dGCp2pGtVXtJ",
        "colab": {
          "base_uri": "https://localhost:8080/",
          "height": 285
        },
        "outputId": "244f8c0a-1104-4664-b14d-96acb169284d"
      },
      "id": "dGCp2pGtVXtJ",
      "execution_count": null,
      "outputs": [
        {
          "output_type": "execute_result",
          "data": {
            "text/plain": [
              "<matplotlib.axes._subplots.AxesSubplot at 0x7fb602ffcd50>"
            ]
          },
          "metadata": {},
          "execution_count": 32
        },
        {
          "output_type": "display_data",
          "data": {
            "text/plain": [
              "<Figure size 432x288 with 1 Axes>"
            ],
            "image/png": "[encoded data removed]"
          },
          "metadata": {
            "needs_background": "light"
          }
        }
      ]
    },
    {
      "cell_type": "code",
      "source": [
        "print(\"Histogram of the Age Distribution\")\n",
        "plt.hist(dataset[\"Age\"])"
      ],
      "metadata": {
        "id": "JY4eUzA9QV3z",
        "colab": {
          "base_uri": "https://localhost:8080/",
          "height": 352
        },
        "outputId": "f53f9b0e-163e-477f-fffa-b8507ef81bb4"
      },
      "id": "JY4eUzA9QV3z",
      "execution_count": null,
      "outputs": [
        {
          "output_type": "stream",
          "name": "stdout",
          "text": [
            "Histogram of the Age Distribution\n"
          ]
        },
        {
          "output_type": "execute_result",
          "data": {
            "text/plain": [
              "(array([1646., 4421., 6575., 4516., 3229., 2215.,  691.,  112.,   68.,\n",
              "          13.]),\n",
              " array([18. , 26.1, 34.2, 42.3, 50.4, 58.5, 66.6, 74.7, 82.8, 90.9, 99. ]),\n",
              " <a list of 10 Patch objects>)"
            ]
          },
          "metadata": {},
          "execution_count": 33
        },
        {
          "output_type": "display_data",
          "data": {
            "text/plain": [
              "<Figure size 432x288 with 1 Axes>"
            ],
            "image/png": "[encoded data removed]"
          },
          "metadata": {
            "needs_background": "light"
          }
        }
      ]
    },
    {
      "cell_type": "code",
      "source": [
        "print(\"KDE Plot of the Age Distruibution\")\n",
        "sns.kdeplot(dataset[\"Age\"])"
      ],
      "metadata": {
        "id": "N-PsDEsPRbvB",
        "colab": {
          "base_uri": "https://localhost:8080/",
          "height": 314
        },
        "outputId": "e282be21-96e8-4ed2-eecd-a7e8b5a7cd12"
      },
      "id": "N-PsDEsPRbvB",
      "execution_count": null,
      "outputs": [
        {
          "output_type": "stream",
          "name": "stdout",
          "text": [
            "KDE Plot of the Age Distruibution\n"
          ]
        },
        {
          "output_type": "execute_result",
          "data": {
            "text/plain": [
              "<matplotlib.axes._subplots.AxesSubplot at 0x7fb60f274450>"
            ]
          },
          "metadata": {},
          "execution_count": 34
        },
        {
          "output_type": "display_data",
          "data": {
            "text/plain": [
              "<Figure size 432x288 with 1 Axes>"
            ],
            "image/png": "[encoded data removed]"
          },
          "metadata": {
            "needs_background": "light"
          }
        }
      ]
    },
    {
      "cell_type": "code",
      "execution_count": null,
      "metadata": {
        "id": "7b8b648d",
        "colab": {
          "base_uri": "https://localhost:8080/",
          "height": 295
        },
        "outputId": "18c041e7-5d0d-486d-e37b-3b1758555c30"
      },
      "outputs": [
        {
          "output_type": "display_data",
          "data": {
            "text/plain": [
              "<Figure size 504x288 with 1 Axes>"
            ],
            "image/png": "[encoded data removed]"
          },
          "metadata": {
            "needs_background": "light"
          }
        }
      ],
      "source": [
        "ax1 = dataset['Rating'].plot(kind='hist', \n",
        "                             color='blue', \n",
        "                             grid=True, \n",
        "                             bins=[1,1.5,2,2.5,3,3.5,4,4.5,5,5.5], \n",
        "                             title='Review Rating Distribution',\n",
        "                             figsize=(7,4))\n",
        "ax1.set_xlabel(\"Rating\")\n",
        "ax1.set_ylabel(\"Count\")\n",
        "ax1.set_xticks([1,2,3,4,5], minor=False)\n",
        "\n",
        "# set font size  \n",
        "plt.rcParams['font.size'] = '10'"
      ],
      "id": "7b8b648d"
    },
    {
      "cell_type": "code",
      "execution_count": null,
      "metadata": {
        "id": "5d26a009",
        "colab": {
          "base_uri": "https://localhost:8080/",
          "height": 313
        },
        "outputId": "42cbea4c-1b11-4357-97b3-f43a3b1c17d3"
      },
      "outputs": [
        {
          "output_type": "display_data",
          "data": {
            "text/plain": [
              "<Figure size 504x288 with 1 Axes>"
            ],
            "image/png": "[encoded data removed]"
          },
          "metadata": {
            "needs_background": "light"
          }
        }
      ],
      "source": [
        "# define a subset of not-recommended products\n",
        "df_not_recommended = dataset[dataset['Recommended IND']==0]\n",
        "\n",
        "ax2 = df_not_recommended['Department Name'].value_counts().plot(kind='bar', \n",
        "                                                                color='maroon',\n",
        "                                                                title='Top Categories (Non-Recommended)',\n",
        "                                                                figsize=(7,4))\n",
        "ax2.set_ylabel(\"Count\")\n",
        "\n",
        "# place labels above each bar\n",
        "ax2_labels = df_not_recommended['Department Name'].value_counts().to_list()\n",
        "rects = ax2.patches\n",
        "labels = [ax2_labels[i] for i in range(len(rects))]\n",
        "\n",
        "for rect, label in zip(rects, labels):\n",
        "    height = rect.get_height()\n",
        "    ax2.text(\n",
        "        rect.get_x() + rect.get_width() / 2, height + 5, label, ha=\"center\", va=\"bottom\"\n",
        "    )"
      ],
      "id": "5d26a009"
    },
    {
      "cell_type": "code",
      "execution_count": null,
      "metadata": {
        "id": "35112e30",
        "colab": {
          "base_uri": "https://localhost:8080/",
          "height": 295
        },
        "outputId": "3c8771ed-3f9e-44a5-f3f8-35afd92ff8db"
      },
      "outputs": [
        {
          "output_type": "display_data",
          "data": {
            "text/plain": [
              "<Figure size 504x288 with 1 Axes>"
            ],
            "image/png": "[encoded data removed]"
          },
          "metadata": {
            "needs_background": "light"
          }
        }
      ],
      "source": [
        "ax3 = dataset['Age'].plot(kind='hist', \n",
        "                          bins=40, \n",
        "                          title='Reviewers Age Distribution', \n",
        "                          color='orange', \n",
        "                          edgecolor='red',\n",
        "                          linewidth=1,\n",
        "                          grid=True,\n",
        "                          figsize=(7,4))\n",
        "ax3.set_xlabel(\"Age\")\n",
        "ax3.set_ylabel(\"Count\")\n",
        "plt.show()"
      ],
      "id": "35112e30"
    },
    {
      "cell_type": "code",
      "execution_count": null,
      "metadata": {
        "id": "e5325169",
        "colab": {
          "base_uri": "https://localhost:8080/",
          "height": 322
        },
        "outputId": "21bf0d70-69d9-43e5-d724-89f79c5ba3f3"
      },
      "outputs": [
        {
          "output_type": "display_data",
          "data": {
            "text/plain": [
              "<Figure size 432x288 with 1 Axes>"
            ],
            "image/png": "[encoded data removed]"
          },
          "metadata": {
            "needs_background": "light"
          }
        }
      ],
      "source": [
        "plt.bar(dataset['Department Name'].value_counts().index, \n",
        "        dataset['Department Name'].value_counts().values,\n",
        "        color='purple')\n",
        "plt.xticks(rotation=45)\n",
        "plt.title(\"Bar Chart by Division Name\")\n",
        "plt.xlabel(\"Division\")\n",
        "plt.ylabel(\"Count\")\n",
        "plt.show()"
      ],
      "id": "e5325169"
    },
    {
      "cell_type": "markdown",
      "metadata": {
        "id": "9eaeb502"
      },
      "source": [
        "# Created Balanced Dataset"
      ],
      "id": "9eaeb502"
    },
    {
      "cell_type": "markdown",
      "source": [
        "## **Now here we will only reatin those columns we require and we will remove all the other columns**"
      ],
      "metadata": {
        "id": "edtGqlRTWDt1"
      },
      "id": "edtGqlRTWDt1"
    },
    {
      "cell_type": "code",
      "execution_count": null,
      "metadata": {
        "id": "16b7506b"
      },
      "outputs": [],
      "source": [
        "# remove irrelevant columns\n",
        "dataset = dataset[['Review Text', 'Recommended IND']]\n",
        "\n",
        "# remove observations with missing reviews\n",
        "dataset = dataset[~dataset['Review Text'].isna()]"
      ],
      "id": "16b7506b"
    },
    {
      "cell_type": "code",
      "execution_count": null,
      "metadata": {
        "id": "0a1aacaa",
        "colab": {
          "base_uri": "https://localhost:8080/",
          "height": 607
        },
        "outputId": "e3e7d19a-3b2c-4252-cbc9-572495b805e5"
      },
      "outputs": [
        {
          "output_type": "execute_result",
          "data": {
            "text/plain": [
              "                                                                                                                                                                                                   Review Text  \\\n",
              "0                                                                                                                                                        Absolutely wonderful - silky and sexy and comfortable   \n",
              "1      Love this dress!  it's sooo pretty.  i happened to find it in a store, and i'm glad i did bc i never would have ordered it online bc it's petite.  i bought a petite and am 5'8\".  i love the length...   \n",
              "2      I had such high hopes for this dress and really wanted it to work for me. i initially ordered the petite small (my usual size) but i found this to be outrageously small. so small in fact that i co...   \n",
              "3                                                                                 I love, love, love this jumpsuit. it's fun, flirty, and fabulous! every time i wear it, i get nothing but great compliments!   \n",
              "4             This shirt is very flattering to all due to the adjustable front tie. it is the perfect length to wear with leggings and it is sleeveless so it pairs well with any cardigan. love this shirt!!!   \n",
              "...                                                                                                                                                                                                        ...   \n",
              "23481                                                                      I was very happy to snag this dress at such a great price! it's very easy to slip on and has a very flattering cut and color combo.   \n",
              "23482  It reminds me of maternity clothes. soft, stretchy, shiny material. cut is flattering and drapes nicely. i only found one button to close front... looked awkward. nice long sleeves.\\nnot for me bu...   \n",
              "23483  This fit well, but the top was very see through. this never would have worked for me. i'm glad i was able to try it on in the store and didn't order it online. with different fabric, it would have...   \n",
              "23484  I bought this dress for a wedding i have this summer, and it's so cute. unfortunately the fit isn't perfect. the medium fits my waist perfectly, but was way too long and too big in the bust and sh...   \n",
              "23485                                                                                           This dress in a lovely platinum is feminine and fits perfectly, easy to wear and comfy, too! highly recommend!   \n",
              "\n",
              "       Recommended IND  \n",
              "0                    1  \n",
              "1                    1  \n",
              "2                    0  \n",
              "3                    1  \n",
              "4                    1  \n",
              "...                ...  \n",
              "23481                1  \n",
              "23482                1  \n",
              "23483                0  \n",
              "23484                1  \n",
              "23485                1  \n",
              "\n",
              "[22641 rows x 2 columns]"
            ],
            "text/html": [
              "\n",
              "  <div id=\"df-c13518e1-a0f0-4217-87f5-92a02cf8d6a3\">\n",
              "    <div class=\"colab-df-container\">\n",
              "      <div>\n",
              "<style scoped>\n",
              "    .dataframe tbody tr th:only-of-type {\n",
              "        vertical-align: middle;\n",
              "    }\n",
              "\n",
              "    .dataframe tbody tr th {\n",
              "        vertical-align: top;\n",
              "    }\n",
              "\n",
              "    .dataframe thead th {\n",
              "        text-align: right;\n",
              "    }\n",
              "</style>\n",
              "<table border=\"1\" class=\"dataframe\">\n",
              "  <thead>\n",
              "    <tr style=\"text-align: right;\">\n",
              "      <th></th>\n",
              "      <th>Review Text</th>\n",
              "      <th>Recommended IND</th>\n",
              "    </tr>\n",
              "  </thead>\n",
              "  <tbody>\n",
              "    <tr>\n",
              "      <th>0</th>\n",
              "      <td>Absolutely wonderful - silky and sexy and comfortable</td>\n",
              "      <td>1</td>\n",
              "    </tr>\n",
              "    <tr>\n",
              "      <th>1</th>\n",
              "      <td>Love this dress!  it's sooo pretty.  i happened to find it in a store, and i'm glad i did bc i never would have ordered it online bc it's petite.  i bought a petite and am 5'8\".  i love the length...</td>\n",
              "      <td>1</td>\n",
              "    </tr>\n",
              "    <tr>\n",
              "      <th>2</th>\n",
              "      <td>I had such high hopes for this dress and really wanted it to work for me. i initially ordered the petite small (my usual size) but i found this to be outrageously small. so small in fact that i co...</td>\n",
              "      <td>0</td>\n",
              "    </tr>\n",
              "    <tr>\n",
              "      <th>3</th>\n",
              "      <td>I love, love, love this jumpsuit. it's fun, flirty, and fabulous! every time i wear it, i get nothing but great compliments!</td>\n",
              "      <td>1</td>\n",
              "    </tr>\n",
              "    <tr>\n",
              "      <th>4</th>\n",
              "      <td>This shirt is very flattering to all due to the adjustable front tie. it is the perfect length to wear with leggings and it is sleeveless so it pairs well with any cardigan. love this shirt!!!</td>\n",
              "      <td>1</td>\n",
              "    </tr>\n",
              "    <tr>\n",
              "      <th>...</th>\n",
              "      <td>...</td>\n",
              "      <td>...</td>\n",
              "    </tr>\n",
              "    <tr>\n",
              "      <th>23481</th>\n",
              "      <td>I was very happy to snag this dress at such a great price! it's very easy to slip on and has a very flattering cut and color combo.</td>\n",
              "      <td>1</td>\n",
              "    </tr>\n",
              "    <tr>\n",
              "      <th>23482</th>\n",
              "      <td>It reminds me of maternity clothes. soft, stretchy, shiny material. cut is flattering and drapes nicely. i only found one button to close front... looked awkward. nice long sleeves.\\nnot for me bu...</td>\n",
              "      <td>1</td>\n",
              "    </tr>\n",
              "    <tr>\n",
              "      <th>23483</th>\n",
              "      <td>This fit well, but the top was very see through. this never would have worked for me. i'm glad i was able to try it on in the store and didn't order it online. with different fabric, it would have...</td>\n",
              "      <td>0</td>\n",
              "    </tr>\n",
              "    <tr>\n",
              "      <th>23484</th>\n",
              "      <td>I bought this dress for a wedding i have this summer, and it's so cute. unfortunately the fit isn't perfect. the medium fits my waist perfectly, but was way too long and too big in the bust and sh...</td>\n",
              "      <td>1</td>\n",
              "    </tr>\n",
              "    <tr>\n",
              "      <th>23485</th>\n",
              "      <td>This dress in a lovely platinum is feminine and fits perfectly, easy to wear and comfy, too! highly recommend!</td>\n",
              "      <td>1</td>\n",
              "    </tr>\n",
              "  </tbody>\n",
              "</table>\n",
              "<p>22641 rows × 2 columns</p>\n",
              "</div>\n",
              "      <button class=\"colab-df-convert\" onclick=\"convertToInteractive('df-c13518e1-a0f0-4217-87f5-92a02cf8d6a3')\"\n",
              "              title=\"Convert this dataframe to an interactive table.\"\n",
              "              style=\"display:none;\">\n",
              "        \n",
              "  <svg xmlns=\"http://www.w3.org/2000/svg\" height=\"24px\"viewBox=\"0 0 24 24\"\n",
              "       width=\"24px\">\n",
              "    <path d=\"M0 0h24v24H0V0z\" fill=\"none\"/>\n",
              "    <path d=\"M18.56 5.44l.94 2.06.94-2.06 2.06-.94-2.06-.94-.94-2.06-.94 2.06-2.06.94zm-11 1L8.5 8.5l.94-2.06 2.06-.94-2.06-.94L8.5 2.5l-.94 2.06-2.06.94zm10 10l.94 2.06.94-2.06 2.06-.94-2.06-.94-.94-2.06-.94 2.06-2.06.94z\"/><path d=\"M17.41 7.96l-1.37-1.37c-.4-.4-.92-.59-1.43-.59-.52 0-1.04.2-1.43.59L10.3 9.45l-7.72 7.72c-.78.78-.78 2.05 0 2.83L4 21.41c.39.39.9.59 1.41.59.51 0 1.02-.2 1.41-.59l7.78-7.78 2.81-2.81c.8-.78.8-2.07 0-2.86zM5.41 20L4 18.59l7.72-7.72 1.47 1.35L5.41 20z\"/>\n",
              "  </svg>\n",
              "      </button>\n",
              "      \n",
              "  <style>\n",
              "    .colab-df-container {\n",
              "      display:flex;\n",
              "      flex-wrap:wrap;\n",
              "      gap: 12px;\n",
              "    }\n",
              "\n",
              "    .colab-df-convert {\n",
              "      background-color: #E8F0FE;\n",
              "      border: none;\n",
              "      border-radius: 50%;\n",
              "      cursor: pointer;\n",
              "      display: none;\n",
              "      fill: #1967D2;\n",
              "      height: 32px;\n",
              "      padding: 0 0 0 0;\n",
              "      width: 32px;\n",
              "    }\n",
              "\n",
              "    .colab-df-convert:hover {\n",
              "      background-color: #E2EBFA;\n",
              "      box-shadow: 0px 1px 2px rgba(60, 64, 67, 0.3), 0px 1px 3px 1px rgba(60, 64, 67, 0.15);\n",
              "      fill: #174EA6;\n",
              "    }\n",
              "\n",
              "    [theme=dark] .colab-df-convert {\n",
              "      background-color: #3B4455;\n",
              "      fill: #D2E3FC;\n",
              "    }\n",
              "\n",
              "    [theme=dark] .colab-df-convert:hover {\n",
              "      background-color: #434B5C;\n",
              "      box-shadow: 0px 1px 3px 1px rgba(0, 0, 0, 0.15);\n",
              "      filter: drop-shadow(0px 1px 2px rgba(0, 0, 0, 0.3));\n",
              "      fill: #FFFFFF;\n",
              "    }\n",
              "  </style>\n",
              "\n",
              "      <script>\n",
              "        const buttonEl =\n",
              "          document.querySelector('#df-c13518e1-a0f0-4217-87f5-92a02cf8d6a3 button.colab-df-convert');\n",
              "        buttonEl.style.display =\n",
              "          google.colab.kernel.accessAllowed ? 'block' : 'none';\n",
              "\n",
              "        async function convertToInteractive(key) {\n",
              "          const element = document.querySelector('#df-c13518e1-a0f0-4217-87f5-92a02cf8d6a3');\n",
              "          const dataTable =\n",
              "            await google.colab.kernel.invokeFunction('convertToInteractive',\n",
              "                                                     [key], {});\n",
              "          if (!dataTable) return;\n",
              "\n",
              "          const docLinkHtml = 'Like what you see? Visit the ' +\n",
              "            '<a target=\"_blank\" href=https://colab.research.google.com/notebooks/data_table.ipynb>data table notebook</a>'\n",
              "            + ' to learn more about interactive tables.';\n",
              "          element.innerHTML = '';\n",
              "          dataTable['output_type'] = 'display_data';\n",
              "          await google.colab.output.renderOutput(dataTable, element);\n",
              "          const docLink = document.createElement('div');\n",
              "          docLink.innerHTML = docLinkHtml;\n",
              "          element.appendChild(docLink);\n",
              "        }\n",
              "      </script>\n",
              "    </div>\n",
              "  </div>\n",
              "  "
            ]
          },
          "metadata": {},
          "execution_count": 40
        }
      ],
      "source": [
        "dataset"
      ],
      "id": "0a1aacaa"
    },
    {
      "cell_type": "markdown",
      "source": [
        "## **Counting the values in the Recommended IND column**"
      ],
      "metadata": {
        "id": "lcECCXhhWsrG"
      },
      "id": "lcECCXhhWsrG"
    },
    {
      "cell_type": "code",
      "execution_count": null,
      "metadata": {
        "id": "2499fea9",
        "colab": {
          "base_uri": "https://localhost:8080/"
        },
        "outputId": "298691fb-63d7-44ab-9f91-56621542fc51"
      },
      "outputs": [
        {
          "output_type": "stream",
          "name": "stdout",
          "text": [
            "1    18540\n",
            "0     4101\n",
            "Name: Recommended IND, dtype: int64\n"
          ]
        }
      ],
      "source": [
        "class_counts = dataset['Recommended IND'].value_counts()\n",
        "print(class_counts)"
      ],
      "id": "2499fea9"
    },
    {
      "cell_type": "code",
      "execution_count": null,
      "metadata": {
        "id": "b70fc315",
        "colab": {
          "base_uri": "https://localhost:8080/",
          "height": 296
        },
        "outputId": "d9ae28c7-e145-4724-bd3d-f20c44d1f490"
      },
      "outputs": [
        {
          "output_type": "execute_result",
          "data": {
            "text/plain": [
              "<matplotlib.axes._subplots.AxesSubplot at 0x7fb602e43f50>"
            ]
          },
          "metadata": {},
          "execution_count": 42
        },
        {
          "output_type": "display_data",
          "data": {
            "text/plain": [
              "<Figure size 432x288 with 1 Axes>"
            ],
            "image/png": "[encoded data removed]"
          },
          "metadata": {
            "needs_background": "light"
          }
        }
      ],
      "source": [
        "sns.countplot(x ='Recommended IND', data = dataset)\n"
      ],
      "id": "b70fc315"
    },
    {
      "cell_type": "code",
      "execution_count": null,
      "metadata": {
        "id": "e8d71b6d"
      },
      "outputs": [],
      "source": [
        "# Lowering the words in the Review Text Columns\n",
        "dataset['Review Text'] = dataset['Review Text'].apply(lambda x: x.lower())"
      ],
      "id": "e8d71b6d"
    },
    {
      "cell_type": "code",
      "execution_count": null,
      "metadata": {
        "id": "26501d60"
      },
      "outputs": [],
      "source": [
        "# export to Excel\n",
        "dataset.to_excel(\"Raw_Dataset_(Cleaned).xlsx\", \n",
        "                 header=True, \n",
        "                 index=False)"
      ],
      "id": "26501d60"
    },
    {
      "cell_type": "markdown",
      "metadata": {
        "id": "c950176d"
      },
      "source": [
        "# Upsampling (Sklearn)\n",
        "In Up sampling we make copies of the current non recommended observations and add them to our dataset\n",
        "> Indented block\n",
        "\n"
      ],
      "id": "c950176d"
    },
    {
      "cell_type": "code",
      "execution_count": null,
      "metadata": {
        "id": "db5877fa",
        "colab": {
          "base_uri": "https://localhost:8080/"
        },
        "outputId": "d65e2679-ca7c-4190-e444-308d331ce313"
      },
      "outputs": [
        {
          "output_type": "stream",
          "name": "stdout",
          "text": [
            "Count of 'Not Recommended' examples (after upsampling): 16104\n"
          ]
        }
      ],
      "source": [
        "from sklearn.utils import resample\n",
        "\n",
        "# As we have the count for the recommendations as 18,540 and the non recommendations as 4,101, We will do the upsampling and make the non recommendations count as 16, 104\n",
        "# ansd we do this by making copies of the current Not Recommended observations and add them to our dataset.\n",
        "\n",
        "upsample = resample(dataset[dataset['Recommended IND']==0],\n",
        "                    replace=True, # sample with replacement\n",
        "                    n_samples=16104, # to match majority class\n",
        "                    random_state=42) # set reproducible results\n",
        "print(f\"Count of 'Not Recommended' examples (after upsampling): {len(upsample)}\")\n",
        "\n",
        "# combine the upsampled minority class with the rest of the data\n",
        "dataset = pd.concat([dataset[dataset['Recommended IND']!=0], upsample])"
      ],
      "id": "db5877fa"
    },
    {
      "cell_type": "code",
      "execution_count": null,
      "metadata": {
        "id": "71914097"
      },
      "outputs": [],
      "source": [
        "# export to Excel\n",
        "dataset.to_excel(\"Upsampled_Dataset.xlsx\", \n",
        "                 header=True, \n",
        "                 index=False)"
      ],
      "id": "71914097"
    },
    {
      "cell_type": "markdown",
      "metadata": {
        "id": "e9a3a3ef"
      },
      "source": [
        "# Text Augmentation"
      ],
      "id": "e9a3a3ef"
    },
    {
      "cell_type": "markdown",
      "source": [
        "Int he Text Augmentation, words are randomly swapped, deleted, as well as replaced or inserted with synonyms using pretrained word embeddings. I implemented this using Easy Data Augmentation techniques."
      ],
      "metadata": {
        "id": "OfLfe-5GhoJJ"
      },
      "id": "OfLfe-5GhoJJ"
    },
    {
      "cell_type": "code",
      "execution_count": null,
      "metadata": {
        "id": "0f1badfe"
      },
      "outputs": [],
      "source": [
        "dataset = pd.read_excel('Raw_Dataset_(Cleaned).xlsx')\n"
      ],
      "id": "0f1badfe"
    },
    {
      "cell_type": "code",
      "execution_count": null,
      "metadata": {
        "id": "4f46764e"
      },
      "outputs": [],
      "source": [
        "# initialize the augmentation model\n",
        "from textattack.augmentation import EasyDataAugmenter\n",
        "\n",
        "aug = EasyDataAugmenter(pct_words_to_swap=0.25, \n",
        "                        transformations_per_example=3)"
      ],
      "id": "4f46764e"
    },
    {
      "cell_type": "code",
      "execution_count": null,
      "metadata": {
        "id": "90fe761a"
      },
      "outputs": [],
      "source": [
        "aug_corpus = []\n",
        "\n",
        "def augmented_corpus(text):\n",
        "\n",
        "  try:\n",
        "    aug_corpus.extend(aug.augment(text))\n",
        "  except:\n",
        "    pass"
      ],
      "id": "90fe761a"
    },
    {
      "cell_type": "code",
      "execution_count": null,
      "metadata": {
        "id": "20043fe1"
      },
      "outputs": [],
      "source": [
        "df_not_recommended['Review Text'].progress_apply(augmented_corpus)\n"
      ],
      "id": "20043fe1"
    },
    {
      "cell_type": "code",
      "execution_count": null,
      "metadata": {
        "id": "8ec36cac"
      },
      "outputs": [],
      "source": [
        "df_aug_result = pd.DataFrame(zip(aug_corpus, [0]*len(aug_corpus)), \n",
        "                             columns=['Review Text', 'Recommended IND'])\n",
        "\n",
        "# append augmented results to original 'Not Recommended' examples\n",
        "df_aug_result = df_not_recommended.append(df_aug_result)\n"
      ],
      "id": "8ec36cac"
    },
    {
      "cell_type": "code",
      "execution_count": null,
      "metadata": {
        "id": "9741382d"
      },
      "outputs": [],
      "source": [
        "# export to Excel\n",
        "df_aug_result.to_excel('Augmented_Dataset.xlsx', \n",
        "                        header=True, \n",
        "                        index=False)"
      ],
      "id": "9741382d"
    },
    {
      "cell_type": "code",
      "execution_count": null,
      "metadata": {
        "id": "86eac8ca"
      },
      "outputs": [],
      "source": [
        "#print(len(df_aug_result))\n"
      ],
      "id": "86eac8ca"
    },
    {
      "cell_type": "markdown",
      "source": [
        "## **Loading the Augmented Dataset**"
      ],
      "metadata": {
        "id": "UIsCAm6MO6W_"
      },
      "id": "UIsCAm6MO6W_"
    },
    {
      "cell_type": "code",
      "source": [
        "dataset = pd.read_excel('/content/Augmented_Dataset.xlsx')\n"
      ],
      "metadata": {
        "id": "_EjVRCgsO5sv"
      },
      "id": "_EjVRCgsO5sv",
      "execution_count": null,
      "outputs": []
    },
    {
      "cell_type": "code",
      "source": [
        "dataset.dropna(inplace = True)"
      ],
      "metadata": {
        "id": "IKc1XBaf6cmI"
      },
      "id": "IKc1XBaf6cmI",
      "execution_count": null,
      "outputs": []
    },
    {
      "cell_type": "markdown",
      "source": [
        "## **Loading the Dataset with Upsampling**"
      ],
      "metadata": {
        "id": "xbft-xFA3FKO"
      },
      "id": "xbft-xFA3FKO"
    },
    {
      "cell_type": "code",
      "source": [
        "dataset = pd.read_excel('/content/Upsampled_Dataset.xlsx')\n"
      ],
      "metadata": {
        "id": "scjHW7a13JpM"
      },
      "id": "scjHW7a13JpM",
      "execution_count": null,
      "outputs": []
    },
    {
      "cell_type": "code",
      "source": [
        "dataset.head()"
      ],
      "metadata": {
        "colab": {
          "base_uri": "https://localhost:8080/",
          "height": 320
        },
        "id": "cPL55CD5AndR",
        "outputId": "b8aa96c2-009c-47b3-e244-854e16363611"
      },
      "id": "cPL55CD5AndR",
      "execution_count": null,
      "outputs": [
        {
          "output_type": "execute_result",
          "data": {
            "text/plain": [
              "                                                                                                                                                                                               Review Text  \\\n",
              "0                                                                                                                                                    absolutely wonderful - silky and sexy and comfortable   \n",
              "1  love this dress!  it's sooo pretty.  i happened to find it in a store, and i'm glad i did bc i never would have ordered it online bc it's petite.  i bought a petite and am 5'8\".  i love the length...   \n",
              "2                                                                             i love, love, love this jumpsuit. it's fun, flirty, and fabulous! every time i wear it, i get nothing but great compliments!   \n",
              "3         this shirt is very flattering to all due to the adjustable front tie. it is the perfect length to wear with leggings and it is sleeveless so it pairs well with any cardigan. love this shirt!!!   \n",
              "4  i aded this in my basket at hte last mintue to see what it would look like in person. (store pick up). i went with teh darkler color only because i am so pale :-) hte color is really gorgeous, and...   \n",
              "\n",
              "   Recommended IND  \n",
              "0                1  \n",
              "1                1  \n",
              "2                1  \n",
              "3                1  \n",
              "4                1  "
            ],
            "text/html": [
              "\n",
              "  <div id=\"df-90b2f879-0586-4a07-8ed8-081021ced4ad\">\n",
              "    <div class=\"colab-df-container\">\n",
              "      <div>\n",
              "<style scoped>\n",
              "    .dataframe tbody tr th:only-of-type {\n",
              "        vertical-align: middle;\n",
              "    }\n",
              "\n",
              "    .dataframe tbody tr th {\n",
              "        vertical-align: top;\n",
              "    }\n",
              "\n",
              "    .dataframe thead th {\n",
              "        text-align: right;\n",
              "    }\n",
              "</style>\n",
              "<table border=\"1\" class=\"dataframe\">\n",
              "  <thead>\n",
              "    <tr style=\"text-align: right;\">\n",
              "      <th></th>\n",
              "      <th>Review Text</th>\n",
              "      <th>Recommended IND</th>\n",
              "    </tr>\n",
              "  </thead>\n",
              "  <tbody>\n",
              "    <tr>\n",
              "      <th>0</th>\n",
              "      <td>absolutely wonderful - silky and sexy and comfortable</td>\n",
              "      <td>1</td>\n",
              "    </tr>\n",
              "    <tr>\n",
              "      <th>1</th>\n",
              "      <td>love this dress!  it's sooo pretty.  i happened to find it in a store, and i'm glad i did bc i never would have ordered it online bc it's petite.  i bought a petite and am 5'8\".  i love the length...</td>\n",
              "      <td>1</td>\n",
              "    </tr>\n",
              "    <tr>\n",
              "      <th>2</th>\n",
              "      <td>i love, love, love this jumpsuit. it's fun, flirty, and fabulous! every time i wear it, i get nothing but great compliments!</td>\n",
              "      <td>1</td>\n",
              "    </tr>\n",
              "    <tr>\n",
              "      <th>3</th>\n",
              "      <td>this shirt is very flattering to all due to the adjustable front tie. it is the perfect length to wear with leggings and it is sleeveless so it pairs well with any cardigan. love this shirt!!!</td>\n",
              "      <td>1</td>\n",
              "    </tr>\n",
              "    <tr>\n",
              "      <th>4</th>\n",
              "      <td>i aded this in my basket at hte last mintue to see what it would look like in person. (store pick up). i went with teh darkler color only because i am so pale :-) hte color is really gorgeous, and...</td>\n",
              "      <td>1</td>\n",
              "    </tr>\n",
              "  </tbody>\n",
              "</table>\n",
              "</div>\n",
              "      <button class=\"colab-df-convert\" onclick=\"convertToInteractive('df-90b2f879-0586-4a07-8ed8-081021ced4ad')\"\n",
              "              title=\"Convert this dataframe to an interactive table.\"\n",
              "              style=\"display:none;\">\n",
              "        \n",
              "  <svg xmlns=\"http://www.w3.org/2000/svg\" height=\"24px\"viewBox=\"0 0 24 24\"\n",
              "       width=\"24px\">\n",
              "    <path d=\"M0 0h24v24H0V0z\" fill=\"none\"/>\n",
              "    <path d=\"M18.56 5.44l.94 2.06.94-2.06 2.06-.94-2.06-.94-.94-2.06-.94 2.06-2.06.94zm-11 1L8.5 8.5l.94-2.06 2.06-.94-2.06-.94L8.5 2.5l-.94 2.06-2.06.94zm10 10l.94 2.06.94-2.06 2.06-.94-2.06-.94-.94-2.06-.94 2.06-2.06.94z\"/><path d=\"M17.41 7.96l-1.37-1.37c-.4-.4-.92-.59-1.43-.59-.52 0-1.04.2-1.43.59L10.3 9.45l-7.72 7.72c-.78.78-.78 2.05 0 2.83L4 21.41c.39.39.9.59 1.41.59.51 0 1.02-.2 1.41-.59l7.78-7.78 2.81-2.81c.8-.78.8-2.07 0-2.86zM5.41 20L4 18.59l7.72-7.72 1.47 1.35L5.41 20z\"/>\n",
              "  </svg>\n",
              "      </button>\n",
              "      \n",
              "  <style>\n",
              "    .colab-df-container {\n",
              "      display:flex;\n",
              "      flex-wrap:wrap;\n",
              "      gap: 12px;\n",
              "    }\n",
              "\n",
              "    .colab-df-convert {\n",
              "      background-color: #E8F0FE;\n",
              "      border: none;\n",
              "      border-radius: 50%;\n",
              "      cursor: pointer;\n",
              "      display: none;\n",
              "      fill: #1967D2;\n",
              "      height: 32px;\n",
              "      padding: 0 0 0 0;\n",
              "      width: 32px;\n",
              "    }\n",
              "\n",
              "    .colab-df-convert:hover {\n",
              "      background-color: #E2EBFA;\n",
              "      box-shadow: 0px 1px 2px rgba(60, 64, 67, 0.3), 0px 1px 3px 1px rgba(60, 64, 67, 0.15);\n",
              "      fill: #174EA6;\n",
              "    }\n",
              "\n",
              "    [theme=dark] .colab-df-convert {\n",
              "      background-color: #3B4455;\n",
              "      fill: #D2E3FC;\n",
              "    }\n",
              "\n",
              "    [theme=dark] .colab-df-convert:hover {\n",
              "      background-color: #434B5C;\n",
              "      box-shadow: 0px 1px 3px 1px rgba(0, 0, 0, 0.15);\n",
              "      filter: drop-shadow(0px 1px 2px rgba(0, 0, 0, 0.3));\n",
              "      fill: #FFFFFF;\n",
              "    }\n",
              "  </style>\n",
              "\n",
              "      <script>\n",
              "        const buttonEl =\n",
              "          document.querySelector('#df-90b2f879-0586-4a07-8ed8-081021ced4ad button.colab-df-convert');\n",
              "        buttonEl.style.display =\n",
              "          google.colab.kernel.accessAllowed ? 'block' : 'none';\n",
              "\n",
              "        async function convertToInteractive(key) {\n",
              "          const element = document.querySelector('#df-90b2f879-0586-4a07-8ed8-081021ced4ad');\n",
              "          const dataTable =\n",
              "            await google.colab.kernel.invokeFunction('convertToInteractive',\n",
              "                                                     [key], {});\n",
              "          if (!dataTable) return;\n",
              "\n",
              "          const docLinkHtml = 'Like what you see? Visit the ' +\n",
              "            '<a target=\"_blank\" href=https://colab.research.google.com/notebooks/data_table.ipynb>data table notebook</a>'\n",
              "            + ' to learn more about interactive tables.';\n",
              "          element.innerHTML = '';\n",
              "          dataTable['output_type'] = 'display_data';\n",
              "          await google.colab.output.renderOutput(dataTable, element);\n",
              "          const docLink = document.createElement('div');\n",
              "          docLink.innerHTML = docLinkHtml;\n",
              "          element.appendChild(docLink);\n",
              "        }\n",
              "      </script>\n",
              "    </div>\n",
              "  </div>\n",
              "  "
            ]
          },
          "metadata": {},
          "execution_count": 58
        }
      ]
    },
    {
      "cell_type": "markdown",
      "source": [
        "Lowering the Sentence"
      ],
      "metadata": {
        "id": "pJov5C7lChc4"
      },
      "id": "pJov5C7lChc4"
    },
    {
      "cell_type": "code",
      "source": [
        "dataset['Review Text']= dataset['Review Text'].apply(lambda x: x.lower())"
      ],
      "metadata": {
        "id": "aoR_xcWjCjZK"
      },
      "id": "aoR_xcWjCjZK",
      "execution_count": null,
      "outputs": []
    },
    {
      "cell_type": "code",
      "source": [
        "dataset"
      ],
      "metadata": {
        "colab": {
          "base_uri": "https://localhost:8080/",
          "height": 607
        },
        "id": "UOEfUGUdNzOH",
        "outputId": "97c0df54-342d-42a2-99ed-890df69ace66"
      },
      "id": "UOEfUGUdNzOH",
      "execution_count": null,
      "outputs": [
        {
          "output_type": "execute_result",
          "data": {
            "text/plain": [
              "                                                                                                                                                                                                   Review Text  \\\n",
              "0                                                                                                                                                        absolutely wonderful - silky and sexy and comfortable   \n",
              "1      love this dress!  it's sooo pretty.  i happened to find it in a store, and i'm glad i did bc i never would have ordered it online bc it's petite.  i bought a petite and am 5'8\".  i love the length...   \n",
              "2                                                                                 i love, love, love this jumpsuit. it's fun, flirty, and fabulous! every time i wear it, i get nothing but great compliments!   \n",
              "3             this shirt is very flattering to all due to the adjustable front tie. it is the perfect length to wear with leggings and it is sleeveless so it pairs well with any cardigan. love this shirt!!!   \n",
              "4      i aded this in my basket at hte last mintue to see what it would look like in person. (store pick up). i went with teh darkler color only because i am so pale :-) hte color is really gorgeous, and...   \n",
              "...                                                                                                                                                                                                        ...   \n",
              "34639  noticed all the 5 star reviews online for the latest pilcro stets- so due to the past 2 years of dissapointment of what was once a great pair of jeans....i was hopeful that retailerpologist listen...   \n",
              "34640                                                                                                       it's the inverted invert ... not so obvious at first but then it shrunk and was harder to ingnore.   \n",
              "34641  the quality and fabric of this dress are lovely, but unfortunately i found it to be very unflattering and shapeless. it fit me like a sack, i ordered the m and i suppose i should've sized down, bu...   \n",
              "34642  loved the dress. loved the pattern and the cut. unfortunately it did not work for me. it is cut too low under the arm pits and therefore, showed too much breast. it is not made to wear a bra with ...   \n",
              "34643  i love the style of this dress but felt that it didn't look great on. really sad it didn't work out :( felt like it was too short and the drop waist was awkward and looked childish. beautiful fabr...   \n",
              "\n",
              "       Recommended IND  \n",
              "0                    1  \n",
              "1                    1  \n",
              "2                    1  \n",
              "3                    1  \n",
              "4                    1  \n",
              "...                ...  \n",
              "34639                0  \n",
              "34640                0  \n",
              "34641                0  \n",
              "34642                0  \n",
              "34643                0  \n",
              "\n",
              "[34644 rows x 2 columns]"
            ],
            "text/html": [
              "\n",
              "  <div id=\"df-c4f73a09-7fba-4a36-bab5-716ffab4d78c\">\n",
              "    <div class=\"colab-df-container\">\n",
              "      <div>\n",
              "<style scoped>\n",
              "    .dataframe tbody tr th:only-of-type {\n",
              "        vertical-align: middle;\n",
              "    }\n",
              "\n",
              "    .dataframe tbody tr th {\n",
              "        vertical-align: top;\n",
              "    }\n",
              "\n",
              "    .dataframe thead th {\n",
              "        text-align: right;\n",
              "    }\n",
              "</style>\n",
              "<table border=\"1\" class=\"dataframe\">\n",
              "  <thead>\n",
              "    <tr style=\"text-align: right;\">\n",
              "      <th></th>\n",
              "      <th>Review Text</th>\n",
              "      <th>Recommended IND</th>\n",
              "    </tr>\n",
              "  </thead>\n",
              "  <tbody>\n",
              "    <tr>\n",
              "      <th>0</th>\n",
              "      <td>absolutely wonderful - silky and sexy and comfortable</td>\n",
              "      <td>1</td>\n",
              "    </tr>\n",
              "    <tr>\n",
              "      <th>1</th>\n",
              "      <td>love this dress!  it's sooo pretty.  i happened to find it in a store, and i'm glad i did bc i never would have ordered it online bc it's petite.  i bought a petite and am 5'8\".  i love the length...</td>\n",
              "      <td>1</td>\n",
              "    </tr>\n",
              "    <tr>\n",
              "      <th>2</th>\n",
              "      <td>i love, love, love this jumpsuit. it's fun, flirty, and fabulous! every time i wear it, i get nothing but great compliments!</td>\n",
              "      <td>1</td>\n",
              "    </tr>\n",
              "    <tr>\n",
              "      <th>3</th>\n",
              "      <td>this shirt is very flattering to all due to the adjustable front tie. it is the perfect length to wear with leggings and it is sleeveless so it pairs well with any cardigan. love this shirt!!!</td>\n",
              "      <td>1</td>\n",
              "    </tr>\n",
              "    <tr>\n",
              "      <th>4</th>\n",
              "      <td>i aded this in my basket at hte last mintue to see what it would look like in person. (store pick up). i went with teh darkler color only because i am so pale :-) hte color is really gorgeous, and...</td>\n",
              "      <td>1</td>\n",
              "    </tr>\n",
              "    <tr>\n",
              "      <th>...</th>\n",
              "      <td>...</td>\n",
              "      <td>...</td>\n",
              "    </tr>\n",
              "    <tr>\n",
              "      <th>34639</th>\n",
              "      <td>noticed all the 5 star reviews online for the latest pilcro stets- so due to the past 2 years of dissapointment of what was once a great pair of jeans....i was hopeful that retailerpologist listen...</td>\n",
              "      <td>0</td>\n",
              "    </tr>\n",
              "    <tr>\n",
              "      <th>34640</th>\n",
              "      <td>it's the inverted invert ... not so obvious at first but then it shrunk and was harder to ingnore.</td>\n",
              "      <td>0</td>\n",
              "    </tr>\n",
              "    <tr>\n",
              "      <th>34641</th>\n",
              "      <td>the quality and fabric of this dress are lovely, but unfortunately i found it to be very unflattering and shapeless. it fit me like a sack, i ordered the m and i suppose i should've sized down, bu...</td>\n",
              "      <td>0</td>\n",
              "    </tr>\n",
              "    <tr>\n",
              "      <th>34642</th>\n",
              "      <td>loved the dress. loved the pattern and the cut. unfortunately it did not work for me. it is cut too low under the arm pits and therefore, showed too much breast. it is not made to wear a bra with ...</td>\n",
              "      <td>0</td>\n",
              "    </tr>\n",
              "    <tr>\n",
              "      <th>34643</th>\n",
              "      <td>i love the style of this dress but felt that it didn't look great on. really sad it didn't work out :( felt like it was too short and the drop waist was awkward and looked childish. beautiful fabr...</td>\n",
              "      <td>0</td>\n",
              "    </tr>\n",
              "  </tbody>\n",
              "</table>\n",
              "<p>34644 rows × 2 columns</p>\n",
              "</div>\n",
              "      <button class=\"colab-df-convert\" onclick=\"convertToInteractive('df-c4f73a09-7fba-4a36-bab5-716ffab4d78c')\"\n",
              "              title=\"Convert this dataframe to an interactive table.\"\n",
              "              style=\"display:none;\">\n",
              "        \n",
              "  <svg xmlns=\"http://www.w3.org/2000/svg\" height=\"24px\"viewBox=\"0 0 24 24\"\n",
              "       width=\"24px\">\n",
              "    <path d=\"M0 0h24v24H0V0z\" fill=\"none\"/>\n",
              "    <path d=\"M18.56 5.44l.94 2.06.94-2.06 2.06-.94-2.06-.94-.94-2.06-.94 2.06-2.06.94zm-11 1L8.5 8.5l.94-2.06 2.06-.94-2.06-.94L8.5 2.5l-.94 2.06-2.06.94zm10 10l.94 2.06.94-2.06 2.06-.94-2.06-.94-.94-2.06-.94 2.06-2.06.94z\"/><path d=\"M17.41 7.96l-1.37-1.37c-.4-.4-.92-.59-1.43-.59-.52 0-1.04.2-1.43.59L10.3 9.45l-7.72 7.72c-.78.78-.78 2.05 0 2.83L4 21.41c.39.39.9.59 1.41.59.51 0 1.02-.2 1.41-.59l7.78-7.78 2.81-2.81c.8-.78.8-2.07 0-2.86zM5.41 20L4 18.59l7.72-7.72 1.47 1.35L5.41 20z\"/>\n",
              "  </svg>\n",
              "      </button>\n",
              "      \n",
              "  <style>\n",
              "    .colab-df-container {\n",
              "      display:flex;\n",
              "      flex-wrap:wrap;\n",
              "      gap: 12px;\n",
              "    }\n",
              "\n",
              "    .colab-df-convert {\n",
              "      background-color: #E8F0FE;\n",
              "      border: none;\n",
              "      border-radius: 50%;\n",
              "      cursor: pointer;\n",
              "      display: none;\n",
              "      fill: #1967D2;\n",
              "      height: 32px;\n",
              "      padding: 0 0 0 0;\n",
              "      width: 32px;\n",
              "    }\n",
              "\n",
              "    .colab-df-convert:hover {\n",
              "      background-color: #E2EBFA;\n",
              "      box-shadow: 0px 1px 2px rgba(60, 64, 67, 0.3), 0px 1px 3px 1px rgba(60, 64, 67, 0.15);\n",
              "      fill: #174EA6;\n",
              "    }\n",
              "\n",
              "    [theme=dark] .colab-df-convert {\n",
              "      background-color: #3B4455;\n",
              "      fill: #D2E3FC;\n",
              "    }\n",
              "\n",
              "    [theme=dark] .colab-df-convert:hover {\n",
              "      background-color: #434B5C;\n",
              "      box-shadow: 0px 1px 3px 1px rgba(0, 0, 0, 0.15);\n",
              "      filter: drop-shadow(0px 1px 2px rgba(0, 0, 0, 0.3));\n",
              "      fill: #FFFFFF;\n",
              "    }\n",
              "  </style>\n",
              "\n",
              "      <script>\n",
              "        const buttonEl =\n",
              "          document.querySelector('#df-c4f73a09-7fba-4a36-bab5-716ffab4d78c button.colab-df-convert');\n",
              "        buttonEl.style.display =\n",
              "          google.colab.kernel.accessAllowed ? 'block' : 'none';\n",
              "\n",
              "        async function convertToInteractive(key) {\n",
              "          const element = document.querySelector('#df-c4f73a09-7fba-4a36-bab5-716ffab4d78c');\n",
              "          const dataTable =\n",
              "            await google.colab.kernel.invokeFunction('convertToInteractive',\n",
              "                                                     [key], {});\n",
              "          if (!dataTable) return;\n",
              "\n",
              "          const docLinkHtml = 'Like what you see? Visit the ' +\n",
              "            '<a target=\"_blank\" href=https://colab.research.google.com/notebooks/data_table.ipynb>data table notebook</a>'\n",
              "            + ' to learn more about interactive tables.';\n",
              "          element.innerHTML = '';\n",
              "          dataTable['output_type'] = 'display_data';\n",
              "          await google.colab.output.renderOutput(dataTable, element);\n",
              "          const docLink = document.createElement('div');\n",
              "          docLink.innerHTML = docLinkHtml;\n",
              "          element.appendChild(docLink);\n",
              "        }\n",
              "      </script>\n",
              "    </div>\n",
              "  </div>\n",
              "  "
            ]
          },
          "metadata": {},
          "execution_count": 60
        }
      ]
    },
    {
      "cell_type": "code",
      "source": [
        "dataset['Recommended IND'].value_counts()\n"
      ],
      "metadata": {
        "colab": {
          "base_uri": "https://localhost:8080/"
        },
        "id": "C94dS2Zm3SCY",
        "outputId": "a4a75e7e-7410-430e-8e03-769e4fb0cb69"
      },
      "id": "C94dS2Zm3SCY",
      "execution_count": null,
      "outputs": [
        {
          "output_type": "execute_result",
          "data": {
            "text/plain": [
              "1    18540\n",
              "0    16104\n",
              "Name: Recommended IND, dtype: int64"
            ]
          },
          "metadata": {},
          "execution_count": 61
        }
      ]
    },
    {
      "cell_type": "markdown",
      "source": [
        "## **Doing the Train & Test Split**"
      ],
      "metadata": {
        "id": "DoE0uknEEqSs"
      },
      "id": "DoE0uknEEqSs"
    },
    {
      "cell_type": "code",
      "source": [
        "# define a random seed for reproducible results\n",
        "random_state = 42\n",
        "\n",
        "# shuffle the dataset rows\n",
        "dataset = dataset.sample(frac=1,\n",
        "                         random_state=random_state)"
      ],
      "metadata": {
        "id": "zWv41pf5bBA_"
      },
      "id": "zWv41pf5bBA_",
      "execution_count": null,
      "outputs": []
    },
    {
      "cell_type": "code",
      "source": [
        "from sklearn.model_selection import train_test_split\n",
        "\n",
        "X = dataset.drop('Recommended IND', axis=1)\n",
        "y = dataset['Recommended IND']\n",
        "\n",
        "# split the dataset into an 80% training and 20% test set\n",
        "X_train, X_test, y_train, y_test = train_test_split(X, y, \n",
        "                                                    test_size=0.2,\n",
        "                                                     random_state=42)"
      ],
      "metadata": {
        "id": "LcKqMBU9Eqb9"
      },
      "id": "LcKqMBU9Eqb9",
      "execution_count": null,
      "outputs": []
    },
    {
      "cell_type": "code",
      "source": [
        "X"
      ],
      "metadata": {
        "colab": {
          "base_uri": "https://localhost:8080/",
          "height": 607
        },
        "id": "8h3aqe0HJhSP",
        "outputId": "a5dd17f5-cbbd-42a7-b5a4-765e7f3e95dd"
      },
      "id": "8h3aqe0HJhSP",
      "execution_count": null,
      "outputs": [
        {
          "output_type": "execute_result",
          "data": {
            "text/plain": [
              "                                                                                                                                                                                                   Review Text\n",
              "25548  loved these in store when i tried them on but was in between sizes so i ordered them in the larger size. boy do i regret that! these stretch out so much i have to wear a belt with them and it give...\n",
              "13991  i was using my daughter's dress and ended up buying myself one as well. it is a versatile casual dress... very flattering. (and my daughter and i have different builds) i actually wish that they s...\n",
              "5843   i love this dress.   i believe the picture on-line doesn't show the unique pattern and design.   it does have an interesting design.    add a long vest, statement necklace, and boots - you will be...\n",
              "3798   my kids gave me this blouse for christmas in my usual size 6. it was so tight through the chest, shoulders and arms. i ended up having to exchange it for at size 10! there was barely any differenc...\n",
              "20726  when i wore this the two times i did, i got a ton of compliments. it runs small, and is a bit tight when sized correctly but its really stunning. after the second wear, the fabric under the arms f...\n",
              "...                                                                                                                                                                                                        ...\n",
              "16850                                                                                            colors are much more vibrant in person. love this skirt. true to size. makes a statement and is still classy.\n",
              "6265   not a summer dress even though the photos make it seem like it's for hot weather. the weight and layers and synthetic fabric is very substantial. it is a bit scratchy where there is maroon fabric,...\n",
              "11284                                                                                                     great looking, please dry clean it or you'll ruin it, fits well, easy to make an outfit look stylish\n",
              "860                                                top is very wide and flowy. i am petite with large chest so it hung from widest point and was not flattering. would be very cute with the right body shape.\n",
              "15795  i just purchased this adorable tank on-line and already received it in my regular size small (34d-27-35) and it fits me tts. the material is actually made with 100% rayon, not polyester as it desc...\n",
              "\n",
              "[34644 rows x 1 columns]"
            ],
            "text/html": [
              "\n",
              "  <div id=\"df-48d80b43-23c2-4c46-b781-835a85df96cd\">\n",
              "    <div class=\"colab-df-container\">\n",
              "      <div>\n",
              "<style scoped>\n",
              "    .dataframe tbody tr th:only-of-type {\n",
              "        vertical-align: middle;\n",
              "    }\n",
              "\n",
              "    .dataframe tbody tr th {\n",
              "        vertical-align: top;\n",
              "    }\n",
              "\n",
              "    .dataframe thead th {\n",
              "        text-align: right;\n",
              "    }\n",
              "</style>\n",
              "<table border=\"1\" class=\"dataframe\">\n",
              "  <thead>\n",
              "    <tr style=\"text-align: right;\">\n",
              "      <th></th>\n",
              "      <th>Review Text</th>\n",
              "    </tr>\n",
              "  </thead>\n",
              "  <tbody>\n",
              "    <tr>\n",
              "      <th>25548</th>\n",
              "      <td>loved these in store when i tried them on but was in between sizes so i ordered them in the larger size. boy do i regret that! these stretch out so much i have to wear a belt with them and it give...</td>\n",
              "    </tr>\n",
              "    <tr>\n",
              "      <th>13991</th>\n",
              "      <td>i was using my daughter's dress and ended up buying myself one as well. it is a versatile casual dress... very flattering. (and my daughter and i have different builds) i actually wish that they s...</td>\n",
              "    </tr>\n",
              "    <tr>\n",
              "      <th>5843</th>\n",
              "      <td>i love this dress.   i believe the picture on-line doesn't show the unique pattern and design.   it does have an interesting design.    add a long vest, statement necklace, and boots - you will be...</td>\n",
              "    </tr>\n",
              "    <tr>\n",
              "      <th>3798</th>\n",
              "      <td>my kids gave me this blouse for christmas in my usual size 6. it was so tight through the chest, shoulders and arms. i ended up having to exchange it for at size 10! there was barely any differenc...</td>\n",
              "    </tr>\n",
              "    <tr>\n",
              "      <th>20726</th>\n",
              "      <td>when i wore this the two times i did, i got a ton of compliments. it runs small, and is a bit tight when sized correctly but its really stunning. after the second wear, the fabric under the arms f...</td>\n",
              "    </tr>\n",
              "    <tr>\n",
              "      <th>...</th>\n",
              "      <td>...</td>\n",
              "    </tr>\n",
              "    <tr>\n",
              "      <th>16850</th>\n",
              "      <td>colors are much more vibrant in person. love this skirt. true to size. makes a statement and is still classy.</td>\n",
              "    </tr>\n",
              "    <tr>\n",
              "      <th>6265</th>\n",
              "      <td>not a summer dress even though the photos make it seem like it's for hot weather. the weight and layers and synthetic fabric is very substantial. it is a bit scratchy where there is maroon fabric,...</td>\n",
              "    </tr>\n",
              "    <tr>\n",
              "      <th>11284</th>\n",
              "      <td>great looking, please dry clean it or you'll ruin it, fits well, easy to make an outfit look stylish</td>\n",
              "    </tr>\n",
              "    <tr>\n",
              "      <th>860</th>\n",
              "      <td>top is very wide and flowy. i am petite with large chest so it hung from widest point and was not flattering. would be very cute with the right body shape.</td>\n",
              "    </tr>\n",
              "    <tr>\n",
              "      <th>15795</th>\n",
              "      <td>i just purchased this adorable tank on-line and already received it in my regular size small (34d-27-35) and it fits me tts. the material is actually made with 100% rayon, not polyester as it desc...</td>\n",
              "    </tr>\n",
              "  </tbody>\n",
              "</table>\n",
              "<p>34644 rows × 1 columns</p>\n",
              "</div>\n",
              "      <button class=\"colab-df-convert\" onclick=\"convertToInteractive('df-48d80b43-23c2-4c46-b781-835a85df96cd')\"\n",
              "              title=\"Convert this dataframe to an interactive table.\"\n",
              "              style=\"display:none;\">\n",
              "        \n",
              "  <svg xmlns=\"http://www.w3.org/2000/svg\" height=\"24px\"viewBox=\"0 0 24 24\"\n",
              "       width=\"24px\">\n",
              "    <path d=\"M0 0h24v24H0V0z\" fill=\"none\"/>\n",
              "    <path d=\"M18.56 5.44l.94 2.06.94-2.06 2.06-.94-2.06-.94-.94-2.06-.94 2.06-2.06.94zm-11 1L8.5 8.5l.94-2.06 2.06-.94-2.06-.94L8.5 2.5l-.94 2.06-2.06.94zm10 10l.94 2.06.94-2.06 2.06-.94-2.06-.94-.94-2.06-.94 2.06-2.06.94z\"/><path d=\"M17.41 7.96l-1.37-1.37c-.4-.4-.92-.59-1.43-.59-.52 0-1.04.2-1.43.59L10.3 9.45l-7.72 7.72c-.78.78-.78 2.05 0 2.83L4 21.41c.39.39.9.59 1.41.59.51 0 1.02-.2 1.41-.59l7.78-7.78 2.81-2.81c.8-.78.8-2.07 0-2.86zM5.41 20L4 18.59l7.72-7.72 1.47 1.35L5.41 20z\"/>\n",
              "  </svg>\n",
              "      </button>\n",
              "      \n",
              "  <style>\n",
              "    .colab-df-container {\n",
              "      display:flex;\n",
              "      flex-wrap:wrap;\n",
              "      gap: 12px;\n",
              "    }\n",
              "\n",
              "    .colab-df-convert {\n",
              "      background-color: #E8F0FE;\n",
              "      border: none;\n",
              "      border-radius: 50%;\n",
              "      cursor: pointer;\n",
              "      display: none;\n",
              "      fill: #1967D2;\n",
              "      height: 32px;\n",
              "      padding: 0 0 0 0;\n",
              "      width: 32px;\n",
              "    }\n",
              "\n",
              "    .colab-df-convert:hover {\n",
              "      background-color: #E2EBFA;\n",
              "      box-shadow: 0px 1px 2px rgba(60, 64, 67, 0.3), 0px 1px 3px 1px rgba(60, 64, 67, 0.15);\n",
              "      fill: #174EA6;\n",
              "    }\n",
              "\n",
              "    [theme=dark] .colab-df-convert {\n",
              "      background-color: #3B4455;\n",
              "      fill: #D2E3FC;\n",
              "    }\n",
              "\n",
              "    [theme=dark] .colab-df-convert:hover {\n",
              "      background-color: #434B5C;\n",
              "      box-shadow: 0px 1px 3px 1px rgba(0, 0, 0, 0.15);\n",
              "      filter: drop-shadow(0px 1px 2px rgba(0, 0, 0, 0.3));\n",
              "      fill: #FFFFFF;\n",
              "    }\n",
              "  </style>\n",
              "\n",
              "      <script>\n",
              "        const buttonEl =\n",
              "          document.querySelector('#df-48d80b43-23c2-4c46-b781-835a85df96cd button.colab-df-convert');\n",
              "        buttonEl.style.display =\n",
              "          google.colab.kernel.accessAllowed ? 'block' : 'none';\n",
              "\n",
              "        async function convertToInteractive(key) {\n",
              "          const element = document.querySelector('#df-48d80b43-23c2-4c46-b781-835a85df96cd');\n",
              "          const dataTable =\n",
              "            await google.colab.kernel.invokeFunction('convertToInteractive',\n",
              "                                                     [key], {});\n",
              "          if (!dataTable) return;\n",
              "\n",
              "          const docLinkHtml = 'Like what you see? Visit the ' +\n",
              "            '<a target=\"_blank\" href=https://colab.research.google.com/notebooks/data_table.ipynb>data table notebook</a>'\n",
              "            + ' to learn more about interactive tables.';\n",
              "          element.innerHTML = '';\n",
              "          dataTable['output_type'] = 'display_data';\n",
              "          await google.colab.output.renderOutput(dataTable, element);\n",
              "          const docLink = document.createElement('div');\n",
              "          docLink.innerHTML = docLinkHtml;\n",
              "          element.appendChild(docLink);\n",
              "        }\n",
              "      </script>\n",
              "    </div>\n",
              "  </div>\n",
              "  "
            ]
          },
          "metadata": {},
          "execution_count": 115
        }
      ]
    },
    {
      "cell_type": "code",
      "source": [
        "X_train"
      ],
      "metadata": {
        "colab": {
          "base_uri": "https://localhost:8080/",
          "height": 624
        },
        "id": "lBfQPqj8Ft2G",
        "outputId": "1c466ca4-a655-4c31-eaa6-8529934cc365"
      },
      "id": "lBfQPqj8Ft2G",
      "execution_count": null,
      "outputs": [
        {
          "output_type": "execute_result",
          "data": {
            "text/plain": [
              "                                                                                                                                                                                                   Review Text\n",
              "29862  this top was originally way overpriced. so i ordered it on sale for half price. still overpriced. it arrived yesterday and frankly i am disappointed. the quality is not great. it is like a jersey ...\n",
              "25016                                                                    the material is thin and of poor quality.  it snagged the first time i wore it. the arm holes are very low as other reviewers stated.\n",
              "23968  ordered on line and thought these are a great quality as i pulled them out of the box. tried them on and found minimal elastic for the waist. within minutes of wearing, the waist fell down past my...\n",
              "10448  i had to return my original order to size down - the bottom half was fine with either size, but the medium was baggy in the back torso area. (i'm 5'8\", 150#). i bought the \"tangerine\" version, whi...\n",
              "9699   i tried on this jumpsuit on a whim thinking it be a great throwback to the 70s. it is actually very flattering on, with the lines running down vertical, giving a slimming look to any figure. it is...\n",
              "...                                                                                                                                                                                                        ...\n",
              "23672  i really wanted these jeans to work but i am too curvy and not tall enough for them. i just felt like they were swallowing me up with fabric. i am 5'5\" and had a stacked boot heel on when i tried ...\n",
              "4871   i didn't think much of this tank while perusing sale items on the website. but after reading the reviews i decided to order it. and it did not disappoint. i ordered the green, which is more vibran...\n",
              "21099  but, it just doesn't measure up. first, the slip/lining comes unattached if pulled slightly and it is very difficult to actually get it on - either stepping into it or pulling it over your head. a...\n",
              "27369  i absolutely love the look of this shirt with the built in layering piece. the overall garment is lightweight and not too heavy even with the added layer. however; this runs really large. in gener...\n",
              "23117  i'm 4'10 and 105lbs..32c and hippy...i ordered the 00p and 0p.. bc i'm curvy the bigger size was better but the fit was just okay..couldn't justify the price. it's a beautiful dress in the green c...\n",
              "\n",
              "[27715 rows x 1 columns]"
            ],
            "text/html": [
              "\n",
              "  <div id=\"df-818fb26f-df18-4098-908e-ed96166a02ea\">\n",
              "    <div class=\"colab-df-container\">\n",
              "      <div>\n",
              "<style scoped>\n",
              "    .dataframe tbody tr th:only-of-type {\n",
              "        vertical-align: middle;\n",
              "    }\n",
              "\n",
              "    .dataframe tbody tr th {\n",
              "        vertical-align: top;\n",
              "    }\n",
              "\n",
              "    .dataframe thead th {\n",
              "        text-align: right;\n",
              "    }\n",
              "</style>\n",
              "<table border=\"1\" class=\"dataframe\">\n",
              "  <thead>\n",
              "    <tr style=\"text-align: right;\">\n",
              "      <th></th>\n",
              "      <th>Review Text</th>\n",
              "    </tr>\n",
              "  </thead>\n",
              "  <tbody>\n",
              "    <tr>\n",
              "      <th>29862</th>\n",
              "      <td>this top was originally way overpriced. so i ordered it on sale for half price. still overpriced. it arrived yesterday and frankly i am disappointed. the quality is not great. it is like a jersey ...</td>\n",
              "    </tr>\n",
              "    <tr>\n",
              "      <th>25016</th>\n",
              "      <td>the material is thin and of poor quality.  it snagged the first time i wore it. the arm holes are very low as other reviewers stated.</td>\n",
              "    </tr>\n",
              "    <tr>\n",
              "      <th>23968</th>\n",
              "      <td>ordered on line and thought these are a great quality as i pulled them out of the box. tried them on and found minimal elastic for the waist. within minutes of wearing, the waist fell down past my...</td>\n",
              "    </tr>\n",
              "    <tr>\n",
              "      <th>10448</th>\n",
              "      <td>i had to return my original order to size down - the bottom half was fine with either size, but the medium was baggy in the back torso area. (i'm 5'8\", 150#). i bought the \"tangerine\" version, whi...</td>\n",
              "    </tr>\n",
              "    <tr>\n",
              "      <th>9699</th>\n",
              "      <td>i tried on this jumpsuit on a whim thinking it be a great throwback to the 70s. it is actually very flattering on, with the lines running down vertical, giving a slimming look to any figure. it is...</td>\n",
              "    </tr>\n",
              "    <tr>\n",
              "      <th>...</th>\n",
              "      <td>...</td>\n",
              "    </tr>\n",
              "    <tr>\n",
              "      <th>23672</th>\n",
              "      <td>i really wanted these jeans to work but i am too curvy and not tall enough for them. i just felt like they were swallowing me up with fabric. i am 5'5\" and had a stacked boot heel on when i tried ...</td>\n",
              "    </tr>\n",
              "    <tr>\n",
              "      <th>4871</th>\n",
              "      <td>i didn't think much of this tank while perusing sale items on the website. but after reading the reviews i decided to order it. and it did not disappoint. i ordered the green, which is more vibran...</td>\n",
              "    </tr>\n",
              "    <tr>\n",
              "      <th>21099</th>\n",
              "      <td>but, it just doesn't measure up. first, the slip/lining comes unattached if pulled slightly and it is very difficult to actually get it on - either stepping into it or pulling it over your head. a...</td>\n",
              "    </tr>\n",
              "    <tr>\n",
              "      <th>27369</th>\n",
              "      <td>i absolutely love the look of this shirt with the built in layering piece. the overall garment is lightweight and not too heavy even with the added layer. however; this runs really large. in gener...</td>\n",
              "    </tr>\n",
              "    <tr>\n",
              "      <th>23117</th>\n",
              "      <td>i'm 4'10 and 105lbs..32c and hippy...i ordered the 00p and 0p.. bc i'm curvy the bigger size was better but the fit was just okay..couldn't justify the price. it's a beautiful dress in the green c...</td>\n",
              "    </tr>\n",
              "  </tbody>\n",
              "</table>\n",
              "<p>27715 rows × 1 columns</p>\n",
              "</div>\n",
              "      <button class=\"colab-df-convert\" onclick=\"convertToInteractive('df-818fb26f-df18-4098-908e-ed96166a02ea')\"\n",
              "              title=\"Convert this dataframe to an interactive table.\"\n",
              "              style=\"display:none;\">\n",
              "        \n",
              "  <svg xmlns=\"http://www.w3.org/2000/svg\" height=\"24px\"viewBox=\"0 0 24 24\"\n",
              "       width=\"24px\">\n",
              "    <path d=\"M0 0h24v24H0V0z\" fill=\"none\"/>\n",
              "    <path d=\"M18.56 5.44l.94 2.06.94-2.06 2.06-.94-2.06-.94-.94-2.06-.94 2.06-2.06.94zm-11 1L8.5 8.5l.94-2.06 2.06-.94-2.06-.94L8.5 2.5l-.94 2.06-2.06.94zm10 10l.94 2.06.94-2.06 2.06-.94-2.06-.94-.94-2.06-.94 2.06-2.06.94z\"/><path d=\"M17.41 7.96l-1.37-1.37c-.4-.4-.92-.59-1.43-.59-.52 0-1.04.2-1.43.59L10.3 9.45l-7.72 7.72c-.78.78-.78 2.05 0 2.83L4 21.41c.39.39.9.59 1.41.59.51 0 1.02-.2 1.41-.59l7.78-7.78 2.81-2.81c.8-.78.8-2.07 0-2.86zM5.41 20L4 18.59l7.72-7.72 1.47 1.35L5.41 20z\"/>\n",
              "  </svg>\n",
              "      </button>\n",
              "      \n",
              "  <style>\n",
              "    .colab-df-container {\n",
              "      display:flex;\n",
              "      flex-wrap:wrap;\n",
              "      gap: 12px;\n",
              "    }\n",
              "\n",
              "    .colab-df-convert {\n",
              "      background-color: #E8F0FE;\n",
              "      border: none;\n",
              "      border-radius: 50%;\n",
              "      cursor: pointer;\n",
              "      display: none;\n",
              "      fill: #1967D2;\n",
              "      height: 32px;\n",
              "      padding: 0 0 0 0;\n",
              "      width: 32px;\n",
              "    }\n",
              "\n",
              "    .colab-df-convert:hover {\n",
              "      background-color: #E2EBFA;\n",
              "      box-shadow: 0px 1px 2px rgba(60, 64, 67, 0.3), 0px 1px 3px 1px rgba(60, 64, 67, 0.15);\n",
              "      fill: #174EA6;\n",
              "    }\n",
              "\n",
              "    [theme=dark] .colab-df-convert {\n",
              "      background-color: #3B4455;\n",
              "      fill: #D2E3FC;\n",
              "    }\n",
              "\n",
              "    [theme=dark] .colab-df-convert:hover {\n",
              "      background-color: #434B5C;\n",
              "      box-shadow: 0px 1px 3px 1px rgba(0, 0, 0, 0.15);\n",
              "      filter: drop-shadow(0px 1px 2px rgba(0, 0, 0, 0.3));\n",
              "      fill: #FFFFFF;\n",
              "    }\n",
              "  </style>\n",
              "\n",
              "      <script>\n",
              "        const buttonEl =\n",
              "          document.querySelector('#df-818fb26f-df18-4098-908e-ed96166a02ea button.colab-df-convert');\n",
              "        buttonEl.style.display =\n",
              "          google.colab.kernel.accessAllowed ? 'block' : 'none';\n",
              "\n",
              "        async function convertToInteractive(key) {\n",
              "          const element = document.querySelector('#df-818fb26f-df18-4098-908e-ed96166a02ea');\n",
              "          const dataTable =\n",
              "            await google.colab.kernel.invokeFunction('convertToInteractive',\n",
              "                                                     [key], {});\n",
              "          if (!dataTable) return;\n",
              "\n",
              "          const docLinkHtml = 'Like what you see? Visit the ' +\n",
              "            '<a target=\"_blank\" href=https://colab.research.google.com/notebooks/data_table.ipynb>data table notebook</a>'\n",
              "            + ' to learn more about interactive tables.';\n",
              "          element.innerHTML = '';\n",
              "          dataTable['output_type'] = 'display_data';\n",
              "          await google.colab.output.renderOutput(dataTable, element);\n",
              "          const docLink = document.createElement('div');\n",
              "          docLink.innerHTML = docLinkHtml;\n",
              "          element.appendChild(docLink);\n",
              "        }\n",
              "      </script>\n",
              "    </div>\n",
              "  </div>\n",
              "  "
            ]
          },
          "metadata": {},
          "execution_count": 116
        }
      ]
    },
    {
      "cell_type": "code",
      "source": [
        ""
      ],
      "metadata": {
        "id": "tC_A_AjmLXV1"
      },
      "id": "tC_A_AjmLXV1",
      "execution_count": null,
      "outputs": []
    },
    {
      "cell_type": "code",
      "source": [
        "print(X_train.shape, X_test.shape)"
      ],
      "metadata": {
        "colab": {
          "base_uri": "https://localhost:8080/"
        },
        "id": "UvdKDJ6dF_Ti",
        "outputId": "1dc23835-830e-4c1b-f421-b62ff5ed0621"
      },
      "id": "UvdKDJ6dF_Ti",
      "execution_count": null,
      "outputs": [
        {
          "output_type": "stream",
          "name": "stdout",
          "text": [
            "(27715, 1) (6929, 1)\n"
          ]
        }
      ]
    },
    {
      "cell_type": "code",
      "source": [
        "X_train"
      ],
      "metadata": {
        "colab": {
          "base_uri": "https://localhost:8080/",
          "height": 624
        },
        "id": "3etHuDAXLgc-",
        "outputId": "aa122f2f-0f04-4700-8dd4-6b697a9b5d6d"
      },
      "id": "3etHuDAXLgc-",
      "execution_count": null,
      "outputs": [
        {
          "output_type": "execute_result",
          "data": {
            "text/plain": [
              "                                                                                                                                                                                                   Review Text\n",
              "29862  this top was originally way overpriced. so i ordered it on sale for half price. still overpriced. it arrived yesterday and frankly i am disappointed. the quality is not great. it is like a jersey ...\n",
              "25016                                                                    the material is thin and of poor quality.  it snagged the first time i wore it. the arm holes are very low as other reviewers stated.\n",
              "23968  ordered on line and thought these are a great quality as i pulled them out of the box. tried them on and found minimal elastic for the waist. within minutes of wearing, the waist fell down past my...\n",
              "10448  i had to return my original order to size down - the bottom half was fine with either size, but the medium was baggy in the back torso area. (i'm 5'8\", 150#). i bought the \"tangerine\" version, whi...\n",
              "9699   i tried on this jumpsuit on a whim thinking it be a great throwback to the 70s. it is actually very flattering on, with the lines running down vertical, giving a slimming look to any figure. it is...\n",
              "...                                                                                                                                                                                                        ...\n",
              "23672  i really wanted these jeans to work but i am too curvy and not tall enough for them. i just felt like they were swallowing me up with fabric. i am 5'5\" and had a stacked boot heel on when i tried ...\n",
              "4871   i didn't think much of this tank while perusing sale items on the website. but after reading the reviews i decided to order it. and it did not disappoint. i ordered the green, which is more vibran...\n",
              "21099  but, it just doesn't measure up. first, the slip/lining comes unattached if pulled slightly and it is very difficult to actually get it on - either stepping into it or pulling it over your head. a...\n",
              "27369  i absolutely love the look of this shirt with the built in layering piece. the overall garment is lightweight and not too heavy even with the added layer. however; this runs really large. in gener...\n",
              "23117  i'm 4'10 and 105lbs..32c and hippy...i ordered the 00p and 0p.. bc i'm curvy the bigger size was better but the fit was just okay..couldn't justify the price. it's a beautiful dress in the green c...\n",
              "\n",
              "[27715 rows x 1 columns]"
            ],
            "text/html": [
              "\n",
              "  <div id=\"df-28e792c0-0759-4810-9654-d3077022163b\">\n",
              "    <div class=\"colab-df-container\">\n",
              "      <div>\n",
              "<style scoped>\n",
              "    .dataframe tbody tr th:only-of-type {\n",
              "        vertical-align: middle;\n",
              "    }\n",
              "\n",
              "    .dataframe tbody tr th {\n",
              "        vertical-align: top;\n",
              "    }\n",
              "\n",
              "    .dataframe thead th {\n",
              "        text-align: right;\n",
              "    }\n",
              "</style>\n",
              "<table border=\"1\" class=\"dataframe\">\n",
              "  <thead>\n",
              "    <tr style=\"text-align: right;\">\n",
              "      <th></th>\n",
              "      <th>Review Text</th>\n",
              "    </tr>\n",
              "  </thead>\n",
              "  <tbody>\n",
              "    <tr>\n",
              "      <th>29862</th>\n",
              "      <td>this top was originally way overpriced. so i ordered it on sale for half price. still overpriced. it arrived yesterday and frankly i am disappointed. the quality is not great. it is like a jersey ...</td>\n",
              "    </tr>\n",
              "    <tr>\n",
              "      <th>25016</th>\n",
              "      <td>the material is thin and of poor quality.  it snagged the first time i wore it. the arm holes are very low as other reviewers stated.</td>\n",
              "    </tr>\n",
              "    <tr>\n",
              "      <th>23968</th>\n",
              "      <td>ordered on line and thought these are a great quality as i pulled them out of the box. tried them on and found minimal elastic for the waist. within minutes of wearing, the waist fell down past my...</td>\n",
              "    </tr>\n",
              "    <tr>\n",
              "      <th>10448</th>\n",
              "      <td>i had to return my original order to size down - the bottom half was fine with either size, but the medium was baggy in the back torso area. (i'm 5'8\", 150#). i bought the \"tangerine\" version, whi...</td>\n",
              "    </tr>\n",
              "    <tr>\n",
              "      <th>9699</th>\n",
              "      <td>i tried on this jumpsuit on a whim thinking it be a great throwback to the 70s. it is actually very flattering on, with the lines running down vertical, giving a slimming look to any figure. it is...</td>\n",
              "    </tr>\n",
              "    <tr>\n",
              "      <th>...</th>\n",
              "      <td>...</td>\n",
              "    </tr>\n",
              "    <tr>\n",
              "      <th>23672</th>\n",
              "      <td>i really wanted these jeans to work but i am too curvy and not tall enough for them. i just felt like they were swallowing me up with fabric. i am 5'5\" and had a stacked boot heel on when i tried ...</td>\n",
              "    </tr>\n",
              "    <tr>\n",
              "      <th>4871</th>\n",
              "      <td>i didn't think much of this tank while perusing sale items on the website. but after reading the reviews i decided to order it. and it did not disappoint. i ordered the green, which is more vibran...</td>\n",
              "    </tr>\n",
              "    <tr>\n",
              "      <th>21099</th>\n",
              "      <td>but, it just doesn't measure up. first, the slip/lining comes unattached if pulled slightly and it is very difficult to actually get it on - either stepping into it or pulling it over your head. a...</td>\n",
              "    </tr>\n",
              "    <tr>\n",
              "      <th>27369</th>\n",
              "      <td>i absolutely love the look of this shirt with the built in layering piece. the overall garment is lightweight and not too heavy even with the added layer. however; this runs really large. in gener...</td>\n",
              "    </tr>\n",
              "    <tr>\n",
              "      <th>23117</th>\n",
              "      <td>i'm 4'10 and 105lbs..32c and hippy...i ordered the 00p and 0p.. bc i'm curvy the bigger size was better but the fit was just okay..couldn't justify the price. it's a beautiful dress in the green c...</td>\n",
              "    </tr>\n",
              "  </tbody>\n",
              "</table>\n",
              "<p>27715 rows × 1 columns</p>\n",
              "</div>\n",
              "      <button class=\"colab-df-convert\" onclick=\"convertToInteractive('df-28e792c0-0759-4810-9654-d3077022163b')\"\n",
              "              title=\"Convert this dataframe to an interactive table.\"\n",
              "              style=\"display:none;\">\n",
              "        \n",
              "  <svg xmlns=\"http://www.w3.org/2000/svg\" height=\"24px\"viewBox=\"0 0 24 24\"\n",
              "       width=\"24px\">\n",
              "    <path d=\"M0 0h24v24H0V0z\" fill=\"none\"/>\n",
              "    <path d=\"M18.56 5.44l.94 2.06.94-2.06 2.06-.94-2.06-.94-.94-2.06-.94 2.06-2.06.94zm-11 1L8.5 8.5l.94-2.06 2.06-.94-2.06-.94L8.5 2.5l-.94 2.06-2.06.94zm10 10l.94 2.06.94-2.06 2.06-.94-2.06-.94-.94-2.06-.94 2.06-2.06.94z\"/><path d=\"M17.41 7.96l-1.37-1.37c-.4-.4-.92-.59-1.43-.59-.52 0-1.04.2-1.43.59L10.3 9.45l-7.72 7.72c-.78.78-.78 2.05 0 2.83L4 21.41c.39.39.9.59 1.41.59.51 0 1.02-.2 1.41-.59l7.78-7.78 2.81-2.81c.8-.78.8-2.07 0-2.86zM5.41 20L4 18.59l7.72-7.72 1.47 1.35L5.41 20z\"/>\n",
              "  </svg>\n",
              "      </button>\n",
              "      \n",
              "  <style>\n",
              "    .colab-df-container {\n",
              "      display:flex;\n",
              "      flex-wrap:wrap;\n",
              "      gap: 12px;\n",
              "    }\n",
              "\n",
              "    .colab-df-convert {\n",
              "      background-color: #E8F0FE;\n",
              "      border: none;\n",
              "      border-radius: 50%;\n",
              "      cursor: pointer;\n",
              "      display: none;\n",
              "      fill: #1967D2;\n",
              "      height: 32px;\n",
              "      padding: 0 0 0 0;\n",
              "      width: 32px;\n",
              "    }\n",
              "\n",
              "    .colab-df-convert:hover {\n",
              "      background-color: #E2EBFA;\n",
              "      box-shadow: 0px 1px 2px rgba(60, 64, 67, 0.3), 0px 1px 3px 1px rgba(60, 64, 67, 0.15);\n",
              "      fill: #174EA6;\n",
              "    }\n",
              "\n",
              "    [theme=dark] .colab-df-convert {\n",
              "      background-color: #3B4455;\n",
              "      fill: #D2E3FC;\n",
              "    }\n",
              "\n",
              "    [theme=dark] .colab-df-convert:hover {\n",
              "      background-color: #434B5C;\n",
              "      box-shadow: 0px 1px 3px 1px rgba(0, 0, 0, 0.15);\n",
              "      filter: drop-shadow(0px 1px 2px rgba(0, 0, 0, 0.3));\n",
              "      fill: #FFFFFF;\n",
              "    }\n",
              "  </style>\n",
              "\n",
              "      <script>\n",
              "        const buttonEl =\n",
              "          document.querySelector('#df-28e792c0-0759-4810-9654-d3077022163b button.colab-df-convert');\n",
              "        buttonEl.style.display =\n",
              "          google.colab.kernel.accessAllowed ? 'block' : 'none';\n",
              "\n",
              "        async function convertToInteractive(key) {\n",
              "          const element = document.querySelector('#df-28e792c0-0759-4810-9654-d3077022163b');\n",
              "          const dataTable =\n",
              "            await google.colab.kernel.invokeFunction('convertToInteractive',\n",
              "                                                     [key], {});\n",
              "          if (!dataTable) return;\n",
              "\n",
              "          const docLinkHtml = 'Like what you see? Visit the ' +\n",
              "            '<a target=\"_blank\" href=https://colab.research.google.com/notebooks/data_table.ipynb>data table notebook</a>'\n",
              "            + ' to learn more about interactive tables.';\n",
              "          element.innerHTML = '';\n",
              "          dataTable['output_type'] = 'display_data';\n",
              "          await google.colab.output.renderOutput(dataTable, element);\n",
              "          const docLink = document.createElement('div');\n",
              "          docLink.innerHTML = docLinkHtml;\n",
              "          element.appendChild(docLink);\n",
              "        }\n",
              "      </script>\n",
              "    </div>\n",
              "  </div>\n",
              "  "
            ]
          },
          "metadata": {},
          "execution_count": 118
        }
      ]
    },
    {
      "cell_type": "markdown",
      "source": [
        "# Tokenization\n"
      ],
      "metadata": {
        "id": "J1uuQA17bLx7"
      },
      "id": "J1uuQA17bLx7"
    },
    {
      "cell_type": "code",
      "source": [
        "# utilize the most frequently apprearing words in the corpus\n",
        "num_words = 10000\n",
        "\n",
        "# tokenize the training data\n",
        "tokenizer = Tokenizer(num_words=num_words,\n",
        "                      filters='!\"#$%&()*+,-./:;<=>?@[\\\\]^_`{|}~\\t\\n1234567890') \n",
        "corpus = X_train['Review Text'].tolist() + X_test['Review Text'].tolist()\n",
        "tokenizer.fit_on_texts(corpus)"
      ],
      "metadata": {
        "id": "U-F3A3qWbBLz",
        "colab": {
          "base_uri": "https://localhost:8080/"
        },
        "outputId": "af084200-f4ab-4663-ffb0-217857afe423"
      },
      "id": "U-F3A3qWbBLz",
      "execution_count": null,
      "outputs": [
        {
          "output_type": "stream",
          "name": "stderr",
          "text": [
            "\r  0%|          | 0/50 [00:49<?, ?it/s]\n"
          ]
        }
      ]
    },
    {
      "cell_type": "code",
      "source": [
        "word_index = tokenizer.word_index\n"
      ],
      "metadata": {
        "id": "zJ-s4uNAbX_P"
      },
      "id": "zJ-s4uNAbX_P",
      "execution_count": null,
      "outputs": []
    },
    {
      "cell_type": "code",
      "source": [
        "# encode training/test data into sequences\n",
        "X_train_seq = tokenizer.texts_to_sequences(X_train['Review Text'].tolist())\n",
        "X_test_seq = tokenizer.texts_to_sequences(X_test['Review Text'].tolist())"
      ],
      "metadata": {
        "id": "f_YNt0bpbYDM"
      },
      "id": "f_YNt0bpbYDM",
      "execution_count": null,
      "outputs": []
    },
    {
      "cell_type": "code",
      "source": [
        "# define the max number of words to consider in each review\n",
        "maxlen = max([len(x) for x in X_train_seq])\n",
        "print(f\"Max sequence length: {maxlen}\\n\")\n",
        "\n",
        "# truncate and pad the training/test input sequences\n",
        "X_train_pad = pad_sequences(X_train_seq, maxlen=maxlen)\n",
        "X_test_pad = pad_sequences(X_test_seq, maxlen=maxlen)\n",
        "\n",
        "# output the resulting dimensions \n",
        "print(\"Padded shape (training):\".ljust(25), X_train_pad.shape)\n",
        "print(\"Padded shape (test):\".ljust(25), X_test_pad.shape)\n"
      ],
      "metadata": {
        "id": "4ZWX9iAabcU_",
        "colab": {
          "base_uri": "https://localhost:8080/"
        },
        "outputId": "56f7a841-077e-494e-d657-7d0e97950377"
      },
      "id": "4ZWX9iAabcU_",
      "execution_count": null,
      "outputs": [
        {
          "output_type": "stream",
          "name": "stdout",
          "text": [
            "Max sequence length: 114\n",
            "\n",
            "Padded shape (training):  (27715, 114)\n",
            "Padded shape (test):      (6929, 114)\n"
          ]
        }
      ]
    },
    {
      "cell_type": "code",
      "source": [
        "X_train_pad"
      ],
      "metadata": {
        "colab": {
          "base_uri": "https://localhost:8080/"
        },
        "id": "PlWt2qvTOr63",
        "outputId": "13ec311e-912a-4648-dfa1-dffc398bebe8"
      },
      "id": "PlWt2qvTOr63",
      "execution_count": null,
      "outputs": [
        {
          "output_type": "execute_result",
          "data": {
            "text/plain": [
              "array([[   0,    0,    0, ...,  386,  126,    4],\n",
              "       [   0,    0,    0, ...,  115,  354,  948],\n",
              "       [   0,    0,    0, ...,   16,  774,   46],\n",
              "       ...,\n",
              "       [   0,    0,    0, ...,    1,  149, 2042],\n",
              "       [   0,    0,    0, ...,   54,   23,    5],\n",
              "       [   0,    0,    0, ...,    4,  671, 2380]], dtype=int32)"
            ]
          },
          "metadata": {},
          "execution_count": 123
        }
      ]
    },
    {
      "cell_type": "markdown",
      "source": [
        "LSTM Neural Network\n"
      ],
      "metadata": {
        "id": "_n6GpTElbeXV"
      },
      "id": "_n6GpTElbeXV"
    },
    {
      "cell_type": "code",
      "source": [
        "# initiate LSTM for sequence classification\n",
        "model = Sequential()\n",
        "\n",
        "# embed each numeric in a 50-dimensional vector\n",
        "model.add(Embedding(len(word_index) + 1,\n",
        "                    50,     \n",
        "                    input_length=maxlen))\n",
        "\n",
        "# add bidirectional LSTM layer\n",
        "model.add(LSTM(100, dropout=0.3, recurrent_dropout=0.3))\n",
        "\n",
        "# add a classifier \n",
        "model.add(Dense(1, activation='sigmoid'))\n",
        "model.compile(loss='binary_crossentropy', optimizer='adam',metrics=['accuracy'])\n",
        "    \n",
        "model.summary()"
      ],
      "metadata": {
        "id": "4U5OLhScbcY2",
        "colab": {
          "base_uri": "https://localhost:8080/"
        },
        "outputId": "4fafc7f5-5339-4ed3-cc6e-f4d86ae4a59c"
      },
      "id": "4U5OLhScbcY2",
      "execution_count": null,
      "outputs": [
        {
          "output_type": "stream",
          "name": "stdout",
          "text": [
            "WARNING:tensorflow:Layer lstm_1 will not use cuDNN kernels since it doesn't meet the criteria. It will use a generic GPU kernel as fallback when running on GPU.\n"
          ]
        },
        {
          "output_type": "stream",
          "name": "stderr",
          "text": [
            "Layer lstm_1 will not use cuDNN kernels since it doesn't meet the criteria. It will use a generic GPU kernel as fallback when running on GPU.\n"
          ]
        },
        {
          "output_type": "stream",
          "name": "stdout",
          "text": [
            "Model: \"sequential_1\"\n",
            "_________________________________________________________________\n",
            " Layer (type)                Output Shape              Param #   \n",
            "=================================================================\n",
            " embedding_1 (Embedding)     (None, 114, 50)           707200    \n",
            "                                                                 \n",
            " lstm_1 (LSTM)               (None, 100)               60400     \n",
            "                                                                 \n",
            " dense_1 (Dense)             (None, 1)                 101       \n",
            "                                                                 \n",
            "=================================================================\n",
            "Total params: 767,701\n",
            "Trainable params: 767,701\n",
            "Non-trainable params: 0\n",
            "_________________________________________________________________\n"
          ]
        }
      ]
    },
    {
      "cell_type": "code",
      "source": [
        "batch_size = 512\n",
        "num_epochs = 1\n",
        "\n",
        "# train the model\n",
        "model.fit(X_train_pad, y_train, \n",
        "          epochs=num_epochs,\n",
        "          batch_size=batch_size)"
      ],
      "metadata": {
        "id": "8sdThciBbcb1",
        "colab": {
          "base_uri": "https://localhost:8080/"
        },
        "outputId": "4a4fb9bc-a278-4080-b722-1de13246a282"
      },
      "id": "8sdThciBbcb1",
      "execution_count": null,
      "outputs": [
        {
          "output_type": "stream",
          "name": "stdout",
          "text": [
            "55/55 [==============================] - 41s 681ms/step - loss: 0.5374 - accuracy: 0.7076\n"
          ]
        },
        {
          "output_type": "execute_result",
          "data": {
            "text/plain": [
              "<keras.callbacks.History at 0x7fb616fa4810>"
            ]
          },
          "metadata": {},
          "execution_count": 125
        }
      ]
    },
    {
      "cell_type": "markdown",
      "source": [
        "Evaluations"
      ],
      "metadata": {
        "id": "T8z9YVS8brQb"
      },
      "id": "T8z9YVS8brQb"
    },
    {
      "cell_type": "code",
      "source": [
        "# evaluate model on the test set\n",
        "model.evaluate(X_test_pad, y_test)\n",
        "y_test_pred = (model.predict(X_test_pad) >= 0.5).astype(\"int32\")"
      ],
      "metadata": {
        "id": "ETDO6oDubcfl",
        "colab": {
          "base_uri": "https://localhost:8080/"
        },
        "outputId": "4372db0b-4f9d-412f-ab53-5358d586d574"
      },
      "id": "ETDO6oDubcfl",
      "execution_count": null,
      "outputs": [
        {
          "output_type": "stream",
          "name": "stdout",
          "text": [
            "217/217 [==============================] - 9s 41ms/step - loss: 0.3184 - accuracy: 0.8698\n"
          ]
        }
      ]
    },
    {
      "cell_type": "code",
      "source": [
        "print(classification_report(y_test, y_test_pred))\n"
      ],
      "metadata": {
        "id": "dGr72urAbciy",
        "colab": {
          "base_uri": "https://localhost:8080/"
        },
        "outputId": "7626c867-8b07-4320-b2ab-c64825c023ec"
      },
      "id": "dGr72urAbciy",
      "execution_count": null,
      "outputs": [
        {
          "output_type": "stream",
          "name": "stdout",
          "text": [
            "              precision    recall  f1-score   support\n",
            "\n",
            "           0       0.79      0.91      0.85      3222\n",
            "           1       0.91      0.79      0.85      3707\n",
            "\n",
            "    accuracy                           0.85      6929\n",
            "   macro avg       0.85      0.85      0.85      6929\n",
            "weighted avg       0.85      0.85      0.85      6929\n",
            "\n"
          ]
        }
      ]
    },
    {
      "cell_type": "code",
      "source": [
        "model.save('LSTM_Implementation')\n"
      ],
      "metadata": {
        "colab": {
          "base_uri": "https://localhost:8080/"
        },
        "id": "Oc9j602nQcmL",
        "outputId": "3e2b54dc-f24b-4d2d-b18b-a72fc953042d"
      },
      "id": "Oc9j602nQcmL",
      "execution_count": null,
      "outputs": [
        {
          "output_type": "stream",
          "name": "stdout",
          "text": [
            "INFO:tensorflow:Assets written to: LSTM_Implementation/assets\n"
          ]
        },
        {
          "output_type": "stream",
          "name": "stderr",
          "text": [
            "Assets written to: LSTM_Implementation/assets\n",
            "<keras.layers.recurrent.LSTMCell object at 0x7fb61923f5d0> has the same name 'LSTMCell' as a built-in Keras object. Consider renaming <class 'keras.layers.recurrent.LSTMCell'> to avoid naming conflicts when loading with `tf.keras.models.load_model`. If renaming is not possible, pass the object in the `custom_objects` parameter of the load function.\n"
          ]
        }
      ]
    },
    {
      "cell_type": "markdown",
      "source": [
        "### **IMPLEMENTING TFIDF AND RANDOM FOREST**"
      ],
      "metadata": {
        "id": "rMa474mcQezk"
      },
      "id": "rMa474mcQezk"
    },
    {
      "cell_type": "markdown",
      "source": [
        "### **Loading the Augmented Dataset**"
      ],
      "metadata": {
        "id": "a-ic0r9QQ-Ef"
      },
      "id": "a-ic0r9QQ-Ef"
    },
    {
      "cell_type": "code",
      "source": [
        "dataset = pd.read_excel('/content/Augmented_Dataset.xlsx')\n"
      ],
      "metadata": {
        "id": "4F6JWq6eQeJr"
      },
      "id": "4F6JWq6eQeJr",
      "execution_count": null,
      "outputs": []
    },
    {
      "cell_type": "code",
      "source": [
        "dataset.dropna(inplace = True)"
      ],
      "metadata": {
        "id": "sfEQpnDW6Okq"
      },
      "id": "sfEQpnDW6Okq",
      "execution_count": null,
      "outputs": []
    },
    {
      "cell_type": "markdown",
      "source": [
        "## **Loading the Up Sampled Dataset**"
      ],
      "metadata": {
        "id": "JJZrU-1iRDIi"
      },
      "id": "JJZrU-1iRDIi"
    },
    {
      "cell_type": "code",
      "source": [
        "dataset = pd.read_excel('/content/Upsampled_Dataset.xlsx')\n"
      ],
      "metadata": {
        "id": "lKR2KrTMQ6Tu"
      },
      "id": "lKR2KrTMQ6Tu",
      "execution_count": null,
      "outputs": []
    },
    {
      "cell_type": "code",
      "source": [
        "# define the corpus\n",
        "corpus = dataset['Review Text']\n",
        "\n",
        "# max_feature helps condense the sparse matrix by keeping only the top n number of words in the corpus' vocabulary\n",
        "# in this case, the 1500 most frequent words are kept\n",
        "cv = TfidfVectorizer(max_features=1500)\n",
        "\n",
        "# create the matrix\n",
        "X = cv.fit_transform(corpus).toarray() \n",
        "\n",
        "# adding the dependent variable [recommended (1) vs not-recommended (0)]\n",
        "y = dataset['Recommended IND'].values"
      ],
      "metadata": {
        "id": "MzfknHIVRZSa"
      },
      "id": "MzfknHIVRZSa",
      "execution_count": null,
      "outputs": []
    },
    {
      "cell_type": "markdown",
      "source": [
        "Train/Test Split"
      ],
      "metadata": {
        "id": "7bRaINSQXlQh"
      },
      "id": "7bRaINSQXlQh"
    },
    {
      "cell_type": "code",
      "source": [
        "X_train, X_test, y_train, y_test = train_test_split(X, y, \n",
        "                                                    test_size=0.20, \n",
        "                                                    random_state=0, \n",
        "                                                    shuffle=True)"
      ],
      "metadata": {
        "id": "ZucK9TdnRZVY"
      },
      "id": "ZucK9TdnRZVY",
      "execution_count": null,
      "outputs": []
    },
    {
      "cell_type": "markdown",
      "source": [
        "Random Forest Classifier Implementation"
      ],
      "metadata": {
        "id": "Ac4KiAz0Xr6R"
      },
      "id": "Ac4KiAz0Xr6R"
    },
    {
      "cell_type": "code",
      "source": [
        "# fit the optimized Random Forest model onto the training set\n",
        "classifier = RandomForestClassifier(n_estimators=50, \n",
        "                                    criterion='gini', \n",
        "                                    random_state=random_state)\n",
        "classifier.fit(X_train, y_train)\n",
        "\n",
        "# predict the test results\n",
        "y_pred = classifier.predict(X_test)"
      ],
      "metadata": {
        "id": "23QxGl7gXvib"
      },
      "id": "23QxGl7gXvib",
      "execution_count": null,
      "outputs": []
    },
    {
      "cell_type": "code",
      "source": [
        "print(\"Accuracy:\".ljust(18), round(accuracy_score(y_test, y_pred),2))\n",
        "print(\"Recall Score:\".ljust(18), round(recall_score(y_test, y_pred),2))\n",
        "print(\"Percision Score:\".ljust(18), round(precision_score(y_test, y_pred),2))\n",
        "print(\"F1-Score:\".ljust(18), round(f1_score(y_test, y_pred),2))"
      ],
      "metadata": {
        "colab": {
          "base_uri": "https://localhost:8080/"
        },
        "id": "msF4CCtEXvp9",
        "outputId": "2492e5be-2ae6-466d-899c-b4a798177b7a"
      },
      "id": "msF4CCtEXvp9",
      "execution_count": null,
      "outputs": [
        {
          "output_type": "stream",
          "name": "stdout",
          "text": [
            "Accuracy:          0.97\n",
            "Recall Score:      0.95\n",
            "Percision Score:   0.99\n",
            "F1-Score:          0.97\n"
          ]
        }
      ]
    },
    {
      "cell_type": "code",
      "source": [
        "print(classification_report(y_test, y_pred))\n"
      ],
      "metadata": {
        "colab": {
          "base_uri": "https://localhost:8080/"
        },
        "id": "HOEKgHjBYX8g",
        "outputId": "5e341e51-7ff2-47eb-fcdd-0d68e86b7cd7"
      },
      "id": "HOEKgHjBYX8g",
      "execution_count": null,
      "outputs": [
        {
          "output_type": "stream",
          "name": "stdout",
          "text": [
            "              precision    recall  f1-score   support\n",
            "\n",
            "           0       0.94      0.98      0.96      3228\n",
            "           1       0.99      0.95      0.97      3701\n",
            "\n",
            "    accuracy                           0.97      6929\n",
            "   macro avg       0.97      0.97      0.97      6929\n",
            "weighted avg       0.97      0.97      0.97      6929\n",
            "\n"
          ]
        }
      ]
    },
    {
      "cell_type": "markdown",
      "source": [
        "## **IMPLEMETING COUNT VECTORIZER AND NAIVE BAYES CLASSIFIER**"
      ],
      "metadata": {
        "id": "1d9Uwu9W1Y1X"
      },
      "id": "1d9Uwu9W1Y1X"
    },
    {
      "cell_type": "markdown",
      "source": [
        "Loading the Augmented Dataset"
      ],
      "metadata": {
        "id": "qL-UpDZA1wLP"
      },
      "id": "qL-UpDZA1wLP"
    },
    {
      "cell_type": "code",
      "source": [
        "dataset = pd.read_excel('/content/Augmented_Dataset.xlsx')"
      ],
      "metadata": {
        "id": "YR3olLje1pzP"
      },
      "id": "YR3olLje1pzP",
      "execution_count": null,
      "outputs": []
    },
    {
      "cell_type": "code",
      "source": [
        "dataset.dropna(inplace = True)"
      ],
      "metadata": {
        "id": "RsdhQVQA51R-"
      },
      "id": "RsdhQVQA51R-",
      "execution_count": null,
      "outputs": []
    },
    {
      "cell_type": "markdown",
      "source": [
        "Loading the Up-Sampled Dataset"
      ],
      "metadata": {
        "id": "XgcukJqW13K4"
      },
      "id": "XgcukJqW13K4"
    },
    {
      "cell_type": "code",
      "source": [
        "dataset = pd.read_excel('/content/Upsampled_Dataset.xlsx')"
      ],
      "metadata": {
        "id": "dFOCqxme1p2o"
      },
      "id": "dFOCqxme1p2o",
      "execution_count": null,
      "outputs": []
    },
    {
      "cell_type": "code",
      "source": [
        "dataset.head()"
      ],
      "metadata": {
        "colab": {
          "base_uri": "https://localhost:8080/",
          "height": 320
        },
        "id": "byOt_wmU53JT",
        "outputId": "a45396de-d3c1-4400-8385-dcf3e99ca031"
      },
      "id": "byOt_wmU53JT",
      "execution_count": null,
      "outputs": [
        {
          "output_type": "execute_result",
          "data": {
            "text/plain": [
              "                                                                                                                                                                                               Review Text  \\\n",
              "0                                                                                                                                                    absolutely wonderful - silky and sexy and comfortable   \n",
              "1  love this dress!  it's sooo pretty.  i happened to find it in a store, and i'm glad i did bc i never would have ordered it online bc it's petite.  i bought a petite and am 5'8\".  i love the length...   \n",
              "2                                                                             i love, love, love this jumpsuit. it's fun, flirty, and fabulous! every time i wear it, i get nothing but great compliments!   \n",
              "3         this shirt is very flattering to all due to the adjustable front tie. it is the perfect length to wear with leggings and it is sleeveless so it pairs well with any cardigan. love this shirt!!!   \n",
              "4  i aded this in my basket at hte last mintue to see what it would look like in person. (store pick up). i went with teh darkler color only because i am so pale :-) hte color is really gorgeous, and...   \n",
              "\n",
              "   Recommended IND  \n",
              "0                1  \n",
              "1                1  \n",
              "2                1  \n",
              "3                1  \n",
              "4                1  "
            ],
            "text/html": [
              "\n",
              "  <div id=\"df-723c7410-218f-4281-b51b-937c5996ae35\">\n",
              "    <div class=\"colab-df-container\">\n",
              "      <div>\n",
              "<style scoped>\n",
              "    .dataframe tbody tr th:only-of-type {\n",
              "        vertical-align: middle;\n",
              "    }\n",
              "\n",
              "    .dataframe tbody tr th {\n",
              "        vertical-align: top;\n",
              "    }\n",
              "\n",
              "    .dataframe thead th {\n",
              "        text-align: right;\n",
              "    }\n",
              "</style>\n",
              "<table border=\"1\" class=\"dataframe\">\n",
              "  <thead>\n",
              "    <tr style=\"text-align: right;\">\n",
              "      <th></th>\n",
              "      <th>Review Text</th>\n",
              "      <th>Recommended IND</th>\n",
              "    </tr>\n",
              "  </thead>\n",
              "  <tbody>\n",
              "    <tr>\n",
              "      <th>0</th>\n",
              "      <td>absolutely wonderful - silky and sexy and comfortable</td>\n",
              "      <td>1</td>\n",
              "    </tr>\n",
              "    <tr>\n",
              "      <th>1</th>\n",
              "      <td>love this dress!  it's sooo pretty.  i happened to find it in a store, and i'm glad i did bc i never would have ordered it online bc it's petite.  i bought a petite and am 5'8\".  i love the length...</td>\n",
              "      <td>1</td>\n",
              "    </tr>\n",
              "    <tr>\n",
              "      <th>2</th>\n",
              "      <td>i love, love, love this jumpsuit. it's fun, flirty, and fabulous! every time i wear it, i get nothing but great compliments!</td>\n",
              "      <td>1</td>\n",
              "    </tr>\n",
              "    <tr>\n",
              "      <th>3</th>\n",
              "      <td>this shirt is very flattering to all due to the adjustable front tie. it is the perfect length to wear with leggings and it is sleeveless so it pairs well with any cardigan. love this shirt!!!</td>\n",
              "      <td>1</td>\n",
              "    </tr>\n",
              "    <tr>\n",
              "      <th>4</th>\n",
              "      <td>i aded this in my basket at hte last mintue to see what it would look like in person. (store pick up). i went with teh darkler color only because i am so pale :-) hte color is really gorgeous, and...</td>\n",
              "      <td>1</td>\n",
              "    </tr>\n",
              "  </tbody>\n",
              "</table>\n",
              "</div>\n",
              "      <button class=\"colab-df-convert\" onclick=\"convertToInteractive('df-723c7410-218f-4281-b51b-937c5996ae35')\"\n",
              "              title=\"Convert this dataframe to an interactive table.\"\n",
              "              style=\"display:none;\">\n",
              "        \n",
              "  <svg xmlns=\"http://www.w3.org/2000/svg\" height=\"24px\"viewBox=\"0 0 24 24\"\n",
              "       width=\"24px\">\n",
              "    <path d=\"M0 0h24v24H0V0z\" fill=\"none\"/>\n",
              "    <path d=\"M18.56 5.44l.94 2.06.94-2.06 2.06-.94-2.06-.94-.94-2.06-.94 2.06-2.06.94zm-11 1L8.5 8.5l.94-2.06 2.06-.94-2.06-.94L8.5 2.5l-.94 2.06-2.06.94zm10 10l.94 2.06.94-2.06 2.06-.94-2.06-.94-.94-2.06-.94 2.06-2.06.94z\"/><path d=\"M17.41 7.96l-1.37-1.37c-.4-.4-.92-.59-1.43-.59-.52 0-1.04.2-1.43.59L10.3 9.45l-7.72 7.72c-.78.78-.78 2.05 0 2.83L4 21.41c.39.39.9.59 1.41.59.51 0 1.02-.2 1.41-.59l7.78-7.78 2.81-2.81c.8-.78.8-2.07 0-2.86zM5.41 20L4 18.59l7.72-7.72 1.47 1.35L5.41 20z\"/>\n",
              "  </svg>\n",
              "      </button>\n",
              "      \n",
              "  <style>\n",
              "    .colab-df-container {\n",
              "      display:flex;\n",
              "      flex-wrap:wrap;\n",
              "      gap: 12px;\n",
              "    }\n",
              "\n",
              "    .colab-df-convert {\n",
              "      background-color: #E8F0FE;\n",
              "      border: none;\n",
              "      border-radius: 50%;\n",
              "      cursor: pointer;\n",
              "      display: none;\n",
              "      fill: #1967D2;\n",
              "      height: 32px;\n",
              "      padding: 0 0 0 0;\n",
              "      width: 32px;\n",
              "    }\n",
              "\n",
              "    .colab-df-convert:hover {\n",
              "      background-color: #E2EBFA;\n",
              "      box-shadow: 0px 1px 2px rgba(60, 64, 67, 0.3), 0px 1px 3px 1px rgba(60, 64, 67, 0.15);\n",
              "      fill: #174EA6;\n",
              "    }\n",
              "\n",
              "    [theme=dark] .colab-df-convert {\n",
              "      background-color: #3B4455;\n",
              "      fill: #D2E3FC;\n",
              "    }\n",
              "\n",
              "    [theme=dark] .colab-df-convert:hover {\n",
              "      background-color: #434B5C;\n",
              "      box-shadow: 0px 1px 3px 1px rgba(0, 0, 0, 0.15);\n",
              "      filter: drop-shadow(0px 1px 2px rgba(0, 0, 0, 0.3));\n",
              "      fill: #FFFFFF;\n",
              "    }\n",
              "  </style>\n",
              "\n",
              "      <script>\n",
              "        const buttonEl =\n",
              "          document.querySelector('#df-723c7410-218f-4281-b51b-937c5996ae35 button.colab-df-convert');\n",
              "        buttonEl.style.display =\n",
              "          google.colab.kernel.accessAllowed ? 'block' : 'none';\n",
              "\n",
              "        async function convertToInteractive(key) {\n",
              "          const element = document.querySelector('#df-723c7410-218f-4281-b51b-937c5996ae35');\n",
              "          const dataTable =\n",
              "            await google.colab.kernel.invokeFunction('convertToInteractive',\n",
              "                                                     [key], {});\n",
              "          if (!dataTable) return;\n",
              "\n",
              "          const docLinkHtml = 'Like what you see? Visit the ' +\n",
              "            '<a target=\"_blank\" href=https://colab.research.google.com/notebooks/data_table.ipynb>data table notebook</a>'\n",
              "            + ' to learn more about interactive tables.';\n",
              "          element.innerHTML = '';\n",
              "          dataTable['output_type'] = 'display_data';\n",
              "          await google.colab.output.renderOutput(dataTable, element);\n",
              "          const docLink = document.createElement('div');\n",
              "          docLink.innerHTML = docLinkHtml;\n",
              "          element.appendChild(docLink);\n",
              "        }\n",
              "      </script>\n",
              "    </div>\n",
              "  </div>\n",
              "  "
            ]
          },
          "metadata": {},
          "execution_count": 98
        }
      ]
    },
    {
      "cell_type": "code",
      "source": [
        "X = dataset['Review Text']\n",
        "y = dataset['Recommended IND']"
      ],
      "metadata": {
        "id": "qhutJS1Y2XIX"
      },
      "id": "qhutJS1Y2XIX",
      "execution_count": null,
      "outputs": []
    },
    {
      "cell_type": "code",
      "source": [
        "x, x_test, y, y_test = train_test_split(X, y, \n",
        "                                                    test_size=0.20, \n",
        "                                                    random_state=0, \n",
        "                                                    shuffle=True)"
      ],
      "metadata": {
        "id": "FPkJKrkv18EF"
      },
      "id": "FPkJKrkv18EF",
      "execution_count": null,
      "outputs": []
    },
    {
      "cell_type": "code",
      "source": [
        "from sklearn.feature_extraction.text import CountVectorizer\n"
      ],
      "metadata": {
        "id": "UgM8mRur5lEO"
      },
      "id": "UgM8mRur5lEO",
      "execution_count": null,
      "outputs": []
    },
    {
      "cell_type": "code",
      "source": [
        "# Vectorize text reviews to numbers\n",
        "vec = CountVectorizer(stop_words='english')\n",
        "x = vec.fit_transform(x).toarray()\n",
        "x_test = vec.transform(x_test).toarray()"
      ],
      "metadata": {
        "id": "qRCXAjjK18HD"
      },
      "id": "qRCXAjjK18HD",
      "execution_count": null,
      "outputs": []
    },
    {
      "cell_type": "code",
      "source": [
        "x"
      ],
      "metadata": {
        "colab": {
          "base_uri": "https://localhost:8080/"
        },
        "id": "zC_I_Kyp5vF4",
        "outputId": "9b29627f-5962-4fb0-dfc3-2632c4b3173b"
      },
      "id": "zC_I_Kyp5vF4",
      "execution_count": null,
      "outputs": [
        {
          "output_type": "execute_result",
          "data": {
            "text/plain": [
              "array([[0, 0, 0, ..., 0, 0, 0],\n",
              "       [0, 0, 0, ..., 0, 0, 0],\n",
              "       [0, 0, 0, ..., 0, 0, 0],\n",
              "       ...,\n",
              "       [0, 0, 0, ..., 0, 0, 0],\n",
              "       [0, 0, 0, ..., 0, 0, 0],\n",
              "       [0, 0, 0, ..., 0, 0, 0]])"
            ]
          },
          "metadata": {},
          "execution_count": 103
        }
      ]
    },
    {
      "cell_type": "markdown",
      "source": [
        "IMPLEMENTING THE NAIVE BAYES CLASSIFIER"
      ],
      "metadata": {
        "id": "v4rC78uQ2l0Q"
      },
      "id": "v4rC78uQ2l0Q"
    },
    {
      "cell_type": "code",
      "source": [
        "from sklearn.naive_bayes import MultinomialNB\n",
        "\n",
        "model_m = MultinomialNB()\n",
        "model_m.fit(x, y)"
      ],
      "metadata": {
        "colab": {
          "base_uri": "https://localhost:8080/"
        },
        "id": "jyq1WnO22lKQ",
        "outputId": "f872c91c-7ea4-4501-bcbd-12d1ec868bfb"
      },
      "id": "jyq1WnO22lKQ",
      "execution_count": null,
      "outputs": [
        {
          "output_type": "execute_result",
          "data": {
            "text/plain": [
              "MultinomialNB()"
            ]
          },
          "metadata": {},
          "execution_count": 104
        }
      ]
    },
    {
      "cell_type": "code",
      "source": [
        "model_m.score(x_test, y_test)\n"
      ],
      "metadata": {
        "colab": {
          "base_uri": "https://localhost:8080/"
        },
        "id": "iFzyEXAj2sLx",
        "outputId": "89345367-25c9-4616-cd1b-274743d49ca0"
      },
      "id": "iFzyEXAj2sLx",
      "execution_count": null,
      "outputs": [
        {
          "output_type": "execute_result",
          "data": {
            "text/plain": [
              "0.888151248376389"
            ]
          },
          "metadata": {},
          "execution_count": 105
        }
      ]
    },
    {
      "cell_type": "markdown",
      "source": [
        "## **Textual Adversarial Attack**"
      ],
      "metadata": {
        "id": "RE9AkJafcI0d"
      },
      "id": "RE9AkJafcI0d"
    },
    {
      "cell_type": "code",
      "source": [
        "class Tensor_FLOW_MODEL_WRAPPER(ModelWrapper):\n",
        "\n",
        "  def __init__(self, model):\n",
        "    self.model = model\n",
        "\n",
        "  def __call__(self, text_input_list):\n",
        "    text_array = np.array(text_input_list)\n",
        "    tokens = tokenizer.texts_to_sequences(text_input_list) \n",
        "    tokens_pad = pad_sequences(tokens, maxlen=maxlen)\n",
        "    model_pred = self.model.predict(tokens_pad)\n",
        "    logits = torch.FloatTensor(model_pred)\n",
        "    logits = logits.squeeze(dim=-1)\n",
        "    final_preds = torch.stack((1-logits, logits), dim=1)\n",
        "\n",
        "    return final_preds"
      ],
      "metadata": {
        "id": "jsY8AOyEcMqp"
      },
      "id": "jsY8AOyEcMqp",
      "execution_count": null,
      "outputs": []
    },
    {
      "cell_type": "markdown",
      "source": [
        "# Creating the Attack"
      ],
      "metadata": {
        "id": "AoWsVSfcdCL_"
      },
      "id": "AoWsVSfcdCL_"
    },
    {
      "cell_type": "code",
      "source": [
        "model_wrapper = Tensor_FLOW_MODEL_WRAPPER(model)\n",
        "data_pairs = []\n",
        "for input, label in zip(dataset['Review Text'], dataset['Recommended IND']):\n",
        "  data_pairs.append((input, label))\n",
        "\n",
        "new_dataset = Dataset(data_pairs, shuffle=True)"
      ],
      "metadata": {
        "id": "-ci2hR5AcMhE"
      },
      "id": "-ci2hR5AcMhE",
      "execution_count": null,
      "outputs": []
    },
    {
      "cell_type": "code",
      "source": [
        "goal_function = UntargetedClassification(model_wrapper)\n",
        "\n",
        "constraints = [\n",
        "    RepeatModification(),\n",
        "    StopwordModification(),\n",
        "    WordEmbeddingDistance(min_cos_sim=0.9)\n",
        "]\n",
        "\n",
        "transformation = WordSwapEmbedding(max_candidates=50)\n",
        "search_method = GreedyWordSwapWIR(wir_method=\"delete\")\n",
        "attack = Attack(goal_function, constraints, transformation, search_method)"
      ],
      "metadata": {
        "id": "Gurk2Lk0dLm7",
        "colab": {
          "base_uri": "https://localhost:8080/"
        },
        "outputId": "8203a0f6-0840-425c-b701-67c3ea7e8756"
      },
      "id": "Gurk2Lk0dLm7",
      "execution_count": null,
      "outputs": [
        {
          "output_type": "stream",
          "name": "stderr",
          "text": [
            "textattack: Unknown if model of class <class 'keras.engine.sequential.Sequential'> compatible with goal function <class 'textattack.goal_functions.classification.untargeted_classification.UntargetedClassification'>.\n"
          ]
        }
      ]
    },
    {
      "cell_type": "code",
      "source": [
        "# attack until 50 successfull attacks are reached\n",
        "attack_args = AttackArgs(num_successful_examples=50)\n",
        "\n",
        "attacker = Attacker(attack, new_dataset, attack_args)\n",
        "\n",
        "attack_results = attacker.attack_dataset()"
      ],
      "metadata": {
        "id": "XgYw3NxzdLqH",
        "colab": {
          "base_uri": "https://localhost:8080/"
        },
        "outputId": "670f2f18-4209-4008-c253-d8ef83fd9ba8"
      },
      "id": "XgYw3NxzdLqH",
      "execution_count": null,
      "outputs": [
        {
          "output_type": "stream",
          "name": "stderr",
          "text": [
            "\r  0%|          | 0/50 [00:00<?, ?it/s]"
          ]
        },
        {
          "output_type": "stream",
          "name": "stdout",
          "text": [
            "Attack(\n",
            "  (search_method): GreedyWordSwapWIR(\n",
            "    (wir_method):  delete\n",
            "  )\n",
            "  (goal_function):  UntargetedClassification\n",
            "  (transformation):  WordSwapEmbedding(\n",
            "    (max_candidates):  50\n",
            "    (embedding):  WordEmbedding\n",
            "  )\n",
            "  (constraints): \n",
            "    (0): WordEmbeddingDistance(\n",
            "        (embedding):  WordEmbedding\n",
            "        (min_cos_sim):  0.9\n",
            "        (cased):  False\n",
            "        (include_unknown_words):  True\n",
            "        (compare_against_original):  True\n",
            "      )\n",
            "    (1): RepeatModification\n",
            "    (2): StopwordModification\n",
            "  (is_black_box):  True\n",
            ") \n",
            "\n"
          ]
        },
        {
          "output_type": "stream",
          "name": "stderr",
          "text": [
            "[Succeeded / Failed / Skipped / Total] 1 / 0 / 0 / 1:   2%|▏         | 1/50 [00:01<01:02,  1.27s/it]"
          ]
        },
        {
          "output_type": "stream",
          "name": "stdout",
          "text": [
            "--------------------------------------------- Result 1 ---------------------------------------------\n",
            "[[1 (74%)]] --> [[0 (56%)]]\n",
            "\n",
            "the sleeves are a [[bit]] too voluminous and the solid color collar stands out a [[bit]] too much.  but it's a cute pattern and style.  very [[comfortable]].\n",
            "\n",
            "the sleeves are a [[bite]] too voluminous and the solid color collar stands out a [[bite]] too much.  but it's a cute pattern and style.  very [[cosy]].\n",
            "\n",
            "\n"
          ]
        },
        {
          "output_type": "stream",
          "name": "stderr",
          "text": [
            "\r[Succeeded / Failed / Skipped / Total] 1 / 1 / 0 / 2:   2%|▏         | 1/50 [00:12<09:57, 12.19s/it]"
          ]
        },
        {
          "output_type": "stream",
          "name": "stdout",
          "text": [
            "--------------------------------------------- Result 2 ---------------------------------------------\n",
            "[[1 (97%)]] --> [[[FAILED]]]\n",
            "\n",
            "i purchased another top, same brand, in the same style from retailer and really love it. the fabric is lightweight, which makes it great for multiple seasons. i travel extensively and these tops hand wash and hang to dry very nicely. i wear a gray tank under this one and love the look. i also like the long length. as usual, i will probably tack the neckline up an inch or so, so that it's not so low - just my thing. overall, the pattern and the fabric are very nice. i usually wear an xs or s; i pur\n",
            "\n",
            "\n"
          ]
        },
        {
          "output_type": "stream",
          "name": "stderr",
          "text": [
            "\r[Succeeded / Failed / Skipped / Total] 1 / 2 / 0 / 3:   2%|▏         | 1/50 [00:14<12:02, 14.74s/it]"
          ]
        },
        {
          "output_type": "stream",
          "name": "stdout",
          "text": [
            "--------------------------------------------- Result 3 ---------------------------------------------\n",
            "[[0 (81%)]] --> [[[FAILED]]]\n",
            "\n",
            "the stone color was nice, but the material is heavy and doesn't breath. if you are partial to more natural fabrics i would go with a different item. upside would be that i imagine this shirt will last.\n",
            "\n",
            "\n"
          ]
        },
        {
          "output_type": "stream",
          "name": "stderr",
          "text": [
            "\r[Succeeded / Failed / Skipped / Total] 1 / 3 / 0 / 4:   2%|▏         | 1/50 [00:16<13:29, 16.51s/it]"
          ]
        },
        {
          "output_type": "stream",
          "name": "stdout",
          "text": [
            "--------------------------------------------- Result 4 ---------------------------------------------\n",
            "[[0 (87%)]] --> [[[FAILED]]]\n",
            "\n",
            "i wanted to love this dress but it was too large... and once i washed it (which is recommended) it shrank so i had to return it.\n",
            "\n",
            "\n"
          ]
        },
        {
          "output_type": "stream",
          "name": "stderr",
          "text": [
            "[Succeeded / Failed / Skipped / Total] 2 / 3 / 0 / 5:   4%|▍         | 2/50 [00:19<07:46,  9.72s/it]"
          ]
        },
        {
          "output_type": "stream",
          "name": "stdout",
          "text": [
            "--------------------------------------------- Result 5 ---------------------------------------------\n",
            "[[0 (82%)]] --> [[1 (51%)]]\n",
            "\n",
            "this dress hit my waist in a [[weird]] [[spot]] and was too short. i would not have felt comfortable bending over. it was a tad too full which wasn't flattering either.\r\n",
            "i really [[wanted]] to love it bc they [[design]] is [[adorable]].\r\n",
            "i [[need]] to [[return]] it!!\n",
            "\n",
            "this dress hit my waist in a [[curious]] [[smudge]] and was too short. i would not have felt comfortable bending over. it was a tad too full which wasn't flattering either.\r\n",
            "i really [[wished]] to love it bc they [[designs]] is [[charming]].\r\n",
            "i [[needed]] to [[comeback]] it!!\n",
            "\n",
            "\n"
          ]
        },
        {
          "output_type": "stream",
          "name": "stderr",
          "text": [
            "\r[Succeeded / Failed / Skipped / Total] 2 / 4 / 0 / 6:   4%|▍         | 2/50 [00:20<08:13, 10.28s/it]"
          ]
        },
        {
          "output_type": "stream",
          "name": "stdout",
          "text": [
            "--------------------------------------------- Result 6 ---------------------------------------------\n",
            "[[1 (87%)]] --> [[[FAILED]]]\n",
            "\n",
            "great skirt, can be dressy, work or casual, love it!\n",
            "\n",
            "\n"
          ]
        },
        {
          "output_type": "stream",
          "name": "stderr",
          "text": [
            "[Succeeded / Failed / Skipped / Total] 3 / 4 / 0 / 7:   6%|▌         | 3/50 [00:21<05:41,  7.27s/it]"
          ]
        },
        {
          "output_type": "stream",
          "name": "stdout",
          "text": [
            "--------------------------------------------- Result 7 ---------------------------------------------\n",
            "[[1 (52%)]] --> [[0 (63%)]]\n",
            "\n",
            "i like this top a lot, and have always liked knotted looks around the bust area. i do not have a large chest, and this kind of top always draws attention in all the right places. i was worried the cut would be too low for my comfort level-and it is low but the shirt does not come away from my body in normal movements so i do feel completely [[comfortable]] wearing this without a cami underneath. i don't prefer this in black because i think the color detracts from the bunches of fabric created by the\n",
            "\n",
            "i like this top a lot, and have always liked knotted looks around the bust area. i do not have a large chest, and this kind of top always draws attention in all the right places. i was worried the cut would be too low for my comfort level-and it is low but the shirt does not come away from my body in normal movements so i do feel completely [[cosy]] wearing this without a cami underneath. i don't prefer this in black because i think the color detracts from the bunches of fabric created by the\n",
            "\n",
            "\n"
          ]
        },
        {
          "output_type": "stream",
          "name": "stderr",
          "text": [
            "[Succeeded / Failed / Skipped / Total] 4 / 4 / 0 / 8:   8%|▊         | 4/50 [00:22<04:23,  5.73s/it]"
          ]
        },
        {
          "output_type": "stream",
          "name": "stdout",
          "text": [
            "--------------------------------------------- Result 8 ---------------------------------------------\n",
            "[[1 (88%)]] --> [[0 (63%)]]\n",
            "\n",
            "this dress [[got]] my attention in the store due to the bright color. it's like a tangerine orange that absolutely shouts summer. loved the asymmetrical hem and another plus was the pockets! they look completely hidden so the dress does [[fall]] flat. i thought this ran a [[little]] big in the chest area, which doesn't happen often. a size 8 worked for me, can't [[wait]] to wear this!\n",
            "\n",
            "this dress [[get]] my attention in the store due to the bright color. it's like a tangerine orange that absolutely shouts summer. loved the asymmetrical hem and another plus was the pockets! they look completely hidden so the dress does [[slumps]] flat. i thought this ran a [[small]] big in the chest area, which doesn't happen often. a size 8 worked for me, can't [[expecting]] to wear this!\n",
            "\n",
            "\n"
          ]
        },
        {
          "output_type": "stream",
          "name": "stderr",
          "text": [
            "[Succeeded / Failed / Skipped / Total] 5 / 4 / 0 / 9:  10%|█         | 5/50 [00:26<03:54,  5.20s/it]"
          ]
        },
        {
          "output_type": "stream",
          "name": "stdout",
          "text": [
            "--------------------------------------------- Result 9 ---------------------------------------------\n",
            "[[0 (86%)]] --> [[1 (53%)]]\n",
            "\n",
            "omg - i laughed so [[hard]] after i put these on. i was so [[excited]] to get them. i [[ordered]] them in my usual 4. i got a little suspicious when i [[pulled]] them out and noticed they had an [[elastic]] waist [[band]].\n",
            "\n",
            "they were a little too [[small]] for me and even if they were not it's [[hard]] to [[imagine]] a world in which they didn't make me [[look]] like an oompa loompa or a hobbit! they are beautifully made and i [[kept]] [[looking]] at the [[picture]] and wondering why they don't [[look]] like that on me? i definitely have a curvier sh\n",
            "\n",
            "omg - i laughed so [[tough]] after i put these on. i was so [[excite]] to get them. i [[decreed]] them in my usual 4. i got a little suspicious when i [[pulls]] them out and noticed they had an [[stretchy]] waist [[banding]].\n",
            "\n",
            "they were a little too [[little]] for me and even if they were not it's [[tough]] to [[suppose]] a world in which they didn't make me [[gaze]] like an oompa loompa or a hobbit! they are beautifully made and i [[retained]] [[searching]] at the [[photographed]] and wondering why they don't [[gaze]] like that on me? i definitely have a curvier sh\n",
            "\n",
            "\n"
          ]
        },
        {
          "output_type": "stream",
          "name": "stderr",
          "text": [
            "\r[Succeeded / Failed / Skipped / Total] 5 / 5 / 0 / 10:  10%|█         | 5/50 [00:31<04:40,  6.24s/it]"
          ]
        },
        {
          "output_type": "stream",
          "name": "stdout",
          "text": [
            "--------------------------------------------- Result 10 ---------------------------------------------\n",
            "[[1 (97%)]] --> [[[FAILED]]]\n",
            "\n",
            "i absolutely love this blouse! it's easily one of my favorite retailer finds in several seasons. it is quite roomy, so anyone hoping for a more form fitting cut won't find it here. this is the type of fit i prefer for summer though, as missouri is just disgustingly humid and i can't stand to wear anything clingy once it heats up. it's sheer, so a cami is required. it's also wrinkle prone, but the fabric is almost like a gauze and is not meant to be perfectly pressed and crisp. it's perfect to thro\n",
            "\n",
            "\n"
          ]
        },
        {
          "output_type": "stream",
          "name": "stderr",
          "text": [
            "[Succeeded / Failed / Skipped / Total] 6 / 5 / 0 / 11:  12%|█▏        | 6/50 [00:33<04:02,  5.51s/it]"
          ]
        },
        {
          "output_type": "stream",
          "name": "stdout",
          "text": [
            "--------------------------------------------- Result 11 ---------------------------------------------\n",
            "[[1 (96%)]] --> [[0 (51%)]]\n",
            "\n",
            "i [[bought]] this for my girlfriend with the hope that my presumptive intuition about her style preferences and the fit itself would prove successful. fortunately she [[loves]] it and looks [[amazing]] in it!\n",
            "\n",
            "the [[colors]] are [[vibrant]] and the [[unique]] texture really lends itself toward a [[clothing]] item that is special- even for retailer.\n",
            "\n",
            "[[recommend]] it [[highly]]!\n",
            "\n",
            "i [[procured]] this for my girlfriend with the hope that my presumptive intuition about her style preferences and the fit itself would prove successful. fortunately she [[adores]] it and looks [[unbelievable]] in it!\n",
            "\n",
            "the [[colour]] are [[lively]] and the [[singular]] texture really lends itself toward a [[apparel]] item that is special- even for retailer.\n",
            "\n",
            "[[recommends]] it [[extremely]]!\n",
            "\n",
            "\n"
          ]
        },
        {
          "output_type": "stream",
          "name": "stderr",
          "text": [
            "[Succeeded / Failed / Skipped / Total] 7 / 5 / 0 / 12:  14%|█▍        | 7/50 [00:36<03:43,  5.20s/it]"
          ]
        },
        {
          "output_type": "stream",
          "name": "stdout",
          "text": [
            "--------------------------------------------- Result 12 ---------------------------------------------\n",
            "[[0 (89%)]] --> [[1 (57%)]]\n",
            "\n",
            "this top was gorgeous and fit perfectly right out of the [[bag]], with only a quick ironing. [[unfortunately]], the first time i [[washed]] it ([[cold]] water, hang [[dry]]), it [[shrunk]] so that it no longer fits [[across]] the [[bust]] without tape where it was once roomy, is much shorter, and feels rougher to the touch. like another [[reviewer]] said ([[unfortunately]], after i had purchased and [[washed]]!), i wish the [[label]] would have just said to [[dry]] clean only, because i regret [[washing]] it and would have done otherwise if i had kno\n",
            "\n",
            "this top was gorgeous and fit perfectly right out of the [[purse]], with only a quick ironing. [[unluckily]], the first time i [[rinsed]] it ([[chilly]] water, hang [[dried]]), it [[declined]] so that it no longer fits [[throughout]] the [[busted]] without tape where it was once roomy, is much shorter, and feels rougher to the touch. like another [[assessor]] said ([[unluckily]], after i had purchased and [[rinsed]]!), i wish the [[tagging]] would have just said to [[dried]] clean only, because i regret [[washes]] it and would have done otherwise if i had kno\n",
            "\n",
            "\n"
          ]
        },
        {
          "output_type": "stream",
          "name": "stderr",
          "text": [
            "\r[Succeeded / Failed / Skipped / Total] 7 / 6 / 0 / 13:  14%|█▍        | 7/50 [00:37<03:53,  5.43s/it]"
          ]
        },
        {
          "output_type": "stream",
          "name": "stdout",
          "text": [
            "--------------------------------------------- Result 13 ---------------------------------------------\n",
            "[[0 (95%)]] --> [[[FAILED]]]\n",
            "\n",
            "bought this shirt on-line. wanted to love it but just couldn't. i ordered the xs and it was huge and way too unstructured for my style....just didn't have enough shape. had to send it back.\n",
            "\n",
            "\n"
          ]
        },
        {
          "output_type": "stream",
          "name": "stderr",
          "text": [
            "\r[Succeeded / Failed / Skipped / Total] 7 / 7 / 0 / 14:  14%|█▍        | 7/50 [00:39<04:01,  5.61s/it]"
          ]
        },
        {
          "output_type": "stream",
          "name": "stdout",
          "text": [
            "--------------------------------------------- Result 14 ---------------------------------------------\n",
            "[[0 (87%)]] --> [[[FAILED]]]\n",
            "\n",
            "i hated to send this dress back, but my busty and curvy figure looked bigger and rounder in this dress. sent it back. it is meant for taller and more slender women.\n",
            "\n",
            "\n"
          ]
        },
        {
          "output_type": "stream",
          "name": "stderr",
          "text": [
            "[Succeeded / Failed / Skipped / Total] 8 / 7 / 0 / 15:  16%|█▌        | 8/50 [00:40<03:31,  5.04s/it]"
          ]
        },
        {
          "output_type": "stream",
          "name": "stdout",
          "text": [
            "--------------------------------------------- Result 15 ---------------------------------------------\n",
            "[[1 (79%)]] --> [[0 (57%)]]\n",
            "\n",
            "i [[love]] anna sui's lines makeup to everything. this dress is beautiful in a very [[usual]] sort of way and after trying it on, i couldn't see anything spectacular that made it [[unique]] or special somehow. the elastic waist does make this dress forgiving and it runs big. the hem is lovely scalloped. each [[detail]] is very nice in and of itself but when put together in this dress, there is no wow that justifies the full price tag. now that it's on sale i'll keep it probably for summer.\n",
            "\n",
            "i [[loved]] anna sui's lines makeup to everything. this dress is beautiful in a very [[normal]] sort of way and after trying it on, i couldn't see anything spectacular that made it [[singular]] or special somehow. the elastic waist does make this dress forgiving and it runs big. the hem is lovely scalloped. each [[details]] is very nice in and of itself but when put together in this dress, there is no wow that justifies the full price tag. now that it's on sale i'll keep it probably for summer.\n",
            "\n",
            "\n"
          ]
        },
        {
          "output_type": "stream",
          "name": "stderr",
          "text": [
            "\r[Succeeded / Failed / Skipped / Total] 8 / 8 / 0 / 16:  16%|█▌        | 8/50 [00:42<03:41,  5.27s/it]"
          ]
        },
        {
          "output_type": "stream",
          "name": "stdout",
          "text": [
            "--------------------------------------------- Result 16 ---------------------------------------------\n",
            "[[1 (98%)]] --> [[[FAILED]]]\n",
            "\n",
            "this dress is so soft, and fits like a dream. i'm a new mom and the tie perfectly masks what's left of my mummy tummy, while still helping me feel stylish for fall!\n",
            "\n",
            "\n"
          ]
        },
        {
          "output_type": "stream",
          "name": "stderr",
          "text": [
            "\r[Succeeded / Failed / Skipped / Total] 8 / 9 / 0 / 17:  16%|█▌        | 8/50 [00:46<04:05,  5.85s/it]"
          ]
        },
        {
          "output_type": "stream",
          "name": "stdout",
          "text": [
            "--------------------------------------------- Result 17 ---------------------------------------------\n",
            "[[0 (81%)]] --> [[[FAILED]]]\n",
            "\n",
            "purchased these pants that i had quickly tried on. when i got home, i re-tried them and felt they were too snug and the material had an odd feel and did not lay right. i took them back and tried them in the next size. they fit much better but the material did not lay well on me. i think that they are a bit too stretchy and ended up not buying the larger ones either. i would definitely recommend trying these in a store rather then ordering online.\n",
            "\n",
            "\n"
          ]
        },
        {
          "output_type": "stream",
          "name": "stderr",
          "text": [
            "[Succeeded / Failed / Skipped / Total] 8 / 10 / 1 / 19:  16%|█▌        | 8/50 [00:49<04:18,  6.15s/it]"
          ]
        },
        {
          "output_type": "stream",
          "name": "stdout",
          "text": [
            "--------------------------------------------- Result 18 ---------------------------------------------\n",
            "[[0 (91%)]] --> [[[FAILED]]]\n",
            "\n",
            "i&#39;m taller (5&#39;8), so it&#39;s not uncommon for things to be too short on me, but this was really short for the style.  it was very wide and loose all over in my usual size - both up top and in the wavy part below.  the style really just did not work with the length.  it looked very odd.\n",
            "\n",
            "\n",
            "--------------------------------------------- Result 19 ---------------------------------------------\n",
            "[[1 (74%)]] --> [[[SKIPPED]]]\n",
            "\n",
            "i'm 5'3\" 115 lbs and ordered an xs petite. i have other dresses from maeve in xs petite and xxs petite that fit really well, but this one was weirdly big at the top\n",
            "\n",
            "\n"
          ]
        },
        {
          "output_type": "stream",
          "name": "stderr",
          "text": [
            "[Succeeded / Failed / Skipped / Total] 9 / 10 / 1 / 20:  18%|█▊        | 9/50 [00:50<03:48,  5.57s/it]"
          ]
        },
        {
          "output_type": "stream",
          "name": "stdout",
          "text": [
            "--------------------------------------------- Result 20 ---------------------------------------------\n",
            "[[1 (74%)]] --> [[0 (57%)]]\n",
            "\n",
            "i [[got]] this top to wear with shorts as the color goes with a lot of different prints. the quality is excellent. this top runs very large, as in three (3) sizes too large. for the record i am a 34.25.35 and ordered my regular size the xs and this top makes me like i'm pregnant with twins. also, the layering looks nothing like it does on the model, it looks sloppy, unkept and a general. i think this would still be [[great]] for ladies who are bigger in the chest and waist, otherwise it just doesn't wor\n",
            "\n",
            "i [[get]] this top to wear with shorts as the color goes with a lot of different prints. the quality is excellent. this top runs very large, as in three (3) sizes too large. for the record i am a 34.25.35 and ordered my regular size the xs and this top makes me like i'm pregnant with twins. also, the layering looks nothing like it does on the model, it looks sloppy, unkept and a general. i think this would still be [[tremendous]] for ladies who are bigger in the chest and waist, otherwise it just doesn't wor\n",
            "\n",
            "\n"
          ]
        },
        {
          "output_type": "stream",
          "name": "stderr",
          "text": [
            "\r[Succeeded / Failed / Skipped / Total] 9 / 11 / 1 / 21:  18%|█▊        | 9/50 [00:52<03:57,  5.80s/it]"
          ]
        },
        {
          "output_type": "stream",
          "name": "stdout",
          "text": [
            "--------------------------------------------- Result 21 ---------------------------------------------\n",
            "[[0 (94%)]] --> [[[FAILED]]]\n",
            "\n",
            "this would have been a cute top but the shoulder seams come halfway down the arm and give it a really weird shape. it looks smooth and fine on the model but in real life they stick out and make you look boxy. too bad!\n",
            "\n",
            "\n"
          ]
        },
        {
          "output_type": "stream",
          "name": "stderr",
          "text": [
            "[Succeeded / Failed / Skipped / Total] 10 / 11 / 1 / 22:  20%|██        | 10/50 [00:53<03:35,  5.39s/it]"
          ]
        },
        {
          "output_type": "stream",
          "name": "stdout",
          "text": [
            "--------------------------------------------- Result 22 ---------------------------------------------\n",
            "[[0 (76%)]] --> [[1 (53%)]]\n",
            "\n",
            "i had read a few reviews on this shirt before ordering that said it ran small and was shorter than it looks. i thought it was worth finding out because i really liked how this shirt looks in the pictures on the store site. [[unfortunately]], when i got it in the mail and [[opened]] it up i found out that all the [[earlier]] review were right.\r\n",
            "\r\n",
            "it is much shorter than the dimensions [[implied]] in the [[pictures]] of the [[model]]. i was [[expecting]] a tunic style shirt that could be worn over leggings or skinny jeans th\n",
            "\n",
            "i had read a few reviews on this shirt before ordering that said it ran small and was shorter than it looks. i thought it was worth finding out because i really liked how this shirt looks in the pictures on the store site. [[unluckily]], when i got it in the mail and [[open]] it up i found out that all the [[previously]] review were right.\r\n",
            "\r\n",
            "it is much shorter than the dimensions [[implicit]] in the [[photographed]] of the [[modeling]]. i was [[wait]] a tunic style shirt that could be worn over leggings or skinny jeans th\n",
            "\n",
            "\n"
          ]
        },
        {
          "output_type": "stream",
          "name": "stderr",
          "text": [
            "\r[Succeeded / Failed / Skipped / Total] 10 / 12 / 1 / 23:  20%|██        | 10/50 [00:56<03:47,  5.69s/it]"
          ]
        },
        {
          "output_type": "stream",
          "name": "stdout",
          "text": [
            "--------------------------------------------- Result 23 ---------------------------------------------\n",
            "[[0 (96%)]] --> [[[FAILED]]]\n",
            "\n",
            "i ordered this top in a 14, my usual size, and it fits fine, but it is way too short-waisted! it looks nothing like what the model is wearing. her top comes low on her waist, almost to her crotch area. mine was just about 2 inches below my belly button! it was almost as if they accidentally cut off the lower half of the top at the factory! very strange.\n",
            "\n",
            "\n"
          ]
        },
        {
          "output_type": "stream",
          "name": "stderr",
          "text": [
            "[Succeeded / Failed / Skipped / Total] 11 / 12 / 1 / 24:  22%|██▏       | 11/50 [00:57<03:24,  5.25s/it]"
          ]
        },
        {
          "output_type": "stream",
          "name": "stdout",
          "text": [
            "--------------------------------------------- Result 24 ---------------------------------------------\n",
            "[[1 (92%)]] --> [[0 (50%)]]\n",
            "\n",
            "i love the fabric, since it's fall wasn't expecting it to be light. but its not heavy either. just the right balance.\r\n",
            "this is one of those classics. i [[love]] the collage like pattern of the fabric.\r\n",
            "the fit is [[true]] to size and looks [[great]] with bootie/boots. ([[dressed]] up or down).\n",
            "\n",
            "i love the fabric, since it's fall wasn't expecting it to be light. but its not heavy either. just the right balance.\r\n",
            "this is one of those classics. i [[loved]] the collage like pattern of the fabric.\r\n",
            "the fit is [[genuine]] to size and looks [[tremendous]] with bootie/boots. ([[attired]] up or down).\n",
            "\n",
            "\n"
          ]
        },
        {
          "output_type": "stream",
          "name": "stderr",
          "text": [
            "[Succeeded / Failed / Skipped / Total] 11 / 13 / 2 / 26:  22%|██▏       | 11/50 [00:59<03:29,  5.37s/it]"
          ]
        },
        {
          "output_type": "stream",
          "name": "stdout",
          "text": [
            "--------------------------------------------- Result 25 ---------------------------------------------\n",
            "[[1 (98%)]] --> [[[FAILED]]]\n",
            "\n",
            "i am super happy with the t-shirt....it fits true to size and the cut outs are a great detail!! i'm thinking about buying another!!\n",
            "\n",
            "\n",
            "--------------------------------------------- Result 26 ---------------------------------------------\n",
            "[[0 (62%)]] --> [[[SKIPPED]]]\n",
            "\n",
            "the fabric on this dress is gorgeous. i wish it was tailored a bit more because as it is, it looks like a muumuu. i wish it would have fit better, but i returned it.\n",
            "\n",
            "\n"
          ]
        },
        {
          "output_type": "stream",
          "name": "stderr",
          "text": [
            "[Succeeded / Failed / Skipped / Total] 12 / 13 / 2 / 27:  24%|██▍       | 12/50 [01:00<03:12,  5.06s/it]"
          ]
        },
        {
          "output_type": "stream",
          "name": "stdout",
          "text": [
            "--------------------------------------------- Result 27 ---------------------------------------------\n",
            "[[0 (86%)]] --> [[1 (69%)]]\n",
            "\n",
            "i love the [[idea]] of ruffles, but this shirt was [[huge]]! i normally wear a small or medium, and i got the [[small]]. it felt more like a large to me. [[maybe]] if you size down 1-2 [[sizes]], it will [[work]] out for you. i'm going to take it back rather than exchange. i [[also]] wish it was a more lightweight [[material]] for summer, but it's pretty thick.\n",
            "\n",
            "i love the [[thoughts]] of ruffles, but this shirt was [[vast]]! i normally wear a small or medium, and i got the [[little]]. it felt more like a large to me. [[might]] if you size down 1-2 [[sized]], it will [[collaborate]] out for you. i'm going to take it back rather than exchange. i [[moreover]] wish it was a more lightweight [[materials]] for summer, but it's pretty thick.\n",
            "\n",
            "\n"
          ]
        },
        {
          "output_type": "stream",
          "name": "stderr",
          "text": [
            "[Succeeded / Failed / Skipped / Total] 13 / 13 / 2 / 28:  26%|██▌       | 13/50 [01:01<02:54,  4.71s/it]"
          ]
        },
        {
          "output_type": "stream",
          "name": "stdout",
          "text": [
            "--------------------------------------------- Result 28 ---------------------------------------------\n",
            "[[0 (55%)]] --> [[1 (55%)]]\n",
            "\n",
            "these run small. i normally wear 28 on ag stevie's and paige jeans so i ordered these in 28 and they were very tight. otherwise very well made and super cute but i had to [[return]] them.\n",
            "\n",
            "these run small. i normally wear 28 on ag stevie's and paige jeans so i ordered these in 28 and they were very tight. otherwise very well made and super cute but i had to [[comeback]] them.\n",
            "\n",
            "\n"
          ]
        },
        {
          "output_type": "stream",
          "name": "stderr",
          "text": [
            "[Succeeded / Failed / Skipped / Total] 14 / 13 / 2 / 29:  28%|██▊       | 14/50 [01:01<02:39,  4.42s/it]"
          ]
        },
        {
          "output_type": "stream",
          "name": "stdout",
          "text": [
            "--------------------------------------------- Result 29 ---------------------------------------------\n",
            "[[0 (67%)]] --> [[1 (54%)]]\n",
            "\n",
            "finally decided to join the yoga-wear craze and thought these tights and a few other pair from retailer would help me transition to this style. my size l tights were just that -- tight! so tight, i really didn't want to pull them up [[past]] the knee!! i am not kidding. i wear size 14 pants and my legs are toned and shapely, so there was no reason to expect a l wouldn't fit. so [[sad]].\n",
            "\n",
            "finally decided to join the yoga-wear craze and thought these tights and a few other pair from retailer would help me transition to this style. my size l tights were just that -- tight! so tight, i really didn't want to pull them up [[yesteryear]] the knee!! i am not kidding. i wear size 14 pants and my legs are toned and shapely, so there was no reason to expect a l wouldn't fit. so [[sorrowful]].\n",
            "\n",
            "\n"
          ]
        },
        {
          "output_type": "stream",
          "name": "stderr",
          "text": [
            "[Succeeded / Failed / Skipped / Total] 15 / 13 / 2 / 30:  30%|███       | 15/50 [01:02<02:25,  4.16s/it]"
          ]
        },
        {
          "output_type": "stream",
          "name": "stdout",
          "text": [
            "--------------------------------------------- Result 30 ---------------------------------------------\n",
            "[[1 (68%)]] --> [[0 (50%)]]\n",
            "\n",
            "nice [[basic]] top...i will get plenty of use out of this! [[love]] the neckline.\n",
            "\n",
            "nice [[baseline]] top...i will get plenty of use out of this! [[loved]] the neckline.\n",
            "\n",
            "\n"
          ]
        },
        {
          "output_type": "stream",
          "name": "stderr",
          "text": [
            "[Succeeded / Failed / Skipped / Total] 16 / 13 / 2 / 31:  32%|███▏      | 16/50 [01:03<02:15,  3.98s/it]"
          ]
        },
        {
          "output_type": "stream",
          "name": "stdout",
          "text": [
            "--------------------------------------------- Result 31 ---------------------------------------------\n",
            "[[1 (87%)]] --> [[0 (54%)]]\n",
            "\n",
            "i saw this dress in my local retailer store, and am not sure why i did not try it on then, but later at home it began to haunt me. i loved the colored embroidery against the [[black]]. my husband and i will be traveling to europe later this [[fall]] and i wanted to take a dress with me that wouldn't take up too much [[room]], and be suitable for times when i wanted to dress-up a [[little]]. online i saw that it was [[available]] in the petite, and with the reviews warning that it ran large i opted for a medium petite\n",
            "\n",
            "i saw this dress in my local retailer store, and am not sure why i did not try it on then, but later at home it began to haunt me. i loved the colored embroidery against the [[negro]]. my husband and i will be traveling to europe later this [[slumps]] and i wanted to take a dress with me that wouldn't take up too much [[rooms]], and be suitable for times when i wanted to dress-up a [[small]]. online i saw that it was [[accessible]] in the petite, and with the reviews warning that it ran large i opted for a medium petite\n",
            "\n",
            "\n"
          ]
        },
        {
          "output_type": "stream",
          "name": "stderr",
          "text": [
            "\r[Succeeded / Failed / Skipped / Total] 16 / 14 / 2 / 32:  32%|███▏      | 16/50 [01:04<02:17,  4.04s/it]"
          ]
        },
        {
          "output_type": "stream",
          "name": "stdout",
          "text": [
            "--------------------------------------------- Result 32 ---------------------------------------------\n",
            "[[0 (80%)]] --> [[[FAILED]]]\n",
            "\n",
            "the quality and fabric are fabulous but it's just too voluminous for my figure (5'8\", 155 lbs), would look great on someone more slender.\n",
            "\n",
            "\n"
          ]
        },
        {
          "output_type": "stream",
          "name": "stderr",
          "text": [
            "[Succeeded / Failed / Skipped / Total] 17 / 14 / 2 / 33:  34%|███▍      | 17/50 [01:05<02:07,  3.87s/it]"
          ]
        },
        {
          "output_type": "stream",
          "name": "stdout",
          "text": [
            "--------------------------------------------- Result 33 ---------------------------------------------\n",
            "[[1 (87%)]] --> [[0 (54%)]]\n",
            "\n",
            "had been eyeing this for a while. [[print]] is [[beautiful]] in person, just as pictured. tts fit ([[size]] 8, 5'7\", 150#, pear shaped). [[comes]] within a couple inches of my knees so [[long]] [[enough]] to wear to work.\n",
            "\n",
            "had been eyeing this for a while. [[printing]] is [[splendid]] in person, just as pictured. tts fit ([[sizing]] 8, 5'7\", 150#, pear shaped). [[happens]] within a couple inches of my knees so [[lengthy]] [[sufficiently]] to wear to work.\n",
            "\n",
            "\n"
          ]
        },
        {
          "output_type": "stream",
          "name": "stderr",
          "text": [
            "[Succeeded / Failed / Skipped / Total] 18 / 14 / 2 / 34:  36%|███▌      | 18/50 [01:07<02:00,  3.75s/it]"
          ]
        },
        {
          "output_type": "stream",
          "name": "stdout",
          "text": [
            "--------------------------------------------- Result 34 ---------------------------------------------\n",
            "[[1 (96%)]] --> [[0 (53%)]]\n",
            "\n",
            "this is a [[beautiful]] top. it's [[unique]] and not so [[ordinary]]. i [[bought]] my [[usual]] [[medium]] and i [[found]] that it fits tight across my chest. although i had a [[baby]] this [[year]] and i am [[nursing]], so that could be why. if i [[bought]] again i would [[size]] up.\n",
            "\n",
            "this is a [[splendid]] top. it's [[singular]] and not so [[normal]]. i [[procured]] my [[normal]] [[media]] and i [[discovered]] that it fits tight across my chest. although i had a [[babe]] this [[annum]] and i am [[nurses]], so that could be why. if i [[procured]] again i would [[sizing]] up.\n",
            "\n",
            "\n"
          ]
        },
        {
          "output_type": "stream",
          "name": "stderr",
          "text": [
            "[Succeeded / Failed / Skipped / Total] 19 / 14 / 2 / 35:  38%|███▊      | 19/50 [01:08<01:51,  3.58s/it]"
          ]
        },
        {
          "output_type": "stream",
          "name": "stdout",
          "text": [
            "--------------------------------------------- Result 35 ---------------------------------------------\n",
            "[[1 (72%)]] --> [[0 (56%)]]\n",
            "\n",
            "[[beautiful]] dress, stretch material makes sure it fits the figure [[nicely]]. [[great]] value.\n",
            "\n",
            "[[splendid]] dress, stretch material makes sure it fits the figure [[politely]]. [[tremendous]] value.\n",
            "\n",
            "\n"
          ]
        },
        {
          "output_type": "stream",
          "name": "stderr",
          "text": [
            "\r[Succeeded / Failed / Skipped / Total] 19 / 15 / 2 / 36:  38%|███▊      | 19/50 [01:09<01:52,  3.63s/it]"
          ]
        },
        {
          "output_type": "stream",
          "name": "stdout",
          "text": [
            "--------------------------------------------- Result 36 ---------------------------------------------\n",
            "[[0 (68%)]] --> [[[FAILED]]]\n",
            "\n",
            "nice and colorful dress but runs very oversized. material mutes the colors not as vibrant in person.\n",
            "\n",
            "\n"
          ]
        },
        {
          "output_type": "stream",
          "name": "stderr",
          "text": [
            "\r[Succeeded / Failed / Skipped / Total] 19 / 16 / 2 / 37:  38%|███▊      | 19/50 [01:10<01:54,  3.69s/it]"
          ]
        },
        {
          "output_type": "stream",
          "name": "stdout",
          "text": [
            "--------------------------------------------- Result 37 ---------------------------------------------\n",
            "[[1 (93%)]] --> [[[FAILED]]]\n",
            "\n",
            "i bought the m/l (5'4\",130lb) and love the way it hangs and the length, and the fact that it can be worn over a lightweight top. the color and feel of the fabric are very nice.\n",
            "\n",
            "\n"
          ]
        },
        {
          "output_type": "stream",
          "name": "stderr",
          "text": [
            "\r[Succeeded / Failed / Skipped / Total] 19 / 17 / 2 / 38:  38%|███▊      | 19/50 [01:14<02:01,  3.92s/it]"
          ]
        },
        {
          "output_type": "stream",
          "name": "stdout",
          "text": [
            "--------------------------------------------- Result 38 ---------------------------------------------\n",
            "[[0 (93%)]] --> [[[FAILED]]]\n",
            "\n",
            "i also returned this dress after waiting weeks to received it.  i had high hopes for this dress as i really loved it online but what a disappointment when i got it.  the fabric is made of cheap poly that's shiny, thin, and clingy.  it shows every lump and bump you have.  the zipper at the back won't lay flat and keeps bunching up creating an ugly bump.  the sewing and hemline is uneven.  there wasn't a lot of thought put in in the print placement where the seams was sewn together in the midline\n",
            "\n",
            "\n"
          ]
        },
        {
          "output_type": "stream",
          "name": "stderr",
          "text": [
            "[Succeeded / Failed / Skipped / Total] 20 / 17 / 2 / 39:  40%|████      | 20/50 [01:15<01:53,  3.78s/it]"
          ]
        },
        {
          "output_type": "stream",
          "name": "stdout",
          "text": [
            "--------------------------------------------- Result 39 ---------------------------------------------\n",
            "[[0 (79%)]] --> [[1 (71%)]]\n",
            "\n",
            "i have blazers in size 8 from this designer and they fit with room to spare. i [[understand]] this is a more fitted style, but it is still [[way]] too small. size 10 and size 12 were not much bigger. great colors and cute [[design]], but just too [[small]] even if you do not plan on buttoning it. i hope they bring back this jacket but make it true to size.\n",
            "\n",
            "i have blazers in size 8 from this designer and they fit with room to spare. i [[understanding]] this is a more fitted style, but it is still [[path]] too small. size 10 and size 12 were not much bigger. great colors and cute [[designs]], but just too [[little]] even if you do not plan on buttoning it. i hope they bring back this jacket but make it true to size.\n",
            "\n",
            "\n"
          ]
        },
        {
          "output_type": "stream",
          "name": "stderr",
          "text": [
            "[Succeeded / Failed / Skipped / Total] 21 / 17 / 2 / 40:  42%|████▏     | 21/50 [01:16<01:45,  3.63s/it]"
          ]
        },
        {
          "output_type": "stream",
          "name": "stdout",
          "text": [
            "--------------------------------------------- Result 40 ---------------------------------------------\n",
            "[[1 (82%)]] --> [[0 (56%)]]\n",
            "\n",
            "i [[love]] this top. i'm not one to iron, so i wash (and hang dry) and wear it. [[great]] with [[skinny]] jeans.\n",
            "\n",
            "i [[loved]] this top. i'm not one to iron, so i wash (and hang dry) and wear it. [[tremendous]] with [[lean]] jeans.\n",
            "\n",
            "\n"
          ]
        },
        {
          "output_type": "stream",
          "name": "stderr",
          "text": [
            "[Succeeded / Failed / Skipped / Total] 22 / 17 / 2 / 41:  44%|████▍     | 22/50 [01:17<01:38,  3.52s/it]"
          ]
        },
        {
          "output_type": "stream",
          "name": "stdout",
          "text": [
            "--------------------------------------------- Result 41 ---------------------------------------------\n",
            "[[0 (90%)]] --> [[1 (56%)]]\n",
            "\n",
            "i am 5' 7\" - 110 lbs. [[ordered]] my [[normal]] xs and the bottom portion was [[way]] over sized. it fit like a [[parachute]], you could fit about 12 of me in the bottoms and very short. nice quality [[material]], but [[extremely]] [[awkward]] fit.\n",
            "\n",
            "i am 5' 7\" - 110 lbs. [[decreed]] my [[usual]] xs and the bottom portion was [[path]] over sized. it fit like a [[parachuting]], you could fit about 12 of me in the bottoms and very short. nice quality [[materials]], but [[highly]] [[clumsy]] fit.\n",
            "\n",
            "\n"
          ]
        },
        {
          "output_type": "stream",
          "name": "stderr",
          "text": [
            "[Succeeded / Failed / Skipped / Total] 23 / 17 / 2 / 42:  46%|████▌     | 23/50 [01:18<01:31,  3.41s/it]"
          ]
        },
        {
          "output_type": "stream",
          "name": "stdout",
          "text": [
            "--------------------------------------------- Result 42 ---------------------------------------------\n",
            "[[0 (56%)]] --> [[1 (52%)]]\n",
            "\n",
            "first, i absolutely love cloth & stone. but lately i'm finding some of the styles are going in a direction that just doesn't fit my style. that's ok because they still have some good basics. \r\n",
            "\r\n",
            "\r\n",
            "what i mean is the cut. a lot of their pieces are super long in the back and super short in the front (ie their slip dress they have out right now). this particular tank is like that, although this one is borderline. the sides [[cut]] up a little too high for my tastes and i can't help but think i'm wearin\n",
            "\n",
            "first, i absolutely love cloth & stone. but lately i'm finding some of the styles are going in a direction that just doesn't fit my style. that's ok because they still have some good basics. \r\n",
            "\r\n",
            "\r\n",
            "what i mean is the cut. a lot of their pieces are super long in the back and super short in the front (ie their slip dress they have out right now). this particular tank is like that, although this one is borderline. the sides [[chopped]] up a little too high for my tastes and i can't help but think i'm wearin\n",
            "\n",
            "\n"
          ]
        },
        {
          "output_type": "stream",
          "name": "stderr",
          "text": [
            "\r[Succeeded / Failed / Skipped / Total] 23 / 18 / 2 / 43:  46%|████▌     | 23/50 [01:22<01:36,  3.57s/it]"
          ]
        },
        {
          "output_type": "stream",
          "name": "stdout",
          "text": [
            "--------------------------------------------- Result 43 ---------------------------------------------\n",
            "[[0 (87%)]] --> [[[FAILED]]]\n",
            "\n",
            "i purchased the dress with the bow-back shift in peach because i loved it's nautical theme pattern.  when i recurve do the dress, i found it to be stiff and boxy.  being a petite, short-waisted person, the top portion of the stress hung on my body awkwardly.  my bra strap was showing in the back, and the dress needed to be pulled up about 2 inches to properly sit on my frame.  \r\n",
            "i returned the dress\n",
            "\n",
            "\n"
          ]
        },
        {
          "output_type": "stream",
          "name": "stderr",
          "text": [
            "\r[Succeeded / Failed / Skipped / Total] 23 / 19 / 2 / 44:  46%|████▌     | 23/50 [01:24<01:39,  3.68s/it]"
          ]
        },
        {
          "output_type": "stream",
          "name": "stdout",
          "text": [
            "--------------------------------------------- Result 44 ---------------------------------------------\n",
            "[[0 (86%)]] --> [[[FAILED]]]\n",
            "\n",
            "if you are going for a ridiculously high priced ugly sweater contest, this is the one for you. i normally like clothing with some character and juxtaposition, but this one did not do it for me. i cannot imagine the collar fitting right or flattering anyone, and the mixed layers end up making it look cheap rather than trendy.\n",
            "\n",
            "\n"
          ]
        },
        {
          "output_type": "stream",
          "name": "stderr",
          "text": [
            "\r[Succeeded / Failed / Skipped / Total] 23 / 20 / 2 / 45:  46%|████▌     | 23/50 [01:26<01:41,  3.78s/it]"
          ]
        },
        {
          "output_type": "stream",
          "name": "stdout",
          "text": [
            "--------------------------------------------- Result 45 ---------------------------------------------\n",
            "[[1 (99%)]] --> [[[FAILED]]]\n",
            "\n",
            "this skirt has a beautiful, flattering feminine fit. the floral pattern is delicate and a little different and, of course, the layers are what make this piece a stunner. i highly recommend it. can see wearing this all year, dressed up with jewels, or down with boots and a casual sweater.\n",
            "\n",
            "\n"
          ]
        },
        {
          "output_type": "stream",
          "name": "stderr",
          "text": [
            "[Succeeded / Failed / Skipped / Total] 24 / 20 / 2 / 46:  48%|████▊     | 24/50 [01:27<01:34,  3.64s/it]"
          ]
        },
        {
          "output_type": "stream",
          "name": "stdout",
          "text": [
            "--------------------------------------------- Result 46 ---------------------------------------------\n",
            "[[1 (74%)]] --> [[0 (51%)]]\n",
            "\n",
            "i sized up to an xl and although they have everything you want in a yoga/lounge pant, they just didn't thrill me enough to keep them. they're [[soft]], warm and [[comfy]] but i didn't care for the bulk or fit of the foldover waistband. and they were too long so i returned. if you're built like the model, you'll love these.\n",
            "\n",
            "i sized up to an xl and although they have everything you want in a yoga/lounge pant, they just didn't thrill me enough to keep them. they're [[mild]], warm and [[cosy]] but i didn't care for the bulk or fit of the foldover waistband. and they were too long so i returned. if you're built like the model, you'll love these.\n",
            "\n",
            "\n"
          ]
        },
        {
          "output_type": "stream",
          "name": "stderr",
          "text": [
            "[Succeeded / Failed / Skipped / Total] 25 / 20 / 2 / 47:  50%|█████     | 25/50 [01:28<01:28,  3.53s/it]"
          ]
        },
        {
          "output_type": "stream",
          "name": "stdout",
          "text": [
            "--------------------------------------------- Result 47 ---------------------------------------------\n",
            "[[1 (88%)]] --> [[0 (55%)]]\n",
            "\n",
            "nice t-shirt. the [[print]] is very nice and the fabric is [[soft]] and flowing. i [[love]] the baseball cut, it [[gives]] it a different look.\n",
            "\n",
            "nice t-shirt. the [[printing]] is very nice and the fabric is [[mild]] and flowing. i [[loved]] the baseball cut, it [[delivers]] it a different look.\n",
            "\n",
            "\n"
          ]
        },
        {
          "output_type": "stream",
          "name": "stderr",
          "text": [
            "\r[Succeeded / Failed / Skipped / Total] 25 / 21 / 2 / 48:  50%|█████     | 25/50 [01:30<01:30,  3.63s/it]"
          ]
        },
        {
          "output_type": "stream",
          "name": "stdout",
          "text": [
            "--------------------------------------------- Result 48 ---------------------------------------------\n",
            "[[0 (90%)]] --> [[[FAILED]]]\n",
            "\n",
            "i really wanted these jeans to work but i am too curvy and not tall enough for them. i just felt like they were swallowing me up with fabric. i am 5'5\" and had a stacked boot heel on when i tried them on and they were still too long. i felt like they made me look even bigger than i am. the fabric is nice, not as dark as the photo as others have said.\n",
            "\n",
            "\n"
          ]
        },
        {
          "output_type": "stream",
          "name": "stderr",
          "text": [
            "\r[Succeeded / Failed / Skipped / Total] 25 / 22 / 2 / 49:  50%|█████     | 25/50 [01:34<01:34,  3.80s/it]"
          ]
        },
        {
          "output_type": "stream",
          "name": "stdout",
          "text": [
            "--------------------------------------------- Result 49 ---------------------------------------------\n",
            "[[1 (94%)]] --> [[[FAILED]]]\n",
            "\n",
            "i bought this dress with my birthday coupon, i love the design of the fabric, and i think the length is great. it's a lightweight dress, which makes it a nice for more seasons. sandals in the summer, light sweater in the spring/fall, and tights, slip, and heavy sweater in the winter. the underarms wrinkled a lot the first time i wore it, which makes sense because i was wearing a sweater. the rest of the dress did not wrinkle at all. very satisfied!\n",
            "\n",
            "\n"
          ]
        },
        {
          "output_type": "stream",
          "name": "stderr",
          "text": [
            "\r[Succeeded / Failed / Skipped / Total] 25 / 23 / 2 / 50:  50%|█████     | 25/50 [01:37<01:37,  3.88s/it]"
          ]
        },
        {
          "output_type": "stream",
          "name": "stdout",
          "text": [
            "--------------------------------------------- Result 50 ---------------------------------------------\n",
            "[[0 (96%)]] --> [[[FAILED]]]\n",
            "\n",
            "the sweater was nice but not as long as on the model. it was itchy also. this sweater was not what i had expected. their was nothing exceptional about it to spend that kind of hard earned cash, sorry retailer. i sent it back .\n",
            "\n",
            "\n"
          ]
        },
        {
          "output_type": "stream",
          "name": "stderr",
          "text": [
            "\r[Succeeded / Failed / Skipped / Total] 25 / 24 / 2 / 51:  50%|█████     | 25/50 [01:42<01:42,  4.09s/it]"
          ]
        },
        {
          "output_type": "stream",
          "name": "stdout",
          "text": [
            "--------------------------------------------- Result 51 ---------------------------------------------\n",
            "[[1 (98%)]] --> [[[FAILED]]]\n",
            "\n",
            "i don't usually write reviews, but i loved this dress in the store and would have passed it right over online. the skirt is a charcoal color and the top is an antique white. it gives the appearance of a separate crop top. i would usually wear a small (5'2\" and 125 lbs.). i'm wearing a small in the photo, but ended up going back for an xs. the dress could go more casual with flats or boots and a scarf, or dressier with heels and jewelry. i think i'll get a lot of use out of it.\n",
            "\n",
            "\n"
          ]
        },
        {
          "output_type": "stream",
          "name": "stderr",
          "text": [
            "\r[Succeeded / Failed / Skipped / Total] 25 / 25 / 2 / 52:  50%|█████     | 25/50 [01:46<01:46,  4.27s/it]"
          ]
        },
        {
          "output_type": "stream",
          "name": "stdout",
          "text": [
            "--------------------------------------------- Result 52 ---------------------------------------------\n",
            "[[1 (96%)]] --> [[[FAILED]]]\n",
            "\n",
            "the design and fabric on this suit are even more gorgeous in person than on-line. i am 5'4\" and between 138/140 and ordered a medium. the thing i especially like about this suit is that it has adequate cup size and support. i am a 36c or d depending on the bra and this suit is very flattering and provides nice coverage and cup support. the straps can be shortened if you want a little more bust support. the material and design of the suit itself feel substantial and even without the straps, it do\n",
            "\n",
            "\n"
          ]
        },
        {
          "output_type": "stream",
          "name": "stderr",
          "text": [
            "\r[Succeeded / Failed / Skipped / Total] 25 / 26 / 2 / 53:  50%|█████     | 25/50 [01:47<01:47,  4.32s/it]"
          ]
        },
        {
          "output_type": "stream",
          "name": "stdout",
          "text": [
            "--------------------------------------------- Result 53 ---------------------------------------------\n",
            "[[1 (92%)]] --> [[[FAILED]]]\n",
            "\n",
            "this is a nice year round weight sweater. \r\n",
            "i am thrilled with small details, true to retailer pieces.\n",
            "\n",
            "\n"
          ]
        },
        {
          "output_type": "stream",
          "name": "stderr",
          "text": [
            "[Succeeded / Failed / Skipped / Total] 26 / 26 / 2 / 54:  52%|█████▏    | 26/50 [01:48<01:40,  4.19s/it]"
          ]
        },
        {
          "output_type": "stream",
          "name": "stdout",
          "text": [
            "--------------------------------------------- Result 54 ---------------------------------------------\n",
            "[[0 (65%)]] --> [[1 (54%)]]\n",
            "\n",
            "i am ever in [[search]] of a light, white, summer top. this is not quite it. there are two distinct layers, and each of them is the scratchy, starchy [[type]] of gauze. it would just [[roast]] me in the summer sun--but i run [[fairly]] hot in general.\n",
            "\n",
            "i am ever in [[searching]] of a light, white, summer top. this is not quite it. there are two distinct layers, and each of them is the scratchy, starchy [[types]] of gauze. it would just [[roasting]] me in the summer sun--but i run [[comparatively]] hot in general.\n",
            "\n",
            "\n"
          ]
        },
        {
          "output_type": "stream",
          "name": "stderr",
          "text": [
            "[Succeeded / Failed / Skipped / Total] 27 / 26 / 2 / 55:  54%|█████▍    | 27/50 [01:49<01:33,  4.06s/it]"
          ]
        },
        {
          "output_type": "stream",
          "name": "stdout",
          "text": [
            "--------------------------------------------- Result 55 ---------------------------------------------\n",
            "[[0 (76%)]] --> [[1 (55%)]]\n",
            "\n",
            "when ordering this product, i thought it was [[strange]] that the mediums were sold out. i went with the small which is generally what i wear. [[however]], these run small and i see why the medium ran out. they are pretty, [[however]], i wish they made them more true to size.\n",
            "\n",
            "when ordering this product, i thought it was [[curious]] that the mediums were sold out. i went with the small which is generally what i wear. [[nonetheless]], these run small and i see why the medium ran out. they are pretty, [[nonetheless]], i wish they made them more true to size.\n",
            "\n",
            "\n"
          ]
        },
        {
          "output_type": "stream",
          "name": "stderr",
          "text": [
            "[Succeeded / Failed / Skipped / Total] 28 / 26 / 2 / 56:  56%|█████▌    | 28/50 [01:50<01:26,  3.94s/it]"
          ]
        },
        {
          "output_type": "stream",
          "name": "stdout",
          "text": [
            "--------------------------------------------- Result 56 ---------------------------------------------\n",
            "[[1 (81%)]] --> [[0 (54%)]]\n",
            "\n",
            "i also agree with the other reviewers that it's important to try on a couple due to pattern differences. this dress has a beige base- the photo is a little misleading. i ended up returning it because the colors didn't do much for me, i think they look [[great]] on the model but that's because the beige doesn't blend into her at all. i also think it's a [[little]] overpriced for what the dress is- a great summer day dress.\n",
            "\n",
            "i also agree with the other reviewers that it's important to try on a couple due to pattern differences. this dress has a beige base- the photo is a little misleading. i ended up returning it because the colors didn't do much for me, i think they look [[tremendous]] on the model but that's because the beige doesn't blend into her at all. i also think it's a [[small]] overpriced for what the dress is- a great summer day dress.\n",
            "\n",
            "\n"
          ]
        },
        {
          "output_type": "stream",
          "name": "stderr",
          "text": [
            "\r[Succeeded / Failed / Skipped / Total] 28 / 27 / 2 / 57:  56%|█████▌    | 28/50 [01:51<01:27,  3.98s/it]"
          ]
        },
        {
          "output_type": "stream",
          "name": "stdout",
          "text": [
            "--------------------------------------------- Result 57 ---------------------------------------------\n",
            "[[1 (94%)]] --> [[[FAILED]]]\n",
            "\n",
            "it is the cutest detailed little white top. i recommend this because you can wear it anywhere and dress it up with a scarf.\n",
            "\n",
            "\n"
          ]
        },
        {
          "output_type": "stream",
          "name": "stderr",
          "text": [
            "[Succeeded / Failed / Skipped / Total] 29 / 27 / 2 / 58:  58%|█████▊    | 29/50 [01:53<01:22,  3.90s/it]"
          ]
        },
        {
          "output_type": "stream",
          "name": "stdout",
          "text": [
            "--------------------------------------------- Result 58 ---------------------------------------------\n",
            "[[0 (82%)]] --> [[1 (53%)]]\n",
            "\n",
            "i really liked this dress in pictures online. i [[wanted]] to wear it to work on casual fridays. everything about this dress was a [[disappointment]], especially at this price point. the fit was [[weird]]: tight in some places, too loose in others (i'm usually xs or s, i [[ordered]] this one is s). it's made out of a [[fairly]] thick and warm [[material]], yet the neck area of the dress is more [[exposed]] than it appears in pictures, especially in the back, making it [[awkward]] to have this very warm dress with neck, upper b\n",
            "\n",
            "i really liked this dress in pictures online. i [[wanna]] to wear it to work on casual fridays. everything about this dress was a [[disillusionment]], especially at this price point. the fit was [[curious]]: tight in some places, too loose in others (i'm usually xs or s, i [[decreed]] this one is s). it's made out of a [[comparatively]] thick and warm [[materials]], yet the neck area of the dress is more [[unmasked]] than it appears in pictures, especially in the back, making it [[clumsy]] to have this very warm dress with neck, upper b\n",
            "\n",
            "\n"
          ]
        },
        {
          "output_type": "stream",
          "name": "stderr",
          "text": [
            "[Succeeded / Failed / Skipped / Total] 29 / 28 / 3 / 60:  58%|█████▊    | 29/50 [01:54<01:22,  3.94s/it]"
          ]
        },
        {
          "output_type": "stream",
          "name": "stdout",
          "text": [
            "--------------------------------------------- Result 59 ---------------------------------------------\n",
            "[[1 (96%)]] --> [[[FAILED]]]\n",
            "\n",
            "this top is soft, comfortable and drapes nicely. the print makes it fresh and different. i sized down to a small.\n",
            "\n",
            "\n",
            "--------------------------------------------- Result 60 ---------------------------------------------\n",
            "[[0 (54%)]] --> [[[SKIPPED]]]\n",
            "\n",
            "this dress is really pretty, but not made for girls with hips. i tried on my usual size 6 and it fit everywhere but was just slightly too tight in the bum for me to feel comfortable, but i feel like i would have been swimming everywhere else in the dress in an 8 (typical of shifts i guess, but a girls can dream!). if you are a straighter shape, though, i would highly recommend.\n",
            "\n",
            "\n"
          ]
        },
        {
          "output_type": "stream",
          "name": "stderr",
          "text": [
            "[Succeeded / Failed / Skipped / Total] 30 / 28 / 3 / 61:  60%|██████    | 30/50 [01:55<01:16,  3.84s/it]"
          ]
        },
        {
          "output_type": "stream",
          "name": "stdout",
          "text": [
            "--------------------------------------------- Result 61 ---------------------------------------------\n",
            "[[0 (67%)]] --> [[1 (52%)]]\n",
            "\n",
            "i don't have a lot of pink or lavender in my wardrobe, but any time i do try a shade like this on i always think it compliments my skin tone and hair color. i generally wear a mauve-ish or coppery eye shadow and the color of this shirt looks beautiful against that makeup too. unfortunately, i just don't find the shape of the top to be flattering. it's really long, so the [[way]] the model has it partially tucked looks best but i'm not really thin like her and i have a larger chest... it just doesn't\n",
            "\n",
            "i don't have a lot of pink or lavender in my wardrobe, but any time i do try a shade like this on i always think it compliments my skin tone and hair color. i generally wear a mauve-ish or coppery eye shadow and the color of this shirt looks beautiful against that makeup too. unfortunately, i just don't find the shape of the top to be flattering. it's really long, so the [[path]] the model has it partially tucked looks best but i'm not really thin like her and i have a larger chest... it just doesn't\n",
            "\n",
            "\n"
          ]
        },
        {
          "output_type": "stream",
          "name": "stderr",
          "text": [
            "\r[Succeeded / Failed / Skipped / Total] 30 / 29 / 3 / 62:  60%|██████    | 30/50 [01:55<01:17,  3.86s/it]"
          ]
        },
        {
          "output_type": "stream",
          "name": "stdout",
          "text": [
            "--------------------------------------------- Result 62 ---------------------------------------------\n",
            "[[0 (84%)]] --> [[[FAILED]]]\n",
            "\n",
            "didn't like the dress. look pregnant in it. this dress is going back.\n",
            "\n",
            "\n"
          ]
        },
        {
          "output_type": "stream",
          "name": "stderr",
          "text": [
            "[Succeeded / Failed / Skipped / Total] 31 / 29 / 3 / 63:  62%|██████▏   | 31/50 [01:57<01:11,  3.77s/it]"
          ]
        },
        {
          "output_type": "stream",
          "name": "stdout",
          "text": [
            "--------------------------------------------- Result 63 ---------------------------------------------\n",
            "[[0 (89%)]] --> [[1 (70%)]]\n",
            "\n",
            "i [[loved]] the style so i [[ordered]] on line. it runs [[small]] and the arm inserts are so low its [[awkward]] to wear. i wish the [[cut]] was better cause i love the [[look]] but not the fit. i am [[returning]] this [[item]]..\n",
            "\n",
            "i [[love]] the style so i [[decreed]] on line. it runs [[little]] and the arm inserts are so low its [[clumsy]] to wear. i wish the [[chopped]] was better cause i love the [[gaze]] but not the fit. i am [[revert]] this [[items]]..\n",
            "\n",
            "\n"
          ]
        },
        {
          "output_type": "stream",
          "name": "stderr",
          "text": [
            "[Succeeded / Failed / Skipped / Total] 32 / 29 / 3 / 64:  64%|██████▍   | 32/50 [01:57<01:05,  3.67s/it]"
          ]
        },
        {
          "output_type": "stream",
          "name": "stdout",
          "text": [
            "--------------------------------------------- Result 64 ---------------------------------------------\n",
            "[[1 (61%)]] --> [[0 (51%)]]\n",
            "\n",
            "these tight cords are [[perfect]] for fall.\n",
            "\n",
            "these tight cords are [[faultless]] for fall.\n",
            "\n",
            "\n"
          ]
        },
        {
          "output_type": "stream",
          "name": "stderr",
          "text": [
            "[Succeeded / Failed / Skipped / Total] 33 / 29 / 3 / 65:  66%|██████▌   | 33/50 [01:58<01:01,  3.59s/it]"
          ]
        },
        {
          "output_type": "stream",
          "name": "stdout",
          "text": [
            "--------------------------------------------- Result 65 ---------------------------------------------\n",
            "[[0 (71%)]] --> [[1 (51%)]]\n",
            "\n",
            "i never write reviews, but i just purchased this top at full price last week in the store. it's not a have to have top just to look at it, but once i put it on i had to have it. it's [[extremely]] comfortable and i am able to wear it while running around with my boys and still feel as though i'm put together. \r\n",
            "\r\n",
            "i've worn this top now 2 times and after the 2nd wear i have 3 [[holes]] in the area where the waist line of my jeans sits. the first time i wore this top it was for only and hour or so. what a\n",
            "\n",
            "i never write reviews, but i just purchased this top at full price last week in the store. it's not a have to have top just to look at it, but once i put it on i had to have it. it's [[highly]] comfortable and i am able to wear it while running around with my boys and still feel as though i'm put together. \r\n",
            "\r\n",
            "i've worn this top now 2 times and after the 2nd wear i have 3 [[keyholes]] in the area where the waist line of my jeans sits. the first time i wore this top it was for only and hour or so. what a\n",
            "\n",
            "\n"
          ]
        },
        {
          "output_type": "stream",
          "name": "stderr",
          "text": [
            "\r[Succeeded / Failed / Skipped / Total] 33 / 30 / 3 / 66:  66%|██████▌   | 33/50 [01:59<01:01,  3.62s/it]"
          ]
        },
        {
          "output_type": "stream",
          "name": "stdout",
          "text": [
            "--------------------------------------------- Result 66 ---------------------------------------------\n",
            "[[0 (93%)]] --> [[[FAILED]]]\n",
            "\n",
            "this should have been cute, but the fabric choice + ruching design made me look like i had elephant skin rippling around my waist -- super unflattering.\n",
            "\n",
            "\n"
          ]
        },
        {
          "output_type": "stream",
          "name": "stderr",
          "text": [
            "\r[Succeeded / Failed / Skipped / Total] 33 / 30 / 4 / 67:  66%|██████▌   | 33/50 [01:59<01:01,  3.63s/it]"
          ]
        },
        {
          "output_type": "stream",
          "name": "stdout",
          "text": [
            "--------------------------------------------- Result 67 ---------------------------------------------\n",
            "[[0 (71%)]] --> [[[SKIPPED]]]\n",
            "\n",
            "i purchased this sweater in the grey color and loved it so much i decided to buy it in purple as well. however, when i received it, the color was much much darker than pictured and even looked black sometimes. decided to return :/\n",
            "\n",
            "\n"
          ]
        },
        {
          "output_type": "stream",
          "name": "stderr",
          "text": [
            "\r[Succeeded / Failed / Skipped / Total] 33 / 31 / 4 / 68:  66%|██████▌   | 33/50 [02:01<01:02,  3.69s/it]"
          ]
        },
        {
          "output_type": "stream",
          "name": "stdout",
          "text": [
            "--------------------------------------------- Result 68 ---------------------------------------------\n",
            "[[1 (94%)]] --> [[[FAILED]]]\n",
            "\n",
            "beautiful dress! i usually wear a size 4 regular, or a 6 petite (if the dress has sleeves). i ordered this in the 6p and it is too big. wish i could exchange it for a 4p, but it's no longer available.\n",
            "\n",
            "\n"
          ]
        },
        {
          "output_type": "stream",
          "name": "stderr",
          "text": [
            "\r[Succeeded / Failed / Skipped / Total] 33 / 32 / 4 / 69:  66%|██████▌   | 33/50 [02:02<01:03,  3.72s/it]"
          ]
        },
        {
          "output_type": "stream",
          "name": "stdout",
          "text": [
            "--------------------------------------------- Result 69 ---------------------------------------------\n",
            "[[0 (87%)]] --> [[[FAILED]]]\n",
            "\n",
            "a pretty blouse but the polyester fabric makes it incredibly warm and uncomfortable on after a while. had to return it.\n",
            "\n",
            "\n"
          ]
        },
        {
          "output_type": "stream",
          "name": "stderr",
          "text": [
            "[Succeeded / Failed / Skipped / Total] 34 / 32 / 4 / 70:  68%|██████▊   | 34/50 [02:05<00:59,  3.69s/it]"
          ]
        },
        {
          "output_type": "stream",
          "name": "stdout",
          "text": [
            "--------------------------------------------- Result 70 ---------------------------------------------\n",
            "[[0 (62%)]] --> [[1 (50%)]]\n",
            "\n",
            "after seeing the [[picture]] online, i was coveting this top for a while and then retailer days [[happened]]! i [[immediately]] [[ordered]] it, but i'm still not sure if i'm going to keep it. i [[ordered]] a 2p (0p was sold out) and i was assuming it was going to be a little [[big]], but i like flowy. the sleeves and [[chest]] are perfect but the top is [[cut]] so generously in the back (and it's a bit longer in the back as well) i feel like it looks like i'm wearing a wedding dress. i love it from the front. i'm going to [[try]] to\n",
            "\n",
            "after seeing the [[photographed]] online, i was coveting this top for a while and then retailer days [[transpired]]! i [[forthwith]] [[decreed]] it, but i'm still not sure if i'm going to keep it. i [[decreed]] a 2p (0p was sold out) and i was assuming it was going to be a little [[vast]], but i like flowy. the sleeves and [[thorax]] are perfect but the top is [[chopped]] so generously in the back (and it's a bit longer in the back as well) i feel like it looks like i'm wearing a wedding dress. i love it from the front. i'm going to [[attempts]] to\n",
            "\n",
            "\n"
          ]
        },
        {
          "output_type": "stream",
          "name": "stderr",
          "text": [
            "[Succeeded / Failed / Skipped / Total] 35 / 32 / 4 / 71:  70%|███████   | 35/50 [02:07<00:54,  3.66s/it]"
          ]
        },
        {
          "output_type": "stream",
          "name": "stdout",
          "text": [
            "--------------------------------------------- Result 71 ---------------------------------------------\n",
            "[[1 (97%)]] --> [[0 (54%)]]\n",
            "\n",
            "i think this dress is my favorite [[purchase]] this whole year! it fits like a [[dream]]! i saw it in the store while it was full price and tried on an 8 (the only [[size]] they had left!). i typically wear a 6 or 8 in dresses, but the 8 was [[quite]] large, so i passed. after it went on sale, i ordered a 6 with my fingers crossed! [[glad]] i ordered when i did, as they [[sold]] out fast! fabric is a nice substantial [[weight]], [[great]] for [[fall]]! the fit is [[great]], not tight at all and more of an a-line on me, which is weird\n",
            "\n",
            "i think this dress is my favorite [[acquisition]] this whole year! it fits like a [[daydream]]! i saw it in the store while it was full price and tried on an 8 (the only [[sizing]] they had left!). i typically wear a 6 or 8 in dresses, but the 8 was [[pretty]] large, so i passed. after it went on sale, i ordered a 6 with my fingers crossed! [[contented]] i ordered when i did, as they [[selling]] out fast! fabric is a nice substantial [[weights]], [[tremendous]] for [[slumps]]! the fit is [[tremendous]], not tight at all and more of an a-line on me, which is weird\n",
            "\n",
            "\n"
          ]
        },
        {
          "output_type": "stream",
          "name": "stderr",
          "text": [
            "[Succeeded / Failed / Skipped / Total] 36 / 32 / 4 / 72:  72%|███████▏  | 36/50 [02:08<00:50,  3.58s/it]"
          ]
        },
        {
          "output_type": "stream",
          "name": "stdout",
          "text": [
            "--------------------------------------------- Result 72 ---------------------------------------------\n",
            "[[0 (81%)]] --> [[1 (52%)]]\n",
            "\n",
            "i'm 5'8 128lbs and bought a size 2. i [[loved]] this dress, but didn't expect to have to go bra-less or wear a [[tube]] top under. the top lands much lower than i [[expected]] but the [[rest]] of the dress was lovely. \r\n",
            "\r\n",
            "i [[ordered]] a size 2\n",
            "\n",
            "i'm 5'8 128lbs and bought a size 2. i [[love]] this dress, but didn't expect to have to go bra-less or wear a [[piping]] top under. the top lands much lower than i [[awaited]] but the [[remainder]] of the dress was lovely. \r\n",
            "\r\n",
            "i [[decreed]] a size 2\n",
            "\n",
            "\n"
          ]
        },
        {
          "output_type": "stream",
          "name": "stderr",
          "text": [
            "[Succeeded / Failed / Skipped / Total] 37 / 32 / 4 / 73:  74%|███████▍  | 37/50 [02:09<00:45,  3.51s/it]"
          ]
        },
        {
          "output_type": "stream",
          "name": "stdout",
          "text": [
            "--------------------------------------------- Result 73 ---------------------------------------------\n",
            "[[1 (75%)]] --> [[0 (55%)]]\n",
            "\n",
            "i am rarely disappointed by maeve and this was no exception. i am a 32b and broad shouldered and my normal [[size]] 6 fit like a dream. the white print is opaque so no bra see-through. such a cute, [[fun]] print! the fabric has a really [[soft]] hand too.\n",
            "\n",
            "i am rarely disappointed by maeve and this was no exception. i am a 32b and broad shouldered and my normal [[sizing]] 6 fit like a dream. the white print is opaque so no bra see-through. such a cute, [[amusing]] print! the fabric has a really [[mild]] hand too.\n",
            "\n",
            "\n"
          ]
        },
        {
          "output_type": "stream",
          "name": "stderr",
          "text": [
            "[Succeeded / Failed / Skipped / Total] 38 / 32 / 4 / 74:  76%|███████▌  | 38/50 [02:10<00:41,  3.42s/it]"
          ]
        },
        {
          "output_type": "stream",
          "name": "stdout",
          "text": [
            "--------------------------------------------- Result 74 ---------------------------------------------\n",
            "[[1 (61%)]] --> [[0 (60%)]]\n",
            "\n",
            "runs very big.  i ordered a l and need a m.  unfortunately no medium left!  [[great]] top with lots of character. hate i missed this cute top\n",
            "\n",
            "runs very big.  i ordered a l and need a m.  unfortunately no medium left!  [[tremendous]] top with lots of character. hate i missed this cute top\n",
            "\n",
            "\n"
          ]
        },
        {
          "output_type": "stream",
          "name": "stderr",
          "text": [
            "\r[Succeeded / Failed / Skipped / Total] 38 / 33 / 4 / 75:  76%|███████▌  | 38/50 [02:11<00:41,  3.47s/it]"
          ]
        },
        {
          "output_type": "stream",
          "name": "stdout",
          "text": [
            "--------------------------------------------- Result 75 ---------------------------------------------\n",
            "[[0 (91%)]] --> [[[FAILED]]]\n",
            "\n",
            "i was extremely disappointed when this arrived. it's nothing like the red color shown, rather it's a very dull reddish color. as other reviews have suggested, it is very thin and runs large. i have to return.\n",
            "\n",
            "\n"
          ]
        },
        {
          "output_type": "stream",
          "name": "stderr",
          "text": [
            "[Succeeded / Failed / Skipped / Total] 39 / 33 / 4 / 76:  78%|███████▊  | 39/50 [02:12<00:37,  3.41s/it]"
          ]
        },
        {
          "output_type": "stream",
          "name": "stdout",
          "text": [
            "--------------------------------------------- Result 76 ---------------------------------------------\n",
            "[[1 (97%)]] --> [[0 (54%)]]\n",
            "\n",
            "i [[love]] the print and design, the photo does not do it justice. i fell in [[love]] with it in the store but could not find my size. i ordered my size online but it was still small and short. it came up to my waist, and was tight in the shoulders and waist. i really wish it wasn't so small. i [[love]] [[love]] this top, the colors are vibrant and shiny, totally my style. i [[highly]] recommend it if it fits.\n",
            "\n",
            "i [[loved]] the print and design, the photo does not do it justice. i fell in [[loved]] with it in the store but could not find my size. i ordered my size online but it was still small and short. it came up to my waist, and was tight in the shoulders and waist. i really wish it wasn't so small. i [[loved]] [[loved]] this top, the colors are vibrant and shiny, totally my style. i [[extremely]] recommend it if it fits.\n",
            "\n",
            "\n"
          ]
        },
        {
          "output_type": "stream",
          "name": "stderr",
          "text": [
            "\r[Succeeded / Failed / Skipped / Total] 39 / 34 / 4 / 77:  78%|███████▊  | 39/50 [02:14<00:37,  3.45s/it]"
          ]
        },
        {
          "output_type": "stream",
          "name": "stdout",
          "text": [
            "--------------------------------------------- Result 77 ---------------------------------------------\n",
            "[[0 (93%)]] --> [[[FAILED]]]\n",
            "\n",
            "i'm 5'7\", 135 lbs, slender bone structure. the medium fit well in the front but hung to the back of knees in back...just way too long. it would work best on someone closer to 6' tall.\n",
            "\n",
            "\n"
          ]
        },
        {
          "output_type": "stream",
          "name": "stderr",
          "text": [
            "[Succeeded / Failed / Skipped / Total] 40 / 34 / 4 / 78:  80%|████████  | 40/50 [02:16<00:34,  3.42s/it]"
          ]
        },
        {
          "output_type": "stream",
          "name": "stdout",
          "text": [
            "--------------------------------------------- Result 78 ---------------------------------------------\n",
            "[[0 (87%)]] --> [[1 (54%)]]\n",
            "\n",
            "i loved this blouse when i got it and wore it before washing. it fit really well and was flattering. the only time i laundered it i hand- [[washed]] it in cold water and hung it to [[dry]]. the blouse [[shrunk]] at [[least]] a full size and in [[awkward]] places. the sleeves are now tight and [[way]] too short. the overall length shortened by at [[least]] 2 inches. the top is so tight in the [[bust]] now that the buttons popped open. i'm very [[disappointed]] and surprised.i will be [[returning]] it as it is unwearable as is.\n",
            "\n",
            "i loved this blouse when i got it and wore it before washing. it fit really well and was flattering. the only time i laundered it i hand- [[rinsed]] it in cold water and hung it to [[dried]]. the blouse [[lowered]] at [[fewest]] a full size and in [[clumsy]] places. the sleeves are now tight and [[path]] too short. the overall length shortened by at [[fewest]] 2 inches. the top is so tight in the [[busted]] now that the buttons popped open. i'm very [[frustrated]] and surprised.i will be [[revert]] it as it is unwearable as is.\n",
            "\n",
            "\n"
          ]
        },
        {
          "output_type": "stream",
          "name": "stderr",
          "text": [
            "[Succeeded / Failed / Skipped / Total] 41 / 34 / 4 / 79:  82%|████████▏ | 41/50 [02:18<00:30,  3.38s/it]"
          ]
        },
        {
          "output_type": "stream",
          "name": "stdout",
          "text": [
            "--------------------------------------------- Result 79 ---------------------------------------------\n",
            "[[1 (97%)]] --> [[0 (50%)]]\n",
            "\n",
            "i wore this top [[recently]] and received several [[compliments]]. it's a [[great]] top with the off the shoulder [[trend]], [[plus]] you can wear a normal bra [[underneath]]! runs [[large]] so i [[recommend]] one [[size]] down.\n",
            "\n",
            "i wore this top [[lately]] and received several [[tributes]]. it's a [[tremendous]] top with the off the shoulder [[tendencies]], [[anymore]] you can wear a normal bra [[beneath]]! runs [[huge]] so i [[recommends]] one [[sizing]] down.\n",
            "\n",
            "\n"
          ]
        },
        {
          "output_type": "stream",
          "name": "stderr",
          "text": [
            "[Succeeded / Failed / Skipped / Total] 42 / 34 / 4 / 80:  84%|████████▍ | 42/50 [02:20<00:26,  3.33s/it]"
          ]
        },
        {
          "output_type": "stream",
          "name": "stdout",
          "text": [
            "--------------------------------------------- Result 80 ---------------------------------------------\n",
            "[[0 (88%)]] --> [[1 (62%)]]\n",
            "\n",
            "i really liked this cardigan when i saw it today. the cut and detail in the back is slimming and very flattering. i love the idea of the safety pin closure, and i really like how the model wears it in this photo-open with the pin on the side. when i saw this in-store, it was closed in the front with the pin, which i [[also]] like. i [[thought]] for sure the cardigan was [[also]] [[pinned]] in back when i saw it in the model, so it looked fantastic. [[however]], when i [[tried]] it on myself, it wasn't quite the same.\n",
            "\n",
            "i really liked this cardigan when i saw it today. the cut and detail in the back is slimming and very flattering. i love the idea of the safety pin closure, and i really like how the model wears it in this photo-open with the pin on the side. when i saw this in-store, it was closed in the front with the pin, which i [[moreover]] like. i [[think]] for sure the cardigan was [[moreover]] [[pin]] in back when i saw it in the model, so it looked fantastic. [[nonetheless]], when i [[attempted]] it on myself, it wasn't quite the same.\n",
            "\n",
            "\n"
          ]
        },
        {
          "output_type": "stream",
          "name": "stderr",
          "text": [
            "\r[Succeeded / Failed / Skipped / Total] 42 / 35 / 4 / 81:  84%|████████▍ | 42/50 [02:22<00:27,  3.38s/it]"
          ]
        },
        {
          "output_type": "stream",
          "name": "stdout",
          "text": [
            "--------------------------------------------- Result 81 ---------------------------------------------\n",
            "[[0 (85%)]] --> [[[FAILED]]]\n",
            "\n",
            "i have purchased a lot from retailer but lately, some of the items have been disappointing in quality.verses cost, this being one. the picture is nice but the actual blouse is nothing like this. the size was not accurate so buy a size bigger because of the sleeves.\n",
            "\n",
            "\n"
          ]
        },
        {
          "output_type": "stream",
          "name": "stderr",
          "text": [
            "[Succeeded / Failed / Skipped / Total] 43 / 35 / 4 / 82:  86%|████████▌ | 43/50 [02:23<00:23,  3.33s/it]"
          ]
        },
        {
          "output_type": "stream",
          "name": "stdout",
          "text": [
            "--------------------------------------------- Result 82 ---------------------------------------------\n",
            "[[1 (91%)]] --> [[0 (53%)]]\n",
            "\n",
            "very cute. i received many [[compliments]] when i wore it. fits true to size (petite 2) with some good stretch in it. i am 5'3 and it was [[slightly]] longer than that on the model. it is a [[little]] odd that the buttons are all not the same. but perhaps that is part of its [[charm]] and it is not [[noticeable]]. it is very [[comfortable]] and the pictures are representative of what it looks like.\n",
            "\n",
            "very cute. i received many [[tributes]] when i wore it. fits true to size (petite 2) with some good stretch in it. i am 5'3 and it was [[marginally]] longer than that on the model. it is a [[small]] odd that the buttons are all not the same. but perhaps that is part of its [[glamour]] and it is not [[obvious]]. it is very [[cosy]] and the pictures are representative of what it looks like.\n",
            "\n",
            "\n"
          ]
        },
        {
          "output_type": "stream",
          "name": "stderr",
          "text": [
            "\r[Succeeded / Failed / Skipped / Total] 43 / 36 / 4 / 83:  86%|████████▌ | 43/50 [02:23<00:23,  3.35s/it]"
          ]
        },
        {
          "output_type": "stream",
          "name": "stdout",
          "text": [
            "--------------------------------------------- Result 83 ---------------------------------------------\n",
            "[[1 (84%)]] --> [[[FAILED]]]\n",
            "\n",
            "cozy slouchy sweater. very versatile. fits tts, just as shown on model.\n",
            "\n",
            "\n"
          ]
        },
        {
          "output_type": "stream",
          "name": "stderr",
          "text": [
            "[Succeeded / Failed / Skipped / Total] 44 / 36 / 4 / 84:  88%|████████▊ | 44/50 [02:25<00:19,  3.31s/it]"
          ]
        },
        {
          "output_type": "stream",
          "name": "stdout",
          "text": [
            "--------------------------------------------- Result 84 ---------------------------------------------\n",
            "[[1 (97%)]] --> [[0 (50%)]]\n",
            "\n",
            "this dress in coral is a [[beautiful]] [[color]] and [[awesome]] material. only problem is it runs a [[little]] big- i am a pretty [[true]] to [[size]] small and should've ordered an xs- the hips are a [[little]] wide and v in the neck a [[little]] low. instead of sending back i just wore a camisole and leggings w ankle boots and it looked very cute regardless.\n",
            "\n",
            "this dress in coral is a [[splendid]] [[colour]] and [[splendid]] material. only problem is it runs a [[small]] big- i am a pretty [[genuine]] to [[sizing]] small and should've ordered an xs- the hips are a [[small]] wide and v in the neck a [[small]] low. instead of sending back i just wore a camisole and leggings w ankle boots and it looked very cute regardless.\n",
            "\n",
            "\n"
          ]
        },
        {
          "output_type": "stream",
          "name": "stderr",
          "text": [
            "[Succeeded / Failed / Skipped / Total] 45 / 36 / 4 / 85:  90%|█████████ | 45/50 [02:26<00:16,  3.26s/it]"
          ]
        },
        {
          "output_type": "stream",
          "name": "stdout",
          "text": [
            "--------------------------------------------- Result 85 ---------------------------------------------\n",
            "[[1 (87%)]] --> [[0 (59%)]]\n",
            "\n",
            "i [[love]] skorts! so when i saw this online i ordered my usual size 6. arrived today & really cute. fit is good w/ some room to spare. almost too big but i'll stick w/ the 6. looks as in the pic except the lower front part & the back has a metallic sparkly fiber in the fabric. not shown in the pic though. it's understated but attractive. the fabric patches give this skort a special uniqueness. [[casual]] or a [[little]] dressy, just [[love]]... 5'3\", 117#.\n",
            "\n",
            "i [[loved]] skorts! so when i saw this online i ordered my usual size 6. arrived today & really cute. fit is good w/ some room to spare. almost too big but i'll stick w/ the 6. looks as in the pic except the lower front part & the back has a metallic sparkly fiber in the fabric. not shown in the pic though. it's understated but attractive. the fabric patches give this skort a special uniqueness. [[occasional]] or a [[small]] dressy, just [[loved]]... 5'3\", 117#.\n",
            "\n",
            "\n"
          ]
        },
        {
          "output_type": "stream",
          "name": "stderr",
          "text": [
            "\r[Succeeded / Failed / Skipped / Total] 45 / 37 / 4 / 86:  90%|█████████ | 45/50 [02:29<00:16,  3.32s/it]"
          ]
        },
        {
          "output_type": "stream",
          "name": "stdout",
          "text": [
            "--------------------------------------------- Result 86 ---------------------------------------------\n",
            "[[0 (83%)]] --> [[[FAILED]]]\n",
            "\n",
            "this shirt has a vibrant color and beautiful neck line, but unfortunately i had to send it back. it is short waisted with a lot of material in the back. had it been 1-2 inches longer it may flare out, but based on the length on me, it ended up looking like a shrunken tent. for reference, i am 5'8 with a long torso.\n",
            "\n",
            "\n"
          ]
        },
        {
          "output_type": "stream",
          "name": "stderr",
          "text": [
            "[Succeeded / Failed / Skipped / Total] 46 / 37 / 4 / 87:  92%|█████████▏| 46/50 [02:31<00:13,  3.29s/it]"
          ]
        },
        {
          "output_type": "stream",
          "name": "stdout",
          "text": [
            "--------------------------------------------- Result 87 ---------------------------------------------\n",
            "[[0 (91%)]] --> [[1 (50%)]]\n",
            "\n",
            "i tried wearing it, [[however]], i thought i needed courage to wear this tank.\r\n",
            "[[unfortunately]], i did not purchase this tank although i liked color and [[design]].\r\n",
            "first, it runs small than the regular size. \r\n",
            "it feels even smaller because my size is xs.\r\n",
            "in addition, it tends to [[exaggerate]] a [[body]] line.\r\n",
            "i am not quite sure why this happens, but [[maybe]] it is just the [[way]] this tank is.\r\n",
            "if you are confident about your [[upper]] [[body]] posture, then yes, it would [[look]] very cool.\r\n",
            "[[however]], if you have thin postur\n",
            "\n",
            "i tried wearing it, [[nonetheless]], i thought i needed courage to wear this tank.\r\n",
            "[[unluckily]], i did not purchase this tank although i liked color and [[designs]].\r\n",
            "first, it runs small than the regular size. \r\n",
            "it feels even smaller because my size is xs.\r\n",
            "in addition, it tends to [[overdo]] a [[organ]] line.\r\n",
            "i am not quite sure why this happens, but [[might]] it is just the [[path]] this tank is.\r\n",
            "if you are confident about your [[superior]] [[organ]] posture, then yes, it would [[gaze]] very cool.\r\n",
            "[[nonetheless]], if you have thin postur\n",
            "\n",
            "\n"
          ]
        },
        {
          "output_type": "stream",
          "name": "stderr",
          "text": [
            "[Succeeded / Failed / Skipped / Total] 47 / 37 / 4 / 88:  94%|█████████▍| 47/50 [02:32<00:09,  3.24s/it]"
          ]
        },
        {
          "output_type": "stream",
          "name": "stdout",
          "text": [
            "--------------------------------------------- Result 88 ---------------------------------------------\n",
            "[[0 (70%)]] --> [[1 (50%)]]\n",
            "\n",
            "the [[pants]] are [[pretty]] and run true to size, but the fabric is bathing suit like, very thin and sheers in the [[butt]] when you squat. i wouldn't recommend for [[anything]] but [[waking]].\n",
            "\n",
            "the [[slacks]] are [[quite]] and run true to size, but the fabric is bathing suit like, very thin and sheers in the [[arse]] when you squat. i wouldn't recommend for [[somethings]] but [[awaken]].\n",
            "\n",
            "\n"
          ]
        },
        {
          "output_type": "stream",
          "name": "stderr",
          "text": [
            "[Succeeded / Failed / Skipped / Total] 48 / 37 / 4 / 89:  96%|█████████▌| 48/50 [02:34<00:06,  3.21s/it]"
          ]
        },
        {
          "output_type": "stream",
          "name": "stdout",
          "text": [
            "--------------------------------------------- Result 89 ---------------------------------------------\n",
            "[[1 (90%)]] --> [[0 (52%)]]\n",
            "\n",
            "5'1'' 43-31-43\n",
            "i [[bought]] a petite [[medium]] in the orange red color and it's a [[wonderful]] cardigan with an oversize fit. it goes to about an inch below my knees, and the slits go up to mid-thigh. the sleeves start at about an inch past the shoulder cap, but the sleeves are so [[generous]] that you still have full range of motion. the sleeves hit mid hand and i [[wish]] they were an inch or two longer, but that's personal preference. because of the color and the [[long]] side-slits looks really [[stunning]] with a mi\n",
            "\n",
            "5'1'' 43-31-43\n",
            "i [[procured]] a petite [[media]] in the orange red color and it's a [[splendid]] cardigan with an oversize fit. it goes to about an inch below my knees, and the slits go up to mid-thigh. the sleeves start at about an inch past the shoulder cap, but the sleeves are so [[bountiful]] that you still have full range of motion. the sleeves hit mid hand and i [[wishing]] they were an inch or two longer, but that's personal preference. because of the color and the [[lengthy]] side-slits looks really [[surprising]] with a mi\n",
            "\n",
            "\n"
          ]
        },
        {
          "output_type": "stream",
          "name": "stderr",
          "text": [
            "[Succeeded / Failed / Skipped / Total] 49 / 37 / 4 / 90:  98%|█████████▊| 49/50 [02:34<00:03,  3.16s/it]"
          ]
        },
        {
          "output_type": "stream",
          "name": "stdout",
          "text": [
            "--------------------------------------------- Result 90 ---------------------------------------------\n",
            "[[1 (88%)]] --> [[0 (51%)]]\n",
            "\n",
            "this sweater is [[perfect]] for transitioning into [[fall]] as it is not too heavy. it's flattering and looks [[great]] with jeans.\n",
            "\n",
            "this sweater is [[faultless]] for transitioning into [[slumps]] as it is not too heavy. it's flattering and looks [[tremendous]] with jeans.\n",
            "\n",
            "\n"
          ]
        },
        {
          "output_type": "stream",
          "name": "stderr",
          "text": [
            "[Succeeded / Failed / Skipped / Total] 50 / 37 / 4 / 91: 100%|██████████| 50/50 [02:36<00:00,  3.13s/it]"
          ]
        },
        {
          "output_type": "stream",
          "name": "stdout",
          "text": [
            "--------------------------------------------- Result 91 ---------------------------------------------\n",
            "[[0 (84%)]] --> [[1 (53%)]]\n",
            "\n",
            "i was so [[excited]] to find this shirt on sale at my local retailer store. but, i did not notice the high percentage of rayon in the fabric, which [[caused]] the shirt to shrink [[significantly]] in the [[wash]] (even when following [[washing]] [[instructions]]). i [[washed]] it on [[cold]] with woolite and it is about half the length it was initially! i'm so [[disappointed]]. how can you make a shirt that can't withstand [[washing]]?!\n",
            "\n",
            "i was so [[excite]] to find this shirt on sale at my local retailer store. but, i did not notice the high percentage of rayon in the fabric, which [[aroused]] the shirt to shrink [[dramatically]] in the [[washes]] (even when following [[washes]] [[directive]]). i [[rinsed]] it on [[chilly]] with woolite and it is about half the length it was initially! i'm so [[frustrated]]. how can you make a shirt that can't withstand [[washes]]?!\n",
            "\n",
            "\n",
            "\n",
            "+-------------------------------+--------+\n",
            "| Attack Results                |        |\n",
            "+-------------------------------+--------+\n",
            "| Number of successful attacks: | 50     |\n",
            "| Number of failed attacks:     | 37     |\n",
            "| Number of skipped attacks:    | 4      |\n",
            "| Original accuracy:            | 95.6%  |\n",
            "| Accuracy under attack:        | 40.66% |\n",
            "| Attack success rate:          | 57.47% |\n",
            "| Average perturbed word %:     | 9.75%  |\n",
            "| Average num. words per input: | 57.62  |\n",
            "| Avg num queries:              | 85.47  |\n",
            "+-------------------------------+--------+\n"
          ]
        },
        {
          "output_type": "stream",
          "name": "stderr",
          "text": [
            "\n"
          ]
        }
      ]
    },
    {
      "cell_type": "code",
      "source": [
        "# display the attack results and the differences\n",
        "logger = CSVLogger(color_method='html')\n",
        "\n",
        "for result in attack_results:\n",
        "    logger.log_attack_result(result)\n",
        "\n",
        "from IPython.core.display import display, HTML\n",
        "display(HTML(logger.df[['original_text', 'perturbed_text']].to_html(escape=False)))"
      ],
      "metadata": {
        "id": "gbsYFo1TdLtm",
        "colab": {
          "base_uri": "https://localhost:8080/",
          "height": 1000
        },
        "outputId": "61281a50-5234-49e1-8c56-10ac2eeb99b9"
      },
      "id": "gbsYFo1TdLtm",
      "execution_count": null,
      "outputs": [
        {
          "output_type": "stream",
          "name": "stderr",
          "text": [
            "textattack: Logging to CSV at path results.csv\n"
          ]
        },
        {
          "output_type": "display_data",
          "data": {
            "text/plain": [
              "<IPython.core.display.HTML object>"
            ],
            "text/html": [
              "<table border=\"1\" class=\"dataframe\">\n",
              "  <thead>\n",
              "    <tr style=\"text-align: right;\">\n",
              "      <th></th>\n",
              "      <th>original_text</th>\n",
              "      <th>perturbed_text</th>\n",
              "    </tr>\n",
              "  </thead>\n",
              "  <tbody>\n",
              "    <tr>\n",
              "      <th>0</th>\n",
              "      <td>the sleeves are a <font color = green>bit</font> too voluminous and the solid color collar stands out a <font color = green>bit</font> too much.  but it's a cute pattern and style.  very <font color = green>comfortable</font>.</td>\n",
              "      <td>the sleeves are a <font color = red>bite</font> too voluminous and the solid color collar stands out a <font color = red>bite</font> too much.  but it's a cute pattern and style.  very <font color = red>cosy</font>.</td>\n",
              "    </tr>\n",
              "    <tr>\n",
              "      <th>1</th>\n",
              "      <td>i <font color = green>purchased</font> another top, same <font color = green>brand</font>, in the same style from retailer and <font color = green>really</font> <font color = green>love</font> it. the fabric is lightweight, which makes it <font color = green>great</font> for <font color = green>multiple</font> seasons. i <font color = green>travel</font> <font color = green>extensively</font> and these <font color = green>tops</font> hand <font color = green>wash</font> and hang to dry very <font color = green>nicely</font>. i wear a <font color = green>gray</font> <font color = green>tank</font> under this one and <font color = green>love</font> the look. i <font color = green>also</font> like the <font color = green>long</font> <font color = green>length</font>. as <font color = green>usual</font>, i will <font color = green>probably</font> tack the neckline up an inch or so, so that it's not so low - just my thing. <font color = green>overall</font>, the pattern and the fabric are very nice. i <font color = green>usually</font> wear an xs or s; i pur</td>\n",
              "      <td>i <font color = green>procured</font> another top, same <font color = green>brands</font>, in the same style from retailer and <font color = green>genuinely</font> <font color = green>loved</font> it. the fabric is lightweight, which makes it <font color = green>tremendous</font> for <font color = green>several</font> seasons. i <font color = green>travelling</font> <font color = green>amply</font> and these <font color = green>topped</font> hand <font color = green>washing</font> and hang to dry very <font color = green>politely</font>. i wear a <font color = green>greys</font> <font color = green>reservoir</font> under this one and <font color = green>loved</font> the look. i <font color = green>additionally</font> like the <font color = green>lengthy</font> <font color = green>duration</font>. as <font color = green>normal</font>, i will <font color = green>presumably</font> tack the neckline up an inch or so, so that it's not so low - just my thing. <font color = green>total</font>, the pattern and the fabric are very nice. i <font color = green>generally</font> wear an xs or s; i pur</td>\n",
              "    </tr>\n",
              "    <tr>\n",
              "      <th>2</th>\n",
              "      <td>the stone <font color = red>color</font> was nice, but the <font color = red>material</font> is <font color = red>heavy</font> and doesn't <font color = red>breath</font>. if you are partial to more natural fabrics i would go with a <font color = red>different</font> <font color = red>item</font>. upside would be that i <font color = red>imagine</font> this shirt will last.</td>\n",
              "      <td>the stone <font color = red>colors</font> was nice, but the <font color = red>materials</font> is <font color = red>ponderous</font> and doesn't <font color = red>breathing</font>. if you are partial to more natural fabrics i would go with a <font color = red>various</font> <font color = red>items</font>. upside would be that i <font color = red>suppose</font> this shirt will last.</td>\n",
              "    </tr>\n",
              "    <tr>\n",
              "      <th>3</th>\n",
              "      <td>i <font color = red>wanted</font> to love this dress but it was too <font color = red>large</font>... and once i <font color = red>washed</font> it (which is <font color = red>recommended</font>) it shrank so i had to <font color = red>return</font> it.</td>\n",
              "      <td>i <font color = red>wanna</font> to love this dress but it was too <font color = red>vast</font>... and once i <font color = red>rinsed</font> it (which is <font color = red>recommend</font>) it shrank so i had to <font color = red>comeback</font> it.</td>\n",
              "    </tr>\n",
              "    <tr>\n",
              "      <th>4</th>\n",
              "      <td>this dress hit my waist in a <font color = red>weird</font> <font color = red>spot</font> and was too short. i would not have felt comfortable bending over. it was a tad too full which wasn't flattering either.\\r<SPLIT>i really <font color = red>wanted</font> to love it bc they <font color = red>design</font> is <font color = red>adorable</font>.\\r<SPLIT>i <font color = red>need</font> to <font color = red>return</font> it!!</td>\n",
              "      <td>this dress hit my waist in a <font color = green>curious</font> <font color = green>smudge</font> and was too short. i would not have felt comfortable bending over. it was a tad too full which wasn't flattering either.\\r<SPLIT>i really <font color = green>wished</font> to love it bc they <font color = green>designs</font> is <font color = green>charming</font>.\\r<SPLIT>i <font color = green>needed</font> to <font color = green>comeback</font> it!!</td>\n",
              "    </tr>\n",
              "    <tr>\n",
              "      <th>5</th>\n",
              "      <td><font color = green>great</font> skirt, can be dressy, work or <font color = green>casual</font>, <font color = green>love</font> it!</td>\n",
              "      <td><font color = green>tremendous</font> skirt, can be dressy, work or <font color = green>occasional</font>, <font color = green>adores</font> it!</td>\n",
              "    </tr>\n",
              "    <tr>\n",
              "      <th>6</th>\n",
              "      <td>i like this top a lot, and have always liked knotted looks around the bust area. i do not have a large chest, and this kind of top always draws attention in all the right places. i was worried the cut would be too low for my comfort level-and it is low but the shirt does not come away from my body in normal movements so i do feel completely <font color = green>comfortable</font> wearing this without a cami underneath. i don't prefer this in black because i think the color detracts from the bunches of fabric created by the</td>\n",
              "      <td>i like this top a lot, and have always liked knotted looks around the bust area. i do not have a large chest, and this kind of top always draws attention in all the right places. i was worried the cut would be too low for my comfort level-and it is low but the shirt does not come away from my body in normal movements so i do feel completely <font color = red>cosy</font> wearing this without a cami underneath. i don't prefer this in black because i think the color detracts from the bunches of fabric created by the</td>\n",
              "    </tr>\n",
              "    <tr>\n",
              "      <th>7</th>\n",
              "      <td>this dress <font color = green>got</font> my attention in the store due to the bright color. it's like a tangerine orange that absolutely shouts summer. loved the asymmetrical hem and another plus was the pockets! they look completely hidden so the dress does <font color = green>fall</font> flat. i thought this ran a <font color = green>little</font> big in the chest area, which doesn't happen often. a size 8 worked for me, can't <font color = green>wait</font> to wear this!</td>\n",
              "      <td>this dress <font color = red>get</font> my attention in the store due to the bright color. it's like a tangerine orange that absolutely shouts summer. loved the asymmetrical hem and another plus was the pockets! they look completely hidden so the dress does <font color = red>slumps</font> flat. i thought this ran a <font color = red>small</font> big in the chest area, which doesn't happen often. a size 8 worked for me, can't <font color = red>expecting</font> to wear this!</td>\n",
              "    </tr>\n",
              "    <tr>\n",
              "      <th>8</th>\n",
              "      <td>omg - i laughed so <font color = red>hard</font> after i put these on. i was so <font color = red>excited</font> to get them. i <font color = red>ordered</font> them in my usual 4. i got a little suspicious when i <font color = red>pulled</font> them out and noticed they had an <font color = red>elastic</font> waist <font color = red>band</font>.<SPLIT><SPLIT>they were a little too <font color = red>small</font> for me and even if they were not it's <font color = red>hard</font> to <font color = red>imagine</font> a world in which they didn't make me <font color = red>look</font> like an oompa loompa or a hobbit! they are beautifully made and i <font color = red>kept</font> <font color = red>looking</font> at the <font color = red>picture</font> and wondering why they don't <font color = red>look</font> like that on me? i definitely have a curvier sh</td>\n",
              "      <td>omg - i laughed so <font color = green>tough</font> after i put these on. i was so <font color = green>excite</font> to get them. i <font color = green>decreed</font> them in my usual 4. i got a little suspicious when i <font color = green>pulls</font> them out and noticed they had an <font color = green>stretchy</font> waist <font color = green>banding</font>.<SPLIT><SPLIT>they were a little too <font color = green>little</font> for me and even if they were not it's <font color = green>tough</font> to <font color = green>suppose</font> a world in which they didn't make me <font color = green>gaze</font> like an oompa loompa or a hobbit! they are beautifully made and i <font color = green>retained</font> <font color = green>searching</font> at the <font color = green>photographed</font> and wondering why they don't <font color = green>gaze</font> like that on me? i definitely have a curvier sh</td>\n",
              "    </tr>\n",
              "    <tr>\n",
              "      <th>9</th>\n",
              "      <td>i <font color = green>absolutely</font> <font color = green>love</font> this blouse! it's <font color = green>easily</font> one of my <font color = green>favorite</font> retailer finds in several seasons. it is <font color = green>quite</font> <font color = green>roomy</font>, so <font color = green>anyone</font> hoping for a more form fitting cut won't <font color = green>find</font> it here. this is the type of fit i <font color = green>prefer</font> for summer <font color = green>though</font>, as missouri is just disgustingly <font color = green>humid</font> and i can't stand to wear <font color = green>anything</font> <font color = green>clingy</font> once it heats up. it's <font color = green>sheer</font>, so a cami is required. it's <font color = green>also</font> wrinkle prone, but the fabric is <font color = green>almost</font> like a gauze and is not <font color = green>meant</font> to be <font color = green>perfectly</font> pressed and crisp. it's <font color = green>perfect</font> to thro</td>\n",
              "      <td>i <font color = green>totally</font> <font color = green>loved</font> this blouse! it's <font color = green>readily</font> one of my <font color = green>favourite</font> retailer finds in several seasons. it is <font color = green>pretty</font> <font color = green>spacious</font>, so <font color = green>someone</font> hoping for a more form fitting cut won't <font color = green>unearth</font> it here. this is the type of fit i <font color = green>prefers</font> for summer <font color = green>although</font>, as missouri is just disgustingly <font color = green>damp</font> and i can't stand to wear <font color = green>something</font> <font color = green>onthe</font> once it heats up. it's <font color = green>unadulterated</font>, so a cami is required. it's <font color = green>additionally</font> wrinkle prone, but the fabric is <font color = green>approximately</font> like a gauze and is not <font color = green>intentioned</font> to be <font color = green>abundantly</font> pressed and crisp. it's <font color = green>faultless</font> to thro</td>\n",
              "    </tr>\n",
              "    <tr>\n",
              "      <th>10</th>\n",
              "      <td>i <font color = green>bought</font> this for my girlfriend with the hope that my presumptive intuition about her style preferences and the fit itself would prove successful. fortunately she <font color = green>loves</font> it and looks <font color = green>amazing</font> in it!<SPLIT><SPLIT>the <font color = green>colors</font> are <font color = green>vibrant</font> and the <font color = green>unique</font> texture really lends itself toward a <font color = green>clothing</font> item that is special- even for retailer.<SPLIT><SPLIT><font color = green>recommend</font> it <font color = green>highly</font>!</td>\n",
              "      <td>i <font color = red>procured</font> this for my girlfriend with the hope that my presumptive intuition about her style preferences and the fit itself would prove successful. fortunately she <font color = red>adores</font> it and looks <font color = red>unbelievable</font> in it!<SPLIT><SPLIT>the <font color = red>colour</font> are <font color = red>lively</font> and the <font color = red>singular</font> texture really lends itself toward a <font color = red>apparel</font> item that is special- even for retailer.<SPLIT><SPLIT><font color = red>recommends</font> it <font color = red>extremely</font>!</td>\n",
              "    </tr>\n",
              "    <tr>\n",
              "      <th>11</th>\n",
              "      <td>this top was gorgeous and fit perfectly right out of the <font color = red>bag</font>, with only a quick ironing. <font color = red>unfortunately</font>, the first time i <font color = red>washed</font> it (<font color = red>cold</font> water, hang <font color = red>dry</font>), it <font color = red>shrunk</font> so that it no longer fits <font color = red>across</font> the <font color = red>bust</font> without tape where it was once roomy, is much shorter, and feels rougher to the touch. like another <font color = red>reviewer</font> said (<font color = red>unfortunately</font>, after i had purchased and <font color = red>washed</font>!), i wish the <font color = red>label</font> would have just said to <font color = red>dry</font> clean only, because i regret <font color = red>washing</font> it and would have done otherwise if i had kno</td>\n",
              "      <td>this top was gorgeous and fit perfectly right out of the <font color = green>purse</font>, with only a quick ironing. <font color = green>unluckily</font>, the first time i <font color = green>rinsed</font> it (<font color = green>chilly</font> water, hang <font color = green>dried</font>), it <font color = green>declined</font> so that it no longer fits <font color = green>throughout</font> the <font color = green>busted</font> without tape where it was once roomy, is much shorter, and feels rougher to the touch. like another <font color = green>assessor</font> said (<font color = green>unluckily</font>, after i had purchased and <font color = green>rinsed</font>!), i wish the <font color = green>tagging</font> would have just said to <font color = green>dried</font> clean only, because i regret <font color = green>washes</font> it and would have done otherwise if i had kno</td>\n",
              "    </tr>\n",
              "    <tr>\n",
              "      <th>12</th>\n",
              "      <td>bought this shirt on-line. <font color = red>wanted</font> to love it but just couldn't. i <font color = red>ordered</font> the xs and it was <font color = red>huge</font> and <font color = red>way</font> too unstructured for my <font color = red>style</font>....just didn't have enough <font color = red>shape</font>. had to <font color = red>send</font> it back.</td>\n",
              "      <td>bought this shirt on-line. <font color = red>wanna</font> to love it but just couldn't. i <font color = red>decreed</font> the xs and it was <font color = red>vast</font> and <font color = red>path</font> too unstructured for my <font color = red>styles</font>....just didn't have enough <font color = red>shaping</font>. had to <font color = red>despatch</font> it back.</td>\n",
              "    </tr>\n",
              "    <tr>\n",
              "      <th>13</th>\n",
              "      <td>i <font color = red>hated</font> to <font color = red>send</font> this dress back, but my busty and curvy figure looked bigger and rounder in this dress. <font color = red>sent</font> it back. it is meant for taller and more slender women.</td>\n",
              "      <td>i <font color = red>hates</font> to <font color = red>despatch</font> this dress back, but my busty and curvy figure looked bigger and rounder in this dress. <font color = red>despatch</font> it back. it is meant for taller and more slender women.</td>\n",
              "    </tr>\n",
              "    <tr>\n",
              "      <th>14</th>\n",
              "      <td>i <font color = green>love</font> anna sui's lines makeup to everything. this dress is beautiful in a very <font color = green>usual</font> sort of way and after trying it on, i couldn't see anything spectacular that made it <font color = green>unique</font> or special somehow. the elastic waist does make this dress forgiving and it runs big. the hem is lovely scalloped. each <font color = green>detail</font> is very nice in and of itself but when put together in this dress, there is no wow that justifies the full price tag. now that it's on sale i'll keep it probably for summer.</td>\n",
              "      <td>i <font color = red>loved</font> anna sui's lines makeup to everything. this dress is beautiful in a very <font color = red>normal</font> sort of way and after trying it on, i couldn't see anything spectacular that made it <font color = red>singular</font> or special somehow. the elastic waist does make this dress forgiving and it runs big. the hem is lovely scalloped. each <font color = red>details</font> is very nice in and of itself but when put together in this dress, there is no wow that justifies the full price tag. now that it's on sale i'll keep it probably for summer.</td>\n",
              "    </tr>\n",
              "    <tr>\n",
              "      <th>15</th>\n",
              "      <td>this <font color = green>dress</font> is so <font color = green>soft</font>, and fits like a <font color = green>dream</font>. i'm a <font color = green>new</font> <font color = green>mom</font> and the <font color = green>tie</font> <font color = green>perfectly</font> masks what's left of my <font color = green>mummy</font> <font color = green>tummy</font>, while still <font color = green>helping</font> me feel <font color = green>stylish</font> for <font color = green>fall</font>!</td>\n",
              "      <td>this <font color = green>attire</font> is so <font color = green>mild</font>, and fits like a <font color = green>daydream</font>. i'm a <font color = green>newer</font> <font color = green>momma</font> and the <font color = green>tying</font> <font color = green>abundantly</font> masks what's left of my <font color = green>momma</font> <font color = green>abdomen</font>, while still <font color = green>help</font> me feel <font color = green>stylishly</font> for <font color = green>slumps</font>!</td>\n",
              "    </tr>\n",
              "    <tr>\n",
              "      <th>16</th>\n",
              "      <td><font color = red>purchased</font> these <font color = red>pants</font> that i had <font color = red>quickly</font> <font color = red>tried</font> on. when i got <font color = red>home</font>, i re-tried them and felt they were too snug and the <font color = red>material</font> had an <font color = red>odd</font> feel and did not lay right. i took them back and <font color = red>tried</font> them in the next size. they <font color = red>fit</font> much <font color = red>better</font> but the <font color = red>material</font> did not lay well on me. i think that they are a bit too stretchy and <font color = red>ended</font> up not <font color = red>buying</font> the <font color = red>larger</font> ones either. i would definitely recommend <font color = red>trying</font> these in a <font color = red>store</font> rather then <font color = red>ordering</font> online.</td>\n",
              "      <td><font color = red>bought</font> these <font color = red>slacks</font> that i had <font color = red>quick</font> <font color = red>attempted</font> on. when i got <font color = red>abode</font>, i re-tried them and felt they were too snug and the <font color = red>materials</font> had an <font color = red>curious</font> feel and did not lay right. i took them back and <font color = red>attempted</font> them in the next size. they <font color = red>fitted</font> much <font color = red>improved</font> but the <font color = red>materials</font> did not lay well on me. i think that they are a bit too stretchy and <font color = red>terminated</font> up not <font color = red>purchase</font> the <font color = red>bigger</font> ones either. i would definitely recommend <font color = red>attempting</font> these in a <font color = red>shops</font> rather then <font color = red>orders</font> online.</td>\n",
              "    </tr>\n",
              "    <tr>\n",
              "      <th>17</th>\n",
              "      <td>i&#39;m taller (5&#39;8), so it&#39;s not <font color = red>uncommon</font> for things to be too short on me, but this was really short for the <font color = red>style</font>.  it was very <font color = red>wide</font> and loose all over in my usual size - both up top and in the <font color = red>wavy</font> <font color = red>part</font> below.  the <font color = red>style</font> really just did not <font color = red>work</font> with the length.  it looked very <font color = red>odd</font>.</td>\n",
              "      <td>i&#39;m taller (5&#39;8), so it&#39;s not <font color = red>rare</font> for things to be too short on me, but this was really short for the <font color = red>styles</font>.  it was very <font color = red>broad</font> and loose all over in my usual size - both up top and in the <font color = red>corrugated</font> <font color = red>portions</font> below.  the <font color = red>styles</font> really just did not <font color = red>collaborate</font> with the length.  it looked very <font color = red>curious</font>.</td>\n",
              "    </tr>\n",
              "    <tr>\n",
              "      <th>18</th>\n",
              "      <td>i'm 5'3\" 115 lbs and ordered an xs petite. i have other dresses from maeve in xs petite and xxs petite that fit really well, but this one was weirdly big at the top</td>\n",
              "      <td>i'm 5'3\" 115 lbs and ordered an xs petite. i have other dresses from maeve in xs petite and xxs petite that fit really well, but this one was weirdly big at the top</td>\n",
              "    </tr>\n",
              "    <tr>\n",
              "      <th>19</th>\n",
              "      <td>i <font color = green>got</font> this top to wear with shorts as the color goes with a lot of different prints. the quality is excellent. this top runs very large, as in three (3) sizes too large. for the record i am a 34.25.35 and ordered my regular size the xs and this top makes me like i'm pregnant with twins. also, the layering looks nothing like it does on the model, it looks sloppy, unkept and a general. i think this would still be <font color = green>great</font> for ladies who are bigger in the chest and waist, otherwise it just doesn't wor</td>\n",
              "      <td>i <font color = red>get</font> this top to wear with shorts as the color goes with a lot of different prints. the quality is excellent. this top runs very large, as in three (3) sizes too large. for the record i am a 34.25.35 and ordered my regular size the xs and this top makes me like i'm pregnant with twins. also, the layering looks nothing like it does on the model, it looks sloppy, unkept and a general. i think this would still be <font color = red>tremendous</font> for ladies who are bigger in the chest and waist, otherwise it just doesn't wor</td>\n",
              "    </tr>\n",
              "    <tr>\n",
              "      <th>20</th>\n",
              "      <td>this would have been a <font color = red>cute</font> top but the shoulder seams come <font color = red>halfway</font> down the arm and give it a really <font color = red>weird</font> <font color = red>shape</font>. it looks <font color = red>smooth</font> and fine on the <font color = red>model</font> but in <font color = red>real</font> <font color = red>life</font> they stick out and make you <font color = red>look</font> boxy. too <font color = red>bad</font>!</td>\n",
              "      <td>this would have been a <font color = red>charming</font> top but the shoulder seams come <font color = red>midway</font> down the arm and give it a really <font color = red>curious</font> <font color = red>shaping</font>. it looks <font color = red>seamless</font> and fine on the <font color = red>modeling</font> but in <font color = red>actual</font> <font color = red>vida</font> they stick out and make you <font color = red>gaze</font> boxy. too <font color = red>inclement</font>!</td>\n",
              "    </tr>\n",
              "    <tr>\n",
              "      <th>21</th>\n",
              "      <td>i had read a few reviews on this shirt before ordering that said it ran small and was shorter than it looks. i thought it was worth finding out because i really liked how this shirt looks in the pictures on the store site. <font color = red>unfortunately</font>, when i got it in the mail and <font color = red>opened</font> it up i found out that all the <font color = red>earlier</font> review were right.\\r<SPLIT>\\r<SPLIT>it is much shorter than the dimensions <font color = red>implied</font> in the <font color = red>pictures</font> of the <font color = red>model</font>. i was <font color = red>expecting</font> a tunic style shirt that could be worn over leggings or skinny jeans th</td>\n",
              "      <td>i had read a few reviews on this shirt before ordering that said it ran small and was shorter than it looks. i thought it was worth finding out because i really liked how this shirt looks in the pictures on the store site. <font color = green>unluckily</font>, when i got it in the mail and <font color = green>open</font> it up i found out that all the <font color = green>previously</font> review were right.\\r<SPLIT>\\r<SPLIT>it is much shorter than the dimensions <font color = green>implicit</font> in the <font color = green>photographed</font> of the <font color = green>modeling</font>. i was <font color = green>wait</font> a tunic style shirt that could be worn over leggings or skinny jeans th</td>\n",
              "    </tr>\n",
              "    <tr>\n",
              "      <th>22</th>\n",
              "      <td>i <font color = red>ordered</font> this top in a 14, my usual size, and it fits fine, but it is <font color = red>way</font> too short-waisted! it looks nothing like what the <font color = red>model</font> is wearing. her top comes low on her waist, <font color = red>almost</font> to her crotch <font color = red>area</font>. mine was just about 2 inches below my <font color = red>belly</font> button! it was <font color = red>almost</font> as if they <font color = red>accidentally</font> <font color = red>cut</font> off the lower half of the top at the <font color = red>factory</font>! very <font color = red>strange</font>.</td>\n",
              "      <td>i <font color = red>decreed</font> this top in a 14, my usual size, and it fits fine, but it is <font color = red>path</font> too short-waisted! it looks nothing like what the <font color = red>modeling</font> is wearing. her top comes low on her waist, <font color = red>roughly</font> to her crotch <font color = red>sphere</font>. mine was just about 2 inches below my <font color = red>tummy</font> button! it was <font color = red>roughly</font> as if they <font color = red>accidently</font> <font color = red>chopped</font> off the lower half of the top at the <font color = red>mill</font>! very <font color = red>curious</font>.</td>\n",
              "    </tr>\n",
              "    <tr>\n",
              "      <th>23</th>\n",
              "      <td>i love the fabric, since it's fall wasn't expecting it to be light. but its not heavy either. just the right balance.\\r<SPLIT>this is one of those classics. i <font color = green>love</font> the collage like pattern of the fabric.\\r<SPLIT>the fit is <font color = green>true</font> to size and looks <font color = green>great</font> with bootie/boots. (<font color = green>dressed</font> up or down).</td>\n",
              "      <td>i love the fabric, since it's fall wasn't expecting it to be light. but its not heavy either. just the right balance.\\r<SPLIT>this is one of those classics. i <font color = red>loved</font> the collage like pattern of the fabric.\\r<SPLIT>the fit is <font color = red>genuine</font> to size and looks <font color = red>tremendous</font> with bootie/boots. (<font color = red>attired</font> up or down).</td>\n",
              "    </tr>\n",
              "    <tr>\n",
              "      <th>24</th>\n",
              "      <td>i am <font color = green>super</font> <font color = green>happy</font> with the t-shirt....it fits <font color = green>true</font> to <font color = green>size</font> and the cut outs are a <font color = green>great</font> <font color = green>detail</font>!! i'm thinking about <font color = green>buying</font> another!!</td>\n",
              "      <td>i am <font color = green>groovy</font> <font color = green>merry</font> with the t-shirt....it fits <font color = green>genuine</font> to <font color = green>sizing</font> and the cut outs are a <font color = green>tremendous</font> <font color = green>details</font>!! i'm thinking about <font color = green>acquisition</font> another!!</td>\n",
              "    </tr>\n",
              "    <tr>\n",
              "      <th>25</th>\n",
              "      <td>the fabric on this dress is gorgeous. i wish it was tailored a bit more because as it is, it looks like a muumuu. i wish it would have fit better, but i returned it.</td>\n",
              "      <td>the fabric on this dress is gorgeous. i wish it was tailored a bit more because as it is, it looks like a muumuu. i wish it would have fit better, but i returned it.</td>\n",
              "    </tr>\n",
              "    <tr>\n",
              "      <th>26</th>\n",
              "      <td>i love the <font color = red>idea</font> of ruffles, but this shirt was <font color = red>huge</font>! i normally wear a small or medium, and i got the <font color = red>small</font>. it felt more like a large to me. <font color = red>maybe</font> if you size down 1-2 <font color = red>sizes</font>, it will <font color = red>work</font> out for you. i'm going to take it back rather than exchange. i <font color = red>also</font> wish it was a more lightweight <font color = red>material</font> for summer, but it's pretty thick.</td>\n",
              "      <td>i love the <font color = green>thoughts</font> of ruffles, but this shirt was <font color = green>vast</font>! i normally wear a small or medium, and i got the <font color = green>little</font>. it felt more like a large to me. <font color = green>might</font> if you size down 1-2 <font color = green>sized</font>, it will <font color = green>collaborate</font> out for you. i'm going to take it back rather than exchange. i <font color = green>moreover</font> wish it was a more lightweight <font color = green>materials</font> for summer, but it's pretty thick.</td>\n",
              "    </tr>\n",
              "    <tr>\n",
              "      <th>27</th>\n",
              "      <td>these run small. i normally wear 28 on ag stevie's and paige jeans so i ordered these in 28 and they were very tight. otherwise very well made and super cute but i had to <font color = red>return</font> them.</td>\n",
              "      <td>these run small. i normally wear 28 on ag stevie's and paige jeans so i ordered these in 28 and they were very tight. otherwise very well made and super cute but i had to <font color = green>comeback</font> them.</td>\n",
              "    </tr>\n",
              "    <tr>\n",
              "      <th>28</th>\n",
              "      <td>finally decided to join the yoga-wear craze and thought these tights and a few other pair from retailer would help me transition to this style. my size l tights were just that -- tight! so tight, i really didn't want to pull them up <font color = red>past</font> the knee!! i am not kidding. i wear size 14 pants and my legs are toned and shapely, so there was no reason to expect a l wouldn't fit. so <font color = red>sad</font>.</td>\n",
              "      <td>finally decided to join the yoga-wear craze and thought these tights and a few other pair from retailer would help me transition to this style. my size l tights were just that -- tight! so tight, i really didn't want to pull them up <font color = green>yesteryear</font> the knee!! i am not kidding. i wear size 14 pants and my legs are toned and shapely, so there was no reason to expect a l wouldn't fit. so <font color = green>sorrowful</font>.</td>\n",
              "    </tr>\n",
              "    <tr>\n",
              "      <th>29</th>\n",
              "      <td>nice <font color = green>basic</font> top...i will get plenty of use out of this! <font color = green>love</font> the neckline.</td>\n",
              "      <td>nice <font color = red>baseline</font> top...i will get plenty of use out of this! <font color = red>loved</font> the neckline.</td>\n",
              "    </tr>\n",
              "    <tr>\n",
              "      <th>30</th>\n",
              "      <td>i saw this dress in my local retailer store, and am not sure why i did not try it on then, but later at home it began to haunt me. i loved the colored embroidery against the <font color = green>black</font>. my husband and i will be traveling to europe later this <font color = green>fall</font> and i wanted to take a dress with me that wouldn't take up too much <font color = green>room</font>, and be suitable for times when i wanted to dress-up a <font color = green>little</font>. online i saw that it was <font color = green>available</font> in the petite, and with the reviews warning that it ran large i opted for a medium petite</td>\n",
              "      <td>i saw this dress in my local retailer store, and am not sure why i did not try it on then, but later at home it began to haunt me. i loved the colored embroidery against the <font color = red>negro</font>. my husband and i will be traveling to europe later this <font color = red>slumps</font> and i wanted to take a dress with me that wouldn't take up too much <font color = red>rooms</font>, and be suitable for times when i wanted to dress-up a <font color = red>small</font>. online i saw that it was <font color = red>accessible</font> in the petite, and with the reviews warning that it ran large i opted for a medium petite</td>\n",
              "    </tr>\n",
              "    <tr>\n",
              "      <th>31</th>\n",
              "      <td>the quality and fabric are <font color = red>fabulous</font> but it's just too voluminous for my figure (5'8\", 155 lbs), would <font color = red>look</font> great on <font color = red>someone</font> more slender.</td>\n",
              "      <td>the quality and fabric are <font color = red>wonderful</font> but it's just too voluminous for my figure (5'8\", 155 lbs), would <font color = red>gaze</font> great on <font color = red>anybody</font> more slender.</td>\n",
              "    </tr>\n",
              "    <tr>\n",
              "      <th>32</th>\n",
              "      <td>had been eyeing this for a while. <font color = green>print</font> is <font color = green>beautiful</font> in person, just as pictured. tts fit (<font color = green>size</font> 8, 5'7\", 150#, pear shaped). <font color = green>comes</font> within a couple inches of my knees so <font color = green>long</font> <font color = green>enough</font> to wear to work.</td>\n",
              "      <td>had been eyeing this for a while. <font color = red>printing</font> is <font color = red>splendid</font> in person, just as pictured. tts fit (<font color = red>sizing</font> 8, 5'7\", 150#, pear shaped). <font color = red>happens</font> within a couple inches of my knees so <font color = red>lengthy</font> <font color = red>sufficiently</font> to wear to work.</td>\n",
              "    </tr>\n",
              "    <tr>\n",
              "      <th>33</th>\n",
              "      <td>this is a <font color = green>beautiful</font> top. it's <font color = green>unique</font> and not so <font color = green>ordinary</font>. i <font color = green>bought</font> my <font color = green>usual</font> <font color = green>medium</font> and i <font color = green>found</font> that it fits tight across my chest. although i had a <font color = green>baby</font> this <font color = green>year</font> and i am <font color = green>nursing</font>, so that could be why. if i <font color = green>bought</font> again i would <font color = green>size</font> up.</td>\n",
              "      <td>this is a <font color = red>splendid</font> top. it's <font color = red>singular</font> and not so <font color = red>normal</font>. i <font color = red>procured</font> my <font color = red>normal</font> <font color = red>media</font> and i <font color = red>discovered</font> that it fits tight across my chest. although i had a <font color = red>babe</font> this <font color = red>annum</font> and i am <font color = red>nurses</font>, so that could be why. if i <font color = red>procured</font> again i would <font color = red>sizing</font> up.</td>\n",
              "    </tr>\n",
              "    <tr>\n",
              "      <th>34</th>\n",
              "      <td><font color = green>beautiful</font> dress, stretch material makes sure it fits the figure <font color = green>nicely</font>. <font color = green>great</font> value.</td>\n",
              "      <td><font color = red>splendid</font> dress, stretch material makes sure it fits the figure <font color = red>politely</font>. <font color = red>tremendous</font> value.</td>\n",
              "    </tr>\n",
              "    <tr>\n",
              "      <th>35</th>\n",
              "      <td>nice and <font color = red>colorful</font> dress but runs very oversized. <font color = red>material</font> mutes the colors not as <font color = red>vibrant</font> in <font color = red>person</font>.</td>\n",
              "      <td>nice and <font color = red>colourful</font> dress but runs very oversized. <font color = red>materials</font> mutes the colors not as <font color = red>spirited</font> in <font color = red>persons</font>.</td>\n",
              "    </tr>\n",
              "    <tr>\n",
              "      <th>36</th>\n",
              "      <td>i <font color = green>bought</font> the m/l (5'4\",130lb) and <font color = green>love</font> the way it hangs and the <font color = green>length</font>, and the fact that it can be <font color = green>worn</font> over a lightweight top. the <font color = green>color</font> and feel of the fabric are very nice.</td>\n",
              "      <td>i <font color = green>procured</font> the m/l (5'4\",130lb) and <font color = green>loved</font> the way it hangs and the <font color = green>duration</font>, and the fact that it can be <font color = green>wear</font> over a lightweight top. the <font color = green>colour</font> and feel of the fabric are very nice.</td>\n",
              "    </tr>\n",
              "    <tr>\n",
              "      <th>37</th>\n",
              "      <td>i <font color = red>also</font> <font color = red>returned</font> this dress after <font color = red>waiting</font> weeks to received it.  i had high hopes for this dress as i really <font color = red>loved</font> it online but what a <font color = red>disappointment</font> when i got it.  the fabric is made of <font color = red>cheap</font> poly that's <font color = red>shiny</font>, thin, and clingy.  it <font color = red>shows</font> <font color = red>every</font> lump and bump you have.  the zipper at the back won't lay <font color = red>flat</font> and keeps bunching up <font color = red>creating</font> an ugly bump.  the <font color = red>sewing</font> and hemline is <font color = red>uneven</font>.  there wasn't a lot of <font color = red>thought</font> put in in the print placement where the seams was sewn together in the midline</td>\n",
              "      <td>i <font color = red>moreover</font> <font color = red>reverted</font> this dress after <font color = red>wait</font> weeks to received it.  i had high hopes for this dress as i really <font color = red>love</font> it online but what a <font color = red>disillusionment</font> when i got it.  the fabric is made of <font color = red>cheaper</font> poly that's <font color = red>lustrous</font>, thin, and clingy.  it <font color = red>display</font> <font color = red>everything</font> lump and bump you have.  the zipper at the back won't lay <font color = red>apartment</font> and keeps bunching up <font color = red>create</font> an ugly bump.  the <font color = red>couture</font> and hemline is <font color = red>spotty</font>.  there wasn't a lot of <font color = red>think</font> put in in the print placement where the seams was sewn together in the midline</td>\n",
              "    </tr>\n",
              "    <tr>\n",
              "      <th>38</th>\n",
              "      <td>i have blazers in size 8 from this designer and they fit with room to spare. i <font color = red>understand</font> this is a more fitted style, but it is still <font color = red>way</font> too small. size 10 and size 12 were not much bigger. great colors and cute <font color = red>design</font>, but just too <font color = red>small</font> even if you do not plan on buttoning it. i hope they bring back this jacket but make it true to size.</td>\n",
              "      <td>i have blazers in size 8 from this designer and they fit with room to spare. i <font color = green>understanding</font> this is a more fitted style, but it is still <font color = green>path</font> too small. size 10 and size 12 were not much bigger. great colors and cute <font color = green>designs</font>, but just too <font color = green>little</font> even if you do not plan on buttoning it. i hope they bring back this jacket but make it true to size.</td>\n",
              "    </tr>\n",
              "    <tr>\n",
              "      <th>39</th>\n",
              "      <td>i <font color = green>love</font> this top. i'm not one to iron, so i wash (and hang dry) and wear it. <font color = green>great</font> with <font color = green>skinny</font> jeans.</td>\n",
              "      <td>i <font color = red>loved</font> this top. i'm not one to iron, so i wash (and hang dry) and wear it. <font color = red>tremendous</font> with <font color = red>lean</font> jeans.</td>\n",
              "    </tr>\n",
              "    <tr>\n",
              "      <th>40</th>\n",
              "      <td>i am 5' 7\" - 110 lbs. <font color = red>ordered</font> my <font color = red>normal</font> xs and the bottom portion was <font color = red>way</font> over sized. it fit like a <font color = red>parachute</font>, you could fit about 12 of me in the bottoms and very short. nice quality <font color = red>material</font>, but <font color = red>extremely</font> <font color = red>awkward</font> fit.</td>\n",
              "      <td>i am 5' 7\" - 110 lbs. <font color = green>decreed</font> my <font color = green>usual</font> xs and the bottom portion was <font color = green>path</font> over sized. it fit like a <font color = green>parachuting</font>, you could fit about 12 of me in the bottoms and very short. nice quality <font color = green>materials</font>, but <font color = green>highly</font> <font color = green>clumsy</font> fit.</td>\n",
              "    </tr>\n",
              "    <tr>\n",
              "      <th>41</th>\n",
              "      <td>first, i absolutely love cloth & stone. but lately i'm finding some of the styles are going in a direction that just doesn't fit my style. that's ok because they still have some good basics. \\r<SPLIT>\\r<SPLIT>\\r<SPLIT>what i mean is the cut. a lot of their pieces are super long in the back and super short in the front (ie their slip dress they have out right now). this particular tank is like that, although this one is borderline. the sides <font color = red>cut</font> up a little too high for my tastes and i can't help but think i'm wearin</td>\n",
              "      <td>first, i absolutely love cloth & stone. but lately i'm finding some of the styles are going in a direction that just doesn't fit my style. that's ok because they still have some good basics. \\r<SPLIT>\\r<SPLIT>\\r<SPLIT>what i mean is the cut. a lot of their pieces are super long in the back and super short in the front (ie their slip dress they have out right now). this particular tank is like that, although this one is borderline. the sides <font color = green>chopped</font> up a little too high for my tastes and i can't help but think i'm wearin</td>\n",
              "    </tr>\n",
              "    <tr>\n",
              "      <th>42</th>\n",
              "      <td>i <font color = red>purchased</font> the dress with the bow-back <font color = red>shift</font> in peach because i <font color = red>loved</font> it's nautical <font color = red>theme</font> pattern.  when i recurve do the dress, i <font color = red>found</font> it to be <font color = red>stiff</font> and boxy.  being a petite, short-waisted <font color = red>person</font>, the top portion of the <font color = red>stress</font> hung on my <font color = red>body</font> awkwardly.  my bra strap was <font color = red>showing</font> in the back, and the dress needed to be <font color = red>pulled</font> up about 2 inches to <font color = red>properly</font> sit on my frame.  \\r<SPLIT>i <font color = red>returned</font> the <font color = red>dress</font></td>\n",
              "      <td>i <font color = red>bought</font> the dress with the bow-back <font color = red>shifts</font> in peach because i <font color = red>love</font> it's nautical <font color = red>subjects</font> pattern.  when i recurve do the dress, i <font color = red>unearthed</font> it to be <font color = red>tough</font> and boxy.  being a petite, short-waisted <font color = red>persons</font>, the top portion of the <font color = red>highlight</font> hung on my <font color = red>organ</font> awkwardly.  my bra strap was <font color = red>display</font> in the back, and the dress needed to be <font color = red>pulls</font> up about 2 inches to <font color = red>adequately</font> sit on my frame.  \\r<SPLIT>i <font color = red>reverted</font> the <font color = red>frock</font></td>\n",
              "    </tr>\n",
              "    <tr>\n",
              "      <th>43</th>\n",
              "      <td>if you are going for a <font color = red>ridiculously</font> high priced ugly <font color = red>sweater</font> <font color = red>contest</font>, this is the one for you. i <font color = red>normally</font> like clothing with some <font color = red>character</font> and juxtaposition, but this one did not do it for me. i cannot <font color = red>imagine</font> the collar fitting right or flattering <font color = red>anyone</font>, and the mixed layers <font color = red>end</font> up making it <font color = red>look</font> <font color = red>cheap</font> rather than <font color = red>trendy</font>.</td>\n",
              "      <td>if you are going for a <font color = red>grotesquely</font> high priced ugly <font color = red>jumper</font> <font color = red>competition</font>, this is the one for you. i <font color = red>typically</font> like clothing with some <font color = red>nature</font> and juxtaposition, but this one did not do it for me. i cannot <font color = red>suppose</font> the collar fitting right or flattering <font color = red>anybody</font>, and the mixed layers <font color = red>ends</font> up making it <font color = red>gaze</font> <font color = red>cheaper</font> rather than <font color = red>chic</font>.</td>\n",
              "    </tr>\n",
              "    <tr>\n",
              "      <th>44</th>\n",
              "      <td>this skirt has a <font color = green>beautiful</font>, <font color = green>flattering</font> feminine fit. the floral pattern is delicate and a <font color = green>little</font> <font color = green>different</font> and, of course, the layers are what make this piece a stunner. i <font color = green>highly</font> <font color = green>recommend</font> it. can see wearing this all <font color = green>year</font>, <font color = green>dressed</font> up with <font color = green>jewels</font>, or down with boots and a <font color = green>casual</font> <font color = green>sweater</font>.</td>\n",
              "      <td>this skirt has a <font color = green>splendid</font>, <font color = green>complimentary</font> feminine fit. the floral pattern is delicate and a <font color = green>small</font> <font color = green>assorted</font> and, of course, the layers are what make this piece a stunner. i <font color = green>extremely</font> <font color = green>recommends</font> it. can see wearing this all <font color = green>annum</font>, <font color = green>attired</font> up with <font color = green>gems</font>, or down with boots and a <font color = green>occasional</font> <font color = green>sweatshirt</font>.</td>\n",
              "    </tr>\n",
              "    <tr>\n",
              "      <th>45</th>\n",
              "      <td>i sized up to an xl and although they have everything you want in a yoga/lounge pant, they just didn't thrill me enough to keep them. they're <font color = green>soft</font>, warm and <font color = green>comfy</font> but i didn't care for the bulk or fit of the foldover waistband. and they were too long so i returned. if you're built like the model, you'll love these.</td>\n",
              "      <td>i sized up to an xl and although they have everything you want in a yoga/lounge pant, they just didn't thrill me enough to keep them. they're <font color = red>mild</font>, warm and <font color = red>cosy</font> but i didn't care for the bulk or fit of the foldover waistband. and they were too long so i returned. if you're built like the model, you'll love these.</td>\n",
              "    </tr>\n",
              "    <tr>\n",
              "      <th>46</th>\n",
              "      <td>nice t-shirt. the <font color = green>print</font> is very nice and the fabric is <font color = green>soft</font> and flowing. i <font color = green>love</font> the baseball cut, it <font color = green>gives</font> it a different look.</td>\n",
              "      <td>nice t-shirt. the <font color = red>printing</font> is very nice and the fabric is <font color = red>mild</font> and flowing. i <font color = red>loved</font> the baseball cut, it <font color = red>delivers</font> it a different look.</td>\n",
              "    </tr>\n",
              "    <tr>\n",
              "      <th>47</th>\n",
              "      <td>i really <font color = red>wanted</font> these jeans to <font color = red>work</font> but i am too curvy and not tall enough for them. i just felt like they were swallowing me up with fabric. i am 5'5\" and had a <font color = red>stacked</font> boot heel on when i <font color = red>tried</font> them on and they were still too long. i felt like they made me <font color = red>look</font> even bigger than i am. the fabric is nice, not as dark as the <font color = red>photo</font> as others have said.</td>\n",
              "      <td>i really <font color = red>wanna</font> these jeans to <font color = red>collaborate</font> but i am too curvy and not tall enough for them. i just felt like they were swallowing me up with fabric. i am 5'5\" and had a <font color = red>stacking</font> boot heel on when i <font color = red>attempted</font> them on and they were still too long. i felt like they made me <font color = red>gaze</font> even bigger than i am. the fabric is nice, not as dark as the <font color = red>photographed</font> as others have said.</td>\n",
              "    </tr>\n",
              "    <tr>\n",
              "      <th>48</th>\n",
              "      <td>i <font color = green>bought</font> this <font color = green>dress</font> with my birthday <font color = green>coupon</font>, i <font color = green>love</font> the design of the fabric, and i <font color = green>think</font> the <font color = green>length</font> is <font color = green>great</font>. it's a lightweight <font color = green>dress</font>, which makes it a nice for more seasons. sandals in the summer, light <font color = green>sweater</font> in the <font color = green>spring</font>/<font color = green>fall</font>, and tights, slip, and heavy <font color = green>sweater</font> in the winter. the underarms wrinkled a <font color = green>lot</font> the first time i wore it, which makes sense because i was wearing a <font color = green>sweater</font>. the rest of the <font color = green>dress</font> did not wrinkle at all. very <font color = green>satisfied</font>!</td>\n",
              "      <td>i <font color = green>procured</font> this <font color = green>attire</font> with my birthday <font color = green>voucher</font>, i <font color = green>loved</font> the design of the fabric, and i <font color = green>thought</font> the <font color = green>duration</font> is <font color = green>tremendous</font>. it's a lightweight <font color = green>attire</font>, which makes it a nice for more seasons. sandals in the summer, light <font color = green>sweatshirt</font> in the <font color = green>printemps</font>/<font color = green>slumps</font>, and tights, slip, and heavy <font color = green>sweatshirt</font> in the winter. the underarms wrinkled a <font color = green>batch</font> the first time i wore it, which makes sense because i was wearing a <font color = green>sweatshirt</font>. the rest of the <font color = green>attire</font> did not wrinkle at all. very <font color = green>contented</font>!</td>\n",
              "    </tr>\n",
              "    <tr>\n",
              "      <th>49</th>\n",
              "      <td>the <font color = red>sweater</font> was nice but not as long as on the <font color = red>model</font>. it was <font color = red>itchy</font> <font color = red>also</font>. this <font color = red>sweater</font> was not what i had <font color = red>expected</font>. their was nothing exceptional about it to <font color = red>spend</font> that <font color = red>kind</font> of <font color = red>hard</font> earned cash, sorry retailer. i <font color = red>sent</font> it back .</td>\n",
              "      <td>the <font color = red>jumper</font> was nice but not as long as on the <font color = red>modeling</font>. it was <font color = red>itching</font> <font color = red>moreover</font>. this <font color = red>jumper</font> was not what i had <font color = red>awaited</font>. their was nothing exceptional about it to <font color = red>spending</font> that <font color = red>sorts</font> of <font color = red>tough</font> earned cash, sorry retailer. i <font color = red>despatch</font> it back .</td>\n",
              "    </tr>\n",
              "    <tr>\n",
              "      <th>50</th>\n",
              "      <td>i don't <font color = green>usually</font> write <font color = green>reviews</font>, but i loved this <font color = green>dress</font> in the <font color = green>store</font> and would have passed it <font color = green>right</font> over online. the skirt is a charcoal <font color = green>color</font> and the top is an antique white. it <font color = green>gives</font> the appearance of a separate crop top. i would <font color = green>usually</font> wear a small (5'2\" and 125 <font color = green>lbs</font>.). i'm wearing a small in the <font color = green>photo</font>, but ended up going back for an xs. the <font color = green>dress</font> could go more <font color = green>casual</font> with <font color = green>flats</font> or boots and a scarf, or dressier with heels and <font color = green>jewelry</font>. i <font color = green>think</font> i'll get a <font color = green>lot</font> of <font color = green>use</font> out of it.</td>\n",
              "      <td>i don't <font color = green>generally</font> write <font color = green>examination</font>, but i loved this <font color = green>attire</font> in the <font color = green>stores</font> and would have passed it <font color = green>rights</font> over online. the skirt is a charcoal <font color = green>colour</font> and the top is an antique white. it <font color = green>delivers</font> the appearance of a separate crop top. i would <font color = green>ordinarily</font> wear a small (5'2\" and 125 <font color = green>pounds</font>.). i'm wearing a small in the <font color = green>picture</font>, but ended up going back for an xs. the <font color = green>attire</font> could go more <font color = green>occasional</font> with <font color = green>apartments</font> or boots and a scarf, or dressier with heels and <font color = green>jewellery</font>. i <font color = green>thought</font> i'll get a <font color = green>batch</font> of <font color = green>used</font> out of it.</td>\n",
              "    </tr>\n",
              "    <tr>\n",
              "      <th>51</th>\n",
              "      <td>the design and fabric on this suit are even more <font color = green>gorgeous</font> in <font color = green>person</font> than on-line. i am 5'4\" and between 138/140 and ordered a <font color = green>medium</font>. the thing i <font color = green>especially</font> like about this suit is that it has <font color = green>adequate</font> cup <font color = green>size</font> and <font color = green>support</font>. i am a 36c or d <font color = green>depending</font> on the bra and this suit is very <font color = green>flattering</font> and <font color = green>provides</font> nice coverage and cup <font color = green>support</font>. the straps can be <font color = green>shortened</font> if you <font color = green>want</font> a <font color = green>little</font> more bust <font color = green>support</font>. the material and design of the suit itself feel <font color = green>substantial</font> and even without the straps, it do</td>\n",
              "      <td>the design and fabric on this suit are even more <font color = green>splendid</font> in <font color = green>individuals</font> than on-line. i am 5'4\" and between 138/140 and ordered a <font color = green>media</font>. the thing i <font color = green>particularly</font> like about this suit is that it has <font color = green>sufficient</font> cup <font color = green>sizing</font> and <font color = green>help</font>. i am a 36c or d <font color = green>relying</font> on the bra and this suit is very <font color = green>complimentary</font> and <font color = green>delivers</font> nice coverage and cup <font color = green>help</font>. the straps can be <font color = green>abbreviated</font> if you <font color = green>wants</font> a <font color = green>small</font> more bust <font color = green>help</font>. the material and design of the suit itself feel <font color = green>significant</font> and even without the straps, it do</td>\n",
              "    </tr>\n",
              "    <tr>\n",
              "      <th>52</th>\n",
              "      <td>this is a nice <font color = green>year</font> <font color = green>round</font> <font color = green>weight</font> <font color = green>sweater</font>. \\r<SPLIT>i am <font color = green>thrilled</font> with small details, <font color = green>true</font> to retailer <font color = green>pieces</font>.</td>\n",
              "      <td>this is a nice <font color = green>annum</font> <font color = green>rounded</font> <font color = green>weights</font> <font color = green>sweatshirt</font>. \\r<SPLIT>i am <font color = green>delighted</font> with small details, <font color = green>genuine</font> to retailer <font color = green>slices</font>.</td>\n",
              "    </tr>\n",
              "    <tr>\n",
              "      <th>53</th>\n",
              "      <td>i am ever in <font color = red>search</font> of a light, white, summer top. this is not quite it. there are two distinct layers, and each of them is the scratchy, starchy <font color = red>type</font> of gauze. it would just <font color = red>roast</font> me in the summer sun--but i run <font color = red>fairly</font> hot in general.</td>\n",
              "      <td>i am ever in <font color = green>searching</font> of a light, white, summer top. this is not quite it. there are two distinct layers, and each of them is the scratchy, starchy <font color = green>types</font> of gauze. it would just <font color = green>roasting</font> me in the summer sun--but i run <font color = green>comparatively</font> hot in general.</td>\n",
              "    </tr>\n",
              "    <tr>\n",
              "      <th>54</th>\n",
              "      <td>when ordering this product, i thought it was <font color = red>strange</font> that the mediums were sold out. i went with the small which is generally what i wear. <font color = red>however</font>, these run small and i see why the medium ran out. they are pretty, <font color = red>however</font>, i wish they made them more true to size.</td>\n",
              "      <td>when ordering this product, i thought it was <font color = green>curious</font> that the mediums were sold out. i went with the small which is generally what i wear. <font color = green>nonetheless</font>, these run small and i see why the medium ran out. they are pretty, <font color = green>nonetheless</font>, i wish they made them more true to size.</td>\n",
              "    </tr>\n",
              "    <tr>\n",
              "      <th>55</th>\n",
              "      <td>i also agree with the other reviewers that it's important to try on a couple due to pattern differences. this dress has a beige base- the photo is a little misleading. i ended up returning it because the colors didn't do much for me, i think they look <font color = green>great</font> on the model but that's because the beige doesn't blend into her at all. i also think it's a <font color = green>little</font> overpriced for what the dress is- a great summer day dress.</td>\n",
              "      <td>i also agree with the other reviewers that it's important to try on a couple due to pattern differences. this dress has a beige base- the photo is a little misleading. i ended up returning it because the colors didn't do much for me, i think they look <font color = red>tremendous</font> on the model but that's because the beige doesn't blend into her at all. i also think it's a <font color = red>small</font> overpriced for what the dress is- a great summer day dress.</td>\n",
              "    </tr>\n",
              "    <tr>\n",
              "      <th>56</th>\n",
              "      <td>it is the cutest detailed <font color = green>little</font> white top. i <font color = green>recommend</font> this because you can wear it <font color = green>anywhere</font> and <font color = green>dress</font> it up with a scarf.</td>\n",
              "      <td>it is the cutest detailed <font color = green>small</font> white top. i <font color = green>recommends</font> this because you can wear it <font color = green>nowhere</font> and <font color = green>attire</font> it up with a scarf.</td>\n",
              "    </tr>\n",
              "    <tr>\n",
              "      <th>57</th>\n",
              "      <td>i really liked this dress in pictures online. i <font color = red>wanted</font> to wear it to work on casual fridays. everything about this dress was a <font color = red>disappointment</font>, especially at this price point. the fit was <font color = red>weird</font>: tight in some places, too loose in others (i'm usually xs or s, i <font color = red>ordered</font> this one is s). it's made out of a <font color = red>fairly</font> thick and warm <font color = red>material</font>, yet the neck area of the dress is more <font color = red>exposed</font> than it appears in pictures, especially in the back, making it <font color = red>awkward</font> to have this very warm dress with neck, upper b</td>\n",
              "      <td>i really liked this dress in pictures online. i <font color = green>wanna</font> to wear it to work on casual fridays. everything about this dress was a <font color = green>disillusionment</font>, especially at this price point. the fit was <font color = green>curious</font>: tight in some places, too loose in others (i'm usually xs or s, i <font color = green>decreed</font> this one is s). it's made out of a <font color = green>comparatively</font> thick and warm <font color = green>materials</font>, yet the neck area of the dress is more <font color = green>unmasked</font> than it appears in pictures, especially in the back, making it <font color = green>clumsy</font> to have this very warm dress with neck, upper b</td>\n",
              "    </tr>\n",
              "    <tr>\n",
              "      <th>58</th>\n",
              "      <td>this top is <font color = green>soft</font>, <font color = green>comfortable</font> and drapes <font color = green>nicely</font>. the <font color = green>print</font> makes it fresh and <font color = green>different</font>. i <font color = green>sized</font> down to a small.</td>\n",
              "      <td>this top is <font color = green>mild</font>, <font color = green>cosy</font> and drapes <font color = green>politely</font>. the <font color = green>printing</font> makes it fresh and <font color = green>differing</font>. i <font color = green>sizes</font> down to a small.</td>\n",
              "    </tr>\n",
              "    <tr>\n",
              "      <th>59</th>\n",
              "      <td>this dress is really pretty, but not made for girls with hips. i tried on my usual size 6 and it fit everywhere but was just slightly too tight in the bum for me to feel comfortable, but i feel like i would have been swimming everywhere else in the dress in an 8 (typical of shifts i guess, but a girls can dream!). if you are a straighter shape, though, i would highly recommend.</td>\n",
              "      <td>this dress is really pretty, but not made for girls with hips. i tried on my usual size 6 and it fit everywhere but was just slightly too tight in the bum for me to feel comfortable, but i feel like i would have been swimming everywhere else in the dress in an 8 (typical of shifts i guess, but a girls can dream!). if you are a straighter shape, though, i would highly recommend.</td>\n",
              "    </tr>\n",
              "    <tr>\n",
              "      <th>60</th>\n",
              "      <td>i don't have a lot of pink or lavender in my wardrobe, but any time i do try a shade like this on i always think it compliments my skin tone and hair color. i generally wear a mauve-ish or coppery eye shadow and the color of this shirt looks beautiful against that makeup too. unfortunately, i just don't find the shape of the top to be flattering. it's really long, so the <font color = red>way</font> the model has it partially tucked looks best but i'm not really thin like her and i have a larger chest... it just doesn't</td>\n",
              "      <td>i don't have a lot of pink or lavender in my wardrobe, but any time i do try a shade like this on i always think it compliments my skin tone and hair color. i generally wear a mauve-ish or coppery eye shadow and the color of this shirt looks beautiful against that makeup too. unfortunately, i just don't find the shape of the top to be flattering. it's really long, so the <font color = green>path</font> the model has it partially tucked looks best but i'm not really thin like her and i have a larger chest... it just doesn't</td>\n",
              "    </tr>\n",
              "    <tr>\n",
              "      <th>61</th>\n",
              "      <td>didn't like the dress. <font color = red>look</font> <font color = red>pregnant</font> in it. this dress is going back.</td>\n",
              "      <td>didn't like the dress. <font color = red>gaze</font> <font color = red>expectant</font> in it. this dress is going back.</td>\n",
              "    </tr>\n",
              "    <tr>\n",
              "      <th>62</th>\n",
              "      <td>i <font color = red>loved</font> the style so i <font color = red>ordered</font> on line. it runs <font color = red>small</font> and the arm inserts are so low its <font color = red>awkward</font> to wear. i wish the <font color = red>cut</font> was better cause i love the <font color = red>look</font> but not the fit. i am <font color = red>returning</font> this <font color = red>item</font>..</td>\n",
              "      <td>i <font color = green>love</font> the style so i <font color = green>decreed</font> on line. it runs <font color = green>little</font> and the arm inserts are so low its <font color = green>clumsy</font> to wear. i wish the <font color = green>chopped</font> was better cause i love the <font color = green>gaze</font> but not the fit. i am <font color = green>revert</font> this <font color = green>items</font>..</td>\n",
              "    </tr>\n",
              "    <tr>\n",
              "      <th>63</th>\n",
              "      <td>these tight cords are <font color = green>perfect</font> for fall.</td>\n",
              "      <td>these tight cords are <font color = red>faultless</font> for fall.</td>\n",
              "    </tr>\n",
              "    <tr>\n",
              "      <th>64</th>\n",
              "      <td>i never write reviews, but i just purchased this top at full price last week in the store. it's not a have to have top just to look at it, but once i put it on i had to have it. it's <font color = red>extremely</font> comfortable and i am able to wear it while running around with my boys and still feel as though i'm put together. \\r<SPLIT>\\r<SPLIT>i've worn this top now 2 times and after the 2nd wear i have 3 <font color = red>holes</font> in the area where the waist line of my jeans sits. the first time i wore this top it was for only and hour or so. what a</td>\n",
              "      <td>i never write reviews, but i just purchased this top at full price last week in the store. it's not a have to have top just to look at it, but once i put it on i had to have it. it's <font color = green>highly</font> comfortable and i am able to wear it while running around with my boys and still feel as though i'm put together. \\r<SPLIT>\\r<SPLIT>i've worn this top now 2 times and after the 2nd wear i have 3 <font color = green>keyholes</font> in the area where the waist line of my jeans sits. the first time i wore this top it was for only and hour or so. what a</td>\n",
              "    </tr>\n",
              "    <tr>\n",
              "      <th>65</th>\n",
              "      <td>this should have been <font color = red>cute</font>, but the fabric <font color = red>choice</font> + ruching <font color = red>design</font> made me <font color = red>look</font> like i had elephant skin rippling <font color = red>around</font> my waist -- super unflattering.</td>\n",
              "      <td>this should have been <font color = red>charming</font>, but the fabric <font color = red>choices</font> + ruching <font color = red>designs</font> made me <font color = red>gaze</font> like i had elephant skin rippling <font color = red>about</font> my waist -- super unflattering.</td>\n",
              "    </tr>\n",
              "    <tr>\n",
              "      <th>66</th>\n",
              "      <td>i purchased this sweater in the grey color and loved it so much i decided to buy it in purple as well. however, when i received it, the color was much much darker than pictured and even looked black sometimes. decided to return :/</td>\n",
              "      <td>i purchased this sweater in the grey color and loved it so much i decided to buy it in purple as well. however, when i received it, the color was much much darker than pictured and even looked black sometimes. decided to return :/</td>\n",
              "    </tr>\n",
              "    <tr>\n",
              "      <th>67</th>\n",
              "      <td><font color = green>beautiful</font> <font color = green>dress</font>! i <font color = green>usually</font> wear a <font color = green>size</font> 4 regular, or a 6 petite (if the <font color = green>dress</font> has sleeves). i ordered this in the 6p and it is too big. <font color = green>wish</font> i could <font color = green>exchange</font> it for a 4p, but it's no longer <font color = green>available</font>.</td>\n",
              "      <td><font color = green>splendid</font> <font color = green>attire</font>! i <font color = green>generally</font> wear a <font color = green>sizing</font> 4 regular, or a 6 petite (if the <font color = green>attire</font> has sleeves). i ordered this in the 6p and it is too big. <font color = green>wishing</font> i could <font color = green>share</font> it for a 4p, but it's no longer <font color = green>accessible</font>.</td>\n",
              "    </tr>\n",
              "    <tr>\n",
              "      <th>68</th>\n",
              "      <td>a <font color = red>pretty</font> blouse but the polyester fabric makes it <font color = red>incredibly</font> warm and uncomfortable on after a while. had to <font color = red>return</font> it.</td>\n",
              "      <td>a <font color = red>quite</font> blouse but the polyester fabric makes it <font color = red>unbelievably</font> warm and uncomfortable on after a while. had to <font color = red>comeback</font> it.</td>\n",
              "    </tr>\n",
              "    <tr>\n",
              "      <th>69</th>\n",
              "      <td>after seeing the <font color = red>picture</font> online, i was coveting this top for a while and then retailer days <font color = red>happened</font>! i <font color = red>immediately</font> <font color = red>ordered</font> it, but i'm still not sure if i'm going to keep it. i <font color = red>ordered</font> a 2p (0p was sold out) and i was assuming it was going to be a little <font color = red>big</font>, but i like flowy. the sleeves and <font color = red>chest</font> are perfect but the top is <font color = red>cut</font> so generously in the back (and it's a bit longer in the back as well) i feel like it looks like i'm wearing a wedding dress. i love it from the front. i'm going to <font color = red>try</font> to</td>\n",
              "      <td>after seeing the <font color = green>photographed</font> online, i was coveting this top for a while and then retailer days <font color = green>transpired</font>! i <font color = green>forthwith</font> <font color = green>decreed</font> it, but i'm still not sure if i'm going to keep it. i <font color = green>decreed</font> a 2p (0p was sold out) and i was assuming it was going to be a little <font color = green>vast</font>, but i like flowy. the sleeves and <font color = green>thorax</font> are perfect but the top is <font color = green>chopped</font> so generously in the back (and it's a bit longer in the back as well) i feel like it looks like i'm wearing a wedding dress. i love it from the front. i'm going to <font color = green>attempts</font> to</td>\n",
              "    </tr>\n",
              "    <tr>\n",
              "      <th>70</th>\n",
              "      <td>i think this dress is my favorite <font color = green>purchase</font> this whole year! it fits like a <font color = green>dream</font>! i saw it in the store while it was full price and tried on an 8 (the only <font color = green>size</font> they had left!). i typically wear a 6 or 8 in dresses, but the 8 was <font color = green>quite</font> large, so i passed. after it went on sale, i ordered a 6 with my fingers crossed! <font color = green>glad</font> i ordered when i did, as they <font color = green>sold</font> out fast! fabric is a nice substantial <font color = green>weight</font>, <font color = green>great</font> for <font color = green>fall</font>! the fit is <font color = green>great</font>, not tight at all and more of an a-line on me, which is weird</td>\n",
              "      <td>i think this dress is my favorite <font color = red>acquisition</font> this whole year! it fits like a <font color = red>daydream</font>! i saw it in the store while it was full price and tried on an 8 (the only <font color = red>sizing</font> they had left!). i typically wear a 6 or 8 in dresses, but the 8 was <font color = red>pretty</font> large, so i passed. after it went on sale, i ordered a 6 with my fingers crossed! <font color = red>contented</font> i ordered when i did, as they <font color = red>selling</font> out fast! fabric is a nice substantial <font color = red>weights</font>, <font color = red>tremendous</font> for <font color = red>slumps</font>! the fit is <font color = red>tremendous</font>, not tight at all and more of an a-line on me, which is weird</td>\n",
              "    </tr>\n",
              "    <tr>\n",
              "      <th>71</th>\n",
              "      <td>i'm 5'8 128lbs and bought a size 2. i <font color = red>loved</font> this dress, but didn't expect to have to go bra-less or wear a <font color = red>tube</font> top under. the top lands much lower than i <font color = red>expected</font> but the <font color = red>rest</font> of the dress was lovely. \\r<SPLIT>\\r<SPLIT>i <font color = red>ordered</font> a size 2</td>\n",
              "      <td>i'm 5'8 128lbs and bought a size 2. i <font color = green>love</font> this dress, but didn't expect to have to go bra-less or wear a <font color = green>piping</font> top under. the top lands much lower than i <font color = green>awaited</font> but the <font color = green>remainder</font> of the dress was lovely. \\r<SPLIT>\\r<SPLIT>i <font color = green>decreed</font> a size 2</td>\n",
              "    </tr>\n",
              "    <tr>\n",
              "      <th>72</th>\n",
              "      <td>i am rarely disappointed by maeve and this was no exception. i am a 32b and broad shouldered and my normal <font color = green>size</font> 6 fit like a dream. the white print is opaque so no bra see-through. such a cute, <font color = green>fun</font> print! the fabric has a really <font color = green>soft</font> hand too.</td>\n",
              "      <td>i am rarely disappointed by maeve and this was no exception. i am a 32b and broad shouldered and my normal <font color = red>sizing</font> 6 fit like a dream. the white print is opaque so no bra see-through. such a cute, <font color = red>amusing</font> print! the fabric has a really <font color = red>mild</font> hand too.</td>\n",
              "    </tr>\n",
              "    <tr>\n",
              "      <th>73</th>\n",
              "      <td>runs very big.  i ordered a l and need a m.  unfortunately no medium left!  <font color = green>great</font> top with lots of character. hate i missed this cute top</td>\n",
              "      <td>runs very big.  i ordered a l and need a m.  unfortunately no medium left!  <font color = red>tremendous</font> top with lots of character. hate i missed this cute top</td>\n",
              "    </tr>\n",
              "    <tr>\n",
              "      <th>74</th>\n",
              "      <td>i was <font color = red>extremely</font> <font color = red>disappointed</font> when this <font color = red>arrived</font>. it's nothing like the red <font color = red>color</font> <font color = red>shown</font>, rather it's a very <font color = red>dull</font> reddish <font color = red>color</font>. as other <font color = red>reviews</font> have suggested, it is very thin and runs <font color = red>large</font>. i have to <font color = red>return</font>.</td>\n",
              "      <td>i was <font color = red>highly</font> <font color = red>frustrated</font> when this <font color = red>arrive</font>. it's nothing like the red <font color = red>colors</font> <font color = red>exhibited</font>, rather it's a very <font color = red>dreary</font> reddish <font color = red>colors</font>. as other <font color = red>reviewed</font> have suggested, it is very thin and runs <font color = red>vast</font>. i have to <font color = red>comeback</font>.</td>\n",
              "    </tr>\n",
              "    <tr>\n",
              "      <th>75</th>\n",
              "      <td>i <font color = green>love</font> the print and design, the photo does not do it justice. i fell in <font color = green>love</font> with it in the store but could not find my size. i ordered my size online but it was still small and short. it came up to my waist, and was tight in the shoulders and waist. i really wish it wasn't so small. i <font color = green>love</font> <font color = green>love</font> this top, the colors are vibrant and shiny, totally my style. i <font color = green>highly</font> recommend it if it fits.</td>\n",
              "      <td>i <font color = red>loved</font> the print and design, the photo does not do it justice. i fell in <font color = red>loved</font> with it in the store but could not find my size. i ordered my size online but it was still small and short. it came up to my waist, and was tight in the shoulders and waist. i really wish it wasn't so small. i <font color = red>loved</font> <font color = red>loved</font> this top, the colors are vibrant and shiny, totally my style. i <font color = red>extremely</font> recommend it if it fits.</td>\n",
              "    </tr>\n",
              "    <tr>\n",
              "      <th>76</th>\n",
              "      <td>i'm 5'7\", 135 <font color = red>lbs</font>, slender <font color = red>bone</font> structure. the medium <font color = red>fit</font> well in the front but hung to the back of knees in back...just <font color = red>way</font> too long. it would <font color = red>work</font> best on <font color = red>someone</font> closer to 6' tall.</td>\n",
              "      <td>i'm 5'7\", 135 <font color = red>lb</font>, slender <font color = red>bony</font> structure. the medium <font color = red>fitted</font> well in the front but hung to the back of knees in back...just <font color = red>path</font> too long. it would <font color = red>collaborate</font> best on <font color = red>anybody</font> closer to 6' tall.</td>\n",
              "    </tr>\n",
              "    <tr>\n",
              "      <th>77</th>\n",
              "      <td>i loved this blouse when i got it and wore it before washing. it fit really well and was flattering. the only time i laundered it i hand- <font color = red>washed</font> it in cold water and hung it to <font color = red>dry</font>. the blouse <font color = red>shrunk</font> at <font color = red>least</font> a full size and in <font color = red>awkward</font> places. the sleeves are now tight and <font color = red>way</font> too short. the overall length shortened by at <font color = red>least</font> 2 inches. the top is so tight in the <font color = red>bust</font> now that the buttons popped open. i'm very <font color = red>disappointed</font> and surprised.i will be <font color = red>returning</font> it as it is unwearable as is.</td>\n",
              "      <td>i loved this blouse when i got it and wore it before washing. it fit really well and was flattering. the only time i laundered it i hand- <font color = green>rinsed</font> it in cold water and hung it to <font color = green>dried</font>. the blouse <font color = green>lowered</font> at <font color = green>fewest</font> a full size and in <font color = green>clumsy</font> places. the sleeves are now tight and <font color = green>path</font> too short. the overall length shortened by at <font color = green>fewest</font> 2 inches. the top is so tight in the <font color = green>busted</font> now that the buttons popped open. i'm very <font color = green>frustrated</font> and surprised.i will be <font color = green>revert</font> it as it is unwearable as is.</td>\n",
              "    </tr>\n",
              "    <tr>\n",
              "      <th>78</th>\n",
              "      <td>i wore this top <font color = green>recently</font> and received several <font color = green>compliments</font>. it's a <font color = green>great</font> top with the off the shoulder <font color = green>trend</font>, <font color = green>plus</font> you can wear a normal bra <font color = green>underneath</font>! runs <font color = green>large</font> so i <font color = green>recommend</font> one <font color = green>size</font> down.</td>\n",
              "      <td>i wore this top <font color = red>lately</font> and received several <font color = red>tributes</font>. it's a <font color = red>tremendous</font> top with the off the shoulder <font color = red>tendencies</font>, <font color = red>anymore</font> you can wear a normal bra <font color = red>beneath</font>! runs <font color = red>huge</font> so i <font color = red>recommends</font> one <font color = red>sizing</font> down.</td>\n",
              "    </tr>\n",
              "    <tr>\n",
              "      <th>79</th>\n",
              "      <td>i really liked this cardigan when i saw it today. the cut and detail in the back is slimming and very flattering. i love the idea of the safety pin closure, and i really like how the model wears it in this photo-open with the pin on the side. when i saw this in-store, it was closed in the front with the pin, which i <font color = red>also</font> like. i <font color = red>thought</font> for sure the cardigan was <font color = red>also</font> <font color = red>pinned</font> in back when i saw it in the model, so it looked fantastic. <font color = red>however</font>, when i <font color = red>tried</font> it on myself, it wasn't quite the same.</td>\n",
              "      <td>i really liked this cardigan when i saw it today. the cut and detail in the back is slimming and very flattering. i love the idea of the safety pin closure, and i really like how the model wears it in this photo-open with the pin on the side. when i saw this in-store, it was closed in the front with the pin, which i <font color = green>moreover</font> like. i <font color = green>think</font> for sure the cardigan was <font color = green>moreover</font> <font color = green>pin</font> in back when i saw it in the model, so it looked fantastic. <font color = green>nonetheless</font>, when i <font color = green>attempted</font> it on myself, it wasn't quite the same.</td>\n",
              "    </tr>\n",
              "    <tr>\n",
              "      <th>80</th>\n",
              "      <td>i have <font color = red>purchased</font> a lot from retailer but <font color = red>lately</font>, some of the items have been <font color = red>disappointing</font> in quality.verses <font color = red>cost</font>, this being one. the <font color = red>picture</font> is nice but the <font color = red>actual</font> blouse is nothing like this. the size was not accurate so buy a size bigger because of the sleeves.</td>\n",
              "      <td>i have <font color = red>bought</font> a lot from retailer but <font color = red>recently</font>, some of the items have been <font color = red>frustrating</font> in quality.verses <font color = red>costing</font>, this being one. the <font color = red>photographed</font> is nice but the <font color = red>reales</font> blouse is nothing like this. the size was not accurate so buy a size bigger because of the sleeves.</td>\n",
              "    </tr>\n",
              "    <tr>\n",
              "      <th>81</th>\n",
              "      <td>very cute. i received many <font color = green>compliments</font> when i wore it. fits true to size (petite 2) with some good stretch in it. i am 5'3 and it was <font color = green>slightly</font> longer than that on the model. it is a <font color = green>little</font> odd that the buttons are all not the same. but perhaps that is part of its <font color = green>charm</font> and it is not <font color = green>noticeable</font>. it is very <font color = green>comfortable</font> and the pictures are representative of what it looks like.</td>\n",
              "      <td>very cute. i received many <font color = red>tributes</font> when i wore it. fits true to size (petite 2) with some good stretch in it. i am 5'3 and it was <font color = red>marginally</font> longer than that on the model. it is a <font color = red>small</font> odd that the buttons are all not the same. but perhaps that is part of its <font color = red>glamour</font> and it is not <font color = red>obvious</font>. it is very <font color = red>cosy</font> and the pictures are representative of what it looks like.</td>\n",
              "    </tr>\n",
              "    <tr>\n",
              "      <th>82</th>\n",
              "      <td><font color = green>cozy</font> slouchy <font color = green>sweater</font>. very versatile. fits tts, just as <font color = green>shown</font> on <font color = green>model</font>.</td>\n",
              "      <td><font color = green>cosy</font> slouchy <font color = green>sweatshirt</font>. very versatile. fits tts, just as <font color = green>displayed</font> on <font color = green>models</font>.</td>\n",
              "    </tr>\n",
              "    <tr>\n",
              "      <th>83</th>\n",
              "      <td>this dress in coral is a <font color = green>beautiful</font> <font color = green>color</font> and <font color = green>awesome</font> material. only problem is it runs a <font color = green>little</font> big- i am a pretty <font color = green>true</font> to <font color = green>size</font> small and should've ordered an xs- the hips are a <font color = green>little</font> wide and v in the neck a <font color = green>little</font> low. instead of sending back i just wore a camisole and leggings w ankle boots and it looked very cute regardless.</td>\n",
              "      <td>this dress in coral is a <font color = red>splendid</font> <font color = red>colour</font> and <font color = red>splendid</font> material. only problem is it runs a <font color = red>small</font> big- i am a pretty <font color = red>genuine</font> to <font color = red>sizing</font> small and should've ordered an xs- the hips are a <font color = red>small</font> wide and v in the neck a <font color = red>small</font> low. instead of sending back i just wore a camisole and leggings w ankle boots and it looked very cute regardless.</td>\n",
              "    </tr>\n",
              "    <tr>\n",
              "      <th>84</th>\n",
              "      <td>i <font color = green>love</font> skorts! so when i saw this online i ordered my usual size 6. arrived today & really cute. fit is good w/ some room to spare. almost too big but i'll stick w/ the 6. looks as in the pic except the lower front part & the back has a metallic sparkly fiber in the fabric. not shown in the pic though. it's understated but attractive. the fabric patches give this skort a special uniqueness. <font color = green>casual</font> or a <font color = green>little</font> dressy, just <font color = green>love</font>... 5'3\", 117#.</td>\n",
              "      <td>i <font color = red>loved</font> skorts! so when i saw this online i ordered my usual size 6. arrived today & really cute. fit is good w/ some room to spare. almost too big but i'll stick w/ the 6. looks as in the pic except the lower front part & the back has a metallic sparkly fiber in the fabric. not shown in the pic though. it's understated but attractive. the fabric patches give this skort a special uniqueness. <font color = red>occasional</font> or a <font color = red>small</font> dressy, just <font color = red>loved</font>... 5'3\", 117#.</td>\n",
              "    </tr>\n",
              "    <tr>\n",
              "      <th>85</th>\n",
              "      <td>this shirt has a <font color = red>vibrant</font> <font color = red>color</font> and <font color = red>beautiful</font> neck line, but <font color = red>unfortunately</font> i had to <font color = red>send</font> it back. it is short waisted with a lot of <font color = red>material</font> in the back. had it been 1-2 inches longer it may flare out, but <font color = red>based</font> on the length on me, it <font color = red>ended</font> up <font color = red>looking</font> like a shrunken tent. for reference, i am 5'8 with a long <font color = red>torso</font>.</td>\n",
              "      <td>this shirt has a <font color = red>spirited</font> <font color = red>colors</font> and <font color = red>wonderful</font> neck line, but <font color = red>unluckily</font> i had to <font color = red>despatch</font> it back. it is short waisted with a lot of <font color = red>materials</font> in the back. had it been 1-2 inches longer it may flare out, but <font color = red>base</font> on the length on me, it <font color = red>terminated</font> up <font color = red>searching</font> like a shrunken tent. for reference, i am 5'8 with a long <font color = red>chest</font>.</td>\n",
              "    </tr>\n",
              "    <tr>\n",
              "      <th>86</th>\n",
              "      <td>i tried wearing it, <font color = red>however</font>, i thought i needed courage to wear this tank.\\r<SPLIT><font color = red>unfortunately</font>, i did not purchase this tank although i liked color and <font color = red>design</font>.\\r<SPLIT>first, it runs small than the regular size. \\r<SPLIT>it feels even smaller because my size is xs.\\r<SPLIT>in addition, it tends to <font color = red>exaggerate</font> a <font color = red>body</font> line.\\r<SPLIT>i am not quite sure why this happens, but <font color = red>maybe</font> it is just the <font color = red>way</font> this tank is.\\r<SPLIT>if you are confident about your <font color = red>upper</font> <font color = red>body</font> posture, then yes, it would <font color = red>look</font> very cool.\\r<SPLIT><font color = red>however</font>, if you have thin postur</td>\n",
              "      <td>i tried wearing it, <font color = green>nonetheless</font>, i thought i needed courage to wear this tank.\\r<SPLIT><font color = green>unluckily</font>, i did not purchase this tank although i liked color and <font color = green>designs</font>.\\r<SPLIT>first, it runs small than the regular size. \\r<SPLIT>it feels even smaller because my size is xs.\\r<SPLIT>in addition, it tends to <font color = green>overdo</font> a <font color = green>organ</font> line.\\r<SPLIT>i am not quite sure why this happens, but <font color = green>might</font> it is just the <font color = green>path</font> this tank is.\\r<SPLIT>if you are confident about your <font color = green>superior</font> <font color = green>organ</font> posture, then yes, it would <font color = green>gaze</font> very cool.\\r<SPLIT><font color = green>nonetheless</font>, if you have thin postur</td>\n",
              "    </tr>\n",
              "    <tr>\n",
              "      <th>87</th>\n",
              "      <td>the <font color = red>pants</font> are <font color = red>pretty</font> and run true to size, but the fabric is bathing suit like, very thin and sheers in the <font color = red>butt</font> when you squat. i wouldn't recommend for <font color = red>anything</font> but <font color = red>waking</font>.</td>\n",
              "      <td>the <font color = green>slacks</font> are <font color = green>quite</font> and run true to size, but the fabric is bathing suit like, very thin and sheers in the <font color = green>arse</font> when you squat. i wouldn't recommend for <font color = green>somethings</font> but <font color = green>awaken</font>.</td>\n",
              "    </tr>\n",
              "    <tr>\n",
              "      <th>88</th>\n",
              "      <td>5'1'' 43-31-43<SPLIT>i <font color = green>bought</font> a petite <font color = green>medium</font> in the orange red color and it's a <font color = green>wonderful</font> cardigan with an oversize fit. it goes to about an inch below my knees, and the slits go up to mid-thigh. the sleeves start at about an inch past the shoulder cap, but the sleeves are so <font color = green>generous</font> that you still have full range of motion. the sleeves hit mid hand and i <font color = green>wish</font> they were an inch or two longer, but that's personal preference. because of the color and the <font color = green>long</font> side-slits looks really <font color = green>stunning</font> with a mi</td>\n",
              "      <td>5'1'' 43-31-43<SPLIT>i <font color = red>procured</font> a petite <font color = red>media</font> in the orange red color and it's a <font color = red>splendid</font> cardigan with an oversize fit. it goes to about an inch below my knees, and the slits go up to mid-thigh. the sleeves start at about an inch past the shoulder cap, but the sleeves are so <font color = red>bountiful</font> that you still have full range of motion. the sleeves hit mid hand and i <font color = red>wishing</font> they were an inch or two longer, but that's personal preference. because of the color and the <font color = red>lengthy</font> side-slits looks really <font color = red>surprising</font> with a mi</td>\n",
              "    </tr>\n",
              "    <tr>\n",
              "      <th>89</th>\n",
              "      <td>this sweater is <font color = green>perfect</font> for transitioning into <font color = green>fall</font> as it is not too heavy. it's flattering and looks <font color = green>great</font> with jeans.</td>\n",
              "      <td>this sweater is <font color = red>faultless</font> for transitioning into <font color = red>slumps</font> as it is not too heavy. it's flattering and looks <font color = red>tremendous</font> with jeans.</td>\n",
              "    </tr>\n",
              "    <tr>\n",
              "      <th>90</th>\n",
              "      <td>i was so <font color = red>excited</font> to find this shirt on sale at my local retailer store. but, i did not notice the high percentage of rayon in the fabric, which <font color = red>caused</font> the shirt to shrink <font color = red>significantly</font> in the <font color = red>wash</font> (even when following <font color = red>washing</font> <font color = red>instructions</font>). i <font color = red>washed</font> it on <font color = red>cold</font> with woolite and it is about half the length it was initially! i'm so <font color = red>disappointed</font>. how can you make a shirt that can't withstand <font color = red>washing</font>?!</td>\n",
              "      <td>i was so <font color = green>excite</font> to find this shirt on sale at my local retailer store. but, i did not notice the high percentage of rayon in the fabric, which <font color = green>aroused</font> the shirt to shrink <font color = green>dramatically</font> in the <font color = green>washes</font> (even when following <font color = green>washes</font> <font color = green>directive</font>). i <font color = green>rinsed</font> it on <font color = green>chilly</font> with woolite and it is about half the length it was initially! i'm so <font color = green>frustrated</font>. how can you make a shirt that can't withstand <font color = green>washes</font>?!</td>\n",
              "    </tr>\n",
              "  </tbody>\n",
              "</table>"
            ]
          },
          "metadata": {}
        }
      ]
    },
    {
      "cell_type": "code",
      "source": [
        ""
      ],
      "metadata": {
        "id": "rHKilTXKdLwe"
      },
      "id": "rHKilTXKdLwe",
      "execution_count": null,
      "outputs": []
    }
  ],
  "metadata": {
    "colab": {
      "name": "AEFTC _CODE_PYTHON_NLP.ipynb",
      "provenance": [],
      "collapsed_sections": []
    },
    "kernelspec": {
      "display_name": "Python 3",
      "language": "python",
      "name": "python3"
    },
    "language_info": {
      "codemirror_mode": {
        "name": "ipython",
        "version": 3
      },
      "file_extension": ".py",
      "mimetype": "text/x-python",
      "name": "python",
      "nbconvert_exporter": "python",
      "pygments_lexer": "ipython3",
      "version": "3.8.8"
    },
    "accelerator": "GPU"
  },
  "nbformat": 4,
  "nbformat_minor": 5
}